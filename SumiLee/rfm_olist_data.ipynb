{
 "cells": [
  {
   "cell_type": "code",
   "id": "initial_id",
   "metadata": {
    "collapsed": true,
    "ExecuteTime": {
     "end_time": "2025-06-04T05:33:52.745010Z",
     "start_time": "2025-06-04T05:33:52.741141Z"
    }
   },
   "source": [
    "import numpy as np\n",
    "import pandas as pd\n",
    "import matplotlib.pyplot as plt\n",
    "import seaborn as sns\n",
    "from sklearn.model_selection import train_test_split"
   ],
   "outputs": [],
   "execution_count": 144
  },
  {
   "metadata": {
    "ExecuteTime": {
     "end_time": "2025-06-04T05:33:52.932612Z",
     "start_time": "2025-06-04T05:33:52.929198Z"
    }
   },
   "cell_type": "code",
   "source": [
    "import matplotlib\n",
    "import matplotlib.font_manager as fm\n",
    "\n",
    "font_path = 'C:\\\\Windows\\\\Fonts\\\\gulim.ttc'\n",
    "font_prop = fm.FontProperties(fname=font_path)\n",
    "font_name = font_prop.get_name() # 폰트명\n",
    "matplotlib.rc('font', family=font_name)"
   ],
   "id": "9dc35d2793f69844",
   "outputs": [],
   "execution_count": 145
  },
  {
   "metadata": {},
   "cell_type": "markdown",
   "source": "# 이탈 기준 설정하기",
   "id": "8550ed2828c86abd"
  },
  {
   "metadata": {},
   "cell_type": "markdown",
   "source": [
    "## RFM\n",
    "R: Recency 최근 주문일\n",
    "F: Frequency 주문수\n",
    "M: Monetary 총 구매 금액"
   ],
   "id": "10284a54069f6165"
  },
  {
   "metadata": {
    "ExecuteTime": {
     "end_time": "2025-06-04T05:47:11.696278Z",
     "start_time": "2025-06-04T05:47:10.668653Z"
    }
   },
   "cell_type": "code",
   "source": [
    "customers_df = pd.read_csv('data/olist_customers_dataset.csv')\n",
    "orders_df = pd.read_csv('data/olist_orders_dataset.csv')\n",
    "order_payments_df = pd.read_csv('data/olist_order_payments_dataset.csv')\n",
    "order_reviews_df = pd.read_csv('data/olist_order_reviews_dataset.csv')\n",
    "order_items_df = pd.read_csv('data/olist_order_items_dataset.csv')\n",
    "products_df = pd.read_csv('data/olist_products_dataset.csv')\n",
    "product_category_name_df = pd.read_csv('data/product_category_name_translation.csv')\n",
    "\n",
    "print(customers_df.shape, orders_df.shape, order_payments_df.shape)"
   ],
   "id": "c6d48deb2b838d62",
   "outputs": [
    {
     "name": "stdout",
     "output_type": "stream",
     "text": [
      "(99441, 5) (99441, 8) (103886, 5)\n"
     ]
    }
   ],
   "execution_count": 161
  },
  {
   "metadata": {
    "ExecuteTime": {
     "end_time": "2025-06-04T05:41:44.956699Z",
     "start_time": "2025-06-04T05:41:44.945460Z"
    }
   },
   "cell_type": "code",
   "outputs": [
    {
     "data": {
      "text/plain": [
       "                                order_id  order_item_id  \\\n",
       "0       00010242fe8c5a6d1ba2dd792cb16214              1   \n",
       "1       00018f77f2f0320c557190d7a144bdd3              1   \n",
       "2       000229ec398224ef6ca0657da4fc703e              1   \n",
       "3       00024acbcdf0a6daa1e931b038114c75              1   \n",
       "4       00042b26cf59d7ce69dfabb4e55b4fd9              1   \n",
       "...                                  ...            ...   \n",
       "112645  fffc94f6ce00a00581880bf54a75a037              1   \n",
       "112646  fffcd46ef2263f404302a634eb57f7eb              1   \n",
       "112647  fffce4705a9662cd70adb13d4a31832d              1   \n",
       "112648  fffe18544ffabc95dfada21779c9644f              1   \n",
       "112649  fffe41c64501cc87c801fd61db3f6244              1   \n",
       "\n",
       "                              product_id                         seller_id  \\\n",
       "0       4244733e06e7ecb4970a6e2683c13e61  48436dade18ac8b2bce089ec2a041202   \n",
       "1       e5f2d52b802189ee658865ca93d83a8f  dd7ddc04e1b6c2c614352b383efe2d36   \n",
       "2       c777355d18b72b67abbeef9df44fd0fd  5b51032eddd242adc84c38acab88f23d   \n",
       "3       7634da152a4610f1595efa32f14722fc  9d7a1d34a5052409006425275ba1c2b4   \n",
       "4       ac6c3623068f30de03045865e4e10089  df560393f3a51e74553ab94004ba5c87   \n",
       "...                                  ...                               ...   \n",
       "112645  4aa6014eceb682077f9dc4bffebc05b0  b8bc237ba3788b23da09c0f1f3a3288c   \n",
       "112646  32e07fd915822b0765e448c4dd74c828  f3c38ab652836d21de61fb8314b69182   \n",
       "112647  72a30483855e2eafc67aee5dc2560482  c3cfdc648177fdbbbb35635a37472c53   \n",
       "112648  9c422a519119dcad7575db5af1ba540e  2b3e4a2a3ea8e01938cabda2a3e5cc79   \n",
       "112649  350688d9dc1e75ff97be326363655e01  f7ccf836d21b2fb1de37564105216cc1   \n",
       "\n",
       "        shipping_limit_date   price  freight_value  \n",
       "0       2017-09-19 09:45:35   58.90          13.29  \n",
       "1       2017-05-03 11:05:13  239.90          19.93  \n",
       "2       2018-01-18 14:48:30  199.00          17.87  \n",
       "3       2018-08-15 10:10:18   12.99          12.79  \n",
       "4       2017-02-13 13:57:51  199.90          18.14  \n",
       "...                     ...     ...            ...  \n",
       "112645  2018-05-02 04:11:01  299.99          43.41  \n",
       "112646  2018-07-20 04:31:48  350.00          36.53  \n",
       "112647  2017-10-30 17:14:25   99.90          16.95  \n",
       "112648  2017-08-21 00:04:32   55.99           8.72  \n",
       "112649  2018-06-12 17:10:13   43.00          12.79  \n",
       "\n",
       "[112650 rows x 7 columns]"
      ],
      "text/html": [
       "<div>\n",
       "<style scoped>\n",
       "    .dataframe tbody tr th:only-of-type {\n",
       "        vertical-align: middle;\n",
       "    }\n",
       "\n",
       "    .dataframe tbody tr th {\n",
       "        vertical-align: top;\n",
       "    }\n",
       "\n",
       "    .dataframe thead th {\n",
       "        text-align: right;\n",
       "    }\n",
       "</style>\n",
       "<table border=\"1\" class=\"dataframe\">\n",
       "  <thead>\n",
       "    <tr style=\"text-align: right;\">\n",
       "      <th></th>\n",
       "      <th>order_id</th>\n",
       "      <th>order_item_id</th>\n",
       "      <th>product_id</th>\n",
       "      <th>seller_id</th>\n",
       "      <th>shipping_limit_date</th>\n",
       "      <th>price</th>\n",
       "      <th>freight_value</th>\n",
       "    </tr>\n",
       "  </thead>\n",
       "  <tbody>\n",
       "    <tr>\n",
       "      <th>0</th>\n",
       "      <td>00010242fe8c5a6d1ba2dd792cb16214</td>\n",
       "      <td>1</td>\n",
       "      <td>4244733e06e7ecb4970a6e2683c13e61</td>\n",
       "      <td>48436dade18ac8b2bce089ec2a041202</td>\n",
       "      <td>2017-09-19 09:45:35</td>\n",
       "      <td>58.90</td>\n",
       "      <td>13.29</td>\n",
       "    </tr>\n",
       "    <tr>\n",
       "      <th>1</th>\n",
       "      <td>00018f77f2f0320c557190d7a144bdd3</td>\n",
       "      <td>1</td>\n",
       "      <td>e5f2d52b802189ee658865ca93d83a8f</td>\n",
       "      <td>dd7ddc04e1b6c2c614352b383efe2d36</td>\n",
       "      <td>2017-05-03 11:05:13</td>\n",
       "      <td>239.90</td>\n",
       "      <td>19.93</td>\n",
       "    </tr>\n",
       "    <tr>\n",
       "      <th>2</th>\n",
       "      <td>000229ec398224ef6ca0657da4fc703e</td>\n",
       "      <td>1</td>\n",
       "      <td>c777355d18b72b67abbeef9df44fd0fd</td>\n",
       "      <td>5b51032eddd242adc84c38acab88f23d</td>\n",
       "      <td>2018-01-18 14:48:30</td>\n",
       "      <td>199.00</td>\n",
       "      <td>17.87</td>\n",
       "    </tr>\n",
       "    <tr>\n",
       "      <th>3</th>\n",
       "      <td>00024acbcdf0a6daa1e931b038114c75</td>\n",
       "      <td>1</td>\n",
       "      <td>7634da152a4610f1595efa32f14722fc</td>\n",
       "      <td>9d7a1d34a5052409006425275ba1c2b4</td>\n",
       "      <td>2018-08-15 10:10:18</td>\n",
       "      <td>12.99</td>\n",
       "      <td>12.79</td>\n",
       "    </tr>\n",
       "    <tr>\n",
       "      <th>4</th>\n",
       "      <td>00042b26cf59d7ce69dfabb4e55b4fd9</td>\n",
       "      <td>1</td>\n",
       "      <td>ac6c3623068f30de03045865e4e10089</td>\n",
       "      <td>df560393f3a51e74553ab94004ba5c87</td>\n",
       "      <td>2017-02-13 13:57:51</td>\n",
       "      <td>199.90</td>\n",
       "      <td>18.14</td>\n",
       "    </tr>\n",
       "    <tr>\n",
       "      <th>...</th>\n",
       "      <td>...</td>\n",
       "      <td>...</td>\n",
       "      <td>...</td>\n",
       "      <td>...</td>\n",
       "      <td>...</td>\n",
       "      <td>...</td>\n",
       "      <td>...</td>\n",
       "    </tr>\n",
       "    <tr>\n",
       "      <th>112645</th>\n",
       "      <td>fffc94f6ce00a00581880bf54a75a037</td>\n",
       "      <td>1</td>\n",
       "      <td>4aa6014eceb682077f9dc4bffebc05b0</td>\n",
       "      <td>b8bc237ba3788b23da09c0f1f3a3288c</td>\n",
       "      <td>2018-05-02 04:11:01</td>\n",
       "      <td>299.99</td>\n",
       "      <td>43.41</td>\n",
       "    </tr>\n",
       "    <tr>\n",
       "      <th>112646</th>\n",
       "      <td>fffcd46ef2263f404302a634eb57f7eb</td>\n",
       "      <td>1</td>\n",
       "      <td>32e07fd915822b0765e448c4dd74c828</td>\n",
       "      <td>f3c38ab652836d21de61fb8314b69182</td>\n",
       "      <td>2018-07-20 04:31:48</td>\n",
       "      <td>350.00</td>\n",
       "      <td>36.53</td>\n",
       "    </tr>\n",
       "    <tr>\n",
       "      <th>112647</th>\n",
       "      <td>fffce4705a9662cd70adb13d4a31832d</td>\n",
       "      <td>1</td>\n",
       "      <td>72a30483855e2eafc67aee5dc2560482</td>\n",
       "      <td>c3cfdc648177fdbbbb35635a37472c53</td>\n",
       "      <td>2017-10-30 17:14:25</td>\n",
       "      <td>99.90</td>\n",
       "      <td>16.95</td>\n",
       "    </tr>\n",
       "    <tr>\n",
       "      <th>112648</th>\n",
       "      <td>fffe18544ffabc95dfada21779c9644f</td>\n",
       "      <td>1</td>\n",
       "      <td>9c422a519119dcad7575db5af1ba540e</td>\n",
       "      <td>2b3e4a2a3ea8e01938cabda2a3e5cc79</td>\n",
       "      <td>2017-08-21 00:04:32</td>\n",
       "      <td>55.99</td>\n",
       "      <td>8.72</td>\n",
       "    </tr>\n",
       "    <tr>\n",
       "      <th>112649</th>\n",
       "      <td>fffe41c64501cc87c801fd61db3f6244</td>\n",
       "      <td>1</td>\n",
       "      <td>350688d9dc1e75ff97be326363655e01</td>\n",
       "      <td>f7ccf836d21b2fb1de37564105216cc1</td>\n",
       "      <td>2018-06-12 17:10:13</td>\n",
       "      <td>43.00</td>\n",
       "      <td>12.79</td>\n",
       "    </tr>\n",
       "  </tbody>\n",
       "</table>\n",
       "<p>112650 rows × 7 columns</p>\n",
       "</div>"
      ]
     },
     "execution_count": 159,
     "metadata": {},
     "output_type": "execute_result"
    }
   ],
   "execution_count": 159,
   "source": "",
   "id": "2f03fa57719a5676"
  },
  {
   "metadata": {
    "ExecuteTime": {
     "end_time": "2025-06-04T05:47:11.798603Z",
     "start_time": "2025-06-04T05:47:11.788268Z"
    }
   },
   "cell_type": "code",
   "source": [
    "# 병합할 테이블과 중복 컬럼 확인하기: customer_id\n",
    "orders_df.head()"
   ],
   "id": "1fa1aa2da0bb964c",
   "outputs": [
    {
     "data": {
      "text/plain": [
       "                           order_id                       customer_id  \\\n",
       "0  e481f51cbdc54678b7cc49136f2d6af7  9ef432eb6251297304e76186b10a928d   \n",
       "1  53cdb2fc8bc7dce0b6741e2150273451  b0830fb4747a6c6d20dea0b8c802d7ef   \n",
       "2  47770eb9100c2d0c44946d9cf07ec65d  41ce2a54c0b03bf3443c3d931a367089   \n",
       "3  949d5b44dbf5de918fe9c16f97b45f8a  f88197465ea7920adcdbec7375364d82   \n",
       "4  ad21c59c0840e6cb83a9ceb5573f8159  8ab97904e6daea8866dbdbc4fb7aad2c   \n",
       "\n",
       "  order_status order_purchase_timestamp    order_approved_at  \\\n",
       "0    delivered      2017-10-02 10:56:33  2017-10-02 11:07:15   \n",
       "1    delivered      2018-07-24 20:41:37  2018-07-26 03:24:27   \n",
       "2    delivered      2018-08-08 08:38:49  2018-08-08 08:55:23   \n",
       "3    delivered      2017-11-18 19:28:06  2017-11-18 19:45:59   \n",
       "4    delivered      2018-02-13 21:18:39  2018-02-13 22:20:29   \n",
       "\n",
       "  order_delivered_carrier_date order_delivered_customer_date  \\\n",
       "0          2017-10-04 19:55:00           2017-10-10 21:25:13   \n",
       "1          2018-07-26 14:31:00           2018-08-07 15:27:45   \n",
       "2          2018-08-08 13:50:00           2018-08-17 18:06:29   \n",
       "3          2017-11-22 13:39:59           2017-12-02 00:28:42   \n",
       "4          2018-02-14 19:46:34           2018-02-16 18:17:02   \n",
       "\n",
       "  order_estimated_delivery_date  \n",
       "0           2017-10-18 00:00:00  \n",
       "1           2018-08-13 00:00:00  \n",
       "2           2018-09-04 00:00:00  \n",
       "3           2017-12-15 00:00:00  \n",
       "4           2018-02-26 00:00:00  "
      ],
      "text/html": [
       "<div>\n",
       "<style scoped>\n",
       "    .dataframe tbody tr th:only-of-type {\n",
       "        vertical-align: middle;\n",
       "    }\n",
       "\n",
       "    .dataframe tbody tr th {\n",
       "        vertical-align: top;\n",
       "    }\n",
       "\n",
       "    .dataframe thead th {\n",
       "        text-align: right;\n",
       "    }\n",
       "</style>\n",
       "<table border=\"1\" class=\"dataframe\">\n",
       "  <thead>\n",
       "    <tr style=\"text-align: right;\">\n",
       "      <th></th>\n",
       "      <th>order_id</th>\n",
       "      <th>customer_id</th>\n",
       "      <th>order_status</th>\n",
       "      <th>order_purchase_timestamp</th>\n",
       "      <th>order_approved_at</th>\n",
       "      <th>order_delivered_carrier_date</th>\n",
       "      <th>order_delivered_customer_date</th>\n",
       "      <th>order_estimated_delivery_date</th>\n",
       "    </tr>\n",
       "  </thead>\n",
       "  <tbody>\n",
       "    <tr>\n",
       "      <th>0</th>\n",
       "      <td>e481f51cbdc54678b7cc49136f2d6af7</td>\n",
       "      <td>9ef432eb6251297304e76186b10a928d</td>\n",
       "      <td>delivered</td>\n",
       "      <td>2017-10-02 10:56:33</td>\n",
       "      <td>2017-10-02 11:07:15</td>\n",
       "      <td>2017-10-04 19:55:00</td>\n",
       "      <td>2017-10-10 21:25:13</td>\n",
       "      <td>2017-10-18 00:00:00</td>\n",
       "    </tr>\n",
       "    <tr>\n",
       "      <th>1</th>\n",
       "      <td>53cdb2fc8bc7dce0b6741e2150273451</td>\n",
       "      <td>b0830fb4747a6c6d20dea0b8c802d7ef</td>\n",
       "      <td>delivered</td>\n",
       "      <td>2018-07-24 20:41:37</td>\n",
       "      <td>2018-07-26 03:24:27</td>\n",
       "      <td>2018-07-26 14:31:00</td>\n",
       "      <td>2018-08-07 15:27:45</td>\n",
       "      <td>2018-08-13 00:00:00</td>\n",
       "    </tr>\n",
       "    <tr>\n",
       "      <th>2</th>\n",
       "      <td>47770eb9100c2d0c44946d9cf07ec65d</td>\n",
       "      <td>41ce2a54c0b03bf3443c3d931a367089</td>\n",
       "      <td>delivered</td>\n",
       "      <td>2018-08-08 08:38:49</td>\n",
       "      <td>2018-08-08 08:55:23</td>\n",
       "      <td>2018-08-08 13:50:00</td>\n",
       "      <td>2018-08-17 18:06:29</td>\n",
       "      <td>2018-09-04 00:00:00</td>\n",
       "    </tr>\n",
       "    <tr>\n",
       "      <th>3</th>\n",
       "      <td>949d5b44dbf5de918fe9c16f97b45f8a</td>\n",
       "      <td>f88197465ea7920adcdbec7375364d82</td>\n",
       "      <td>delivered</td>\n",
       "      <td>2017-11-18 19:28:06</td>\n",
       "      <td>2017-11-18 19:45:59</td>\n",
       "      <td>2017-11-22 13:39:59</td>\n",
       "      <td>2017-12-02 00:28:42</td>\n",
       "      <td>2017-12-15 00:00:00</td>\n",
       "    </tr>\n",
       "    <tr>\n",
       "      <th>4</th>\n",
       "      <td>ad21c59c0840e6cb83a9ceb5573f8159</td>\n",
       "      <td>8ab97904e6daea8866dbdbc4fb7aad2c</td>\n",
       "      <td>delivered</td>\n",
       "      <td>2018-02-13 21:18:39</td>\n",
       "      <td>2018-02-13 22:20:29</td>\n",
       "      <td>2018-02-14 19:46:34</td>\n",
       "      <td>2018-02-16 18:17:02</td>\n",
       "      <td>2018-02-26 00:00:00</td>\n",
       "    </tr>\n",
       "  </tbody>\n",
       "</table>\n",
       "</div>"
      ]
     },
     "execution_count": 162,
     "metadata": {},
     "output_type": "execute_result"
    }
   ],
   "execution_count": 162
  },
  {
   "metadata": {
    "ExecuteTime": {
     "end_time": "2025-06-04T05:47:12.500702Z",
     "start_time": "2025-06-04T05:47:12.377393Z"
    }
   },
   "cell_type": "code",
   "source": [
    "# orders_df + customers_df 병합\n",
    "orders_customers_merged = pd.merge(\n",
    "    orders_df,\n",
    "    customers_df[['customer_id', 'customer_unique_id']],\n",
    "    on='customer_id',\n",
    "    how='left'\n",
    ")\n",
    "orders_customers_merged.head()"
   ],
   "id": "b1685c5ce62f0b11",
   "outputs": [
    {
     "data": {
      "text/plain": [
       "                           order_id                       customer_id  \\\n",
       "0  e481f51cbdc54678b7cc49136f2d6af7  9ef432eb6251297304e76186b10a928d   \n",
       "1  53cdb2fc8bc7dce0b6741e2150273451  b0830fb4747a6c6d20dea0b8c802d7ef   \n",
       "2  47770eb9100c2d0c44946d9cf07ec65d  41ce2a54c0b03bf3443c3d931a367089   \n",
       "3  949d5b44dbf5de918fe9c16f97b45f8a  f88197465ea7920adcdbec7375364d82   \n",
       "4  ad21c59c0840e6cb83a9ceb5573f8159  8ab97904e6daea8866dbdbc4fb7aad2c   \n",
       "\n",
       "  order_status order_purchase_timestamp    order_approved_at  \\\n",
       "0    delivered      2017-10-02 10:56:33  2017-10-02 11:07:15   \n",
       "1    delivered      2018-07-24 20:41:37  2018-07-26 03:24:27   \n",
       "2    delivered      2018-08-08 08:38:49  2018-08-08 08:55:23   \n",
       "3    delivered      2017-11-18 19:28:06  2017-11-18 19:45:59   \n",
       "4    delivered      2018-02-13 21:18:39  2018-02-13 22:20:29   \n",
       "\n",
       "  order_delivered_carrier_date order_delivered_customer_date  \\\n",
       "0          2017-10-04 19:55:00           2017-10-10 21:25:13   \n",
       "1          2018-07-26 14:31:00           2018-08-07 15:27:45   \n",
       "2          2018-08-08 13:50:00           2018-08-17 18:06:29   \n",
       "3          2017-11-22 13:39:59           2017-12-02 00:28:42   \n",
       "4          2018-02-14 19:46:34           2018-02-16 18:17:02   \n",
       "\n",
       "  order_estimated_delivery_date                customer_unique_id  \n",
       "0           2017-10-18 00:00:00  7c396fd4830fd04220f754e42b4e5bff  \n",
       "1           2018-08-13 00:00:00  af07308b275d755c9edb36a90c618231  \n",
       "2           2018-09-04 00:00:00  3a653a41f6f9fc3d2a113cf8398680e8  \n",
       "3           2017-12-15 00:00:00  7c142cf63193a1473d2e66489a9ae977  \n",
       "4           2018-02-26 00:00:00  72632f0f9dd73dfee390c9b22eb56dd6  "
      ],
      "text/html": [
       "<div>\n",
       "<style scoped>\n",
       "    .dataframe tbody tr th:only-of-type {\n",
       "        vertical-align: middle;\n",
       "    }\n",
       "\n",
       "    .dataframe tbody tr th {\n",
       "        vertical-align: top;\n",
       "    }\n",
       "\n",
       "    .dataframe thead th {\n",
       "        text-align: right;\n",
       "    }\n",
       "</style>\n",
       "<table border=\"1\" class=\"dataframe\">\n",
       "  <thead>\n",
       "    <tr style=\"text-align: right;\">\n",
       "      <th></th>\n",
       "      <th>order_id</th>\n",
       "      <th>customer_id</th>\n",
       "      <th>order_status</th>\n",
       "      <th>order_purchase_timestamp</th>\n",
       "      <th>order_approved_at</th>\n",
       "      <th>order_delivered_carrier_date</th>\n",
       "      <th>order_delivered_customer_date</th>\n",
       "      <th>order_estimated_delivery_date</th>\n",
       "      <th>customer_unique_id</th>\n",
       "    </tr>\n",
       "  </thead>\n",
       "  <tbody>\n",
       "    <tr>\n",
       "      <th>0</th>\n",
       "      <td>e481f51cbdc54678b7cc49136f2d6af7</td>\n",
       "      <td>9ef432eb6251297304e76186b10a928d</td>\n",
       "      <td>delivered</td>\n",
       "      <td>2017-10-02 10:56:33</td>\n",
       "      <td>2017-10-02 11:07:15</td>\n",
       "      <td>2017-10-04 19:55:00</td>\n",
       "      <td>2017-10-10 21:25:13</td>\n",
       "      <td>2017-10-18 00:00:00</td>\n",
       "      <td>7c396fd4830fd04220f754e42b4e5bff</td>\n",
       "    </tr>\n",
       "    <tr>\n",
       "      <th>1</th>\n",
       "      <td>53cdb2fc8bc7dce0b6741e2150273451</td>\n",
       "      <td>b0830fb4747a6c6d20dea0b8c802d7ef</td>\n",
       "      <td>delivered</td>\n",
       "      <td>2018-07-24 20:41:37</td>\n",
       "      <td>2018-07-26 03:24:27</td>\n",
       "      <td>2018-07-26 14:31:00</td>\n",
       "      <td>2018-08-07 15:27:45</td>\n",
       "      <td>2018-08-13 00:00:00</td>\n",
       "      <td>af07308b275d755c9edb36a90c618231</td>\n",
       "    </tr>\n",
       "    <tr>\n",
       "      <th>2</th>\n",
       "      <td>47770eb9100c2d0c44946d9cf07ec65d</td>\n",
       "      <td>41ce2a54c0b03bf3443c3d931a367089</td>\n",
       "      <td>delivered</td>\n",
       "      <td>2018-08-08 08:38:49</td>\n",
       "      <td>2018-08-08 08:55:23</td>\n",
       "      <td>2018-08-08 13:50:00</td>\n",
       "      <td>2018-08-17 18:06:29</td>\n",
       "      <td>2018-09-04 00:00:00</td>\n",
       "      <td>3a653a41f6f9fc3d2a113cf8398680e8</td>\n",
       "    </tr>\n",
       "    <tr>\n",
       "      <th>3</th>\n",
       "      <td>949d5b44dbf5de918fe9c16f97b45f8a</td>\n",
       "      <td>f88197465ea7920adcdbec7375364d82</td>\n",
       "      <td>delivered</td>\n",
       "      <td>2017-11-18 19:28:06</td>\n",
       "      <td>2017-11-18 19:45:59</td>\n",
       "      <td>2017-11-22 13:39:59</td>\n",
       "      <td>2017-12-02 00:28:42</td>\n",
       "      <td>2017-12-15 00:00:00</td>\n",
       "      <td>7c142cf63193a1473d2e66489a9ae977</td>\n",
       "    </tr>\n",
       "    <tr>\n",
       "      <th>4</th>\n",
       "      <td>ad21c59c0840e6cb83a9ceb5573f8159</td>\n",
       "      <td>8ab97904e6daea8866dbdbc4fb7aad2c</td>\n",
       "      <td>delivered</td>\n",
       "      <td>2018-02-13 21:18:39</td>\n",
       "      <td>2018-02-13 22:20:29</td>\n",
       "      <td>2018-02-14 19:46:34</td>\n",
       "      <td>2018-02-16 18:17:02</td>\n",
       "      <td>2018-02-26 00:00:00</td>\n",
       "      <td>72632f0f9dd73dfee390c9b22eb56dd6</td>\n",
       "    </tr>\n",
       "  </tbody>\n",
       "</table>\n",
       "</div>"
      ]
     },
     "execution_count": 163,
     "metadata": {},
     "output_type": "execute_result"
    }
   ],
   "execution_count": 163
  },
  {
   "metadata": {
    "ExecuteTime": {
     "end_time": "2025-06-04T03:43:07.233179Z",
     "start_time": "2025-06-04T03:43:07.224837Z"
    }
   },
   "cell_type": "code",
   "outputs": [
    {
     "data": {
      "text/plain": [
       "                           order_id  payment_sequential payment_type  \\\n",
       "0  b81ef226f3fe1789b1e8b2acac839d17                   1  credit_card   \n",
       "1  a9810da82917af2d9aefd1278f1dcfa0                   1  credit_card   \n",
       "2  25e8ea4e93396b6fa0d3dd708e76c1bd                   1  credit_card   \n",
       "3  ba78997921bbcdc1373bb41e913ab953                   1  credit_card   \n",
       "4  42fdf880ba16b47b59251dd489d4441a                   1  credit_card   \n",
       "\n",
       "   payment_installments  payment_value  \n",
       "0                     8          99.33  \n",
       "1                     1          24.39  \n",
       "2                     1          65.71  \n",
       "3                     8         107.78  \n",
       "4                     2         128.45  "
      ],
      "text/html": [
       "<div>\n",
       "<style scoped>\n",
       "    .dataframe tbody tr th:only-of-type {\n",
       "        vertical-align: middle;\n",
       "    }\n",
       "\n",
       "    .dataframe tbody tr th {\n",
       "        vertical-align: top;\n",
       "    }\n",
       "\n",
       "    .dataframe thead th {\n",
       "        text-align: right;\n",
       "    }\n",
       "</style>\n",
       "<table border=\"1\" class=\"dataframe\">\n",
       "  <thead>\n",
       "    <tr style=\"text-align: right;\">\n",
       "      <th></th>\n",
       "      <th>order_id</th>\n",
       "      <th>payment_sequential</th>\n",
       "      <th>payment_type</th>\n",
       "      <th>payment_installments</th>\n",
       "      <th>payment_value</th>\n",
       "    </tr>\n",
       "  </thead>\n",
       "  <tbody>\n",
       "    <tr>\n",
       "      <th>0</th>\n",
       "      <td>b81ef226f3fe1789b1e8b2acac839d17</td>\n",
       "      <td>1</td>\n",
       "      <td>credit_card</td>\n",
       "      <td>8</td>\n",
       "      <td>99.33</td>\n",
       "    </tr>\n",
       "    <tr>\n",
       "      <th>1</th>\n",
       "      <td>a9810da82917af2d9aefd1278f1dcfa0</td>\n",
       "      <td>1</td>\n",
       "      <td>credit_card</td>\n",
       "      <td>1</td>\n",
       "      <td>24.39</td>\n",
       "    </tr>\n",
       "    <tr>\n",
       "      <th>2</th>\n",
       "      <td>25e8ea4e93396b6fa0d3dd708e76c1bd</td>\n",
       "      <td>1</td>\n",
       "      <td>credit_card</td>\n",
       "      <td>1</td>\n",
       "      <td>65.71</td>\n",
       "    </tr>\n",
       "    <tr>\n",
       "      <th>3</th>\n",
       "      <td>ba78997921bbcdc1373bb41e913ab953</td>\n",
       "      <td>1</td>\n",
       "      <td>credit_card</td>\n",
       "      <td>8</td>\n",
       "      <td>107.78</td>\n",
       "    </tr>\n",
       "    <tr>\n",
       "      <th>4</th>\n",
       "      <td>42fdf880ba16b47b59251dd489d4441a</td>\n",
       "      <td>1</td>\n",
       "      <td>credit_card</td>\n",
       "      <td>2</td>\n",
       "      <td>128.45</td>\n",
       "    </tr>\n",
       "  </tbody>\n",
       "</table>\n",
       "</div>"
      ]
     },
     "execution_count": 83,
     "metadata": {},
     "output_type": "execute_result"
    }
   ],
   "execution_count": 83,
   "source": [
    "# 병합할 테이블과 중복 컬럼 확인하기: order_id\n",
    "order_payments_df.head()"
   ],
   "id": "73c3c747cb1f9c1"
  },
  {
   "metadata": {
    "ExecuteTime": {
     "end_time": "2025-06-04T03:43:07.509731Z",
     "start_time": "2025-06-04T03:43:07.357198Z"
    }
   },
   "cell_type": "code",
   "source": [
    "# order_payments_df + orders_customers_merged\n",
    "payments_orders_customers_merged = pd.merge(\n",
    "    order_payments_df,\n",
    "    orders_customers_merged[['order_id', 'customer_unique_id', 'order_purchase_timestamp']],\n",
    "    on='order_id',\n",
    "    how='left'\n",
    ")\n",
    "payments_orders_customers_merged.info()"
   ],
   "id": "52ad36153af25a19",
   "outputs": [
    {
     "name": "stdout",
     "output_type": "stream",
     "text": [
      "<class 'pandas.core.frame.DataFrame'>\n",
      "RangeIndex: 103886 entries, 0 to 103885\n",
      "Data columns (total 7 columns):\n",
      " #   Column                    Non-Null Count   Dtype  \n",
      "---  ------                    --------------   -----  \n",
      " 0   order_id                  103886 non-null  object \n",
      " 1   payment_sequential        103886 non-null  int64  \n",
      " 2   payment_type              103886 non-null  object \n",
      " 3   payment_installments      103886 non-null  int64  \n",
      " 4   payment_value             103886 non-null  float64\n",
      " 5   customer_unique_id        103886 non-null  object \n",
      " 6   order_purchase_timestamp  103886 non-null  object \n",
      "dtypes: float64(1), int64(2), object(4)\n",
      "memory usage: 5.5+ MB\n"
     ]
    }
   ],
   "execution_count": 84
  },
  {
   "metadata": {
    "ExecuteTime": {
     "end_time": "2025-06-04T03:43:14.638160Z",
     "start_time": "2025-06-04T03:43:07.658376Z"
    }
   },
   "cell_type": "code",
   "source": [
    "# RFM\n",
    "# - R: order_purchase_timestamp 최근 구매 경과일\n",
    "# - F: order_id 구매 빈도수\n",
    "# - M: payment_value 총 구매금액\n",
    "rfm_df = payments_orders_customers_merged.groupby('customer_unique_id').agg({\n",
    "    'order_purchase_timestamp': 'max',\n",
    "    'order_id': pd.Series.nunique,\n",
    "    'payment_value': 'sum'\n",
    "})\n",
    "rfm_df.columns = ['Recency', 'Frequency', 'Monetary']\n",
    "rfm_df.info()"
   ],
   "id": "8c02e7735be70f2a",
   "outputs": [
    {
     "name": "stdout",
     "output_type": "stream",
     "text": [
      "<class 'pandas.core.frame.DataFrame'>\n",
      "Index: 96095 entries, 0000366f3b9a7992bf8c76cfdf3221e2 to ffffd2657e2aad2907e67c3e9daecbeb\n",
      "Data columns (total 3 columns):\n",
      " #   Column     Non-Null Count  Dtype  \n",
      "---  ------     --------------  -----  \n",
      " 0   Recency    96095 non-null  object \n",
      " 1   Frequency  96095 non-null  int64  \n",
      " 2   Monetary   96095 non-null  float64\n",
      "dtypes: float64(1), int64(1), object(1)\n",
      "memory usage: 2.9+ MB\n"
     ]
    }
   ],
   "execution_count": 85
  },
  {
   "metadata": {
    "ExecuteTime": {
     "end_time": "2025-06-04T03:43:14.698499Z",
     "start_time": "2025-06-04T03:43:14.638160Z"
    }
   },
   "cell_type": "code",
   "source": [
    "# 날짜형 변경 후 경과일 계산\n",
    "rfm_df['Recency'] = pd.to_datetime(rfm_df['Recency'])\n",
    "max_date = rfm_df['Recency'].max()\n",
    "rfm_df['Recency'] = max_date - rfm_df['Recency']\n",
    "\n",
    "rfm_df['Recency'] = rfm_df['Recency'].dt.days +1\n",
    "rfm_df.head()"
   ],
   "id": "45608f95f18fad47",
   "outputs": [
    {
     "data": {
      "text/plain": [
       "                                  Recency  Frequency  Monetary\n",
       "customer_unique_id                                            \n",
       "0000366f3b9a7992bf8c76cfdf3221e2      161          1    141.90\n",
       "0000b849f77a49e4a4ce2b2a4ca5be3f      164          1     27.19\n",
       "0000f46a3911fa3c0805444483337064      586          1     86.22\n",
       "0000f6ccb0745a6a4b88665a16c9f078      370          1     43.62\n",
       "0004aac84e0df4da2b147fca70cf8255      337          1    196.89"
      ],
      "text/html": [
       "<div>\n",
       "<style scoped>\n",
       "    .dataframe tbody tr th:only-of-type {\n",
       "        vertical-align: middle;\n",
       "    }\n",
       "\n",
       "    .dataframe tbody tr th {\n",
       "        vertical-align: top;\n",
       "    }\n",
       "\n",
       "    .dataframe thead th {\n",
       "        text-align: right;\n",
       "    }\n",
       "</style>\n",
       "<table border=\"1\" class=\"dataframe\">\n",
       "  <thead>\n",
       "    <tr style=\"text-align: right;\">\n",
       "      <th></th>\n",
       "      <th>Recency</th>\n",
       "      <th>Frequency</th>\n",
       "      <th>Monetary</th>\n",
       "    </tr>\n",
       "    <tr>\n",
       "      <th>customer_unique_id</th>\n",
       "      <th></th>\n",
       "      <th></th>\n",
       "      <th></th>\n",
       "    </tr>\n",
       "  </thead>\n",
       "  <tbody>\n",
       "    <tr>\n",
       "      <th>0000366f3b9a7992bf8c76cfdf3221e2</th>\n",
       "      <td>161</td>\n",
       "      <td>1</td>\n",
       "      <td>141.90</td>\n",
       "    </tr>\n",
       "    <tr>\n",
       "      <th>0000b849f77a49e4a4ce2b2a4ca5be3f</th>\n",
       "      <td>164</td>\n",
       "      <td>1</td>\n",
       "      <td>27.19</td>\n",
       "    </tr>\n",
       "    <tr>\n",
       "      <th>0000f46a3911fa3c0805444483337064</th>\n",
       "      <td>586</td>\n",
       "      <td>1</td>\n",
       "      <td>86.22</td>\n",
       "    </tr>\n",
       "    <tr>\n",
       "      <th>0000f6ccb0745a6a4b88665a16c9f078</th>\n",
       "      <td>370</td>\n",
       "      <td>1</td>\n",
       "      <td>43.62</td>\n",
       "    </tr>\n",
       "    <tr>\n",
       "      <th>0004aac84e0df4da2b147fca70cf8255</th>\n",
       "      <td>337</td>\n",
       "      <td>1</td>\n",
       "      <td>196.89</td>\n",
       "    </tr>\n",
       "  </tbody>\n",
       "</table>\n",
       "</div>"
      ]
     },
     "execution_count": 86,
     "metadata": {},
     "output_type": "execute_result"
    }
   ],
   "execution_count": 86
  },
  {
   "metadata": {},
   "cell_type": "markdown",
   "source": "### F_score",
   "id": "25c20252b05443fa"
  },
  {
   "metadata": {
    "ExecuteTime": {
     "end_time": "2025-06-04T03:43:14.763654Z",
     "start_time": "2025-06-04T03:43:14.751580Z"
    }
   },
   "cell_type": "code",
   "source": [
    "# 빈도수 구간 설정 및 범주 이름 지정\n",
    "bins = [0, 2, 5, float('inf')] # 0~2: lowl / 3~5: mid / 6~: high\n",
    "labels = ['low', 'mid', 'high']\n",
    "\n",
    "# 구간화\n",
    "rfm_df['Frequency_level'] = pd.cut(rfm_df['Frequency'], bins=bins, labels=labels)\n",
    "rfm_df.head()"
   ],
   "id": "2f656808a2326b2d",
   "outputs": [
    {
     "data": {
      "text/plain": [
       "                                  Recency  Frequency  Monetary Frequency_level\n",
       "customer_unique_id                                                            \n",
       "0000366f3b9a7992bf8c76cfdf3221e2      161          1    141.90             low\n",
       "0000b849f77a49e4a4ce2b2a4ca5be3f      164          1     27.19             low\n",
       "0000f46a3911fa3c0805444483337064      586          1     86.22             low\n",
       "0000f6ccb0745a6a4b88665a16c9f078      370          1     43.62             low\n",
       "0004aac84e0df4da2b147fca70cf8255      337          1    196.89             low"
      ],
      "text/html": [
       "<div>\n",
       "<style scoped>\n",
       "    .dataframe tbody tr th:only-of-type {\n",
       "        vertical-align: middle;\n",
       "    }\n",
       "\n",
       "    .dataframe tbody tr th {\n",
       "        vertical-align: top;\n",
       "    }\n",
       "\n",
       "    .dataframe thead th {\n",
       "        text-align: right;\n",
       "    }\n",
       "</style>\n",
       "<table border=\"1\" class=\"dataframe\">\n",
       "  <thead>\n",
       "    <tr style=\"text-align: right;\">\n",
       "      <th></th>\n",
       "      <th>Recency</th>\n",
       "      <th>Frequency</th>\n",
       "      <th>Monetary</th>\n",
       "      <th>Frequency_level</th>\n",
       "    </tr>\n",
       "    <tr>\n",
       "      <th>customer_unique_id</th>\n",
       "      <th></th>\n",
       "      <th></th>\n",
       "      <th></th>\n",
       "      <th></th>\n",
       "    </tr>\n",
       "  </thead>\n",
       "  <tbody>\n",
       "    <tr>\n",
       "      <th>0000366f3b9a7992bf8c76cfdf3221e2</th>\n",
       "      <td>161</td>\n",
       "      <td>1</td>\n",
       "      <td>141.90</td>\n",
       "      <td>low</td>\n",
       "    </tr>\n",
       "    <tr>\n",
       "      <th>0000b849f77a49e4a4ce2b2a4ca5be3f</th>\n",
       "      <td>164</td>\n",
       "      <td>1</td>\n",
       "      <td>27.19</td>\n",
       "      <td>low</td>\n",
       "    </tr>\n",
       "    <tr>\n",
       "      <th>0000f46a3911fa3c0805444483337064</th>\n",
       "      <td>586</td>\n",
       "      <td>1</td>\n",
       "      <td>86.22</td>\n",
       "      <td>low</td>\n",
       "    </tr>\n",
       "    <tr>\n",
       "      <th>0000f6ccb0745a6a4b88665a16c9f078</th>\n",
       "      <td>370</td>\n",
       "      <td>1</td>\n",
       "      <td>43.62</td>\n",
       "      <td>low</td>\n",
       "    </tr>\n",
       "    <tr>\n",
       "      <th>0004aac84e0df4da2b147fca70cf8255</th>\n",
       "      <td>337</td>\n",
       "      <td>1</td>\n",
       "      <td>196.89</td>\n",
       "      <td>low</td>\n",
       "    </tr>\n",
       "  </tbody>\n",
       "</table>\n",
       "</div>"
      ]
     },
     "execution_count": 87,
     "metadata": {},
     "output_type": "execute_result"
    }
   ],
   "execution_count": 87
  },
  {
   "metadata": {
    "ExecuteTime": {
     "end_time": "2025-06-04T03:43:14.867250Z",
     "start_time": "2025-06-04T03:43:14.843665Z"
    }
   },
   "cell_type": "code",
   "source": [
    "# Frequency_level 재정의\n",
    "f_score_map = {\n",
    "    'low': 1,\n",
    "    'mid': 3,\n",
    "    'high': 5\n",
    "}\n",
    "# 카테고리 컬럼을 문자열로 변환 후 매핑\n",
    "rfm_df.info()\n",
    "rfm_df['F_score'] = rfm_df['Frequency_level'].astype(str).map(f_score_map).fillna(2).astype(int)"
   ],
   "id": "6f1e9c4a7fc13065",
   "outputs": [
    {
     "name": "stdout",
     "output_type": "stream",
     "text": [
      "<class 'pandas.core.frame.DataFrame'>\n",
      "Index: 96095 entries, 0000366f3b9a7992bf8c76cfdf3221e2 to ffffd2657e2aad2907e67c3e9daecbeb\n",
      "Data columns (total 4 columns):\n",
      " #   Column           Non-Null Count  Dtype   \n",
      "---  ------           --------------  -----   \n",
      " 0   Recency          96095 non-null  int64   \n",
      " 1   Frequency        96095 non-null  int64   \n",
      " 2   Monetary         96095 non-null  float64 \n",
      " 3   Frequency_level  96095 non-null  category\n",
      "dtypes: category(1), float64(1), int64(2)\n",
      "memory usage: 3.0+ MB\n"
     ]
    }
   ],
   "execution_count": 88
  },
  {
   "metadata": {},
   "cell_type": "markdown",
   "source": "### R_score, M_score",
   "id": "45cfe155c0e854c4"
  },
  {
   "metadata": {
    "ExecuteTime": {
     "end_time": "2025-06-04T03:43:15.041626Z",
     "start_time": "2025-06-04T03:43:14.957703Z"
    }
   },
   "cell_type": "code",
   "source": [
    "# 분위수 구간 계산 (NaN 발생 대비 + 분위수 구간 부족 대비)\n",
    "for col in ['Recency', 'Monetary']:\n",
    "    try:\n",
    "        rfm_df[col[0] + '_quantile'] = pd.qcut(\n",
    "            rfm_df[col],\n",
    "            5,\n",
    "            labels=False,\n",
    "            duplicates='drop'\n",
    "        )\n",
    "    except ValueError:\n",
    "        # 전부 동일하거나 분위수 계산 불가한 경우 → 값 전체를 중간값으로 처리\n",
    "        rfm_df[col[0] + '_quantile'] = 2\n",
    "\n",
    "# NaN이 생긴 경우 기본값 2로 대체\n",
    "rfm_df[['R_quantile', 'M_quantile']] = rfm_df[['R_quantile', 'M_quantile']].fillna(2)\n",
    "\n",
    "# RFM 점수 계산\n",
    "rfm_df['R_score'] = (5 - rfm_df['R_quantile']).astype(int)  # Recency는 낮을수록 높게\n",
    "rfm_df['M_score'] = (1 + rfm_df['M_quantile']).astype(int)\n",
    "\n",
    "# 최종 RFM Score 조합\n",
    "rfm_df['RFM_score'] = (\n",
    "    rfm_df['R_score'].astype(str) +\n",
    "    rfm_df['F_score'].astype(str) +\n",
    "    rfm_df['M_score'].astype(str)\n",
    ")\n",
    "\n",
    "# 결과 출력\n",
    "print(rfm_df[['Recency', 'Frequency', 'Monetary', 'R_score', 'F_score', 'M_score', 'RFM_score']])"
   ],
   "id": "4ccd326c44b690fb",
   "outputs": [
    {
     "name": "stdout",
     "output_type": "stream",
     "text": [
      "                                  Recency  Frequency  Monetary  R_score  \\\n",
      "customer_unique_id                                                        \n",
      "0000366f3b9a7992bf8c76cfdf3221e2      161          1    141.90        4   \n",
      "0000b849f77a49e4a4ce2b2a4ca5be3f      164          1     27.19        4   \n",
      "0000f46a3911fa3c0805444483337064      586          1     86.22        1   \n",
      "0000f6ccb0745a6a4b88665a16c9f078      370          1     43.62        2   \n",
      "0004aac84e0df4da2b147fca70cf8255      337          1    196.89        2   \n",
      "...                                   ...        ...       ...      ...   \n",
      "fffcf5a5ff07b0908bd4e2dbc735a684      496          1   2067.42        1   \n",
      "fffea47cd6d3cc0a88bd621562a9d061      311          1     84.58        3   \n",
      "ffff371b4d645b6ecea244b27531430a      618          1    112.46        1   \n",
      "ffff5962728ec6157033ef9805bacc48      169          1    133.69        4   \n",
      "ffffd2657e2aad2907e67c3e9daecbeb      533          1     71.56        1   \n",
      "\n",
      "                                  F_score  M_score RFM_score  \n",
      "customer_unique_id                                            \n",
      "0000366f3b9a7992bf8c76cfdf3221e2        1        4       414  \n",
      "0000b849f77a49e4a4ce2b2a4ca5be3f        1        1       411  \n",
      "0000f46a3911fa3c0805444483337064        1        2       112  \n",
      "0000f6ccb0745a6a4b88665a16c9f078        1        1       211  \n",
      "0004aac84e0df4da2b147fca70cf8255        1        4       214  \n",
      "...                                   ...      ...       ...  \n",
      "fffcf5a5ff07b0908bd4e2dbc735a684        1        5       115  \n",
      "fffea47cd6d3cc0a88bd621562a9d061        1        2       312  \n",
      "ffff371b4d645b6ecea244b27531430a        1        3       113  \n",
      "ffff5962728ec6157033ef9805bacc48        1        4       414  \n",
      "ffffd2657e2aad2907e67c3e9daecbeb        1        2       112  \n",
      "\n",
      "[96095 rows x 7 columns]\n"
     ]
    }
   ],
   "execution_count": 89
  },
  {
   "metadata": {
    "ExecuteTime": {
     "end_time": "2025-06-04T03:43:15.105182Z",
     "start_time": "2025-06-04T03:43:15.084518Z"
    }
   },
   "cell_type": "code",
   "source": [
    "print(rfm_df['R_score'].value_counts(), '\\n')\n",
    "print(rfm_df['F_score'].value_counts(), '\\n')\n",
    "print(rfm_df['M_score'].value_counts(), '\\n')"
   ],
   "id": "8f279f9918569b96",
   "outputs": [
    {
     "name": "stdout",
     "output_type": "stream",
     "text": [
      "R_score\n",
      "5    19324\n",
      "2    19300\n",
      "4    19299\n",
      "1    19129\n",
      "3    19043\n",
      "Name: count, dtype: int64 \n",
      "\n",
      "F_score\n",
      "1    95843\n",
      "3      241\n",
      "5       11\n",
      "Name: count, dtype: int64 \n",
      "\n",
      "M_score\n",
      "3    19222\n",
      "1    19221\n",
      "2    19219\n",
      "5    19219\n",
      "4    19214\n",
      "Name: count, dtype: int64 \n",
      "\n"
     ]
    }
   ],
   "execution_count": 90
  },
  {
   "metadata": {},
   "cell_type": "markdown",
   "source": "### 이탈 기준",
   "id": "1972c38a2fe2419a"
  },
  {
   "metadata": {
    "ExecuteTime": {
     "end_time": "2025-06-04T03:43:15.656884Z",
     "start_time": "2025-06-04T03:43:15.148329Z"
    }
   },
   "cell_type": "code",
   "source": [
    "# R <= 2 and F <= 2 인 경우, 이탈\n",
    "rfm_df['churn'] = rfm_df.apply(\n",
    "    lambda x: 1 if (x['R_score'] <= 2 and x['F_score'] <= 2) else 0,\n",
    "    axis=1\n",
    ")\n",
    "rfm_df = rfm_df.reset_index()\n",
    "rfm_df.head()"
   ],
   "id": "f99b31eb49b4d257",
   "outputs": [
    {
     "data": {
      "text/plain": [
       "                 customer_unique_id  Recency  Frequency  Monetary  \\\n",
       "0  0000366f3b9a7992bf8c76cfdf3221e2      161          1    141.90   \n",
       "1  0000b849f77a49e4a4ce2b2a4ca5be3f      164          1     27.19   \n",
       "2  0000f46a3911fa3c0805444483337064      586          1     86.22   \n",
       "3  0000f6ccb0745a6a4b88665a16c9f078      370          1     43.62   \n",
       "4  0004aac84e0df4da2b147fca70cf8255      337          1    196.89   \n",
       "\n",
       "  Frequency_level  F_score  R_quantile  M_quantile  R_score  M_score  \\\n",
       "0             low        1           1           3        4        4   \n",
       "1             low        1           1           0        4        1   \n",
       "2             low        1           4           1        1        2   \n",
       "3             low        1           3           0        2        1   \n",
       "4             low        1           3           3        2        4   \n",
       "\n",
       "  RFM_score  churn  \n",
       "0       414      0  \n",
       "1       411      0  \n",
       "2       112      1  \n",
       "3       211      1  \n",
       "4       214      1  "
      ],
      "text/html": [
       "<div>\n",
       "<style scoped>\n",
       "    .dataframe tbody tr th:only-of-type {\n",
       "        vertical-align: middle;\n",
       "    }\n",
       "\n",
       "    .dataframe tbody tr th {\n",
       "        vertical-align: top;\n",
       "    }\n",
       "\n",
       "    .dataframe thead th {\n",
       "        text-align: right;\n",
       "    }\n",
       "</style>\n",
       "<table border=\"1\" class=\"dataframe\">\n",
       "  <thead>\n",
       "    <tr style=\"text-align: right;\">\n",
       "      <th></th>\n",
       "      <th>customer_unique_id</th>\n",
       "      <th>Recency</th>\n",
       "      <th>Frequency</th>\n",
       "      <th>Monetary</th>\n",
       "      <th>Frequency_level</th>\n",
       "      <th>F_score</th>\n",
       "      <th>R_quantile</th>\n",
       "      <th>M_quantile</th>\n",
       "      <th>R_score</th>\n",
       "      <th>M_score</th>\n",
       "      <th>RFM_score</th>\n",
       "      <th>churn</th>\n",
       "    </tr>\n",
       "  </thead>\n",
       "  <tbody>\n",
       "    <tr>\n",
       "      <th>0</th>\n",
       "      <td>0000366f3b9a7992bf8c76cfdf3221e2</td>\n",
       "      <td>161</td>\n",
       "      <td>1</td>\n",
       "      <td>141.90</td>\n",
       "      <td>low</td>\n",
       "      <td>1</td>\n",
       "      <td>1</td>\n",
       "      <td>3</td>\n",
       "      <td>4</td>\n",
       "      <td>4</td>\n",
       "      <td>414</td>\n",
       "      <td>0</td>\n",
       "    </tr>\n",
       "    <tr>\n",
       "      <th>1</th>\n",
       "      <td>0000b849f77a49e4a4ce2b2a4ca5be3f</td>\n",
       "      <td>164</td>\n",
       "      <td>1</td>\n",
       "      <td>27.19</td>\n",
       "      <td>low</td>\n",
       "      <td>1</td>\n",
       "      <td>1</td>\n",
       "      <td>0</td>\n",
       "      <td>4</td>\n",
       "      <td>1</td>\n",
       "      <td>411</td>\n",
       "      <td>0</td>\n",
       "    </tr>\n",
       "    <tr>\n",
       "      <th>2</th>\n",
       "      <td>0000f46a3911fa3c0805444483337064</td>\n",
       "      <td>586</td>\n",
       "      <td>1</td>\n",
       "      <td>86.22</td>\n",
       "      <td>low</td>\n",
       "      <td>1</td>\n",
       "      <td>4</td>\n",
       "      <td>1</td>\n",
       "      <td>1</td>\n",
       "      <td>2</td>\n",
       "      <td>112</td>\n",
       "      <td>1</td>\n",
       "    </tr>\n",
       "    <tr>\n",
       "      <th>3</th>\n",
       "      <td>0000f6ccb0745a6a4b88665a16c9f078</td>\n",
       "      <td>370</td>\n",
       "      <td>1</td>\n",
       "      <td>43.62</td>\n",
       "      <td>low</td>\n",
       "      <td>1</td>\n",
       "      <td>3</td>\n",
       "      <td>0</td>\n",
       "      <td>2</td>\n",
       "      <td>1</td>\n",
       "      <td>211</td>\n",
       "      <td>1</td>\n",
       "    </tr>\n",
       "    <tr>\n",
       "      <th>4</th>\n",
       "      <td>0004aac84e0df4da2b147fca70cf8255</td>\n",
       "      <td>337</td>\n",
       "      <td>1</td>\n",
       "      <td>196.89</td>\n",
       "      <td>low</td>\n",
       "      <td>1</td>\n",
       "      <td>3</td>\n",
       "      <td>3</td>\n",
       "      <td>2</td>\n",
       "      <td>4</td>\n",
       "      <td>214</td>\n",
       "      <td>1</td>\n",
       "    </tr>\n",
       "  </tbody>\n",
       "</table>\n",
       "</div>"
      ]
     },
     "execution_count": 91,
     "metadata": {},
     "output_type": "execute_result"
    }
   ],
   "execution_count": 91
  },
  {
   "metadata": {
    "ExecuteTime": {
     "end_time": "2025-06-04T03:43:15.735111Z",
     "start_time": "2025-06-04T03:43:15.713414Z"
    }
   },
   "cell_type": "code",
   "source": "rfm_df.info()",
   "id": "5b95f4c75d9ed1fe",
   "outputs": [
    {
     "name": "stdout",
     "output_type": "stream",
     "text": [
      "<class 'pandas.core.frame.DataFrame'>\n",
      "RangeIndex: 96095 entries, 0 to 96094\n",
      "Data columns (total 12 columns):\n",
      " #   Column              Non-Null Count  Dtype   \n",
      "---  ------              --------------  -----   \n",
      " 0   customer_unique_id  96095 non-null  object  \n",
      " 1   Recency             96095 non-null  int64   \n",
      " 2   Frequency           96095 non-null  int64   \n",
      " 3   Monetary            96095 non-null  float64 \n",
      " 4   Frequency_level     96095 non-null  category\n",
      " 5   F_score             96095 non-null  int64   \n",
      " 6   R_quantile          96095 non-null  int64   \n",
      " 7   M_quantile          96095 non-null  int64   \n",
      " 8   R_score             96095 non-null  int64   \n",
      " 9   M_score             96095 non-null  int64   \n",
      " 10  RFM_score           96095 non-null  object  \n",
      " 11  churn               96095 non-null  int64   \n",
      "dtypes: category(1), float64(1), int64(8), object(2)\n",
      "memory usage: 8.2+ MB\n"
     ]
    }
   ],
   "execution_count": 92
  },
  {
   "metadata": {
    "ExecuteTime": {
     "end_time": "2025-06-04T03:43:15.897815Z",
     "start_time": "2025-06-04T03:43:15.794715Z"
    }
   },
   "cell_type": "code",
   "source": [
    "# 시각화\n",
    "churn_counts = rfm_df['churn'].value_counts().sort_index()\n",
    "total = churn_counts.sum()\n",
    "\n",
    "plt.figure(figsize=(8, 6))\n",
    "sns.barplot(x=churn_counts.index, y=churn_counts.values, color='red')\n",
    "plt.xticks([0,1], ['Active (0)', 'Churned (1)'])\n",
    "plt.xlabel('Churn')\n",
    "plt.ylabel('Number of Customers')\n",
    "plt.title('고객 이탈률')\n",
    "\n",
    "# 막대 위에 비율 표시\n",
    "for i, count in enumerate(churn_counts.values):\n",
    "    percent = count / total * 100\n",
    "    plt.text(i, count+500, f'{percent:.1f}%', ha='center')\n",
    "\n",
    "plt.show()"
   ],
   "id": "ace458e20266462e",
   "outputs": [
    {
     "data": {
      "text/plain": [
       "<Figure size 800x600 with 1 Axes>"
      ],
      "image/png": "[encoded data removed]"
     },
     "metadata": {},
     "output_type": "display_data"
    }
   ],
   "execution_count": 93
  },
  {
   "metadata": {},
   "cell_type": "markdown",
   "source": "## 배송 변수 병합 및 준비 (* 피처 생성)",
   "id": "941b40689a7f4231"
  },
  {
   "metadata": {
    "ExecuteTime": {
     "end_time": "2025-06-04T03:43:16.472417Z",
     "start_time": "2025-06-04T03:43:15.915432Z"
    }
   },
   "cell_type": "code",
   "source": [
    "# 데이터 불러오기 및 기본 정보 확인\n",
    "# 전체 데이터 수 99441\n",
    "orders_df = pd.read_csv('data/olist_orders_dataset.csv',\n",
    "                        parse_dates=['order_purchase_timestamp',\n",
    "                                     'order_approved_at',\n",
    "                                     'order_delivered_carrier_date',\n",
    "                                     'order_delivered_customer_date',\n",
    "                                     'order_estimated_delivery_date'\n",
    "                                     ])\n",
    "orders_df.info()\n",
    "print(orders_df.describe())\n",
    "orders_df.head()"
   ],
   "id": "cff958eff02c9820",
   "outputs": [
    {
     "name": "stdout",
     "output_type": "stream",
     "text": [
      "<class 'pandas.core.frame.DataFrame'>\n",
      "RangeIndex: 99441 entries, 0 to 99440\n",
      "Data columns (total 8 columns):\n",
      " #   Column                         Non-Null Count  Dtype         \n",
      "---  ------                         --------------  -----         \n",
      " 0   order_id                       99441 non-null  object        \n",
      " 1   customer_id                    99441 non-null  object        \n",
      " 2   order_status                   99441 non-null  object        \n",
      " 3   order_purchase_timestamp       99441 non-null  datetime64[ns]\n",
      " 4   order_approved_at              99281 non-null  datetime64[ns]\n",
      " 5   order_delivered_carrier_date   97658 non-null  datetime64[ns]\n",
      " 6   order_delivered_customer_date  96476 non-null  datetime64[ns]\n",
      " 7   order_estimated_delivery_date  99441 non-null  datetime64[ns]\n",
      "dtypes: datetime64[ns](5), object(3)\n",
      "memory usage: 6.1+ MB\n",
      "            order_purchase_timestamp              order_approved_at  \\\n",
      "count                          99441                          99281   \n",
      "mean   2017-12-31 08:43:12.776581120  2017-12-31 18:35:24.098800128   \n",
      "min              2016-09-04 21:15:19            2016-09-15 12:16:38   \n",
      "25%              2017-09-12 14:46:19            2017-09-12 23:24:16   \n",
      "50%              2018-01-18 23:04:36            2018-01-19 11:36:13   \n",
      "75%              2018-05-04 15:42:16            2018-05-04 20:35:10   \n",
      "max              2018-10-17 17:30:18            2018-09-03 17:40:06   \n",
      "\n",
      "        order_delivered_carrier_date  order_delivered_customer_date  \\\n",
      "count                          97658                          96476   \n",
      "mean   2018-01-04 21:49:48.138278656  2018-01-14 12:09:19.035542272   \n",
      "min              2016-10-08 10:34:01            2016-10-11 13:46:32   \n",
      "25%    2017-09-15 22:28:50.249999872  2017-09-25 22:07:22.249999872   \n",
      "50%              2018-01-24 16:10:58     2018-02-02 19:28:10.500000   \n",
      "75%              2018-05-08 13:37:45  2018-05-15 22:48:52.249999872   \n",
      "max              2018-09-11 19:48:28            2018-10-17 13:22:46   \n",
      "\n",
      "       order_estimated_delivery_date  \n",
      "count                          99441  \n",
      "mean   2018-01-24 03:08:37.730111232  \n",
      "min              2016-09-30 00:00:00  \n",
      "25%              2017-10-03 00:00:00  \n",
      "50%              2018-02-15 00:00:00  \n",
      "75%              2018-05-25 00:00:00  \n",
      "max              2018-11-12 00:00:00  \n"
     ]
    },
    {
     "data": {
      "text/plain": [
       "                           order_id                       customer_id  \\\n",
       "0  e481f51cbdc54678b7cc49136f2d6af7  9ef432eb6251297304e76186b10a928d   \n",
       "1  53cdb2fc8bc7dce0b6741e2150273451  b0830fb4747a6c6d20dea0b8c802d7ef   \n",
       "2  47770eb9100c2d0c44946d9cf07ec65d  41ce2a54c0b03bf3443c3d931a367089   \n",
       "3  949d5b44dbf5de918fe9c16f97b45f8a  f88197465ea7920adcdbec7375364d82   \n",
       "4  ad21c59c0840e6cb83a9ceb5573f8159  8ab97904e6daea8866dbdbc4fb7aad2c   \n",
       "\n",
       "  order_status order_purchase_timestamp   order_approved_at  \\\n",
       "0    delivered      2017-10-02 10:56:33 2017-10-02 11:07:15   \n",
       "1    delivered      2018-07-24 20:41:37 2018-07-26 03:24:27   \n",
       "2    delivered      2018-08-08 08:38:49 2018-08-08 08:55:23   \n",
       "3    delivered      2017-11-18 19:28:06 2017-11-18 19:45:59   \n",
       "4    delivered      2018-02-13 21:18:39 2018-02-13 22:20:29   \n",
       "\n",
       "  order_delivered_carrier_date order_delivered_customer_date  \\\n",
       "0          2017-10-04 19:55:00           2017-10-10 21:25:13   \n",
       "1          2018-07-26 14:31:00           2018-08-07 15:27:45   \n",
       "2          2018-08-08 13:50:00           2018-08-17 18:06:29   \n",
       "3          2017-11-22 13:39:59           2017-12-02 00:28:42   \n",
       "4          2018-02-14 19:46:34           2018-02-16 18:17:02   \n",
       "\n",
       "  order_estimated_delivery_date  \n",
       "0                    2017-10-18  \n",
       "1                    2018-08-13  \n",
       "2                    2018-09-04  \n",
       "3                    2017-12-15  \n",
       "4                    2018-02-26  "
      ],
      "text/html": [
       "<div>\n",
       "<style scoped>\n",
       "    .dataframe tbody tr th:only-of-type {\n",
       "        vertical-align: middle;\n",
       "    }\n",
       "\n",
       "    .dataframe tbody tr th {\n",
       "        vertical-align: top;\n",
       "    }\n",
       "\n",
       "    .dataframe thead th {\n",
       "        text-align: right;\n",
       "    }\n",
       "</style>\n",
       "<table border=\"1\" class=\"dataframe\">\n",
       "  <thead>\n",
       "    <tr style=\"text-align: right;\">\n",
       "      <th></th>\n",
       "      <th>order_id</th>\n",
       "      <th>customer_id</th>\n",
       "      <th>order_status</th>\n",
       "      <th>order_purchase_timestamp</th>\n",
       "      <th>order_approved_at</th>\n",
       "      <th>order_delivered_carrier_date</th>\n",
       "      <th>order_delivered_customer_date</th>\n",
       "      <th>order_estimated_delivery_date</th>\n",
       "    </tr>\n",
       "  </thead>\n",
       "  <tbody>\n",
       "    <tr>\n",
       "      <th>0</th>\n",
       "      <td>e481f51cbdc54678b7cc49136f2d6af7</td>\n",
       "      <td>9ef432eb6251297304e76186b10a928d</td>\n",
       "      <td>delivered</td>\n",
       "      <td>2017-10-02 10:56:33</td>\n",
       "      <td>2017-10-02 11:07:15</td>\n",
       "      <td>2017-10-04 19:55:00</td>\n",
       "      <td>2017-10-10 21:25:13</td>\n",
       "      <td>2017-10-18</td>\n",
       "    </tr>\n",
       "    <tr>\n",
       "      <th>1</th>\n",
       "      <td>53cdb2fc8bc7dce0b6741e2150273451</td>\n",
       "      <td>b0830fb4747a6c6d20dea0b8c802d7ef</td>\n",
       "      <td>delivered</td>\n",
       "      <td>2018-07-24 20:41:37</td>\n",
       "      <td>2018-07-26 03:24:27</td>\n",
       "      <td>2018-07-26 14:31:00</td>\n",
       "      <td>2018-08-07 15:27:45</td>\n",
       "      <td>2018-08-13</td>\n",
       "    </tr>\n",
       "    <tr>\n",
       "      <th>2</th>\n",
       "      <td>47770eb9100c2d0c44946d9cf07ec65d</td>\n",
       "      <td>41ce2a54c0b03bf3443c3d931a367089</td>\n",
       "      <td>delivered</td>\n",
       "      <td>2018-08-08 08:38:49</td>\n",
       "      <td>2018-08-08 08:55:23</td>\n",
       "      <td>2018-08-08 13:50:00</td>\n",
       "      <td>2018-08-17 18:06:29</td>\n",
       "      <td>2018-09-04</td>\n",
       "    </tr>\n",
       "    <tr>\n",
       "      <th>3</th>\n",
       "      <td>949d5b44dbf5de918fe9c16f97b45f8a</td>\n",
       "      <td>f88197465ea7920adcdbec7375364d82</td>\n",
       "      <td>delivered</td>\n",
       "      <td>2017-11-18 19:28:06</td>\n",
       "      <td>2017-11-18 19:45:59</td>\n",
       "      <td>2017-11-22 13:39:59</td>\n",
       "      <td>2017-12-02 00:28:42</td>\n",
       "      <td>2017-12-15</td>\n",
       "    </tr>\n",
       "    <tr>\n",
       "      <th>4</th>\n",
       "      <td>ad21c59c0840e6cb83a9ceb5573f8159</td>\n",
       "      <td>8ab97904e6daea8866dbdbc4fb7aad2c</td>\n",
       "      <td>delivered</td>\n",
       "      <td>2018-02-13 21:18:39</td>\n",
       "      <td>2018-02-13 22:20:29</td>\n",
       "      <td>2018-02-14 19:46:34</td>\n",
       "      <td>2018-02-16 18:17:02</td>\n",
       "      <td>2018-02-26</td>\n",
       "    </tr>\n",
       "  </tbody>\n",
       "</table>\n",
       "</div>"
      ]
     },
     "execution_count": 94,
     "metadata": {},
     "output_type": "execute_result"
    }
   ],
   "execution_count": 94
  },
  {
   "metadata": {
    "ExecuteTime": {
     "end_time": "2025-06-04T03:43:16.562198Z",
     "start_time": "2025-06-04T03:43:16.546897Z"
    }
   },
   "cell_type": "code",
   "source": [
    "# 데이터 확인하기\n",
    "# 결측치가 없으면 최근 날짜로 확인\n",
    "# 주문 상태\n",
    "print('주문 상태: ', orders_df['order_status'].value_counts())\n",
    "# 주문 완료 날짜\n",
    "print('주문 완료일: ', orders_df['order_purchase_timestamp'].max(), orders_df['order_purchase_timestamp'].isnull().sum())\n",
    "# 결제 승인 날짜\n",
    "print('결제 승인일: ', orders_df['order_approved_at'].max(), orders_df['order_approved_at'].isnull().sum())\n",
    "# 상품 발송 날짜\n",
    "print('상품 발송일: ', orders_df['order_delivered_carrier_date'].max(),orders_df['order_delivered_carrier_date'].isnull().sum())\n",
    "# 예상 배송 날짜\n",
    "print('배송 예정일: ', orders_df['order_estimated_delivery_date'].max(), orders_df['order_estimated_delivery_date'].isnull().sum())\n",
    "# 배송 완료 날짜\n",
    "print('배송 완료일: ', orders_df['order_delivered_customer_date'].max(), orders_df['order_delivered_customer_date'].isnull().sum())"
   ],
   "id": "e690dd7cda588d08",
   "outputs": [
    {
     "name": "stdout",
     "output_type": "stream",
     "text": [
      "주문 상태:  order_status\n",
      "delivered      96478\n",
      "shipped         1107\n",
      "canceled         625\n",
      "unavailable      609\n",
      "invoiced         314\n",
      "processing       301\n",
      "created            5\n",
      "approved           2\n",
      "Name: count, dtype: int64\n",
      "주문 완료일:  2018-10-17 17:30:18 0\n",
      "결제 승인일:  2018-09-03 17:40:06 160\n",
      "상품 발송일:  2018-09-11 19:48:28 1783\n",
      "배송 예정일:  2018-11-12 00:00:00 0\n",
      "배송 완료일:  2018-10-17 13:22:46 2965\n"
     ]
    }
   ],
   "execution_count": 95
  },
  {
   "metadata": {
    "ExecuteTime": {
     "end_time": "2025-06-04T03:43:16.603973Z",
     "start_time": "2025-06-04T03:43:16.593562Z"
    }
   },
   "cell_type": "code",
   "source": [
    "# 배송 완료가 결측치인 주문들의 상태 확인\n",
    "orders_df[orders_df['order_delivered_customer_date'].isna()]['order_status'].value_counts()"
   ],
   "id": "92b603c4943d1a65",
   "outputs": [
    {
     "data": {
      "text/plain": [
       "order_status\n",
       "shipped        1107\n",
       "canceled        619\n",
       "unavailable     609\n",
       "invoiced        314\n",
       "processing      301\n",
       "delivered         8\n",
       "created           5\n",
       "approved          2\n",
       "Name: count, dtype: int64"
      ]
     },
     "execution_count": 96,
     "metadata": {},
     "output_type": "execute_result"
    }
   ],
   "execution_count": 96
  },
  {
   "metadata": {},
   "cell_type": "markdown",
   "source": "### 배송 파생 변수 및 필터링",
   "id": "4edae39f9849043d"
  },
  {
   "metadata": {},
   "cell_type": "markdown",
   "source": "#### order_status - shipped",
   "id": "e652e81875941ec6"
  },
  {
   "metadata": {
    "ExecuteTime": {
     "end_time": "2025-06-04T03:43:16.732019Z",
     "start_time": "2025-06-04T03:43:16.707557Z"
    }
   },
   "cell_type": "code",
   "source": [
    "mark = orders_df[['order_purchase_timestamp', 'order_estimated_delivery_date',\n",
    "                    'order_delivered_customer_date']].max().max()\n",
    "\n",
    "# 배송중 - 배송 예정일이 마지막 날짜 데이터보다 전이면 배송 지연\n",
    "late_shipped = orders_df[\n",
    "    (orders_df['order_status'] == 'shipped') &\n",
    "    (orders_df['order_estimated_delivery_date'] < mark)\n",
    "    ]\n",
    "\n",
    "print(f'배송 중인데 예정일 지난 주문 수: {len(late_shipped)}')\n",
    "print(f\"전체 shipped 주문 중 비율: {len(late_shipped) / (orders_df['order_status'] == 'shipped').sum() * 100:}\")"
   ],
   "id": "1d8f6f8ae6701288",
   "outputs": [
    {
     "name": "stdout",
     "output_type": "stream",
     "text": [
      "배송 중인데 예정일 지난 주문 수: 1107\n",
      "전체 shipped 주문 중 비율: 100.0\n"
     ]
    }
   ],
   "execution_count": 97
  },
  {
   "metadata": {},
   "cell_type": "markdown",
   "source": "#### delivered 의 8개, canceled 의 6개",
   "id": "14123aaaea76927f"
  },
  {
   "metadata": {
    "ExecuteTime": {
     "end_time": "2025-06-04T03:43:16.849882Z",
     "start_time": "2025-06-04T03:43:16.822918Z"
    }
   },
   "cell_type": "code",
   "source": [
    "# delivered 의 8개, canceled 의 6개의 행방.. -> 제거 엔딩(필요가 없음)\n",
    "issue_delivered = orders_df[\n",
    "    (orders_df['order_status'] == 'delivered') &\n",
    "    (orders_df['order_delivered_customer_date'].isna())\n",
    "]\n",
    "print(f'\"delivere 배송완료\"지만 배송일 없는 주문수 {len(issue_delivered)} ')\n",
    "issue_canceled = orders_df[\n",
    "    (orders_df['order_status'] == 'canceled') &\n",
    "    (orders_df['order_delivered_customer_date'].notna())\n",
    "]\n",
    "print(f'\"canceled 주문취소\"지만 배송일 있는 주문수 {len(issue_canceled)} ')"
   ],
   "id": "5e5a1c190d16525",
   "outputs": [
    {
     "name": "stdout",
     "output_type": "stream",
     "text": [
      "\"delivere 배송완료\"지만 배송일 없는 주문수 8 \n",
      "\"canceled 주문취소\"지만 배송일 있는 주문수 6 \n"
     ]
    }
   ],
   "execution_count": 98
  },
  {
   "metadata": {
    "ExecuteTime": {
     "end_time": "2025-06-04T03:43:16.969235Z",
     "start_time": "2025-06-04T03:43:16.943186Z"
    }
   },
   "cell_type": "code",
   "source": [
    "# 분석 불가능한 row 제거 (빼고 남기기) 96456\n",
    "# 1. delivered인데 - 나머지 다 제거\n",
    "# 2. 배송 완료일이 null이 아니고 - 배송 완료일이 null인 경우(8)\n",
    "# 3. 배송 승인일이 null이 아니고\n",
    "# 4. 고객 주문일도 null이 아니고\n",
    "delivery_df = orders_df[\n",
    "    (orders_df['order_status'] == 'delivered') &\n",
    "    (orders_df['order_delivered_customer_date'].notna()) &\n",
    "    (orders_df['order_approved_at'].notna()) &\n",
    "    (orders_df['order_purchase_timestamp'].notna())\n",
    "]"
   ],
   "id": "4f230db4bb8b8418",
   "outputs": [],
   "execution_count": 99
  },
  {
   "metadata": {
    "ExecuteTime": {
     "end_time": "2025-06-04T03:43:17.024263Z",
     "start_time": "2025-06-04T03:43:17.009013Z"
    }
   },
   "cell_type": "code",
   "source": [
    "# 전체 데이터 수 96470\n",
    "delivery_df.info()"
   ],
   "id": "ba6d5120e6f9f8d9",
   "outputs": [
    {
     "name": "stdout",
     "output_type": "stream",
     "text": [
      "<class 'pandas.core.frame.DataFrame'>\n",
      "Index: 96456 entries, 0 to 99440\n",
      "Data columns (total 8 columns):\n",
      " #   Column                         Non-Null Count  Dtype         \n",
      "---  ------                         --------------  -----         \n",
      " 0   order_id                       96456 non-null  object        \n",
      " 1   customer_id                    96456 non-null  object        \n",
      " 2   order_status                   96456 non-null  object        \n",
      " 3   order_purchase_timestamp       96456 non-null  datetime64[ns]\n",
      " 4   order_approved_at              96456 non-null  datetime64[ns]\n",
      " 5   order_delivered_carrier_date   96455 non-null  datetime64[ns]\n",
      " 6   order_delivered_customer_date  96456 non-null  datetime64[ns]\n",
      " 7   order_estimated_delivery_date  96456 non-null  datetime64[ns]\n",
      "dtypes: datetime64[ns](5), object(3)\n",
      "memory usage: 6.6+ MB\n"
     ]
    }
   ],
   "execution_count": 100
  },
  {
   "metadata": {},
   "cell_type": "markdown",
   "source": "#### 데이터 병합",
   "id": "ec5b81d220b99682"
  },
  {
   "metadata": {
    "ExecuteTime": {
     "end_time": "2025-06-04T03:43:18.062265Z",
     "start_time": "2025-06-04T03:43:17.110014Z"
    }
   },
   "cell_type": "code",
   "source": [
    "# customer_unique_id 99441\n",
    "customers_df.groupby('customer_unique_id')['customer_id'].nunique().value_counts()\n",
    "customers_df.groupby('customer_unique_id')['customer_id'].count().sort_values(ascending=False).head(3)\n",
    "print('customer_id: ', customers_df.value_counts().count())\n",
    "print('customer_unique_id: ', customers_df['customer_unique_id'].value_counts().count())\n",
    "print('delivery_data: ', delivery_df.value_counts().count())"
   ],
   "id": "ddc755791018badd",
   "outputs": [
    {
     "name": "stdout",
     "output_type": "stream",
     "text": [
      "customer_id:  99441\n",
      "customer_unique_id:  96096\n",
      "delivery_data:  96455\n"
     ]
    }
   ],
   "execution_count": 101
  },
  {
   "metadata": {
    "ExecuteTime": {
     "end_time": "2025-06-04T03:43:18.195175Z",
     "start_time": "2025-06-04T03:43:18.084803Z"
    }
   },
   "cell_type": "code",
   "source": [
    "# deliver_df 와 unique_id 병합\n",
    "delivery_df = delivery_df.merge(\n",
    "    customers_df[['customer_id', 'customer_unique_id']],\n",
    "    on='customer_id',\n",
    "    how='left'\n",
    ")"
   ],
   "id": "b111749944b6d712",
   "outputs": [],
   "execution_count": 102
  },
  {
   "metadata": {
    "ExecuteTime": {
     "end_time": "2025-06-04T03:43:18.253933Z",
     "start_time": "2025-06-04T03:43:18.225500Z"
    }
   },
   "cell_type": "code",
   "source": "delivery_df.info()",
   "id": "bc00ae3055080d50",
   "outputs": [
    {
     "name": "stdout",
     "output_type": "stream",
     "text": [
      "<class 'pandas.core.frame.DataFrame'>\n",
      "RangeIndex: 96456 entries, 0 to 96455\n",
      "Data columns (total 9 columns):\n",
      " #   Column                         Non-Null Count  Dtype         \n",
      "---  ------                         --------------  -----         \n",
      " 0   order_id                       96456 non-null  object        \n",
      " 1   customer_id                    96456 non-null  object        \n",
      " 2   order_status                   96456 non-null  object        \n",
      " 3   order_purchase_timestamp       96456 non-null  datetime64[ns]\n",
      " 4   order_approved_at              96456 non-null  datetime64[ns]\n",
      " 5   order_delivered_carrier_date   96455 non-null  datetime64[ns]\n",
      " 6   order_delivered_customer_date  96456 non-null  datetime64[ns]\n",
      " 7   order_estimated_delivery_date  96456 non-null  datetime64[ns]\n",
      " 8   customer_unique_id             96456 non-null  object        \n",
      "dtypes: datetime64[ns](5), object(4)\n",
      "memory usage: 6.6+ MB\n"
     ]
    }
   ],
   "execution_count": 103
  },
  {
   "metadata": {},
   "cell_type": "markdown",
   "source": "#### 파생 변수 생성",
   "id": "2cfbd246bff43eec"
  },
  {
   "metadata": {
    "ExecuteTime": {
     "end_time": "2025-06-04T03:43:18.292562Z",
     "start_time": "2025-06-04T03:43:18.280840Z"
    }
   },
   "cell_type": "code",
   "source": [
    "# 날짜 타입 확인\n",
    "date_cols = [\n",
    "    'order_purchase_timestamp',\n",
    "    'order_approved_at',\n",
    "    'order_delivered_customer_date',\n",
    "    'order_estimated_delivery_date'\n",
    "]\n",
    "delivery_df[date_cols].head()"
   ],
   "id": "a21d599163147d8c",
   "outputs": [
    {
     "data": {
      "text/plain": [
       "  order_purchase_timestamp   order_approved_at order_delivered_customer_date  \\\n",
       "0      2017-10-02 10:56:33 2017-10-02 11:07:15           2017-10-10 21:25:13   \n",
       "1      2018-07-24 20:41:37 2018-07-26 03:24:27           2018-08-07 15:27:45   \n",
       "2      2018-08-08 08:38:49 2018-08-08 08:55:23           2018-08-17 18:06:29   \n",
       "3      2017-11-18 19:28:06 2017-11-18 19:45:59           2017-12-02 00:28:42   \n",
       "4      2018-02-13 21:18:39 2018-02-13 22:20:29           2018-02-16 18:17:02   \n",
       "\n",
       "  order_estimated_delivery_date  \n",
       "0                    2017-10-18  \n",
       "1                    2018-08-13  \n",
       "2                    2018-09-04  \n",
       "3                    2017-12-15  \n",
       "4                    2018-02-26  "
      ],
      "text/html": [
       "<div>\n",
       "<style scoped>\n",
       "    .dataframe tbody tr th:only-of-type {\n",
       "        vertical-align: middle;\n",
       "    }\n",
       "\n",
       "    .dataframe tbody tr th {\n",
       "        vertical-align: top;\n",
       "    }\n",
       "\n",
       "    .dataframe thead th {\n",
       "        text-align: right;\n",
       "    }\n",
       "</style>\n",
       "<table border=\"1\" class=\"dataframe\">\n",
       "  <thead>\n",
       "    <tr style=\"text-align: right;\">\n",
       "      <th></th>\n",
       "      <th>order_purchase_timestamp</th>\n",
       "      <th>order_approved_at</th>\n",
       "      <th>order_delivered_customer_date</th>\n",
       "      <th>order_estimated_delivery_date</th>\n",
       "    </tr>\n",
       "  </thead>\n",
       "  <tbody>\n",
       "    <tr>\n",
       "      <th>0</th>\n",
       "      <td>2017-10-02 10:56:33</td>\n",
       "      <td>2017-10-02 11:07:15</td>\n",
       "      <td>2017-10-10 21:25:13</td>\n",
       "      <td>2017-10-18</td>\n",
       "    </tr>\n",
       "    <tr>\n",
       "      <th>1</th>\n",
       "      <td>2018-07-24 20:41:37</td>\n",
       "      <td>2018-07-26 03:24:27</td>\n",
       "      <td>2018-08-07 15:27:45</td>\n",
       "      <td>2018-08-13</td>\n",
       "    </tr>\n",
       "    <tr>\n",
       "      <th>2</th>\n",
       "      <td>2018-08-08 08:38:49</td>\n",
       "      <td>2018-08-08 08:55:23</td>\n",
       "      <td>2018-08-17 18:06:29</td>\n",
       "      <td>2018-09-04</td>\n",
       "    </tr>\n",
       "    <tr>\n",
       "      <th>3</th>\n",
       "      <td>2017-11-18 19:28:06</td>\n",
       "      <td>2017-11-18 19:45:59</td>\n",
       "      <td>2017-12-02 00:28:42</td>\n",
       "      <td>2017-12-15</td>\n",
       "    </tr>\n",
       "    <tr>\n",
       "      <th>4</th>\n",
       "      <td>2018-02-13 21:18:39</td>\n",
       "      <td>2018-02-13 22:20:29</td>\n",
       "      <td>2018-02-16 18:17:02</td>\n",
       "      <td>2018-02-26</td>\n",
       "    </tr>\n",
       "  </tbody>\n",
       "</table>\n",
       "</div>"
      ]
     },
     "execution_count": 104,
     "metadata": {},
     "output_type": "execute_result"
    }
   ],
   "execution_count": 104
  },
  {
   "metadata": {
    "ExecuteTime": {
     "end_time": "2025-06-04T03:43:18.376181Z",
     "start_time": "2025-06-04T03:43:18.348242Z"
    }
   },
   "cell_type": "code",
   "source": [
    "# 결제 승인 까지 걸린 시간\n",
    "delivery_df['approval_days'] = (\n",
    "    delivery_df['order_approved_at'] - delivery_df['order_purchase_timestamp']\n",
    ").dt.days + 1\n",
    "\n",
    "# 총 소요시간(구매~배송완료까지)\n",
    "delivery_df['total_days'] = (\n",
    "    delivery_df['order_delivered_customer_date'] - delivery_df['order_purchase_timestamp']\n",
    ").dt.days + 1\n",
    "\n",
    "# 배송 지연\n",
    "# delay_days > 0 : 지연배송 이탈 가능성 높음\n",
    "# delay_days < 0 : 조기배송 이탈 가능성 낮음\n",
    "delivery_df['delay_days'] = (\n",
    "    delivery_df['order_estimated_delivery_date'] - delivery_df['order_delivered_customer_date']\n",
    ").dt.days"
   ],
   "id": "faa2a20feaf8c189",
   "outputs": [],
   "execution_count": 105
  },
  {
   "metadata": {},
   "cell_type": "markdown",
   "source": "#### 변수 병합",
   "id": "9d7f6892969f1e9"
  },
  {
   "metadata": {
    "ExecuteTime": {
     "end_time": "2025-06-04T03:43:18.449806Z",
     "start_time": "2025-06-04T03:43:18.427262Z"
    }
   },
   "cell_type": "code",
   "source": [
    "# cols_to_drop = ['delay_days', 'total_days', 'approval_days']\n",
    "# rfm_df.drop(columns=cols_to_drop, inplace=True)\n",
    "rfm_df.info()"
   ],
   "id": "d1f718de6ebd8602",
   "outputs": [
    {
     "name": "stdout",
     "output_type": "stream",
     "text": [
      "<class 'pandas.core.frame.DataFrame'>\n",
      "RangeIndex: 96095 entries, 0 to 96094\n",
      "Data columns (total 12 columns):\n",
      " #   Column              Non-Null Count  Dtype   \n",
      "---  ------              --------------  -----   \n",
      " 0   customer_unique_id  96095 non-null  object  \n",
      " 1   Recency             96095 non-null  int64   \n",
      " 2   Frequency           96095 non-null  int64   \n",
      " 3   Monetary            96095 non-null  float64 \n",
      " 4   Frequency_level     96095 non-null  category\n",
      " 5   F_score             96095 non-null  int64   \n",
      " 6   R_quantile          96095 non-null  int64   \n",
      " 7   M_quantile          96095 non-null  int64   \n",
      " 8   R_score             96095 non-null  int64   \n",
      " 9   M_score             96095 non-null  int64   \n",
      " 10  RFM_score           96095 non-null  object  \n",
      " 11  churn               96095 non-null  int64   \n",
      "dtypes: category(1), float64(1), int64(8), object(2)\n",
      "memory usage: 8.2+ MB\n"
     ]
    }
   ],
   "execution_count": 106
  },
  {
   "metadata": {
    "ExecuteTime": {
     "end_time": "2025-06-04T03:44:04.332370Z",
     "start_time": "2025-06-04T03:44:04.142191Z"
    }
   },
   "cell_type": "code",
   "source": [
    "# unique_id 에 맞춰 평균으로 처리\n",
    "delivery_df = delivery_df.groupby('customer_unique_id').agg({\n",
    "    'delay_days': 'mean',\n",
    "    'total_days': 'mean',\n",
    "    'approval_days': 'mean',\n",
    "}).reset_index()\n",
    "delivery_df.head()\n",
    "print(f'deliver_df 평균처리 후 개수: {len(delivery_df)}')\n",
    "\n",
    "# rfm 테이블 병합\n",
    "# 배송정보 있는 고객만 체크\n",
    "rfm_df = rfm_df.merge(\n",
    "    delivery_df,\n",
    "    on='customer_unique_id',\n",
    "    how='inner'\n",
    ")\n",
    "rfm_df.head()\n",
    "print(f'model_df 병합 후 개수: {len(rfm_df)}')"
   ],
   "id": "eab7a45307466167",
   "outputs": [
    {
     "name": "stdout",
     "output_type": "stream",
     "text": [
      "deliver_df 평균처리 후 개수: 93337\n",
      "model_df 병합 후 개수: 93336\n"
     ]
    }
   ],
   "execution_count": 113
  },
  {
   "metadata": {
    "ExecuteTime": {
     "end_time": "2025-06-04T05:40:47.519339Z",
     "start_time": "2025-06-04T05:40:47.501002Z"
    }
   },
   "cell_type": "code",
   "source": "model_df",
   "id": "6e26527177267140",
   "outputs": [
    {
     "data": {
      "text/plain": [
       "                     customer_unique_id  Recency  Frequency  Monetary  \\\n",
       "0      0000366f3b9a7992bf8c76cfdf3221e2      161          1    141.90   \n",
       "1      0000b849f77a49e4a4ce2b2a4ca5be3f      164          1     27.19   \n",
       "2      0000f46a3911fa3c0805444483337064      586          1     86.22   \n",
       "3      0000f6ccb0745a6a4b88665a16c9f078      370          1     43.62   \n",
       "4      0004aac84e0df4da2b147fca70cf8255      337          1    196.89   \n",
       "...                                 ...      ...        ...       ...   \n",
       "92728  fffcf5a5ff07b0908bd4e2dbc735a684      496          1   2067.42   \n",
       "92729  fffea47cd6d3cc0a88bd621562a9d061      311          1     84.58   \n",
       "92730  ffff371b4d645b6ecea244b27531430a      618          1    112.46   \n",
       "92731  ffff5962728ec6157033ef9805bacc48      169          1    133.69   \n",
       "92732  ffffd2657e2aad2907e67c3e9daecbeb      533          1     71.56   \n",
       "\n",
       "      Frequency_level  F_score  R_quantile  M_quantile  R_score  M_score  \\\n",
       "0                 low        1           1           3        4        4   \n",
       "1                 low        1           1           0        4        1   \n",
       "2                 low        1           4           1        1        2   \n",
       "3                 low        1           3           0        2        1   \n",
       "4                 low        1           3           3        2        4   \n",
       "...               ...      ...         ...         ...      ...      ...   \n",
       "92728             low        1           4           4        1        5   \n",
       "92729             low        1           2           1        3        2   \n",
       "92730             low        1           4           2        1        3   \n",
       "92731             low        1           1           3        4        4   \n",
       "92732             low        1           4           1        1        2   \n",
       "\n",
       "      RFM_score  churn  delay_days  total_days  approval_days  review_flag  \\\n",
       "0           414      0         4.0         7.0            1.0            1   \n",
       "1           411      0         4.0         4.0            1.0            0   \n",
       "2           112      1         1.0        26.0            1.0            0   \n",
       "3           211      1        11.0        21.0            1.0            1   \n",
       "4           214      1         7.0        14.0            1.0            0   \n",
       "...         ...    ...         ...         ...            ...          ...   \n",
       "92728       115      1        26.0        28.0            1.0            0   \n",
       "92729       312      0         2.0        31.0            1.0            0   \n",
       "92730       113      1        29.0        15.0            1.0            0   \n",
       "92731       414      0        13.0        12.0            1.0            1   \n",
       "92732       112      1        15.0         8.0            1.0            0   \n",
       "\n",
       "       review_length  \n",
       "0              111.0  \n",
       "1                0.0  \n",
       "2                0.0  \n",
       "3               12.0  \n",
       "4                0.0  \n",
       "...              ...  \n",
       "92728            0.0  \n",
       "92729            0.0  \n",
       "92730            0.0  \n",
       "92731          133.0  \n",
       "92732            0.0  \n",
       "\n",
       "[92733 rows x 17 columns]"
      ],
      "text/html": [
       "<div>\n",
       "<style scoped>\n",
       "    .dataframe tbody tr th:only-of-type {\n",
       "        vertical-align: middle;\n",
       "    }\n",
       "\n",
       "    .dataframe tbody tr th {\n",
       "        vertical-align: top;\n",
       "    }\n",
       "\n",
       "    .dataframe thead th {\n",
       "        text-align: right;\n",
       "    }\n",
       "</style>\n",
       "<table border=\"1\" class=\"dataframe\">\n",
       "  <thead>\n",
       "    <tr style=\"text-align: right;\">\n",
       "      <th></th>\n",
       "      <th>customer_unique_id</th>\n",
       "      <th>Recency</th>\n",
       "      <th>Frequency</th>\n",
       "      <th>Monetary</th>\n",
       "      <th>Frequency_level</th>\n",
       "      <th>F_score</th>\n",
       "      <th>R_quantile</th>\n",
       "      <th>M_quantile</th>\n",
       "      <th>R_score</th>\n",
       "      <th>M_score</th>\n",
       "      <th>RFM_score</th>\n",
       "      <th>churn</th>\n",
       "      <th>delay_days</th>\n",
       "      <th>total_days</th>\n",
       "      <th>approval_days</th>\n",
       "      <th>review_flag</th>\n",
       "      <th>review_length</th>\n",
       "    </tr>\n",
       "  </thead>\n",
       "  <tbody>\n",
       "    <tr>\n",
       "      <th>0</th>\n",
       "      <td>0000366f3b9a7992bf8c76cfdf3221e2</td>\n",
       "      <td>161</td>\n",
       "      <td>1</td>\n",
       "      <td>141.90</td>\n",
       "      <td>low</td>\n",
       "      <td>1</td>\n",
       "      <td>1</td>\n",
       "      <td>3</td>\n",
       "      <td>4</td>\n",
       "      <td>4</td>\n",
       "      <td>414</td>\n",
       "      <td>0</td>\n",
       "      <td>4.0</td>\n",
       "      <td>7.0</td>\n",
       "      <td>1.0</td>\n",
       "      <td>1</td>\n",
       "      <td>111.0</td>\n",
       "    </tr>\n",
       "    <tr>\n",
       "      <th>1</th>\n",
       "      <td>0000b849f77a49e4a4ce2b2a4ca5be3f</td>\n",
       "      <td>164</td>\n",
       "      <td>1</td>\n",
       "      <td>27.19</td>\n",
       "      <td>low</td>\n",
       "      <td>1</td>\n",
       "      <td>1</td>\n",
       "      <td>0</td>\n",
       "      <td>4</td>\n",
       "      <td>1</td>\n",
       "      <td>411</td>\n",
       "      <td>0</td>\n",
       "      <td>4.0</td>\n",
       "      <td>4.0</td>\n",
       "      <td>1.0</td>\n",
       "      <td>0</td>\n",
       "      <td>0.0</td>\n",
       "    </tr>\n",
       "    <tr>\n",
       "      <th>2</th>\n",
       "      <td>0000f46a3911fa3c0805444483337064</td>\n",
       "      <td>586</td>\n",
       "      <td>1</td>\n",
       "      <td>86.22</td>\n",
       "      <td>low</td>\n",
       "      <td>1</td>\n",
       "      <td>4</td>\n",
       "      <td>1</td>\n",
       "      <td>1</td>\n",
       "      <td>2</td>\n",
       "      <td>112</td>\n",
       "      <td>1</td>\n",
       "      <td>1.0</td>\n",
       "      <td>26.0</td>\n",
       "      <td>1.0</td>\n",
       "      <td>0</td>\n",
       "      <td>0.0</td>\n",
       "    </tr>\n",
       "    <tr>\n",
       "      <th>3</th>\n",
       "      <td>0000f6ccb0745a6a4b88665a16c9f078</td>\n",
       "      <td>370</td>\n",
       "      <td>1</td>\n",
       "      <td>43.62</td>\n",
       "      <td>low</td>\n",
       "      <td>1</td>\n",
       "      <td>3</td>\n",
       "      <td>0</td>\n",
       "      <td>2</td>\n",
       "      <td>1</td>\n",
       "      <td>211</td>\n",
       "      <td>1</td>\n",
       "      <td>11.0</td>\n",
       "      <td>21.0</td>\n",
       "      <td>1.0</td>\n",
       "      <td>1</td>\n",
       "      <td>12.0</td>\n",
       "    </tr>\n",
       "    <tr>\n",
       "      <th>4</th>\n",
       "      <td>0004aac84e0df4da2b147fca70cf8255</td>\n",
       "      <td>337</td>\n",
       "      <td>1</td>\n",
       "      <td>196.89</td>\n",
       "      <td>low</td>\n",
       "      <td>1</td>\n",
       "      <td>3</td>\n",
       "      <td>3</td>\n",
       "      <td>2</td>\n",
       "      <td>4</td>\n",
       "      <td>214</td>\n",
       "      <td>1</td>\n",
       "      <td>7.0</td>\n",
       "      <td>14.0</td>\n",
       "      <td>1.0</td>\n",
       "      <td>0</td>\n",
       "      <td>0.0</td>\n",
       "    </tr>\n",
       "    <tr>\n",
       "      <th>...</th>\n",
       "      <td>...</td>\n",
       "      <td>...</td>\n",
       "      <td>...</td>\n",
       "      <td>...</td>\n",
       "      <td>...</td>\n",
       "      <td>...</td>\n",
       "      <td>...</td>\n",
       "      <td>...</td>\n",
       "      <td>...</td>\n",
       "      <td>...</td>\n",
       "      <td>...</td>\n",
       "      <td>...</td>\n",
       "      <td>...</td>\n",
       "      <td>...</td>\n",
       "      <td>...</td>\n",
       "      <td>...</td>\n",
       "      <td>...</td>\n",
       "    </tr>\n",
       "    <tr>\n",
       "      <th>92728</th>\n",
       "      <td>fffcf5a5ff07b0908bd4e2dbc735a684</td>\n",
       "      <td>496</td>\n",
       "      <td>1</td>\n",
       "      <td>2067.42</td>\n",
       "      <td>low</td>\n",
       "      <td>1</td>\n",
       "      <td>4</td>\n",
       "      <td>4</td>\n",
       "      <td>1</td>\n",
       "      <td>5</td>\n",
       "      <td>115</td>\n",
       "      <td>1</td>\n",
       "      <td>26.0</td>\n",
       "      <td>28.0</td>\n",
       "      <td>1.0</td>\n",
       "      <td>0</td>\n",
       "      <td>0.0</td>\n",
       "    </tr>\n",
       "    <tr>\n",
       "      <th>92729</th>\n",
       "      <td>fffea47cd6d3cc0a88bd621562a9d061</td>\n",
       "      <td>311</td>\n",
       "      <td>1</td>\n",
       "      <td>84.58</td>\n",
       "      <td>low</td>\n",
       "      <td>1</td>\n",
       "      <td>2</td>\n",
       "      <td>1</td>\n",
       "      <td>3</td>\n",
       "      <td>2</td>\n",
       "      <td>312</td>\n",
       "      <td>0</td>\n",
       "      <td>2.0</td>\n",
       "      <td>31.0</td>\n",
       "      <td>1.0</td>\n",
       "      <td>0</td>\n",
       "      <td>0.0</td>\n",
       "    </tr>\n",
       "    <tr>\n",
       "      <th>92730</th>\n",
       "      <td>ffff371b4d645b6ecea244b27531430a</td>\n",
       "      <td>618</td>\n",
       "      <td>1</td>\n",
       "      <td>112.46</td>\n",
       "      <td>low</td>\n",
       "      <td>1</td>\n",
       "      <td>4</td>\n",
       "      <td>2</td>\n",
       "      <td>1</td>\n",
       "      <td>3</td>\n",
       "      <td>113</td>\n",
       "      <td>1</td>\n",
       "      <td>29.0</td>\n",
       "      <td>15.0</td>\n",
       "      <td>1.0</td>\n",
       "      <td>0</td>\n",
       "      <td>0.0</td>\n",
       "    </tr>\n",
       "    <tr>\n",
       "      <th>92731</th>\n",
       "      <td>ffff5962728ec6157033ef9805bacc48</td>\n",
       "      <td>169</td>\n",
       "      <td>1</td>\n",
       "      <td>133.69</td>\n",
       "      <td>low</td>\n",
       "      <td>1</td>\n",
       "      <td>1</td>\n",
       "      <td>3</td>\n",
       "      <td>4</td>\n",
       "      <td>4</td>\n",
       "      <td>414</td>\n",
       "      <td>0</td>\n",
       "      <td>13.0</td>\n",
       "      <td>12.0</td>\n",
       "      <td>1.0</td>\n",
       "      <td>1</td>\n",
       "      <td>133.0</td>\n",
       "    </tr>\n",
       "    <tr>\n",
       "      <th>92732</th>\n",
       "      <td>ffffd2657e2aad2907e67c3e9daecbeb</td>\n",
       "      <td>533</td>\n",
       "      <td>1</td>\n",
       "      <td>71.56</td>\n",
       "      <td>low</td>\n",
       "      <td>1</td>\n",
       "      <td>4</td>\n",
       "      <td>1</td>\n",
       "      <td>1</td>\n",
       "      <td>2</td>\n",
       "      <td>112</td>\n",
       "      <td>1</td>\n",
       "      <td>15.0</td>\n",
       "      <td>8.0</td>\n",
       "      <td>1.0</td>\n",
       "      <td>0</td>\n",
       "      <td>0.0</td>\n",
       "    </tr>\n",
       "  </tbody>\n",
       "</table>\n",
       "<p>92733 rows × 17 columns</p>\n",
       "</div>"
      ]
     },
     "execution_count": 158,
     "metadata": {},
     "output_type": "execute_result"
    }
   ],
   "execution_count": 158
  },
  {
   "metadata": {},
   "cell_type": "code",
   "outputs": [],
   "execution_count": null,
   "source": [
    "기존 df에다가 order_items_df추가하고 밑에꺼 결합\n",
    "\n",
    "product_df = products_df.merge(product_category_name_df, on='product_category_name', how='left')\n",
    "product_df = products_df.merge(order_items_df, on='product_category_name', how='left')\n",
    "\n",
    "\n",
    "\n",
    "\n",
    "product_df"
   ],
   "id": "6cfbf71f5d2af6fd"
  },
  {
   "metadata": {
    "ExecuteTime": {
     "end_time": "2025-06-04T03:44:04.913753Z",
     "start_time": "2025-06-04T03:44:04.889070Z"
    }
   },
   "cell_type": "code",
   "source": "model_df.info()",
   "id": "7b9fd5464d155a6d",
   "outputs": [
    {
     "name": "stdout",
     "output_type": "stream",
     "text": [
      "<class 'pandas.core.frame.DataFrame'>\n",
      "RangeIndex: 95379 entries, 0 to 95378\n",
      "Data columns (total 14 columns):\n",
      " #   Column              Non-Null Count  Dtype   \n",
      "---  ------              --------------  -----   \n",
      " 0   customer_unique_id  95379 non-null  object  \n",
      " 1   Recency             95379 non-null  int64   \n",
      " 2   Frequency           95379 non-null  int64   \n",
      " 3   Monetary            95379 non-null  float64 \n",
      " 4   Frequency_level     95379 non-null  category\n",
      " 5   F_score             95379 non-null  int64   \n",
      " 6   R_quantile          95379 non-null  int64   \n",
      " 7   M_quantile          95379 non-null  int64   \n",
      " 8   R_score             95379 non-null  int64   \n",
      " 9   M_score             95379 non-null  int64   \n",
      " 10  RFM_score           95379 non-null  object  \n",
      " 11  churn               95379 non-null  int64   \n",
      " 12  review_flag         95379 non-null  int64   \n",
      " 13  review_length       95379 non-null  float64 \n",
      "dtypes: category(1), float64(2), int64(9), object(2)\n",
      "memory usage: 9.6+ MB\n"
     ]
    }
   ],
   "execution_count": 114
  },
  {
   "metadata": {
    "ExecuteTime": {
     "end_time": "2025-06-04T03:44:05.198896Z",
     "start_time": "2025-06-04T03:44:05.185720Z"
    }
   },
   "cell_type": "code",
   "source": "customers_df",
   "id": "92d36e44027ede89",
   "outputs": [
    {
     "data": {
      "text/plain": [
       "                            customer_id                customer_unique_id  \\\n",
       "0      06b8999e2fba1a1fbc88172c00ba8bc7  861eff4711a542e4b93843c6dd7febb0   \n",
       "1      18955e83d337fd6b2def6b18a428ac77  290c77bc529b7ac935b93aa66c333dc3   \n",
       "2      4e7b3e00288586ebd08712fdd0374a03  060e732b5b29e8181a18229c7b0b2b5e   \n",
       "3      b2b6027bc5c5109e529d4dc6358b12c3  259dac757896d24d7702b9acbbff3f3c   \n",
       "4      4f2d8ab171c80ec8364f7c12e35b23ad  345ecd01c38d18a9036ed96c73b8d066   \n",
       "...                                 ...                               ...   \n",
       "99436  17ddf5dd5d51696bb3d7c6291687be6f  1a29b476fee25c95fbafc67c5ac95cf8   \n",
       "99437  e7b71a9017aa05c9a7fd292d714858e8  d52a67c98be1cf6a5c84435bd38d095d   \n",
       "99438  5e28dfe12db7fb50a4b2f691faecea5e  e9f50caf99f032f0bf3c55141f019d99   \n",
       "99439  56b18e2166679b8a959d72dd06da27f9  73c2643a0a458b49f58cea58833b192e   \n",
       "99440  274fa6071e5e17fe303b9748641082c8  84732c5050c01db9b23e19ba39899398   \n",
       "\n",
       "       customer_zip_code_prefix          customer_city customer_state  \n",
       "0                         14409                 franca             SP  \n",
       "1                          9790  sao bernardo do campo             SP  \n",
       "2                          1151              sao paulo             SP  \n",
       "3                          8775        mogi das cruzes             SP  \n",
       "4                         13056               campinas             SP  \n",
       "...                         ...                    ...            ...  \n",
       "99436                      3937              sao paulo             SP  \n",
       "99437                      6764        taboao da serra             SP  \n",
       "99438                     60115              fortaleza             CE  \n",
       "99439                     92120                 canoas             RS  \n",
       "99440                      6703                  cotia             SP  \n",
       "\n",
       "[99441 rows x 5 columns]"
      ],
      "text/html": [
       "<div>\n",
       "<style scoped>\n",
       "    .dataframe tbody tr th:only-of-type {\n",
       "        vertical-align: middle;\n",
       "    }\n",
       "\n",
       "    .dataframe tbody tr th {\n",
       "        vertical-align: top;\n",
       "    }\n",
       "\n",
       "    .dataframe thead th {\n",
       "        text-align: right;\n",
       "    }\n",
       "</style>\n",
       "<table border=\"1\" class=\"dataframe\">\n",
       "  <thead>\n",
       "    <tr style=\"text-align: right;\">\n",
       "      <th></th>\n",
       "      <th>customer_id</th>\n",
       "      <th>customer_unique_id</th>\n",
       "      <th>customer_zip_code_prefix</th>\n",
       "      <th>customer_city</th>\n",
       "      <th>customer_state</th>\n",
       "    </tr>\n",
       "  </thead>\n",
       "  <tbody>\n",
       "    <tr>\n",
       "      <th>0</th>\n",
       "      <td>06b8999e2fba1a1fbc88172c00ba8bc7</td>\n",
       "      <td>861eff4711a542e4b93843c6dd7febb0</td>\n",
       "      <td>14409</td>\n",
       "      <td>franca</td>\n",
       "      <td>SP</td>\n",
       "    </tr>\n",
       "    <tr>\n",
       "      <th>1</th>\n",
       "      <td>18955e83d337fd6b2def6b18a428ac77</td>\n",
       "      <td>290c77bc529b7ac935b93aa66c333dc3</td>\n",
       "      <td>9790</td>\n",
       "      <td>sao bernardo do campo</td>\n",
       "      <td>SP</td>\n",
       "    </tr>\n",
       "    <tr>\n",
       "      <th>2</th>\n",
       "      <td>4e7b3e00288586ebd08712fdd0374a03</td>\n",
       "      <td>060e732b5b29e8181a18229c7b0b2b5e</td>\n",
       "      <td>1151</td>\n",
       "      <td>sao paulo</td>\n",
       "      <td>SP</td>\n",
       "    </tr>\n",
       "    <tr>\n",
       "      <th>3</th>\n",
       "      <td>b2b6027bc5c5109e529d4dc6358b12c3</td>\n",
       "      <td>259dac757896d24d7702b9acbbff3f3c</td>\n",
       "      <td>8775</td>\n",
       "      <td>mogi das cruzes</td>\n",
       "      <td>SP</td>\n",
       "    </tr>\n",
       "    <tr>\n",
       "      <th>4</th>\n",
       "      <td>4f2d8ab171c80ec8364f7c12e35b23ad</td>\n",
       "      <td>345ecd01c38d18a9036ed96c73b8d066</td>\n",
       "      <td>13056</td>\n",
       "      <td>campinas</td>\n",
       "      <td>SP</td>\n",
       "    </tr>\n",
       "    <tr>\n",
       "      <th>...</th>\n",
       "      <td>...</td>\n",
       "      <td>...</td>\n",
       "      <td>...</td>\n",
       "      <td>...</td>\n",
       "      <td>...</td>\n",
       "    </tr>\n",
       "    <tr>\n",
       "      <th>99436</th>\n",
       "      <td>17ddf5dd5d51696bb3d7c6291687be6f</td>\n",
       "      <td>1a29b476fee25c95fbafc67c5ac95cf8</td>\n",
       "      <td>3937</td>\n",
       "      <td>sao paulo</td>\n",
       "      <td>SP</td>\n",
       "    </tr>\n",
       "    <tr>\n",
       "      <th>99437</th>\n",
       "      <td>e7b71a9017aa05c9a7fd292d714858e8</td>\n",
       "      <td>d52a67c98be1cf6a5c84435bd38d095d</td>\n",
       "      <td>6764</td>\n",
       "      <td>taboao da serra</td>\n",
       "      <td>SP</td>\n",
       "    </tr>\n",
       "    <tr>\n",
       "      <th>99438</th>\n",
       "      <td>5e28dfe12db7fb50a4b2f691faecea5e</td>\n",
       "      <td>e9f50caf99f032f0bf3c55141f019d99</td>\n",
       "      <td>60115</td>\n",
       "      <td>fortaleza</td>\n",
       "      <td>CE</td>\n",
       "    </tr>\n",
       "    <tr>\n",
       "      <th>99439</th>\n",
       "      <td>56b18e2166679b8a959d72dd06da27f9</td>\n",
       "      <td>73c2643a0a458b49f58cea58833b192e</td>\n",
       "      <td>92120</td>\n",
       "      <td>canoas</td>\n",
       "      <td>RS</td>\n",
       "    </tr>\n",
       "    <tr>\n",
       "      <th>99440</th>\n",
       "      <td>274fa6071e5e17fe303b9748641082c8</td>\n",
       "      <td>84732c5050c01db9b23e19ba39899398</td>\n",
       "      <td>6703</td>\n",
       "      <td>cotia</td>\n",
       "      <td>SP</td>\n",
       "    </tr>\n",
       "  </tbody>\n",
       "</table>\n",
       "<p>99441 rows × 5 columns</p>\n",
       "</div>"
      ]
     },
     "execution_count": 115,
     "metadata": {},
     "output_type": "execute_result"
    }
   ],
   "execution_count": 115
  },
  {
   "metadata": {
    "ExecuteTime": {
     "end_time": "2025-06-04T03:44:05.624814Z",
     "start_time": "2025-06-04T03:44:05.439686Z"
    }
   },
   "cell_type": "code",
   "source": [
    "order_reviews_df['review_comment_title'] = order_reviews_df['review_comment_title'].fillna('')\n",
    "order_reviews_df['review_comment_message'] = order_reviews_df['review_comment_message'].fillna('')\n",
    "\n",
    "\n",
    "\n",
    "order_reviews_df['review_flag'] = np.where(\n",
    "    (order_reviews_df['review_comment_title'] == '') & (order_reviews_df['review_comment_message'] == ''),\n",
    "    0,\n",
    "    1\n",
    ")\n",
    "\n",
    "order_reviews_df['review_length'] = order_reviews_df['review_comment_message'].apply(lambda x: len(str(x)))\n",
    "\n",
    "# customer_unique_id 병합\n",
    "reviews_customers_merged = pd.merge(\n",
    "    order_reviews_df,\n",
    "    orders_customers_merged[['order_id', 'customer_unique_id']],\n",
    "    on='order_id',\n",
    "    how='left'\n",
    ")\n",
    "\n",
    "reviews_customers_merged.head()\n",
    "\n",
    "reviews_customers_merged.head()\n",
    "\n",
    "print(f'model_df 병합 후 개수: {len(reviews_customers_merged)}')"
   ],
   "id": "a441725ede5df759",
   "outputs": [
    {
     "name": "stdout",
     "output_type": "stream",
     "text": [
      "model_df 병합 후 개수: 99224\n"
     ]
    }
   ],
   "execution_count": 116
  },
  {
   "metadata": {
    "ExecuteTime": {
     "end_time": "2025-06-04T05:32:36.840858Z",
     "start_time": "2025-06-04T05:32:36.706073Z"
    }
   },
   "cell_type": "code",
   "source": "",
   "id": "75cb4c746414670",
   "outputs": [
    {
     "ename": "KeyError",
     "evalue": "'orders_id'",
     "output_type": "error",
     "traceback": [
      "\u001B[31m---------------------------------------------------------------------------\u001B[39m",
      "\u001B[31mKeyError\u001B[39m                                  Traceback (most recent call last)",
      "\u001B[36mCell\u001B[39m\u001B[36m \u001B[39m\u001B[32mIn[141]\u001B[39m\u001B[32m, line 1\u001B[39m\n\u001B[32m----> \u001B[39m\u001B[32m1\u001B[39m items_reviews_customers_merged = \u001B[43mpd\u001B[49m\u001B[43m.\u001B[49m\u001B[43mmerge\u001B[49m\u001B[43m(\u001B[49m\n\u001B[32m      2\u001B[39m \u001B[43m    \u001B[49m\u001B[43morder_items_df\u001B[49m\u001B[43m,\u001B[49m\n\u001B[32m      3\u001B[39m \u001B[43m    \u001B[49m\u001B[43mreviews_customers_merged\u001B[49m\u001B[43m,\u001B[49m\n\u001B[32m      4\u001B[39m \u001B[43m    \u001B[49m\u001B[43mon\u001B[49m\u001B[43m=\u001B[49m\u001B[33;43m'\u001B[39;49m\u001B[33;43morders_id\u001B[39;49m\u001B[33;43m'\u001B[39;49m\u001B[43m,\u001B[49m\n\u001B[32m      5\u001B[39m \u001B[43m    \u001B[49m\u001B[43mhow\u001B[49m\u001B[43m=\u001B[49m\u001B[33;43m'\u001B[39;49m\u001B[33;43mleft\u001B[39;49m\u001B[33;43m'\u001B[39;49m\n\u001B[32m      6\u001B[39m \u001B[43m)\u001B[49m\n\u001B[32m      8\u001B[39m items_reviews_customers_merged.info()\n",
      "\u001B[36mFile \u001B[39m\u001B[32m~\\miniconda3\\envs\\ai_basic_env\\Lib\\site-packages\\pandas\\core\\reshape\\merge.py:170\u001B[39m, in \u001B[36mmerge\u001B[39m\u001B[34m(left, right, how, on, left_on, right_on, left_index, right_index, sort, suffixes, copy, indicator, validate)\u001B[39m\n\u001B[32m    155\u001B[39m     \u001B[38;5;28;01mreturn\u001B[39;00m _cross_merge(\n\u001B[32m    156\u001B[39m         left_df,\n\u001B[32m    157\u001B[39m         right_df,\n\u001B[32m   (...)\u001B[39m\u001B[32m    167\u001B[39m         copy=copy,\n\u001B[32m    168\u001B[39m     )\n\u001B[32m    169\u001B[39m \u001B[38;5;28;01melse\u001B[39;00m:\n\u001B[32m--> \u001B[39m\u001B[32m170\u001B[39m     op = \u001B[43m_MergeOperation\u001B[49m\u001B[43m(\u001B[49m\n\u001B[32m    171\u001B[39m \u001B[43m        \u001B[49m\u001B[43mleft_df\u001B[49m\u001B[43m,\u001B[49m\n\u001B[32m    172\u001B[39m \u001B[43m        \u001B[49m\u001B[43mright_df\u001B[49m\u001B[43m,\u001B[49m\n\u001B[32m    173\u001B[39m \u001B[43m        \u001B[49m\u001B[43mhow\u001B[49m\u001B[43m=\u001B[49m\u001B[43mhow\u001B[49m\u001B[43m,\u001B[49m\n\u001B[32m    174\u001B[39m \u001B[43m        \u001B[49m\u001B[43mon\u001B[49m\u001B[43m=\u001B[49m\u001B[43mon\u001B[49m\u001B[43m,\u001B[49m\n\u001B[32m    175\u001B[39m \u001B[43m        \u001B[49m\u001B[43mleft_on\u001B[49m\u001B[43m=\u001B[49m\u001B[43mleft_on\u001B[49m\u001B[43m,\u001B[49m\n\u001B[32m    176\u001B[39m \u001B[43m        \u001B[49m\u001B[43mright_on\u001B[49m\u001B[43m=\u001B[49m\u001B[43mright_on\u001B[49m\u001B[43m,\u001B[49m\n\u001B[32m    177\u001B[39m \u001B[43m        \u001B[49m\u001B[43mleft_index\u001B[49m\u001B[43m=\u001B[49m\u001B[43mleft_index\u001B[49m\u001B[43m,\u001B[49m\n\u001B[32m    178\u001B[39m \u001B[43m        \u001B[49m\u001B[43mright_index\u001B[49m\u001B[43m=\u001B[49m\u001B[43mright_index\u001B[49m\u001B[43m,\u001B[49m\n\u001B[32m    179\u001B[39m \u001B[43m        \u001B[49m\u001B[43msort\u001B[49m\u001B[43m=\u001B[49m\u001B[43msort\u001B[49m\u001B[43m,\u001B[49m\n\u001B[32m    180\u001B[39m \u001B[43m        \u001B[49m\u001B[43msuffixes\u001B[49m\u001B[43m=\u001B[49m\u001B[43msuffixes\u001B[49m\u001B[43m,\u001B[49m\n\u001B[32m    181\u001B[39m \u001B[43m        \u001B[49m\u001B[43mindicator\u001B[49m\u001B[43m=\u001B[49m\u001B[43mindicator\u001B[49m\u001B[43m,\u001B[49m\n\u001B[32m    182\u001B[39m \u001B[43m        \u001B[49m\u001B[43mvalidate\u001B[49m\u001B[43m=\u001B[49m\u001B[43mvalidate\u001B[49m\u001B[43m,\u001B[49m\n\u001B[32m    183\u001B[39m \u001B[43m    \u001B[49m\u001B[43m)\u001B[49m\n\u001B[32m    184\u001B[39m     \u001B[38;5;28;01mreturn\u001B[39;00m op.get_result(copy=copy)\n",
      "\u001B[36mFile \u001B[39m\u001B[32m~\\miniconda3\\envs\\ai_basic_env\\Lib\\site-packages\\pandas\\core\\reshape\\merge.py:794\u001B[39m, in \u001B[36m_MergeOperation.__init__\u001B[39m\u001B[34m(self, left, right, how, on, left_on, right_on, left_index, right_index, sort, suffixes, indicator, validate)\u001B[39m\n\u001B[32m    784\u001B[39m     \u001B[38;5;28;01mraise\u001B[39;00m MergeError(msg)\n\u001B[32m    786\u001B[39m \u001B[38;5;28mself\u001B[39m.left_on, \u001B[38;5;28mself\u001B[39m.right_on = \u001B[38;5;28mself\u001B[39m._validate_left_right_on(left_on, right_on)\n\u001B[32m    788\u001B[39m (\n\u001B[32m    789\u001B[39m     \u001B[38;5;28mself\u001B[39m.left_join_keys,\n\u001B[32m    790\u001B[39m     \u001B[38;5;28mself\u001B[39m.right_join_keys,\n\u001B[32m    791\u001B[39m     \u001B[38;5;28mself\u001B[39m.join_names,\n\u001B[32m    792\u001B[39m     left_drop,\n\u001B[32m    793\u001B[39m     right_drop,\n\u001B[32m--> \u001B[39m\u001B[32m794\u001B[39m ) = \u001B[38;5;28;43mself\u001B[39;49m\u001B[43m.\u001B[49m\u001B[43m_get_merge_keys\u001B[49m\u001B[43m(\u001B[49m\u001B[43m)\u001B[49m\n\u001B[32m    796\u001B[39m \u001B[38;5;28;01mif\u001B[39;00m left_drop:\n\u001B[32m    797\u001B[39m     \u001B[38;5;28mself\u001B[39m.left = \u001B[38;5;28mself\u001B[39m.left._drop_labels_or_levels(left_drop)\n",
      "\u001B[36mFile \u001B[39m\u001B[32m~\\miniconda3\\envs\\ai_basic_env\\Lib\\site-packages\\pandas\\core\\reshape\\merge.py:1297\u001B[39m, in \u001B[36m_MergeOperation._get_merge_keys\u001B[39m\u001B[34m(self)\u001B[39m\n\u001B[32m   1295\u001B[39m rk = cast(Hashable, rk)\n\u001B[32m   1296\u001B[39m \u001B[38;5;28;01mif\u001B[39;00m rk \u001B[38;5;129;01mis\u001B[39;00m \u001B[38;5;129;01mnot\u001B[39;00m \u001B[38;5;28;01mNone\u001B[39;00m:\n\u001B[32m-> \u001B[39m\u001B[32m1297\u001B[39m     right_keys.append(\u001B[43mright\u001B[49m\u001B[43m.\u001B[49m\u001B[43m_get_label_or_level_values\u001B[49m\u001B[43m(\u001B[49m\u001B[43mrk\u001B[49m\u001B[43m)\u001B[49m)\n\u001B[32m   1298\u001B[39m \u001B[38;5;28;01melse\u001B[39;00m:\n\u001B[32m   1299\u001B[39m     \u001B[38;5;66;03m# work-around for merge_asof(right_index=True)\u001B[39;00m\n\u001B[32m   1300\u001B[39m     right_keys.append(right.index._values)\n",
      "\u001B[36mFile \u001B[39m\u001B[32m~\\miniconda3\\envs\\ai_basic_env\\Lib\\site-packages\\pandas\\core\\generic.py:1911\u001B[39m, in \u001B[36mNDFrame._get_label_or_level_values\u001B[39m\u001B[34m(self, key, axis)\u001B[39m\n\u001B[32m   1909\u001B[39m     values = \u001B[38;5;28mself\u001B[39m.axes[axis].get_level_values(key)._values\n\u001B[32m   1910\u001B[39m \u001B[38;5;28;01melse\u001B[39;00m:\n\u001B[32m-> \u001B[39m\u001B[32m1911\u001B[39m     \u001B[38;5;28;01mraise\u001B[39;00m \u001B[38;5;167;01mKeyError\u001B[39;00m(key)\n\u001B[32m   1913\u001B[39m \u001B[38;5;66;03m# Check for duplicates\u001B[39;00m\n\u001B[32m   1914\u001B[39m \u001B[38;5;28;01mif\u001B[39;00m values.ndim > \u001B[32m1\u001B[39m:\n",
      "\u001B[31mKeyError\u001B[39m: 'orders_id'"
     ]
    }
   ],
   "execution_count": 141
  },
  {
   "metadata": {
    "ExecuteTime": {
     "end_time": "2025-06-04T03:44:05.882706Z",
     "start_time": "2025-06-04T03:44:05.665336Z"
    }
   },
   "cell_type": "code",
   "source": [
    "# unique_id 에 맞춰 평균으로 처리\n",
    "reviews_customers_merged = reviews_customers_merged.groupby('customer_unique_id').agg({\n",
    "    'review_flag': 'sum',\n",
    "    'review_length': 'mean'\n",
    "}).reset_index()\n",
    "reviews_customers_merged.head()\n",
    "print(f'deliver_df 평균처리 후 개수: {len(reviews_customers_merged)}')\n",
    "\n",
    "# rfm 테이블 병합\n",
    "# 배송정보 있는 고객만 체크\n",
    "model_df = rfm_df.merge(\n",
    "    reviews_customers_merged,\n",
    "    on='customer_unique_id',\n",
    "    how='inner'\n",
    ")\n",
    "model_df.head()\n",
    "print(f'model_df 병합 후 개수: {len(model_df)}')"
   ],
   "id": "53d50f42c74d16a4",
   "outputs": [
    {
     "name": "stdout",
     "output_type": "stream",
     "text": [
      "deliver_df 평균처리 후 개수: 95380\n",
      "model_df 병합 후 개수: 92733\n"
     ]
    }
   ],
   "execution_count": 117
  },
  {
   "metadata": {},
   "cell_type": "markdown",
   "source": "## 모델링",
   "id": "d40df79072732310"
  },
  {
   "metadata": {},
   "cell_type": "markdown",
   "source": "### 데이터 준비",
   "id": "c1df861abb8df1de"
  },
  {
   "metadata": {
    "ExecuteTime": {
     "end_time": "2025-06-04T03:44:27.914949Z",
     "start_time": "2025-06-04T03:44:27.901643Z"
    }
   },
   "cell_type": "code",
   "source": [
    "model_df.head()\n",
    "# model_df.describe()"
   ],
   "id": "5e6986c301895892",
   "outputs": [
    {
     "data": {
      "text/plain": [
       "                 customer_unique_id  Recency  Frequency  Monetary  \\\n",
       "0  0000366f3b9a7992bf8c76cfdf3221e2      161          1    141.90   \n",
       "1  0000b849f77a49e4a4ce2b2a4ca5be3f      164          1     27.19   \n",
       "2  0000f46a3911fa3c0805444483337064      586          1     86.22   \n",
       "3  0000f6ccb0745a6a4b88665a16c9f078      370          1     43.62   \n",
       "4  0004aac84e0df4da2b147fca70cf8255      337          1    196.89   \n",
       "\n",
       "  Frequency_level  F_score  R_quantile  M_quantile  R_score  M_score  \\\n",
       "0             low        1           1           3        4        4   \n",
       "1             low        1           1           0        4        1   \n",
       "2             low        1           4           1        1        2   \n",
       "3             low        1           3           0        2        1   \n",
       "4             low        1           3           3        2        4   \n",
       "\n",
       "  RFM_score  churn  delay_days  total_days  approval_days  review_flag  \\\n",
       "0       414      0         4.0         7.0            1.0            1   \n",
       "1       411      0         4.0         4.0            1.0            0   \n",
       "2       112      1         1.0        26.0            1.0            0   \n",
       "3       211      1        11.0        21.0            1.0            1   \n",
       "4       214      1         7.0        14.0            1.0            0   \n",
       "\n",
       "   review_length  \n",
       "0          111.0  \n",
       "1            0.0  \n",
       "2            0.0  \n",
       "3           12.0  \n",
       "4            0.0  "
      ],
      "text/html": [
       "<div>\n",
       "<style scoped>\n",
       "    .dataframe tbody tr th:only-of-type {\n",
       "        vertical-align: middle;\n",
       "    }\n",
       "\n",
       "    .dataframe tbody tr th {\n",
       "        vertical-align: top;\n",
       "    }\n",
       "\n",
       "    .dataframe thead th {\n",
       "        text-align: right;\n",
       "    }\n",
       "</style>\n",
       "<table border=\"1\" class=\"dataframe\">\n",
       "  <thead>\n",
       "    <tr style=\"text-align: right;\">\n",
       "      <th></th>\n",
       "      <th>customer_unique_id</th>\n",
       "      <th>Recency</th>\n",
       "      <th>Frequency</th>\n",
       "      <th>Monetary</th>\n",
       "      <th>Frequency_level</th>\n",
       "      <th>F_score</th>\n",
       "      <th>R_quantile</th>\n",
       "      <th>M_quantile</th>\n",
       "      <th>R_score</th>\n",
       "      <th>M_score</th>\n",
       "      <th>RFM_score</th>\n",
       "      <th>churn</th>\n",
       "      <th>delay_days</th>\n",
       "      <th>total_days</th>\n",
       "      <th>approval_days</th>\n",
       "      <th>review_flag</th>\n",
       "      <th>review_length</th>\n",
       "    </tr>\n",
       "  </thead>\n",
       "  <tbody>\n",
       "    <tr>\n",
       "      <th>0</th>\n",
       "      <td>0000366f3b9a7992bf8c76cfdf3221e2</td>\n",
       "      <td>161</td>\n",
       "      <td>1</td>\n",
       "      <td>141.90</td>\n",
       "      <td>low</td>\n",
       "      <td>1</td>\n",
       "      <td>1</td>\n",
       "      <td>3</td>\n",
       "      <td>4</td>\n",
       "      <td>4</td>\n",
       "      <td>414</td>\n",
       "      <td>0</td>\n",
       "      <td>4.0</td>\n",
       "      <td>7.0</td>\n",
       "      <td>1.0</td>\n",
       "      <td>1</td>\n",
       "      <td>111.0</td>\n",
       "    </tr>\n",
       "    <tr>\n",
       "      <th>1</th>\n",
       "      <td>0000b849f77a49e4a4ce2b2a4ca5be3f</td>\n",
       "      <td>164</td>\n",
       "      <td>1</td>\n",
       "      <td>27.19</td>\n",
       "      <td>low</td>\n",
       "      <td>1</td>\n",
       "      <td>1</td>\n",
       "      <td>0</td>\n",
       "      <td>4</td>\n",
       "      <td>1</td>\n",
       "      <td>411</td>\n",
       "      <td>0</td>\n",
       "      <td>4.0</td>\n",
       "      <td>4.0</td>\n",
       "      <td>1.0</td>\n",
       "      <td>0</td>\n",
       "      <td>0.0</td>\n",
       "    </tr>\n",
       "    <tr>\n",
       "      <th>2</th>\n",
       "      <td>0000f46a3911fa3c0805444483337064</td>\n",
       "      <td>586</td>\n",
       "      <td>1</td>\n",
       "      <td>86.22</td>\n",
       "      <td>low</td>\n",
       "      <td>1</td>\n",
       "      <td>4</td>\n",
       "      <td>1</td>\n",
       "      <td>1</td>\n",
       "      <td>2</td>\n",
       "      <td>112</td>\n",
       "      <td>1</td>\n",
       "      <td>1.0</td>\n",
       "      <td>26.0</td>\n",
       "      <td>1.0</td>\n",
       "      <td>0</td>\n",
       "      <td>0.0</td>\n",
       "    </tr>\n",
       "    <tr>\n",
       "      <th>3</th>\n",
       "      <td>0000f6ccb0745a6a4b88665a16c9f078</td>\n",
       "      <td>370</td>\n",
       "      <td>1</td>\n",
       "      <td>43.62</td>\n",
       "      <td>low</td>\n",
       "      <td>1</td>\n",
       "      <td>3</td>\n",
       "      <td>0</td>\n",
       "      <td>2</td>\n",
       "      <td>1</td>\n",
       "      <td>211</td>\n",
       "      <td>1</td>\n",
       "      <td>11.0</td>\n",
       "      <td>21.0</td>\n",
       "      <td>1.0</td>\n",
       "      <td>1</td>\n",
       "      <td>12.0</td>\n",
       "    </tr>\n",
       "    <tr>\n",
       "      <th>4</th>\n",
       "      <td>0004aac84e0df4da2b147fca70cf8255</td>\n",
       "      <td>337</td>\n",
       "      <td>1</td>\n",
       "      <td>196.89</td>\n",
       "      <td>low</td>\n",
       "      <td>1</td>\n",
       "      <td>3</td>\n",
       "      <td>3</td>\n",
       "      <td>2</td>\n",
       "      <td>4</td>\n",
       "      <td>214</td>\n",
       "      <td>1</td>\n",
       "      <td>7.0</td>\n",
       "      <td>14.0</td>\n",
       "      <td>1.0</td>\n",
       "      <td>0</td>\n",
       "      <td>0.0</td>\n",
       "    </tr>\n",
       "  </tbody>\n",
       "</table>\n",
       "</div>"
      ]
     },
     "execution_count": 119,
     "metadata": {},
     "output_type": "execute_result"
    }
   ],
   "execution_count": 119
  },
  {
   "metadata": {
    "ExecuteTime": {
     "end_time": "2025-06-04T03:46:47.860088Z",
     "start_time": "2025-06-04T03:46:47.809225Z"
    }
   },
   "cell_type": "code",
   "source": [
    "# 사용 변수 (RFM + 배송관련 변수)\n",
    "features = ['Frequency', 'Monetary',\n",
    "            'delay_days', 'total_days', 'approval_days','review_flag','review_length']\n",
    "\n",
    "# 타겟 변수\n",
    "target = 'churn'\n",
    "\n",
    "X = model_df[features]\n",
    "y = model_df[target]\n",
    "\n",
    "# 데이터 분할\n",
    "from sklearn.model_selection import train_test_split\n",
    "from sklearn.preprocessing import StandardScaler\n",
    "\n",
    "X_train, X_test, y_train, y_test = train_test_split(X, y, test_size=0.2, random_state=42, stratify=y)\n",
    "print(X_train.shape, y_train.shape)\n",
    "print(X_test.shape, y_test.shape)\n",
    "\n",
    "# 데이터 스케일링\n",
    "# scaler = StandardScaler()\n",
    "# X_train_scaled = scaler.fit_transform(X_train)\n",
    "# X_test_scaled = scaler.transform(X_test)\n",
    "# pd.DataFrame(X_train_scaled, columns=features).head()\n",
    "pd.DataFrame(X_train, columns=features).head()"
   ],
   "id": "3c82225e4bae2cb3",
   "outputs": [
    {
     "name": "stdout",
     "output_type": "stream",
     "text": [
      "(74186, 7) (74186,)\n",
      "(18547, 7) (18547,)\n"
     ]
    },
    {
     "data": {
      "text/plain": [
       "       Frequency  Monetary  delay_days  total_days  approval_days  \\\n",
       "40514          1     92.12        14.0        14.0            1.0   \n",
       "59189          1    296.78        27.0         9.0            1.0   \n",
       "23785          1     90.26        10.0         7.0            1.0   \n",
       "72584          1     77.09        11.0        14.0            1.0   \n",
       "27118          1    135.86        24.0        14.0            1.0   \n",
       "\n",
       "       review_flag  review_length  \n",
       "40514            1           38.0  \n",
       "59189            0            0.0  \n",
       "23785            1          108.0  \n",
       "72584            0            0.0  \n",
       "27118            0            0.0  "
      ],
      "text/html": [
       "<div>\n",
       "<style scoped>\n",
       "    .dataframe tbody tr th:only-of-type {\n",
       "        vertical-align: middle;\n",
       "    }\n",
       "\n",
       "    .dataframe tbody tr th {\n",
       "        vertical-align: top;\n",
       "    }\n",
       "\n",
       "    .dataframe thead th {\n",
       "        text-align: right;\n",
       "    }\n",
       "</style>\n",
       "<table border=\"1\" class=\"dataframe\">\n",
       "  <thead>\n",
       "    <tr style=\"text-align: right;\">\n",
       "      <th></th>\n",
       "      <th>Frequency</th>\n",
       "      <th>Monetary</th>\n",
       "      <th>delay_days</th>\n",
       "      <th>total_days</th>\n",
       "      <th>approval_days</th>\n",
       "      <th>review_flag</th>\n",
       "      <th>review_length</th>\n",
       "    </tr>\n",
       "  </thead>\n",
       "  <tbody>\n",
       "    <tr>\n",
       "      <th>40514</th>\n",
       "      <td>1</td>\n",
       "      <td>92.12</td>\n",
       "      <td>14.0</td>\n",
       "      <td>14.0</td>\n",
       "      <td>1.0</td>\n",
       "      <td>1</td>\n",
       "      <td>38.0</td>\n",
       "    </tr>\n",
       "    <tr>\n",
       "      <th>59189</th>\n",
       "      <td>1</td>\n",
       "      <td>296.78</td>\n",
       "      <td>27.0</td>\n",
       "      <td>9.0</td>\n",
       "      <td>1.0</td>\n",
       "      <td>0</td>\n",
       "      <td>0.0</td>\n",
       "    </tr>\n",
       "    <tr>\n",
       "      <th>23785</th>\n",
       "      <td>1</td>\n",
       "      <td>90.26</td>\n",
       "      <td>10.0</td>\n",
       "      <td>7.0</td>\n",
       "      <td>1.0</td>\n",
       "      <td>1</td>\n",
       "      <td>108.0</td>\n",
       "    </tr>\n",
       "    <tr>\n",
       "      <th>72584</th>\n",
       "      <td>1</td>\n",
       "      <td>77.09</td>\n",
       "      <td>11.0</td>\n",
       "      <td>14.0</td>\n",
       "      <td>1.0</td>\n",
       "      <td>0</td>\n",
       "      <td>0.0</td>\n",
       "    </tr>\n",
       "    <tr>\n",
       "      <th>27118</th>\n",
       "      <td>1</td>\n",
       "      <td>135.86</td>\n",
       "      <td>24.0</td>\n",
       "      <td>14.0</td>\n",
       "      <td>1.0</td>\n",
       "      <td>0</td>\n",
       "      <td>0.0</td>\n",
       "    </tr>\n",
       "  </tbody>\n",
       "</table>\n",
       "</div>"
      ]
     },
     "execution_count": 126,
     "metadata": {},
     "output_type": "execute_result"
    }
   ],
   "execution_count": 126
  },
  {
   "metadata": {},
   "cell_type": "markdown",
   "source": "### 모델 학습 및 예측",
   "id": "e7811bfc9f560d5a"
  },
  {
   "metadata": {
    "ExecuteTime": {
     "end_time": "2025-06-04T03:46:54.023686Z",
     "start_time": "2025-06-04T03:46:49.592056Z"
    }
   },
   "cell_type": "code",
   "source": [
    "from sklearn.model_selection import GridSearchCV\n",
    "from sklearn.linear_model import LogisticRegression\n",
    "\n",
    "param_grid = {\n",
    "    'class_weight':['balanced', None],\n",
    "    'C': [0.01, 0.1, 1, 10],\n",
    "    'solver': ['liblinear'],\n",
    "    'penalty': ['l1', 'l2']\n",
    "}\n",
    "grid = GridSearchCV(LogisticRegression(max_iter=500), param_grid=param_grid, cv=5, scoring='accuracy' )\n",
    "grid.fit(X_train_scaled, y_train)\n",
    "\n",
    "best_model = grid.best_estimator_\n",
    "print('Best params:', grid.best_params_)\n",
    "print('Best accuracy:', grid.best_score_)\n",
    "print('Best model:', grid.best_estimator_)"
   ],
   "id": "2d3951c114e553fd",
   "outputs": [
    {
     "name": "stdout",
     "output_type": "stream",
     "text": [
      "Best params: {'C': 0.01, 'class_weight': None, 'penalty': 'l1', 'solver': 'liblinear'}\n",
      "Best accuracy: 0.6063273363786739\n",
      "Best model: LogisticRegression(C=0.01, max_iter=500, penalty='l1', solver='liblinear')\n"
     ]
    }
   ],
   "execution_count": 127
  },
  {
   "metadata": {
    "ExecuteTime": {
     "end_time": "2025-06-04T03:46:55.014962Z",
     "start_time": "2025-06-04T03:46:54.930289Z"
    }
   },
   "cell_type": "code",
   "source": [
    "# 모델 학습\n",
    "model = LogisticRegression(\n",
    "    max_iter=500,\n",
    "    class_weight='balanced',\n",
    "    C= 10,\n",
    "    penalty='l1',\n",
    "    solver='liblinear'\n",
    ")\n",
    "model.fit(X_train_scaled, y_train)\n",
    "\n",
    "# 모델 예측\n",
    "y_pred = model.predict(X_test_scaled)\n",
    "y_pred_best = best_model.predict(X_test_scaled)"
   ],
   "id": "23429590ab1f6f8b",
   "outputs": [],
   "execution_count": 128
  },
  {
   "metadata": {},
   "cell_type": "markdown",
   "source": "### 모델 평가",
   "id": "7eb2c7db28cba222"
  },
  {
   "metadata": {
    "ExecuteTime": {
     "end_time": "2025-06-04T03:46:57.382335Z",
     "start_time": "2025-06-04T03:46:57.355789Z"
    }
   },
   "cell_type": "code",
   "source": [
    "from sklearn.metrics import accuracy_score, confusion_matrix, classification_report\n",
    "\n",
    "print('Accuracy: ', accuracy_score(y_test, y_pred))\n",
    "print('Confusion Matrix: \\n', confusion_matrix(y_test, y_pred))\n",
    "print('Classification Report: \\n', classification_report(y_test, y_pred))"
   ],
   "id": "58df3deba542bd39",
   "outputs": [
    {
     "name": "stdout",
     "output_type": "stream",
     "text": [
      "Accuracy:  0.517981344691864\n",
      "Confusion Matrix: \n",
      " [[5844 5384]\n",
      " [3556 3763]]\n",
      "Classification Report: \n",
      "               precision    recall  f1-score   support\n",
      "\n",
      "           0       0.62      0.52      0.57     11228\n",
      "           1       0.41      0.51      0.46      7319\n",
      "\n",
      "    accuracy                           0.52     18547\n",
      "   macro avg       0.52      0.52      0.51     18547\n",
      "weighted avg       0.54      0.52      0.52     18547\n",
      "\n"
     ]
    }
   ],
   "execution_count": 129
  },
  {
   "metadata": {
    "ExecuteTime": {
     "end_time": "2025-06-04T03:46:58.154735Z",
     "start_time": "2025-06-04T03:46:58.147429Z"
    }
   },
   "cell_type": "code",
   "source": [
    "# coef_\n",
    "model.coef_.shape # (1, 1, 6)\n",
    "print(model.coef_)"
   ],
   "id": "d4ffb20b557cd352",
   "outputs": [
    {
     "name": "stdout",
     "output_type": "stream",
     "text": [
      "[[-0.08126617 -0.00093016  0.18208097  0.15129716  0.01895848 -0.04878769\n",
      "   0.02356081]]\n"
     ]
    }
   ],
   "execution_count": 130
  },
  {
   "metadata": {
    "ExecuteTime": {
     "end_time": "2025-06-04T03:46:59.227515Z",
     "start_time": "2025-06-04T03:46:59.068170Z"
    }
   },
   "cell_type": "code",
   "source": [
    "# 계수 해석 (feature 영향)\n",
    "importance_df = pd.DataFrame({\n",
    "    'feature': features,\n",
    "    'coefficient': model.coef_[0]\n",
    "}).sort_values(by='coefficient', key=abs, ascending=False)\n",
    "\n",
    "print(importance_df)\n",
    "\n",
    "# 시각화\n",
    "plt.figure(figsize=(8, 5))\n",
    "sns.barplot(data=importance_df, x='coefficient', y='feature', palette='coolwarm')\n",
    "\n",
    "plt.title('계수 해석 (Logistic Regression Coefficients)')\n",
    "plt.axvline(0, color='gray', linestyle='--')\n",
    "plt.tight_layout()\n",
    "plt.show()"
   ],
   "id": "e3c7885a7ca2d862",
   "outputs": [
    {
     "name": "stdout",
     "output_type": "stream",
     "text": [
      "         feature  coefficient\n",
      "2     delay_days     0.182081\n",
      "3     total_days     0.151297\n",
      "0      Frequency    -0.081266\n",
      "5    review_flag    -0.048788\n",
      "6  review_length     0.023561\n",
      "4  approval_days     0.018958\n",
      "1       Monetary    -0.000930\n"
     ]
    },
    {
     "name": "stderr",
     "output_type": "stream",
     "text": [
      "C:\\Users\\playdata\\AppData\\Local\\Temp\\ipykernel_19564\\604632286.py:11: FutureWarning: \n",
      "\n",
      "Passing `palette` without assigning `hue` is deprecated and will be removed in v0.14.0. Assign the `y` variable to `hue` and set `legend=False` for the same effect.\n",
      "\n",
      "  sns.barplot(data=importance_df, x='coefficient', y='feature', palette='coolwarm')\n"
     ]
    },
    {
     "data": {
      "text/plain": [
       "<Figure size 800x500 with 1 Axes>"
      ],
      "image/png": "[encoded data removed]"
     },
     "metadata": {},
     "output_type": "display_data"
    }
   ],
   "execution_count": 131
  },
  {
   "metadata": {
    "ExecuteTime": {
     "end_time": "2025-06-04T04:57:05.917052Z",
     "start_time": "2025-06-04T04:56:55.316431Z"
    }
   },
   "cell_type": "code",
   "source": "!pip install xgboost",
   "id": "2c11c22605e76c1",
   "outputs": [
    {
     "name": "stdout",
     "output_type": "stream",
     "text": [
      "Collecting xgboost\n",
      "  Downloading xgboost-3.0.2-py3-none-win_amd64.whl.metadata (2.1 kB)\n",
      "Requirement already satisfied: numpy in c:\\users\\playdata\\miniconda3\\envs\\ai_basic_env\\lib\\site-packages (from xgboost) (2.2.5)\n",
      "Requirement already satisfied: scipy in c:\\users\\playdata\\miniconda3\\envs\\ai_basic_env\\lib\\site-packages (from xgboost) (1.15.3)\n",
      "Downloading xgboost-3.0.2-py3-none-win_amd64.whl (150.0 MB)\n",
      "   ---------------------------------------- 0.0/150.0 MB ? eta -:--:--\n",
      "   -- ------------------------------------- 8.1/150.0 MB 45.7 MB/s eta 0:00:04\n",
      "   -- ------------------------------------- 10.0/150.0 MB 26.9 MB/s eta 0:00:06\n",
      "   --- ------------------------------------ 12.8/150.0 MB 22.3 MB/s eta 0:00:07\n",
      "   ----- ---------------------------------- 21.5/150.0 MB 26.6 MB/s eta 0:00:05\n",
      "   --------- ------------------------------ 34.3/150.0 MB 33.5 MB/s eta 0:00:04\n",
      "   ------------ --------------------------- 46.9/150.0 MB 38.3 MB/s eta 0:00:03\n",
      "   --------------- ------------------------ 59.8/150.0 MB 41.8 MB/s eta 0:00:03\n",
      "   ------------------- -------------------- 71.8/150.0 MB 44.0 MB/s eta 0:00:02\n",
      "   --------------------- ------------------ 82.3/150.0 MB 44.5 MB/s eta 0:00:02\n",
      "   ------------------------ --------------- 92.8/150.0 MB 45.6 MB/s eta 0:00:02\n",
      "   -------------------------- ------------ 103.3/150.0 MB 46.1 MB/s eta 0:00:02\n",
      "   ----------------------------- --------- 114.8/150.0 MB 46.7 MB/s eta 0:00:01\n",
      "   --------------------------------- ----- 127.1/150.0 MB 47.8 MB/s eta 0:00:01\n",
      "   --------------------------------- ----- 128.2/150.0 MB 46.0 MB/s eta 0:00:01\n",
      "   ---------------------------------- ---- 134.0/150.0 MB 43.6 MB/s eta 0:00:01\n",
      "   ----------------------------------- --- 136.3/150.0 MB 41.5 MB/s eta 0:00:01\n",
      "   ----------------------------------- --- 138.1/150.0 MB 39.7 MB/s eta 0:00:01\n",
      "   ------------------------------------ -- 140.0/150.0 MB 37.9 MB/s eta 0:00:01\n",
      "   ------------------------------------ -- 140.2/150.0 MB 37.3 MB/s eta 0:00:01\n",
      "   ------------------------------------ -- 140.5/150.0 MB 34.5 MB/s eta 0:00:01\n",
      "   ------------------------------------ -- 140.5/150.0 MB 34.5 MB/s eta 0:00:01\n",
      "   ------------------------------------ -- 140.8/150.0 MB 31.9 MB/s eta 0:00:01\n",
      "   ------------------------------------ -- 141.3/150.0 MB 30.4 MB/s eta 0:00:01\n",
      "   ------------------------------------ -- 141.8/150.0 MB 28.9 MB/s eta 0:00:01\n",
      "   ------------------------------------- - 142.6/150.0 MB 27.7 MB/s eta 0:00:01\n",
      "   ------------------------------------- - 145.5/150.0 MB 27.1 MB/s eta 0:00:01\n",
      "   --------------------------------------  149.9/150.0 MB 26.8 MB/s eta 0:00:01\n",
      "   --------------------------------------  149.9/150.0 MB 26.8 MB/s eta 0:00:01\n",
      "   --------------------------------------- 150.0/150.0 MB 25.5 MB/s eta 0:00:00\n",
      "Installing collected packages: xgboost\n",
      "Successfully installed xgboost-3.0.2\n"
     ]
    }
   ],
   "execution_count": 133
  },
  {
   "metadata": {
    "ExecuteTime": {
     "end_time": "2025-06-04T04:57:36.223987Z",
     "start_time": "2025-06-04T04:57:06.999693Z"
    }
   },
   "cell_type": "code",
   "source": [
    "\n",
    "from sklearn.pipeline import Pipeline\n",
    "from sklearn.preprocessing import StandardScaler\n",
    "from xgboost import XGBClassifier\n",
    "from sklearn.model_selection import GridSearchCV\n",
    "\n",
    "# 1. 파이프라인 정의\n",
    "pipeline = Pipeline([\n",
    "    ('scaler', StandardScaler()),\n",
    "    ('xgb', XGBClassifier(random_state=42, use_label_encoder=False, eval_metric='logloss'))\n",
    "])\n",
    "\n",
    "# 2. GridSearchCV 파라미터 정의 (★ xgb__prefix 필수!)\n",
    "param_grid = {\n",
    "    'xgb__n_estimators': [100, 300],\n",
    "    'xgb__max_depth': [3, 5],\n",
    "    'xgb__learning_rate': [0.05, 0.1],\n",
    "    'xgb__subsample': [0.8, 1.0],\n",
    "    'xgb__colsample_bytree': [0.8, 1.0]\n",
    "}\n",
    "\n",
    "# 3. GridSearchCV 적용\n",
    "grid_search = GridSearchCV(\n",
    "    estimator=pipeline,\n",
    "    param_grid=param_grid,\n",
    "    scoring='accuracy',  # 회귀면 'neg_mean_squared_error'\n",
    "    cv=3,\n",
    "    n_jobs=-1,\n",
    "    verbose=1\n",
    ")\n",
    "\n",
    "# 4. 학습\n",
    "grid_search.fit(X_train, y_train)\n",
    "\n",
    "# 5. 결과 확인\n",
    "print(\"Best Params:\", grid_search.best_params_)\n",
    "print(\"Best Score:\", grid_search.best_score_)\n",
    "\n",
    "\n"
   ],
   "id": "3891fe8074dae297",
   "outputs": [
    {
     "name": "stdout",
     "output_type": "stream",
     "text": [
      "Fitting 3 folds for each of 32 candidates, totalling 96 fits\n"
     ]
    },
    {
     "name": "stderr",
     "output_type": "stream",
     "text": [
      "C:\\Users\\playdata\\miniconda3\\envs\\ai_basic_env\\Lib\\site-packages\\xgboost\\training.py:183: UserWarning: [13:57:35] WARNING: C:\\actions-runner\\_work\\xgboost\\xgboost\\src\\learner.cc:738: \n",
      "Parameters: { \"use_label_encoder\" } are not used.\n",
      "\n",
      "  bst.update(dtrain, iteration=i, fobj=obj)\n"
     ]
    },
    {
     "name": "stdout",
     "output_type": "stream",
     "text": [
      "Best Params: {'xgb__colsample_bytree': 1.0, 'xgb__learning_rate': 0.1, 'xgb__max_depth': 5, 'xgb__n_estimators': 300, 'xgb__subsample': 1.0}\n",
      "Best Score: 0.6319251385983841\n"
     ]
    }
   ],
   "execution_count": 134
  },
  {
   "metadata": {
    "ExecuteTime": {
     "end_time": "2025-06-04T04:57:36.329798Z",
     "start_time": "2025-06-04T04:57:36.238457Z"
    }
   },
   "cell_type": "code",
   "source": [
    "from sklearn.metrics import accuracy_score, precision_score, recall_score, f1_score, roc_auc_score, classification_report, confusion_matrix\n",
    "\n",
    "# 예측값\n",
    "y_pred = grid_search.predict(X_test)\n",
    "\n",
    "# 정확도\n",
    "print(\"Accuracy:\", accuracy_score(y_test, y_pred))\n",
    "\n",
    "# 정밀도\n",
    "print(\"Precision:\", precision_score(y_test, y_pred))\n",
    "\n",
    "# 재현율\n",
    "print(\"Recall:\", recall_score(y_test, y_pred))\n",
    "\n",
    "# F1 Score\n",
    "print(\"F1 Score:\", f1_score(y_test, y_pred))\n",
    "\n",
    "# ROC AUC (이진 분류만)\n",
    "y_pred_proba = grid_search.predict_proba(X_test)[:, 1]\n",
    "print(\"ROC AUC:\", roc_auc_score(y_test, y_pred_proba))\n",
    "\n",
    "# 분류 리포트 및 혼동행렬\n",
    "print(\"\\n[Classification Report]\")\n",
    "print(classification_report(y_test, y_pred))\n",
    "\n",
    "print(\"\\n[Confusion Matrix]\")\n",
    "print(confusion_matrix(y_test, y_pred))\n"
   ],
   "id": "624dee039f8dbf56",
   "outputs": [
    {
     "name": "stdout",
     "output_type": "stream",
     "text": [
      "Accuracy: 0.6335256375694183\n",
      "Precision: 0.5679333680374805\n",
      "Recall: 0.2981281595846427\n",
      "F1 Score: 0.39100439028760864\n",
      "ROC AUC: 0.6486753065903547\n",
      "\n",
      "[Classification Report]\n",
      "              precision    recall  f1-score   support\n",
      "\n",
      "           0       0.65      0.85      0.74     11228\n",
      "           1       0.57      0.30      0.39      7319\n",
      "\n",
      "    accuracy                           0.63     18547\n",
      "   macro avg       0.61      0.58      0.56     18547\n",
      "weighted avg       0.62      0.63      0.60     18547\n",
      "\n",
      "\n",
      "[Confusion Matrix]\n",
      "[[9568 1660]\n",
      " [5137 2182]]\n"
     ]
    }
   ],
   "execution_count": 135
  },
  {
   "metadata": {
    "ExecuteTime": {
     "end_time": "2025-06-04T05:06:25.910114Z",
     "start_time": "2025-06-04T05:06:25.764297Z"
    }
   },
   "cell_type": "code",
   "source": [
    "# 3. Feature Importance 추출 및 시각화\n",
    "xgb_model = best_model.named_steps['xgb']\n",
    "importances = xgb_model.get_booster().get_score(importance_type='gain')\n",
    "\n",
    "# f0, f1 등을 실제 변수명으로 매핑\n",
    "feature_names = X_train.columns  # 또는 X_test.columns, 동일한 열이라면\n",
    "importances_named = {\n",
    "    feature_names[int(k[1:])]: v for k, v in importances.items()\n",
    "}\n",
    "\n",
    "importance_df = pd.DataFrame({\n",
    "    'feature': list(importances_named.keys()),\n",
    "    'importance': list(importances_named.values())\n",
    "}).sort_values(by='importance', ascending=False)\n",
    "\n",
    "# 시각화\n",
    "plt.figure(figsize=(10, 6))\n",
    "sns.barplot(x='importance', y='feature', data=importance_df.head(15))\n",
    "plt.title('Top 15 Important Features (Gain)')\n",
    "plt.tight_layout()\n",
    "plt.show()\n"
   ],
   "id": "dd30ac7b096d5f29",
   "outputs": [
    {
     "data": {
      "text/plain": [
       "<Figure size 1000x600 with 1 Axes>"
      ],
      "image/png": "[encoded data removed]"
     },
     "metadata": {},
     "output_type": "display_data"
    }
   ],
   "execution_count": 138
  }
 ],
 "metadata": {
  "kernelspec": {
   "display_name": "Python 3",
   "language": "python",
   "name": "python3"
  },
  "language_info": {
   "codemirror_mode": {
    "name": "ipython",
    "version": 2
   },
   "file_extension": ".py",
   "mimetype": "text/x-python",
   "name": "python",
   "nbconvert_exporter": "python",
   "pygments_lexer": "ipython2",
   "version": "2.7.6"
  }
 },
 "nbformat": 4,
 "nbformat_minor": 5
}
