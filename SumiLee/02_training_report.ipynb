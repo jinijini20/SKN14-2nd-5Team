{
 "cells": [
  {
   "cell_type": "code",
   "id": "initial_id",
   "metadata": {
    "collapsed": true,
    "ExecuteTime": {
     "end_time": "2025-06-04T06:52:08.449580Z",
     "start_time": "2025-06-04T06:52:08.446016Z"
    }
   },
   "source": [
    "import numpy as np\n",
    "import pandas as pd\n",
    "import matplotlib.pyplot as plt\n",
    "import seaborn as sns\n",
    "from sklearn.model_selection import train_test_split"
   ],
   "outputs": [],
   "execution_count": 156
  },
  {
   "metadata": {
    "ExecuteTime": {
     "end_time": "2025-06-04T06:52:08.594860Z",
     "start_time": "2025-06-04T06:52:08.590261Z"
    }
   },
   "cell_type": "code",
   "source": [
    "import matplotlib\n",
    "import matplotlib.font_manager as fm\n",
    "\n",
    "font_path = 'C:\\\\Windows\\\\Fonts\\\\gulim.ttc'\n",
    "font_prop = fm.FontProperties(fname=font_path)\n",
    "font_name = font_prop.get_name() # 폰트명\n",
    "matplotlib.rc('font', family=font_name)"
   ],
   "id": "9dc35d2793f69844",
   "outputs": [],
   "execution_count": 157
  },
  {
   "metadata": {},
   "cell_type": "markdown",
   "source": "# 이탈 기준 설정하기",
   "id": "8550ed2828c86abd"
  },
  {
   "metadata": {},
   "cell_type": "markdown",
   "source": [
    "## RFM\n",
    "R: Recency 최근 주문일\n",
    "F: Frequency 주문수\n",
    "M: Monetary 총 구매 금액"
   ],
   "id": "10284a54069f6165"
  },
  {
   "metadata": {
    "ExecuteTime": {
     "end_time": "2025-06-04T06:52:10.354197Z",
     "start_time": "2025-06-04T06:52:09.161935Z"
    }
   },
   "cell_type": "code",
   "source": "model_df = pd.read_csv('df/model_df.csv')",
   "id": "c6d48deb2b838d62",
   "outputs": [
    {
     "name": "stdout",
     "output_type": "stream",
     "text": [
      "(99441, 5) (99441, 8) (103886, 5)\n"
     ]
    }
   ],
   "execution_count": 158
  },
  {
   "metadata": {
    "ExecuteTime": {
     "end_time": "2025-06-04T06:52:10.375321Z",
     "start_time": "2025-06-04T06:52:10.365633Z"
    }
   },
   "cell_type": "code",
   "source": "model_df.head()",
   "id": "7828c6c75eb04cd9",
   "outputs": [
    {
     "data": {
      "text/plain": [
       "                               order_id                       customer_id  \\\n",
       "0      e481f51cbdc54678b7cc49136f2d6af7  9ef432eb6251297304e76186b10a928d   \n",
       "1      53cdb2fc8bc7dce0b6741e2150273451  b0830fb4747a6c6d20dea0b8c802d7ef   \n",
       "2      47770eb9100c2d0c44946d9cf07ec65d  41ce2a54c0b03bf3443c3d931a367089   \n",
       "3      949d5b44dbf5de918fe9c16f97b45f8a  f88197465ea7920adcdbec7375364d82   \n",
       "4      ad21c59c0840e6cb83a9ceb5573f8159  8ab97904e6daea8866dbdbc4fb7aad2c   \n",
       "...                                 ...                               ...   \n",
       "99436  9c5dedf39a927c1b2549525ed64a053c  39bd1228ee8140590ac3aca26f2dfe00   \n",
       "99437  63943bddc261676b46f01ca7ac2f7bd8  1fca14ff2861355f6e5f14306ff977a7   \n",
       "99438  83c1379a015df1e13d02aae0204711ab  1aa71eb042121263aafbe80c1b562c9c   \n",
       "99439  11c177c8e97725db2631073c19f07b62  b331b74b18dc79bcdf6532d51e1637c1   \n",
       "99440  66dea50a8b16d9b4dee7af250b4be1a5  edb027a75a1449115f6b43211ae02a24   \n",
       "\n",
       "      order_status order_purchase_timestamp    order_approved_at  \\\n",
       "0        delivered      2017-10-02 10:56:33  2017-10-02 11:07:15   \n",
       "1        delivered      2018-07-24 20:41:37  2018-07-26 03:24:27   \n",
       "2        delivered      2018-08-08 08:38:49  2018-08-08 08:55:23   \n",
       "3        delivered      2017-11-18 19:28:06  2017-11-18 19:45:59   \n",
       "4        delivered      2018-02-13 21:18:39  2018-02-13 22:20:29   \n",
       "...            ...                      ...                  ...   \n",
       "99436    delivered      2017-03-09 09:54:05  2017-03-09 09:54:05   \n",
       "99437    delivered      2018-02-06 12:58:58  2018-02-06 13:10:37   \n",
       "99438    delivered      2017-08-27 14:46:43  2017-08-27 15:04:16   \n",
       "99439    delivered      2018-01-08 21:28:27  2018-01-08 21:36:21   \n",
       "99440    delivered      2018-03-08 20:57:30  2018-03-09 11:20:28   \n",
       "\n",
       "      order_delivered_carrier_date order_delivered_customer_date  \\\n",
       "0              2017-10-04 19:55:00           2017-10-10 21:25:13   \n",
       "1              2018-07-26 14:31:00           2018-08-07 15:27:45   \n",
       "2              2018-08-08 13:50:00           2018-08-17 18:06:29   \n",
       "3              2017-11-22 13:39:59           2017-12-02 00:28:42   \n",
       "4              2018-02-14 19:46:34           2018-02-16 18:17:02   \n",
       "...                            ...                           ...   \n",
       "99436          2017-03-10 11:18:03           2017-03-17 15:08:01   \n",
       "99437          2018-02-07 23:22:42           2018-02-28 17:37:56   \n",
       "99438          2017-08-28 20:52:26           2017-09-21 11:24:17   \n",
       "99439          2018-01-12 15:35:03           2018-01-25 23:32:54   \n",
       "99440          2018-03-09 22:11:59           2018-03-16 13:08:30   \n",
       "\n",
       "      order_estimated_delivery_date  \n",
       "0               2017-10-18 00:00:00  \n",
       "1               2018-08-13 00:00:00  \n",
       "2               2018-09-04 00:00:00  \n",
       "3               2017-12-15 00:00:00  \n",
       "4               2018-02-26 00:00:00  \n",
       "...                             ...  \n",
       "99436           2017-03-28 00:00:00  \n",
       "99437           2018-03-02 00:00:00  \n",
       "99438           2017-09-27 00:00:00  \n",
       "99439           2018-02-15 00:00:00  \n",
       "99440           2018-04-03 00:00:00  \n",
       "\n",
       "[99441 rows x 8 columns]"
      ],
      "text/html": [
       "<div>\n",
       "<style scoped>\n",
       "    .dataframe tbody tr th:only-of-type {\n",
       "        vertical-align: middle;\n",
       "    }\n",
       "\n",
       "    .dataframe tbody tr th {\n",
       "        vertical-align: top;\n",
       "    }\n",
       "\n",
       "    .dataframe thead th {\n",
       "        text-align: right;\n",
       "    }\n",
       "</style>\n",
       "<table border=\"1\" class=\"dataframe\">\n",
       "  <thead>\n",
       "    <tr style=\"text-align: right;\">\n",
       "      <th></th>\n",
       "      <th>order_id</th>\n",
       "      <th>customer_id</th>\n",
       "      <th>order_status</th>\n",
       "      <th>order_purchase_timestamp</th>\n",
       "      <th>order_approved_at</th>\n",
       "      <th>order_delivered_carrier_date</th>\n",
       "      <th>order_delivered_customer_date</th>\n",
       "      <th>order_estimated_delivery_date</th>\n",
       "    </tr>\n",
       "  </thead>\n",
       "  <tbody>\n",
       "    <tr>\n",
       "      <th>0</th>\n",
       "      <td>e481f51cbdc54678b7cc49136f2d6af7</td>\n",
       "      <td>9ef432eb6251297304e76186b10a928d</td>\n",
       "      <td>delivered</td>\n",
       "      <td>2017-10-02 10:56:33</td>\n",
       "      <td>2017-10-02 11:07:15</td>\n",
       "      <td>2017-10-04 19:55:00</td>\n",
       "      <td>2017-10-10 21:25:13</td>\n",
       "      <td>2017-10-18 00:00:00</td>\n",
       "    </tr>\n",
       "    <tr>\n",
       "      <th>1</th>\n",
       "      <td>53cdb2fc8bc7dce0b6741e2150273451</td>\n",
       "      <td>b0830fb4747a6c6d20dea0b8c802d7ef</td>\n",
       "      <td>delivered</td>\n",
       "      <td>2018-07-24 20:41:37</td>\n",
       "      <td>2018-07-26 03:24:27</td>\n",
       "      <td>2018-07-26 14:31:00</td>\n",
       "      <td>2018-08-07 15:27:45</td>\n",
       "      <td>2018-08-13 00:00:00</td>\n",
       "    </tr>\n",
       "    <tr>\n",
       "      <th>2</th>\n",
       "      <td>47770eb9100c2d0c44946d9cf07ec65d</td>\n",
       "      <td>41ce2a54c0b03bf3443c3d931a367089</td>\n",
       "      <td>delivered</td>\n",
       "      <td>2018-08-08 08:38:49</td>\n",
       "      <td>2018-08-08 08:55:23</td>\n",
       "      <td>2018-08-08 13:50:00</td>\n",
       "      <td>2018-08-17 18:06:29</td>\n",
       "      <td>2018-09-04 00:00:00</td>\n",
       "    </tr>\n",
       "    <tr>\n",
       "      <th>3</th>\n",
       "      <td>949d5b44dbf5de918fe9c16f97b45f8a</td>\n",
       "      <td>f88197465ea7920adcdbec7375364d82</td>\n",
       "      <td>delivered</td>\n",
       "      <td>2017-11-18 19:28:06</td>\n",
       "      <td>2017-11-18 19:45:59</td>\n",
       "      <td>2017-11-22 13:39:59</td>\n",
       "      <td>2017-12-02 00:28:42</td>\n",
       "      <td>2017-12-15 00:00:00</td>\n",
       "    </tr>\n",
       "    <tr>\n",
       "      <th>4</th>\n",
       "      <td>ad21c59c0840e6cb83a9ceb5573f8159</td>\n",
       "      <td>8ab97904e6daea8866dbdbc4fb7aad2c</td>\n",
       "      <td>delivered</td>\n",
       "      <td>2018-02-13 21:18:39</td>\n",
       "      <td>2018-02-13 22:20:29</td>\n",
       "      <td>2018-02-14 19:46:34</td>\n",
       "      <td>2018-02-16 18:17:02</td>\n",
       "      <td>2018-02-26 00:00:00</td>\n",
       "    </tr>\n",
       "    <tr>\n",
       "      <th>...</th>\n",
       "      <td>...</td>\n",
       "      <td>...</td>\n",
       "      <td>...</td>\n",
       "      <td>...</td>\n",
       "      <td>...</td>\n",
       "      <td>...</td>\n",
       "      <td>...</td>\n",
       "      <td>...</td>\n",
       "    </tr>\n",
       "    <tr>\n",
       "      <th>99436</th>\n",
       "      <td>9c5dedf39a927c1b2549525ed64a053c</td>\n",
       "      <td>39bd1228ee8140590ac3aca26f2dfe00</td>\n",
       "      <td>delivered</td>\n",
       "      <td>2017-03-09 09:54:05</td>\n",
       "      <td>2017-03-09 09:54:05</td>\n",
       "      <td>2017-03-10 11:18:03</td>\n",
       "      <td>2017-03-17 15:08:01</td>\n",
       "      <td>2017-03-28 00:00:00</td>\n",
       "    </tr>\n",
       "    <tr>\n",
       "      <th>99437</th>\n",
       "      <td>63943bddc261676b46f01ca7ac2f7bd8</td>\n",
       "      <td>1fca14ff2861355f6e5f14306ff977a7</td>\n",
       "      <td>delivered</td>\n",
       "      <td>2018-02-06 12:58:58</td>\n",
       "      <td>2018-02-06 13:10:37</td>\n",
       "      <td>2018-02-07 23:22:42</td>\n",
       "      <td>2018-02-28 17:37:56</td>\n",
       "      <td>2018-03-02 00:00:00</td>\n",
       "    </tr>\n",
       "    <tr>\n",
       "      <th>99438</th>\n",
       "      <td>83c1379a015df1e13d02aae0204711ab</td>\n",
       "      <td>1aa71eb042121263aafbe80c1b562c9c</td>\n",
       "      <td>delivered</td>\n",
       "      <td>2017-08-27 14:46:43</td>\n",
       "      <td>2017-08-27 15:04:16</td>\n",
       "      <td>2017-08-28 20:52:26</td>\n",
       "      <td>2017-09-21 11:24:17</td>\n",
       "      <td>2017-09-27 00:00:00</td>\n",
       "    </tr>\n",
       "    <tr>\n",
       "      <th>99439</th>\n",
       "      <td>11c177c8e97725db2631073c19f07b62</td>\n",
       "      <td>b331b74b18dc79bcdf6532d51e1637c1</td>\n",
       "      <td>delivered</td>\n",
       "      <td>2018-01-08 21:28:27</td>\n",
       "      <td>2018-01-08 21:36:21</td>\n",
       "      <td>2018-01-12 15:35:03</td>\n",
       "      <td>2018-01-25 23:32:54</td>\n",
       "      <td>2018-02-15 00:00:00</td>\n",
       "    </tr>\n",
       "    <tr>\n",
       "      <th>99440</th>\n",
       "      <td>66dea50a8b16d9b4dee7af250b4be1a5</td>\n",
       "      <td>edb027a75a1449115f6b43211ae02a24</td>\n",
       "      <td>delivered</td>\n",
       "      <td>2018-03-08 20:57:30</td>\n",
       "      <td>2018-03-09 11:20:28</td>\n",
       "      <td>2018-03-09 22:11:59</td>\n",
       "      <td>2018-03-16 13:08:30</td>\n",
       "      <td>2018-04-03 00:00:00</td>\n",
       "    </tr>\n",
       "  </tbody>\n",
       "</table>\n",
       "<p>99441 rows × 8 columns</p>\n",
       "</div>"
      ]
     },
     "execution_count": 159,
     "metadata": {},
     "output_type": "execute_result"
    }
   ],
   "execution_count": 159
  },
  {
   "metadata": {},
   "cell_type": "markdown",
   "source": "### F_score",
   "id": "25c20252b05443fa"
  },
  {
   "metadata": {},
   "cell_type": "markdown",
   "source": "### R_score, M_score",
   "id": "45cfe155c0e854c4"
  },
  {
   "metadata": {},
   "cell_type": "markdown",
   "source": "## 배송 변수 병합 및 준비 (* 피처 생성)",
   "id": "941b40689a7f4231"
  },
  {
   "metadata": {},
   "cell_type": "markdown",
   "source": "#### 변수 병합",
   "id": "9d7f6892969f1e9"
  },
  {
   "metadata": {
    "ExecuteTime": {
     "end_time": "2025-06-04T06:52:54.617953Z",
     "start_time": "2025-06-04T06:52:54.598362Z"
    }
   },
   "cell_type": "code",
   "source": [
    "# cols_to_drop = ['delay_days', 'total_days', 'approval_days']\n",
    "# rfm_df.drop(columns=cols_to_drop, inplace=True)\n",
    "rfm_df.info()"
   ],
   "id": "d1f718de6ebd8602",
   "outputs": [
    {
     "name": "stdout",
     "output_type": "stream",
     "text": [
      "<class 'pandas.core.frame.DataFrame'>\n",
      "RangeIndex: 91465 entries, 0 to 91464\n",
      "Data columns (total 12 columns):\n",
      " #   Column              Non-Null Count  Dtype   \n",
      "---  ------              --------------  -----   \n",
      " 0   customer_unique_id  91465 non-null  object  \n",
      " 1   Recency             91465 non-null  int64   \n",
      " 2   Frequency           91465 non-null  int64   \n",
      " 3   Monetary            91465 non-null  float64 \n",
      " 4   Frequency_level     91465 non-null  category\n",
      " 5   F_score             91465 non-null  int64   \n",
      " 6   R_quantile          91465 non-null  int64   \n",
      " 7   M_quantile          91465 non-null  int64   \n",
      " 8   R_score             91465 non-null  int64   \n",
      " 9   M_score             91465 non-null  int64   \n",
      " 10  RFM_score           91465 non-null  object  \n",
      " 11  churn               91465 non-null  int64   \n",
      "dtypes: category(1), float64(1), int64(8), object(2)\n",
      "memory usage: 7.8+ MB\n"
     ]
    }
   ],
   "execution_count": 179
  },
  {
   "metadata": {
    "ExecuteTime": {
     "end_time": "2025-06-04T06:52:55.299239Z",
     "start_time": "2025-06-04T06:52:55.221043Z"
    }
   },
   "cell_type": "code",
   "source": "df.info()",
   "id": "279d13b544749268",
   "outputs": [
    {
     "name": "stdout",
     "output_type": "stream",
     "text": [
      "<class 'pandas.core.frame.DataFrame'>\n",
      "RangeIndex: 113193 entries, 0 to 113192\n",
      "Data columns (total 42 columns):\n",
      " #   Column                         Non-Null Count   Dtype          \n",
      "---  ------                         --------------   -----          \n",
      " 0   order_id                       113193 non-null  object         \n",
      " 1   customer_id                    113193 non-null  object         \n",
      " 2   order_status                   113193 non-null  object         \n",
      " 3   order_purchase_timestamp       113193 non-null  datetime64[ns] \n",
      " 4   order_approved_at              113193 non-null  datetime64[ns] \n",
      " 5   order_delivered_carrier_date   113193 non-null  object         \n",
      " 6   order_delivered_customer_date  113193 non-null  datetime64[ns] \n",
      " 7   order_estimated_delivery_date  113193 non-null  datetime64[ns] \n",
      " 8   customer_unique_id             113193 non-null  object         \n",
      " 9   payment_sequential             113193 non-null  float64        \n",
      " 10  payment_type                   113193 non-null  object         \n",
      " 11  payment_installments           113193 non-null  float64        \n",
      " 12  payment_value                  113193 non-null  float64        \n",
      " 13  order_item_id                  113193 non-null  float64        \n",
      " 14  product_id                     113193 non-null  object         \n",
      " 15  seller_id                      113193 non-null  object         \n",
      " 16  shipping_limit_date            113193 non-null  object         \n",
      " 17  price                          113193 non-null  float64        \n",
      " 18  freight_value                  113193 non-null  float64        \n",
      " 19  product_category_name          113193 non-null  object         \n",
      " 20  product_name_lenght            113193 non-null  float64        \n",
      " 21  product_description_lenght     113193 non-null  float64        \n",
      " 22  product_photos_qty             113193 non-null  float64        \n",
      " 23  product_weight_g               113193 non-null  float64        \n",
      " 24  product_length_cm              113193 non-null  float64        \n",
      " 25  product_height_cm              113193 non-null  float64        \n",
      " 26  product_width_cm               113193 non-null  float64        \n",
      " 27  product_category_name_english  113193 non-null  object         \n",
      " 28  review_id                      113193 non-null  object         \n",
      " 29  review_score                   113193 non-null  int64          \n",
      " 30  review_comment_title           113193 non-null  object         \n",
      " 31  review_comment_message         113193 non-null  object         \n",
      " 32  review_creation_date           113193 non-null  datetime64[ns] \n",
      " 33  review_answer_timestamp        113193 non-null  datetime64[ns] \n",
      " 34  review_flag                    113193 non-null  int64          \n",
      " 35  review_length                  113193 non-null  int64          \n",
      " 36  response_time                  113193 non-null  timedelta64[ns]\n",
      " 37  approval_days                  113193 non-null  int64          \n",
      " 38  total_days                     113193 non-null  int64          \n",
      " 39  delay_days                     113193 non-null  int64          \n",
      " 40  category_num                   91465 non-null   float64        \n",
      " 41  order_status_binary            113193 non-null  int64          \n",
      "dtypes: datetime64[ns](6), float64(14), int64(7), object(14), timedelta64[ns](1)\n",
      "memory usage: 36.3+ MB\n"
     ]
    }
   ],
   "execution_count": 180
  },
  {
   "metadata": {
    "ExecuteTime": {
     "end_time": "2025-06-04T06:52:56.409633Z",
     "start_time": "2025-06-04T06:52:56.204682Z"
    }
   },
   "cell_type": "code",
   "source": [
    "# unique_id 에 맞춰 평균으로 처리\n",
    "for_model_df = df.groupby('customer_unique_id').agg({\n",
    "    'delay_days': 'mean',\n",
    "    'total_days': 'mean',\n",
    "    'approval_days': 'mean',\n",
    "    'review_flag': 'sum',\n",
    "    'review_length': 'mean',\n",
    "    'order_status_binary':'sum',\n",
    "    'category_num':'sum'\n",
    "\n",
    "\n",
    "\n",
    "}).reset_index()\n",
    "for_model_df.head()\n",
    "print(f'deliver_df 평균처리 후 개수: {len(for_model_df)}')\n",
    "\n",
    "# rfm 테이블 병합\n",
    "# 배송정보 있는 고객만 체크\n",
    "rfm_df = rfm_df.merge(\n",
    "    for_model_df,\n",
    "    on='customer_unique_id',\n",
    "    how='inner'\n",
    ")\n",
    "rfm_df.head()\n",
    "print(f'model_df 병합 후 개수: {len(rfm_df)}')"
   ],
   "id": "eab7a45307466167",
   "outputs": [
    {
     "name": "stdout",
     "output_type": "stream",
     "text": [
      "deliver_df 평균처리 후 개수: 91465\n",
      "model_df 병합 후 개수: 91465\n"
     ]
    }
   ],
   "execution_count": 181
  },
  {
   "metadata": {
    "ExecuteTime": {
     "end_time": "2025-06-04T06:52:57.175997Z",
     "start_time": "2025-06-04T06:52:57.153155Z"
    }
   },
   "cell_type": "code",
   "source": "rfm_df.info()",
   "id": "6e26527177267140",
   "outputs": [
    {
     "name": "stdout",
     "output_type": "stream",
     "text": [
      "<class 'pandas.core.frame.DataFrame'>\n",
      "RangeIndex: 91465 entries, 0 to 91464\n",
      "Data columns (total 19 columns):\n",
      " #   Column               Non-Null Count  Dtype   \n",
      "---  ------               --------------  -----   \n",
      " 0   customer_unique_id   91465 non-null  object  \n",
      " 1   Recency              91465 non-null  int64   \n",
      " 2   Frequency            91465 non-null  int64   \n",
      " 3   Monetary             91465 non-null  float64 \n",
      " 4   Frequency_level      91465 non-null  category\n",
      " 5   F_score              91465 non-null  int64   \n",
      " 6   R_quantile           91465 non-null  int64   \n",
      " 7   M_quantile           91465 non-null  int64   \n",
      " 8   R_score              91465 non-null  int64   \n",
      " 9   M_score              91465 non-null  int64   \n",
      " 10  RFM_score            91465 non-null  object  \n",
      " 11  churn                91465 non-null  int64   \n",
      " 12  delay_days           91465 non-null  float64 \n",
      " 13  total_days           91465 non-null  float64 \n",
      " 14  approval_days        91465 non-null  float64 \n",
      " 15  review_flag          91465 non-null  int64   \n",
      " 16  review_length        91465 non-null  float64 \n",
      " 17  order_status_binary  91465 non-null  int64   \n",
      " 18  category_num         91465 non-null  float64 \n",
      "dtypes: category(1), float64(6), int64(10), object(2)\n",
      "memory usage: 12.6+ MB\n"
     ]
    }
   ],
   "execution_count": 182
  },
  {
   "metadata": {},
   "cell_type": "markdown",
   "source": "## 모델링",
   "id": "d40df79072732310"
  },
  {
   "metadata": {},
   "cell_type": "markdown",
   "source": "### 데이터 준비",
   "id": "c1df861abb8df1de"
  },
  {
   "metadata": {
    "ExecuteTime": {
     "end_time": "2025-06-04T07:45:36.254170Z",
     "start_time": "2025-06-04T07:45:35.750250Z"
    }
   },
   "cell_type": "code",
   "source": "model_df.to_csv('model_df.csv', index=False)",
   "id": "8fc2cb23099f7d90",
   "outputs": [],
   "execution_count": 214
  },
  {
   "metadata": {
    "ExecuteTime": {
     "end_time": "2025-06-04T07:45:54.963329Z",
     "start_time": "2025-06-04T07:45:51.169172Z"
    }
   },
   "cell_type": "code",
   "source": "df.to_csv('df.csv', index=False)",
   "id": "8d8d4c530bb4f1bd",
   "outputs": [],
   "execution_count": 215
  },
  {
   "metadata": {
    "ExecuteTime": {
     "end_time": "2025-06-04T06:53:28.983544Z",
     "start_time": "2025-06-04T06:53:28.979218Z"
    }
   },
   "cell_type": "code",
   "source": "model_df = rfm_df",
   "id": "5964c45f3ff94ebe",
   "outputs": [],
   "execution_count": 183
  },
  {
   "metadata": {
    "ExecuteTime": {
     "end_time": "2025-06-04T06:53:29.676282Z",
     "start_time": "2025-06-04T06:53:29.658084Z"
    }
   },
   "cell_type": "code",
   "source": [
    "model_df.head()\n",
    "# model_df.describe()"
   ],
   "id": "5e6986c301895892",
   "outputs": [
    {
     "data": {
      "text/plain": [
       "                 customer_unique_id  Recency  Frequency  Monetary  \\\n",
       "0  0000366f3b9a7992bf8c76cfdf3221e2      112          1    141.90   \n",
       "1  0000b849f77a49e4a4ce2b2a4ca5be3f      115          1     27.19   \n",
       "2  0000f46a3911fa3c0805444483337064      537          1     86.22   \n",
       "3  0000f6ccb0745a6a4b88665a16c9f078      321          1     43.62   \n",
       "4  0004aac84e0df4da2b147fca70cf8255      288          1    196.89   \n",
       "\n",
       "  Frequency_level  F_score  R_quantile  M_quantile  R_score  M_score  \\\n",
       "0             low        1           1           3        4        4   \n",
       "1             low        1           1           0        4        1   \n",
       "2             low        1           4           1        1        2   \n",
       "3             low        1           3           0        2        1   \n",
       "4             low        1           3           3        2        4   \n",
       "\n",
       "  RFM_score  churn  delay_days  total_days  approval_days  review_flag  \\\n",
       "0       414      0         4.0         7.0            1.0            1   \n",
       "1       411      0         4.0         4.0            1.0            0   \n",
       "2       112      1         1.0        26.0            1.0            0   \n",
       "3       211      1        11.0        21.0            1.0            1   \n",
       "4       214      1         7.0        14.0            1.0            0   \n",
       "\n",
       "   review_length  order_status_binary  category_num  \n",
       "0          111.0                    0           0.0  \n",
       "1            0.0                    0           0.0  \n",
       "2            0.0                    0           0.0  \n",
       "3           12.0                    0           0.0  \n",
       "4            0.0                    0           0.0  "
      ],
      "text/html": [
       "<div>\n",
       "<style scoped>\n",
       "    .dataframe tbody tr th:only-of-type {\n",
       "        vertical-align: middle;\n",
       "    }\n",
       "\n",
       "    .dataframe tbody tr th {\n",
       "        vertical-align: top;\n",
       "    }\n",
       "\n",
       "    .dataframe thead th {\n",
       "        text-align: right;\n",
       "    }\n",
       "</style>\n",
       "<table border=\"1\" class=\"dataframe\">\n",
       "  <thead>\n",
       "    <tr style=\"text-align: right;\">\n",
       "      <th></th>\n",
       "      <th>customer_unique_id</th>\n",
       "      <th>Recency</th>\n",
       "      <th>Frequency</th>\n",
       "      <th>Monetary</th>\n",
       "      <th>Frequency_level</th>\n",
       "      <th>F_score</th>\n",
       "      <th>R_quantile</th>\n",
       "      <th>M_quantile</th>\n",
       "      <th>R_score</th>\n",
       "      <th>M_score</th>\n",
       "      <th>RFM_score</th>\n",
       "      <th>churn</th>\n",
       "      <th>delay_days</th>\n",
       "      <th>total_days</th>\n",
       "      <th>approval_days</th>\n",
       "      <th>review_flag</th>\n",
       "      <th>review_length</th>\n",
       "      <th>order_status_binary</th>\n",
       "      <th>category_num</th>\n",
       "    </tr>\n",
       "  </thead>\n",
       "  <tbody>\n",
       "    <tr>\n",
       "      <th>0</th>\n",
       "      <td>0000366f3b9a7992bf8c76cfdf3221e2</td>\n",
       "      <td>112</td>\n",
       "      <td>1</td>\n",
       "      <td>141.90</td>\n",
       "      <td>low</td>\n",
       "      <td>1</td>\n",
       "      <td>1</td>\n",
       "      <td>3</td>\n",
       "      <td>4</td>\n",
       "      <td>4</td>\n",
       "      <td>414</td>\n",
       "      <td>0</td>\n",
       "      <td>4.0</td>\n",
       "      <td>7.0</td>\n",
       "      <td>1.0</td>\n",
       "      <td>1</td>\n",
       "      <td>111.0</td>\n",
       "      <td>0</td>\n",
       "      <td>0.0</td>\n",
       "    </tr>\n",
       "    <tr>\n",
       "      <th>1</th>\n",
       "      <td>0000b849f77a49e4a4ce2b2a4ca5be3f</td>\n",
       "      <td>115</td>\n",
       "      <td>1</td>\n",
       "      <td>27.19</td>\n",
       "      <td>low</td>\n",
       "      <td>1</td>\n",
       "      <td>1</td>\n",
       "      <td>0</td>\n",
       "      <td>4</td>\n",
       "      <td>1</td>\n",
       "      <td>411</td>\n",
       "      <td>0</td>\n",
       "      <td>4.0</td>\n",
       "      <td>4.0</td>\n",
       "      <td>1.0</td>\n",
       "      <td>0</td>\n",
       "      <td>0.0</td>\n",
       "      <td>0</td>\n",
       "      <td>0.0</td>\n",
       "    </tr>\n",
       "    <tr>\n",
       "      <th>2</th>\n",
       "      <td>0000f46a3911fa3c0805444483337064</td>\n",
       "      <td>537</td>\n",
       "      <td>1</td>\n",
       "      <td>86.22</td>\n",
       "      <td>low</td>\n",
       "      <td>1</td>\n",
       "      <td>4</td>\n",
       "      <td>1</td>\n",
       "      <td>1</td>\n",
       "      <td>2</td>\n",
       "      <td>112</td>\n",
       "      <td>1</td>\n",
       "      <td>1.0</td>\n",
       "      <td>26.0</td>\n",
       "      <td>1.0</td>\n",
       "      <td>0</td>\n",
       "      <td>0.0</td>\n",
       "      <td>0</td>\n",
       "      <td>0.0</td>\n",
       "    </tr>\n",
       "    <tr>\n",
       "      <th>3</th>\n",
       "      <td>0000f6ccb0745a6a4b88665a16c9f078</td>\n",
       "      <td>321</td>\n",
       "      <td>1</td>\n",
       "      <td>43.62</td>\n",
       "      <td>low</td>\n",
       "      <td>1</td>\n",
       "      <td>3</td>\n",
       "      <td>0</td>\n",
       "      <td>2</td>\n",
       "      <td>1</td>\n",
       "      <td>211</td>\n",
       "      <td>1</td>\n",
       "      <td>11.0</td>\n",
       "      <td>21.0</td>\n",
       "      <td>1.0</td>\n",
       "      <td>1</td>\n",
       "      <td>12.0</td>\n",
       "      <td>0</td>\n",
       "      <td>0.0</td>\n",
       "    </tr>\n",
       "    <tr>\n",
       "      <th>4</th>\n",
       "      <td>0004aac84e0df4da2b147fca70cf8255</td>\n",
       "      <td>288</td>\n",
       "      <td>1</td>\n",
       "      <td>196.89</td>\n",
       "      <td>low</td>\n",
       "      <td>1</td>\n",
       "      <td>3</td>\n",
       "      <td>3</td>\n",
       "      <td>2</td>\n",
       "      <td>4</td>\n",
       "      <td>214</td>\n",
       "      <td>1</td>\n",
       "      <td>7.0</td>\n",
       "      <td>14.0</td>\n",
       "      <td>1.0</td>\n",
       "      <td>0</td>\n",
       "      <td>0.0</td>\n",
       "      <td>0</td>\n",
       "      <td>0.0</td>\n",
       "    </tr>\n",
       "  </tbody>\n",
       "</table>\n",
       "</div>"
      ]
     },
     "execution_count": 184,
     "metadata": {},
     "output_type": "execute_result"
    }
   ],
   "execution_count": 184
  },
  {
   "metadata": {
    "ExecuteTime": {
     "end_time": "2025-06-04T06:54:06.030758Z",
     "start_time": "2025-06-04T06:54:05.951174Z"
    }
   },
   "cell_type": "code",
   "source": [
    "# 사용 변수 (RFM + 배송관련 변수)\n",
    "features = ['Frequency', 'Monetary',\n",
    "            'delay_days', 'total_days', 'approval_days','review_flag','review_length', 'order_status_binary', 'category_num']\n",
    "\n",
    "# 타겟 변수\n",
    "target = 'churn'\n",
    "\n",
    "X = model_df[features]\n",
    "y = model_df[target]\n",
    "\n",
    "# 데이터 분할\n",
    "from sklearn.model_selection import train_test_split\n",
    "from sklearn.preprocessing import StandardScaler\n",
    "\n",
    "X_train, X_test, y_train, y_test = train_test_split(X, y, test_size=0.2, random_state=42, stratify=y)\n",
    "print(X_train.shape, y_train.shape)\n",
    "print(X_test.shape, y_test.shape)\n",
    "\n",
    "# 데이터 스케일링\n",
    "scaler = StandardScaler()\n",
    "X_train_scaled = scaler.fit_transform(X_train)\n",
    "X_test_scaled = scaler.transform(X_test)\n",
    "pd.DataFrame(X_train_scaled, columns=features).head()\n",
    "# pd.DataFrame(X_train, columns=features).head()"
   ],
   "id": "3c82225e4bae2cb3",
   "outputs": [
    {
     "name": "stdout",
     "output_type": "stream",
     "text": [
      "(73172, 9) (73172,)\n",
      "(18293, 9) (18293,)\n"
     ]
    },
    {
     "data": {
      "text/plain": [
       "   Frequency  Monetary  delay_days  total_days  approval_days  review_flag  \\\n",
       "0  -0.162044 -0.081249   -0.388866   -0.535925       1.032488     0.567302   \n",
       "1  -0.162044 -0.036076   -0.488575   -0.747959      -0.368360    -0.666408   \n",
       "2  -0.162044 -0.215422    0.309097   -0.535925      -0.368360    -0.666408   \n",
       "3  -0.162044 -0.062424   -0.588284   -0.005840       1.032488    -0.666408   \n",
       "4  -0.162044 -0.068037   -1.984209    2.114501      -0.368360    -0.666408   \n",
       "\n",
       "   review_length  order_status_binary  category_num  \n",
       "0       1.605398            -0.006986     -0.147572  \n",
       "1      -0.579940            -0.006986     -0.147572  \n",
       "2      -0.579940            -0.006986     -0.147572  \n",
       "3      -0.579940            -0.006986     -0.147572  \n",
       "4      -0.579940            -0.006986     -0.147572  "
      ],
      "text/html": [
       "<div>\n",
       "<style scoped>\n",
       "    .dataframe tbody tr th:only-of-type {\n",
       "        vertical-align: middle;\n",
       "    }\n",
       "\n",
       "    .dataframe tbody tr th {\n",
       "        vertical-align: top;\n",
       "    }\n",
       "\n",
       "    .dataframe thead th {\n",
       "        text-align: right;\n",
       "    }\n",
       "</style>\n",
       "<table border=\"1\" class=\"dataframe\">\n",
       "  <thead>\n",
       "    <tr style=\"text-align: right;\">\n",
       "      <th></th>\n",
       "      <th>Frequency</th>\n",
       "      <th>Monetary</th>\n",
       "      <th>delay_days</th>\n",
       "      <th>total_days</th>\n",
       "      <th>approval_days</th>\n",
       "      <th>review_flag</th>\n",
       "      <th>review_length</th>\n",
       "      <th>order_status_binary</th>\n",
       "      <th>category_num</th>\n",
       "    </tr>\n",
       "  </thead>\n",
       "  <tbody>\n",
       "    <tr>\n",
       "      <th>0</th>\n",
       "      <td>-0.162044</td>\n",
       "      <td>-0.081249</td>\n",
       "      <td>-0.388866</td>\n",
       "      <td>-0.535925</td>\n",
       "      <td>1.032488</td>\n",
       "      <td>0.567302</td>\n",
       "      <td>1.605398</td>\n",
       "      <td>-0.006986</td>\n",
       "      <td>-0.147572</td>\n",
       "    </tr>\n",
       "    <tr>\n",
       "      <th>1</th>\n",
       "      <td>-0.162044</td>\n",
       "      <td>-0.036076</td>\n",
       "      <td>-0.488575</td>\n",
       "      <td>-0.747959</td>\n",
       "      <td>-0.368360</td>\n",
       "      <td>-0.666408</td>\n",
       "      <td>-0.579940</td>\n",
       "      <td>-0.006986</td>\n",
       "      <td>-0.147572</td>\n",
       "    </tr>\n",
       "    <tr>\n",
       "      <th>2</th>\n",
       "      <td>-0.162044</td>\n",
       "      <td>-0.215422</td>\n",
       "      <td>0.309097</td>\n",
       "      <td>-0.535925</td>\n",
       "      <td>-0.368360</td>\n",
       "      <td>-0.666408</td>\n",
       "      <td>-0.579940</td>\n",
       "      <td>-0.006986</td>\n",
       "      <td>-0.147572</td>\n",
       "    </tr>\n",
       "    <tr>\n",
       "      <th>3</th>\n",
       "      <td>-0.162044</td>\n",
       "      <td>-0.062424</td>\n",
       "      <td>-0.588284</td>\n",
       "      <td>-0.005840</td>\n",
       "      <td>1.032488</td>\n",
       "      <td>-0.666408</td>\n",
       "      <td>-0.579940</td>\n",
       "      <td>-0.006986</td>\n",
       "      <td>-0.147572</td>\n",
       "    </tr>\n",
       "    <tr>\n",
       "      <th>4</th>\n",
       "      <td>-0.162044</td>\n",
       "      <td>-0.068037</td>\n",
       "      <td>-1.984209</td>\n",
       "      <td>2.114501</td>\n",
       "      <td>-0.368360</td>\n",
       "      <td>-0.666408</td>\n",
       "      <td>-0.579940</td>\n",
       "      <td>-0.006986</td>\n",
       "      <td>-0.147572</td>\n",
       "    </tr>\n",
       "  </tbody>\n",
       "</table>\n",
       "</div>"
      ]
     },
     "execution_count": 187,
     "metadata": {},
     "output_type": "execute_result"
    }
   ],
   "execution_count": 187
  },
  {
   "metadata": {},
   "cell_type": "markdown",
   "source": "### 모델 학습 및 예측",
   "id": "e7811bfc9f560d5a"
  },
  {
   "metadata": {
    "ExecuteTime": {
     "end_time": "2025-06-04T06:54:14.083480Z",
     "start_time": "2025-06-04T06:54:08.634320Z"
    }
   },
   "cell_type": "code",
   "source": [
    "from sklearn.model_selection import GridSearchCV\n",
    "from sklearn.linear_model import LogisticRegression\n",
    "\n",
    "param_grid = {\n",
    "    'class_weight':['balanced', None],\n",
    "    'C': [0.01, 0.1, 1, 10],\n",
    "    'solver': ['liblinear'],\n",
    "    'penalty': ['l1', 'l2']\n",
    "}\n",
    "grid = GridSearchCV(LogisticRegression(max_iter=500), param_grid=param_grid, cv=5, scoring='accuracy' )\n",
    "grid.fit(X_train_scaled, y_train)\n",
    "\n",
    "best_model = grid.best_estimator_\n",
    "print('Best params:', grid.best_params_)\n",
    "print('Best accuracy:', grid.best_score_)\n",
    "print('Best model:', grid.best_estimator_)"
   ],
   "id": "2d3951c114e553fd",
   "outputs": [
    {
     "name": "stdout",
     "output_type": "stream",
     "text": [
      "Best params: {'C': 0.01, 'class_weight': None, 'penalty': 'l1', 'solver': 'liblinear'}\n",
      "Best accuracy: 0.6036051971953498\n",
      "Best model: LogisticRegression(C=0.01, max_iter=500, penalty='l1', solver='liblinear')\n"
     ]
    }
   ],
   "execution_count": 188
  },
  {
   "metadata": {
    "ExecuteTime": {
     "end_time": "2025-06-04T06:54:14.173462Z",
     "start_time": "2025-06-04T06:54:14.088918Z"
    }
   },
   "cell_type": "code",
   "source": [
    "# 모델 학습\n",
    "model = LogisticRegression(\n",
    "    max_iter=500,\n",
    "    class_weight='balanced',\n",
    "    C= 10,\n",
    "    penalty='l1',\n",
    "    solver='liblinear'\n",
    ")\n",
    "model.fit(X_train_scaled, y_train)\n",
    "\n",
    "# 모델 예측\n",
    "y_pred = model.predict(X_test_scaled)\n",
    "y_pred_best = best_model.predict(X_test_scaled)"
   ],
   "id": "23429590ab1f6f8b",
   "outputs": [],
   "execution_count": 189
  },
  {
   "metadata": {},
   "cell_type": "markdown",
   "source": "### 모델 평가",
   "id": "7eb2c7db28cba222"
  },
  {
   "metadata": {
    "ExecuteTime": {
     "end_time": "2025-06-04T06:54:14.236780Z",
     "start_time": "2025-06-04T06:54:14.220546Z"
    }
   },
   "cell_type": "code",
   "source": [
    "from sklearn.metrics import accuracy_score, confusion_matrix, classification_report\n",
    "\n",
    "print('Accuracy: ', accuracy_score(y_test, y_pred))\n",
    "print('Confusion Matrix: \\n', confusion_matrix(y_test, y_pred))\n",
    "print('Classification Report: \\n', classification_report(y_test, y_pred))"
   ],
   "id": "58df3deba542bd39",
   "outputs": [
    {
     "name": "stdout",
     "output_type": "stream",
     "text": [
      "Accuracy:  0.5241895807139343\n",
      "Confusion Matrix: \n",
      " [[5839 5195]\n",
      " [3509 3750]]\n",
      "Classification Report: \n",
      "               precision    recall  f1-score   support\n",
      "\n",
      "           0       0.62      0.53      0.57     11034\n",
      "           1       0.42      0.52      0.46      7259\n",
      "\n",
      "    accuracy                           0.52     18293\n",
      "   macro avg       0.52      0.52      0.52     18293\n",
      "weighted avg       0.54      0.52      0.53     18293\n",
      "\n"
     ]
    }
   ],
   "execution_count": 190
  },
  {
   "metadata": {
    "ExecuteTime": {
     "end_time": "2025-06-04T06:54:18.071765Z",
     "start_time": "2025-06-04T06:54:18.066166Z"
    }
   },
   "cell_type": "code",
   "source": [
    "# coef_\n",
    "model.coef_.shape # (1, 1, 6)\n",
    "print(model.coef_)"
   ],
   "id": "d4ffb20b557cd352",
   "outputs": [
    {
     "name": "stdout",
     "output_type": "stream",
     "text": [
      "[[-0.08024251  0.00636174  0.16717393  0.14616727  0.01660748 -0.02515919\n",
      "   0.00675321  0.01051885 -0.00851455]]\n"
     ]
    }
   ],
   "execution_count": 191
  },
  {
   "metadata": {
    "ExecuteTime": {
     "end_time": "2025-06-04T06:54:19.060394Z",
     "start_time": "2025-06-04T06:54:18.888070Z"
    }
   },
   "cell_type": "code",
   "source": [
    "# 계수 해석 (feature 영향)\n",
    "importance_df = pd.DataFrame({\n",
    "    'feature': features,\n",
    "    'coefficient': model.coef_[0]\n",
    "}).sort_values(by='coefficient', key=abs, ascending=False)\n",
    "\n",
    "print(importance_df)\n",
    "\n",
    "# 시각화\n",
    "plt.figure(figsize=(8, 5))\n",
    "sns.barplot(data=importance_df, x='coefficient', y='feature', palette='coolwarm')\n",
    "\n",
    "plt.title('계수 해석 (Logistic Regression Coefficients)')\n",
    "plt.axvline(0, color='gray', linestyle='--')\n",
    "plt.tight_layout()\n",
    "plt.show()"
   ],
   "id": "e3c7885a7ca2d862",
   "outputs": [
    {
     "name": "stdout",
     "output_type": "stream",
     "text": [
      "               feature  coefficient\n",
      "2           delay_days     0.167174\n",
      "3           total_days     0.146167\n",
      "0            Frequency    -0.080243\n",
      "5          review_flag    -0.025159\n",
      "4        approval_days     0.016607\n",
      "7  order_status_binary     0.010519\n",
      "8         category_num    -0.008515\n",
      "6        review_length     0.006753\n",
      "1             Monetary     0.006362\n"
     ]
    },
    {
     "name": "stderr",
     "output_type": "stream",
     "text": [
      "C:\\Users\\playdata\\AppData\\Local\\Temp\\ipykernel_9084\\604632286.py:11: FutureWarning: \n",
      "\n",
      "Passing `palette` without assigning `hue` is deprecated and will be removed in v0.14.0. Assign the `y` variable to `hue` and set `legend=False` for the same effect.\n",
      "\n",
      "  sns.barplot(data=importance_df, x='coefficient', y='feature', palette='coolwarm')\n"
     ]
    },
    {
     "data": {
      "text/plain": [
       "<Figure size 800x500 with 1 Axes>"
      ],
      "image/png": "[encoded data removed]"
     },
     "metadata": {},
     "output_type": "display_data"
    }
   ],
   "execution_count": 192
  },
  {
   "metadata": {
    "ExecuteTime": {
     "end_time": "2025-06-04T06:54:24.929849Z",
     "start_time": "2025-06-04T06:54:23.743073Z"
    }
   },
   "cell_type": "code",
   "source": "!pip install xgboost",
   "id": "2c11c22605e76c1",
   "outputs": [
    {
     "name": "stdout",
     "output_type": "stream",
     "text": [
      "Requirement already satisfied: xgboost in c:\\users\\playdata\\miniconda3\\envs\\ai_basic_env\\lib\\site-packages (3.0.2)\n",
      "Requirement already satisfied: numpy in c:\\users\\playdata\\miniconda3\\envs\\ai_basic_env\\lib\\site-packages (from xgboost) (2.2.5)\n",
      "Requirement already satisfied: scipy in c:\\users\\playdata\\miniconda3\\envs\\ai_basic_env\\lib\\site-packages (from xgboost) (1.15.3)\n"
     ]
    }
   ],
   "execution_count": 193
  },
  {
   "metadata": {
    "ExecuteTime": {
     "end_time": "2025-06-04T07:21:50.013852Z",
     "start_time": "2025-06-04T07:21:31.836816Z"
    }
   },
   "cell_type": "code",
   "source": [
    "\n",
    "from sklearn.pipeline import Pipeline\n",
    "from sklearn.preprocessing import StandardScaler\n",
    "from xgboost import XGBClassifier\n",
    "from sklearn.model_selection import GridSearchCV\n",
    "\n",
    "# 1. 파이프라인 정의\n",
    "pipeline = Pipeline([\n",
    "    ('scaler', StandardScaler()),\n",
    "    ('xgb', XGBClassifier(random_state=42, use_label_encoder=False, eval_metric='logloss'))\n",
    "])\n",
    "\n",
    "# 2. GridSearchCV 파라미터 정의 (★ xgb__prefix 필수!)\n",
    "param_grid = {\n",
    "    'xgb__n_estimators': [100, 300],\n",
    "    'xgb__max_depth': [3, 5],\n",
    "    'xgb__learning_rate': [0.05, 0.1],\n",
    "    'xgb__subsample': [0.8, 1.0],\n",
    "    'xgb__colsample_bytree': [0.8, 1.0]\n",
    "}\n",
    "\n",
    "# 3. GridSearchCV 적용\n",
    "grid_search = GridSearchCV(\n",
    "    estimator=pipeline,\n",
    "    param_grid=param_grid,\n",
    "    scoring='accuracy',  # 회귀면 'neg_mean_squared_error'\n",
    "    cv=3,\n",
    "    n_jobs=-1,\n",
    "    verbose=1\n",
    ")\n",
    "\n",
    "# 4. 학습\n",
    "grid_search.fit(X_train, y_train)\n",
    "\n",
    "# 5. 결과 확인\n",
    "print(\"Best Params:\", grid_search.best_params_)\n",
    "print(\"Best Score:\", grid_search.best_score_)\n",
    "\n",
    "\n"
   ],
   "id": "3891fe8074dae297",
   "outputs": [
    {
     "name": "stdout",
     "output_type": "stream",
     "text": [
      "Fitting 3 folds for each of 32 candidates, totalling 96 fits\n"
     ]
    },
    {
     "name": "stderr",
     "output_type": "stream",
     "text": [
      "C:\\Users\\playdata\\miniconda3\\envs\\ai_basic_env\\Lib\\site-packages\\xgboost\\training.py:183: UserWarning: [16:21:49] WARNING: C:\\actions-runner\\_work\\xgboost\\xgboost\\src\\learner.cc:738: \n",
      "Parameters: { \"use_label_encoder\" } are not used.\n",
      "\n",
      "  bst.update(dtrain, iteration=i, fobj=obj)\n"
     ]
    },
    {
     "name": "stdout",
     "output_type": "stream",
     "text": [
      "Best Params: {'xgb__colsample_bytree': 0.8, 'xgb__learning_rate': 0.1, 'xgb__max_depth': 5, 'xgb__n_estimators': 300, 'xgb__subsample': 1.0}\n",
      "Best Score: 0.6266741490888048\n"
     ]
    }
   ],
   "execution_count": 200
  },
  {
   "metadata": {
    "ExecuteTime": {
     "end_time": "2025-06-04T07:25:01.776411Z",
     "start_time": "2025-06-04T07:25:01.685410Z"
    }
   },
   "cell_type": "code",
   "source": [
    "from sklearn.metrics import accuracy_score, precision_score, recall_score, f1_score, roc_auc_score, classification_report, confusion_matrix\n",
    "\n",
    "# 예측값\n",
    "y_pred = grid_search.predict(X_test)\n",
    "\n",
    "# 정확도\n",
    "print(\"Accuracy:\", accuracy_score(y_test, y_pred))\n",
    "\n",
    "# 정밀도\n",
    "print(\"Precision:\", precision_score(y_test, y_pred))\n",
    "\n",
    "# 재현율\n",
    "print(\"Recall:\", recall_score(y_test, y_pred))\n",
    "\n",
    "# F1 Score\n",
    "print(\"F1 Score:\", f1_score(y_test, y_pred))\n",
    "\n",
    "# ROC AUC (이진 분류만)\n",
    "y_pred_proba = grid_search.predict_proba(X_test)[:, 1]\n",
    "print(\"ROC AUC:\", roc_auc_score(y_test, y_pred_proba))\n",
    "\n",
    "# 분류 리포트 및 혼동행렬\n",
    "print(\"\\n[Classification Report]\")\n",
    "print(classification_report(y_test, y_pred))\n",
    "\n",
    "print(\"\\n[Confusion Matrix]\")\n",
    "print(confusion_matrix(y_test, y_pred))\n"
   ],
   "id": "624dee039f8dbf56",
   "outputs": [
    {
     "name": "stdout",
     "output_type": "stream",
     "text": [
      "Accuracy: 0.6260864811676597\n",
      "Precision: 0.5581459894532335\n",
      "Recall: 0.2770354043256647\n",
      "F1 Score: 0.37028171607438776\n",
      "ROC AUC: 0.6522770368276212\n",
      "\n",
      "[Classification Report]\n",
      "              precision    recall  f1-score   support\n",
      "\n",
      "           0       0.64      0.86      0.73     11034\n",
      "           1       0.56      0.28      0.37      7259\n",
      "\n",
      "    accuracy                           0.63     18293\n",
      "   macro avg       0.60      0.57      0.55     18293\n",
      "weighted avg       0.61      0.63      0.59     18293\n",
      "\n",
      "\n",
      "[Confusion Matrix]\n",
      "[[9442 1592]\n",
      " [5248 2011]]\n"
     ]
    }
   ],
   "execution_count": 209
  },
  {
   "metadata": {
    "ExecuteTime": {
     "end_time": "2025-06-04T07:25:08.593400Z",
     "start_time": "2025-06-04T07:25:08.453049Z"
    }
   },
   "cell_type": "code",
   "source": [
    "# 3. Feature Importance 추출 및 시각화\n",
    "# 최적 모델 추출\n",
    "best_model = grid_search.best_estimator_\n",
    "xgb_model = best_model.named_steps['xgb']\n",
    "importances = xgb_model.get_booster().get_score(importance_type='gain')\n",
    "\n",
    "# f0, f1 등을 실제 변수명으로 매핑\n",
    "feature_names = X_train.columns  # 또는 X_test.columns, 동일한 열이라면\n",
    "importances_named = {\n",
    "    feature_names[int(k[1:])]: v for k, v in importances.items()\n",
    "}\n",
    "\n",
    "importance_df = pd.DataFrame({\n",
    "    'feature': list(importances_named.keys()),\n",
    "    'importance': list(importances_named.values())\n",
    "}).sort_values(by='importance', ascending=False)\n",
    "\n",
    "# 시각화\n",
    "plt.figure(figsize=(10, 6))\n",
    "sns.barplot(x='importance', y='feature', data=importance_df.head(15))\n",
    "plt.title('Top 15 Important Features (Gain)')\n",
    "plt.tight_layout()\n",
    "plt.show()\n"
   ],
   "id": "dd30ac7b096d5f29",
   "outputs": [
    {
     "data": {
      "text/plain": [
       "<Figure size 1000x600 with 1 Axes>"
      ],
      "image/png": "[encoded data removed]"
     },
     "metadata": {},
     "output_type": "display_data"
    }
   ],
   "execution_count": 210
  },
  {
   "metadata": {
    "ExecuteTime": {
     "end_time": "2025-06-04T07:25:42.195203Z",
     "start_time": "2025-06-04T07:25:42.172130Z"
    }
   },
   "cell_type": "code",
   "source": [
    "import pickle\n",
    "\n",
    "# 최적 모델 저장\n",
    "with open('best_model.pkl', 'wb') as f:\n",
    "    pickle.dump((xgb_model, X_train.columns.tolist()), f)\n"
   ],
   "id": "63bc0167bd23c2c7",
   "outputs": [],
   "execution_count": 212
  },
  {
   "metadata": {
    "jupyter": {
     "is_executing": true
    },
    "ExecuteTime": {
     "start_time": "2025-06-04T07:49:26.474407Z"
    }
   },
   "cell_type": "code",
   "source": [
    "from sklearn.pipeline import Pipeline\n",
    "from sklearn.preprocessing import StandardScaler\n",
    "from sklearn.model_selection import GridSearchCV\n",
    "from sklearn.linear_model import LogisticRegression\n",
    "from sklearn.ensemble import RandomForestClassifier\n",
    "from xgboost import XGBClassifier\n",
    "from lightgbm import LGBMClassifier\n",
    "import pickle\n",
    "\n",
    "# 모델 및 파라미터 정의 (확장 버전)\n",
    "models_and_params = {\n",
    "    'XGBoost': {\n",
    "        'model': XGBClassifier(random_state=42, use_label_encoder=False, eval_metric='logloss'),\n",
    "        'params': {\n",
    "            'model__n_estimators': [100, 200, 300],\n",
    "            'model__max_depth': [3, 5, 7],\n",
    "            'model__learning_rate': [0.01, 0.05, 0.1],\n",
    "            'model__subsample': [0.6, 0.8, 1.0],\n",
    "            'model__colsample_bytree': [0.6, 0.8, 1.0],\n",
    "            'model__gamma': [0, 1, 5],\n",
    "            'model__reg_alpha': [0, 0.1, 1],\n",
    "            'model__reg_lambda': [1, 5, 10]\n",
    "        }\n",
    "    },\n",
    "    'LightGBM': {\n",
    "        'model': LGBMClassifier(random_state=42),\n",
    "        'params': {\n",
    "            'model__n_estimators': [100, 200, 300],\n",
    "            'model__max_depth': [-1, 5, 10],\n",
    "            'model__learning_rate': [0.01, 0.05, 0.1],\n",
    "            'model__subsample': [0.6, 0.8, 1.0],\n",
    "            'model__colsample_bytree': [0.6, 0.8, 1.0],\n",
    "            'model__num_leaves': [31, 50, 100],\n",
    "            'model__reg_alpha': [0, 0.1, 1],\n",
    "            'model__reg_lambda': [0, 1, 5]\n",
    "        }\n",
    "    },\n",
    "    'RandomForest': {\n",
    "        'model': RandomForestClassifier(random_state=42),\n",
    "        'params': {\n",
    "            'model__n_estimators': [100, 200, 300],\n",
    "            'model__max_depth': [None, 5, 10, 20],\n",
    "            'model__min_samples_split': [2, 5, 10],\n",
    "            'model__min_samples_leaf': [1, 2, 4],\n",
    "            'model__max_features': ['sqrt', 'log2', None],\n",
    "            'model__bootstrap': [True, False]\n",
    "        }\n",
    "    },\n",
    "    'LogisticRegression': {\n",
    "        'model': LogisticRegression(max_iter=1000, random_state=42),\n",
    "        'params': {\n",
    "            'model__C': [0.01, 0.1, 1.0, 10],\n",
    "            'model__penalty': ['l1', 'l2', 'elasticnet'],\n",
    "            'model__solver': ['saga'],\n",
    "            'model__l1_ratio': [None, 0.5, 1.0]  # Only used if penalty='elasticnet'\n",
    "        }\n",
    "    }\n",
    "}\n",
    "\n",
    "# 학습 및 저장\n",
    "for name, config in models_and_params.items():\n",
    "    print(f\"Training {name}...\")\n",
    "\n",
    "    pipeline = Pipeline([\n",
    "        ('scaler', StandardScaler()),\n",
    "        ('model', config['model'])\n",
    "    ])\n",
    "\n",
    "    grid = GridSearchCV(\n",
    "        pipeline,\n",
    "        param_grid=config['params'],\n",
    "        scoring='accuracy',\n",
    "        cv=3,\n",
    "        n_jobs=-1,\n",
    "        verbose=1\n",
    "    )\n",
    "\n",
    "    grid.fit(X_train, y_train)\n",
    "\n",
    "    print(f\"[{name}] Best Params:\", grid.best_params_)\n",
    "    print(f\"[{name}] Best Score: {grid.best_score_:.4f}\")\n",
    "\n",
    "    # 모델 저장\n",
    "    with open(f'{name}_final.pkl', 'wb') as f:\n",
    "        pickle.dump((grid, X_train.columns.tolist()), f)\n"
   ],
   "id": "b0ef51531aa4190a",
   "outputs": [
    {
     "name": "stdout",
     "output_type": "stream",
     "text": [
      "Training XGBoost...\n",
      "Fitting 3 folds for each of 6561 candidates, totalling 19683 fits\n"
     ]
    }
   ],
   "execution_count": null
  },
  {
   "metadata": {},
   "cell_type": "code",
   "outputs": [],
   "execution_count": null,
   "source": "",
   "id": "e4c021c3dbf563c7"
  }
 ],
 "metadata": {
  "kernelspec": {
   "display_name": "Python 3",
   "language": "python",
   "name": "python3"
  },
  "language_info": {
   "codemirror_mode": {
    "name": "ipython",
    "version": 2
   },
   "file_extension": ".py",
   "mimetype": "text/x-python",
   "name": "python",
   "nbconvert_exporter": "python",
   "pygments_lexer": "ipython2",
   "version": "2.7.6"
  }
 },
 "nbformat": 4,
 "nbformat_minor": 5
}
