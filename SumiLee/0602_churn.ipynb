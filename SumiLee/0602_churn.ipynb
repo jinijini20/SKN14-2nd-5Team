{
 "cells": [
  {
   "metadata": {
    "ExecuteTime": {
     "end_time": "2025-06-04T02:10:01.898436Z",
     "start_time": "2025-06-04T02:10:01.889990Z"
    }
   },
   "cell_type": "code",
   "source": [
    "import pandas as pd\n",
    "import numpy as np\n",
    "import matplotlib.pyplot as plt\n",
    "import seaborn as sns"
   ],
   "id": "6ccf8fcc2e4b2dab",
   "outputs": [],
   "execution_count": 1
  },
  {
   "metadata": {
    "collapsed": true,
    "ExecuteTime": {
     "end_time": "2025-06-04T02:10:03.783039Z",
     "start_time": "2025-06-04T02:10:03.775743Z"
    }
   },
   "cell_type": "code",
   "source": [
    "# 한글 폰트 설정\n",
    "plt.rcParams['font.family'] = 'AppleGothic'\n",
    "# 마이너스 기호 깨짐 방지\n",
    "plt.rcParams['axes.unicode_minus'] = False"
   ],
   "id": "initial_id",
   "outputs": [],
   "execution_count": 2
  },
  {
   "metadata": {
    "ExecuteTime": {
     "end_time": "2025-06-04T02:10:04.548677Z",
     "start_time": "2025-06-04T02:10:04.541731Z"
    }
   },
   "cell_type": "code",
   "source": [
    "import os\n",
    "print(os.getcwd())"
   ],
   "id": "92fe6d44a9e0bafe",
   "outputs": [
    {
     "name": "stdout",
     "output_type": "stream",
     "text": [
      "C:\\Workspaces\\SKN14-2nd-5Team\\SumiLee\n"
     ]
    }
   ],
   "execution_count": 3
  },
  {
   "metadata": {
    "ExecuteTime": {
     "end_time": "2025-06-04T02:10:06.663816Z",
     "start_time": "2025-06-04T02:10:05.771417Z"
    }
   },
   "cell_type": "code",
   "source": [
    "customers_df = pd.read_csv('data/olist_customers_dataset.csv')\n",
    "orders_df = pd.read_csv('data/olist_orders_dataset.csv')\n",
    "order_payments_df = pd.read_csv('data/olist_order_payments_dataset.csv')\n",
    "\n",
    "print(customers_df.shape, orders_df.shape, order_payments_df.shape)"
   ],
   "id": "5a29867d0c19c49",
   "outputs": [
    {
     "name": "stdout",
     "output_type": "stream",
     "text": [
      "(99441, 5) (99441, 8) (103886, 5)\n"
     ]
    }
   ],
   "execution_count": 4
  },
  {
   "metadata": {
    "ExecuteTime": {
     "end_time": "2025-06-04T02:10:09.179788Z",
     "start_time": "2025-06-04T02:10:09.155589Z"
    }
   },
   "cell_type": "code",
   "source": "orders_df.head()",
   "id": "c5af9bf33a7cff64",
   "outputs": [
    {
     "data": {
      "text/plain": [
       "                           order_id                       customer_id  \\\n",
       "0  e481f51cbdc54678b7cc49136f2d6af7  9ef432eb6251297304e76186b10a928d   \n",
       "1  53cdb2fc8bc7dce0b6741e2150273451  b0830fb4747a6c6d20dea0b8c802d7ef   \n",
       "2  47770eb9100c2d0c44946d9cf07ec65d  41ce2a54c0b03bf3443c3d931a367089   \n",
       "3  949d5b44dbf5de918fe9c16f97b45f8a  f88197465ea7920adcdbec7375364d82   \n",
       "4  ad21c59c0840e6cb83a9ceb5573f8159  8ab97904e6daea8866dbdbc4fb7aad2c   \n",
       "\n",
       "  order_status order_purchase_timestamp    order_approved_at  \\\n",
       "0    delivered      2017-10-02 10:56:33  2017-10-02 11:07:15   \n",
       "1    delivered      2018-07-24 20:41:37  2018-07-26 03:24:27   \n",
       "2    delivered      2018-08-08 08:38:49  2018-08-08 08:55:23   \n",
       "3    delivered      2017-11-18 19:28:06  2017-11-18 19:45:59   \n",
       "4    delivered      2018-02-13 21:18:39  2018-02-13 22:20:29   \n",
       "\n",
       "  order_delivered_carrier_date order_delivered_customer_date  \\\n",
       "0          2017-10-04 19:55:00           2017-10-10 21:25:13   \n",
       "1          2018-07-26 14:31:00           2018-08-07 15:27:45   \n",
       "2          2018-08-08 13:50:00           2018-08-17 18:06:29   \n",
       "3          2017-11-22 13:39:59           2017-12-02 00:28:42   \n",
       "4          2018-02-14 19:46:34           2018-02-16 18:17:02   \n",
       "\n",
       "  order_estimated_delivery_date  \n",
       "0           2017-10-18 00:00:00  \n",
       "1           2018-08-13 00:00:00  \n",
       "2           2018-09-04 00:00:00  \n",
       "3           2017-12-15 00:00:00  \n",
       "4           2018-02-26 00:00:00  "
      ],
      "text/html": [
       "<div>\n",
       "<style scoped>\n",
       "    .dataframe tbody tr th:only-of-type {\n",
       "        vertical-align: middle;\n",
       "    }\n",
       "\n",
       "    .dataframe tbody tr th {\n",
       "        vertical-align: top;\n",
       "    }\n",
       "\n",
       "    .dataframe thead th {\n",
       "        text-align: right;\n",
       "    }\n",
       "</style>\n",
       "<table border=\"1\" class=\"dataframe\">\n",
       "  <thead>\n",
       "    <tr style=\"text-align: right;\">\n",
       "      <th></th>\n",
       "      <th>order_id</th>\n",
       "      <th>customer_id</th>\n",
       "      <th>order_status</th>\n",
       "      <th>order_purchase_timestamp</th>\n",
       "      <th>order_approved_at</th>\n",
       "      <th>order_delivered_carrier_date</th>\n",
       "      <th>order_delivered_customer_date</th>\n",
       "      <th>order_estimated_delivery_date</th>\n",
       "    </tr>\n",
       "  </thead>\n",
       "  <tbody>\n",
       "    <tr>\n",
       "      <th>0</th>\n",
       "      <td>e481f51cbdc54678b7cc49136f2d6af7</td>\n",
       "      <td>9ef432eb6251297304e76186b10a928d</td>\n",
       "      <td>delivered</td>\n",
       "      <td>2017-10-02 10:56:33</td>\n",
       "      <td>2017-10-02 11:07:15</td>\n",
       "      <td>2017-10-04 19:55:00</td>\n",
       "      <td>2017-10-10 21:25:13</td>\n",
       "      <td>2017-10-18 00:00:00</td>\n",
       "    </tr>\n",
       "    <tr>\n",
       "      <th>1</th>\n",
       "      <td>53cdb2fc8bc7dce0b6741e2150273451</td>\n",
       "      <td>b0830fb4747a6c6d20dea0b8c802d7ef</td>\n",
       "      <td>delivered</td>\n",
       "      <td>2018-07-24 20:41:37</td>\n",
       "      <td>2018-07-26 03:24:27</td>\n",
       "      <td>2018-07-26 14:31:00</td>\n",
       "      <td>2018-08-07 15:27:45</td>\n",
       "      <td>2018-08-13 00:00:00</td>\n",
       "    </tr>\n",
       "    <tr>\n",
       "      <th>2</th>\n",
       "      <td>47770eb9100c2d0c44946d9cf07ec65d</td>\n",
       "      <td>41ce2a54c0b03bf3443c3d931a367089</td>\n",
       "      <td>delivered</td>\n",
       "      <td>2018-08-08 08:38:49</td>\n",
       "      <td>2018-08-08 08:55:23</td>\n",
       "      <td>2018-08-08 13:50:00</td>\n",
       "      <td>2018-08-17 18:06:29</td>\n",
       "      <td>2018-09-04 00:00:00</td>\n",
       "    </tr>\n",
       "    <tr>\n",
       "      <th>3</th>\n",
       "      <td>949d5b44dbf5de918fe9c16f97b45f8a</td>\n",
       "      <td>f88197465ea7920adcdbec7375364d82</td>\n",
       "      <td>delivered</td>\n",
       "      <td>2017-11-18 19:28:06</td>\n",
       "      <td>2017-11-18 19:45:59</td>\n",
       "      <td>2017-11-22 13:39:59</td>\n",
       "      <td>2017-12-02 00:28:42</td>\n",
       "      <td>2017-12-15 00:00:00</td>\n",
       "    </tr>\n",
       "    <tr>\n",
       "      <th>4</th>\n",
       "      <td>ad21c59c0840e6cb83a9ceb5573f8159</td>\n",
       "      <td>8ab97904e6daea8866dbdbc4fb7aad2c</td>\n",
       "      <td>delivered</td>\n",
       "      <td>2018-02-13 21:18:39</td>\n",
       "      <td>2018-02-13 22:20:29</td>\n",
       "      <td>2018-02-14 19:46:34</td>\n",
       "      <td>2018-02-16 18:17:02</td>\n",
       "      <td>2018-02-26 00:00:00</td>\n",
       "    </tr>\n",
       "  </tbody>\n",
       "</table>\n",
       "</div>"
      ]
     },
     "execution_count": 5,
     "metadata": {},
     "output_type": "execute_result"
    }
   ],
   "execution_count": 5
  },
  {
   "metadata": {
    "ExecuteTime": {
     "end_time": "2025-06-04T02:10:53.663551Z",
     "start_time": "2025-06-04T02:10:53.476491Z"
    }
   },
   "cell_type": "code",
   "source": [
    "# customer_unique_id 병합\n",
    "orders_customers_merged = pd.merge(\n",
    "    orders_df,\n",
    "    customers_df[['customer_id', 'customer_unique_id']],\n",
    "    on='customer_id',\n",
    "    how='left'\n",
    ")\n",
    "\n",
    "orders_customers_merged.head()"
   ],
   "id": "ee4baa67da56ebca",
   "outputs": [
    {
     "data": {
      "text/plain": [
       "                           order_id                       customer_id  \\\n",
       "0  e481f51cbdc54678b7cc49136f2d6af7  9ef432eb6251297304e76186b10a928d   \n",
       "1  53cdb2fc8bc7dce0b6741e2150273451  b0830fb4747a6c6d20dea0b8c802d7ef   \n",
       "2  47770eb9100c2d0c44946d9cf07ec65d  41ce2a54c0b03bf3443c3d931a367089   \n",
       "3  949d5b44dbf5de918fe9c16f97b45f8a  f88197465ea7920adcdbec7375364d82   \n",
       "4  ad21c59c0840e6cb83a9ceb5573f8159  8ab97904e6daea8866dbdbc4fb7aad2c   \n",
       "\n",
       "  order_status order_purchase_timestamp    order_approved_at  \\\n",
       "0    delivered      2017-10-02 10:56:33  2017-10-02 11:07:15   \n",
       "1    delivered      2018-07-24 20:41:37  2018-07-26 03:24:27   \n",
       "2    delivered      2018-08-08 08:38:49  2018-08-08 08:55:23   \n",
       "3    delivered      2017-11-18 19:28:06  2017-11-18 19:45:59   \n",
       "4    delivered      2018-02-13 21:18:39  2018-02-13 22:20:29   \n",
       "\n",
       "  order_delivered_carrier_date order_delivered_customer_date  \\\n",
       "0          2017-10-04 19:55:00           2017-10-10 21:25:13   \n",
       "1          2018-07-26 14:31:00           2018-08-07 15:27:45   \n",
       "2          2018-08-08 13:50:00           2018-08-17 18:06:29   \n",
       "3          2017-11-22 13:39:59           2017-12-02 00:28:42   \n",
       "4          2018-02-14 19:46:34           2018-02-16 18:17:02   \n",
       "\n",
       "  order_estimated_delivery_date                customer_unique_id  \n",
       "0           2017-10-18 00:00:00  7c396fd4830fd04220f754e42b4e5bff  \n",
       "1           2018-08-13 00:00:00  af07308b275d755c9edb36a90c618231  \n",
       "2           2018-09-04 00:00:00  3a653a41f6f9fc3d2a113cf8398680e8  \n",
       "3           2017-12-15 00:00:00  7c142cf63193a1473d2e66489a9ae977  \n",
       "4           2018-02-26 00:00:00  72632f0f9dd73dfee390c9b22eb56dd6  "
      ],
      "text/html": [
       "<div>\n",
       "<style scoped>\n",
       "    .dataframe tbody tr th:only-of-type {\n",
       "        vertical-align: middle;\n",
       "    }\n",
       "\n",
       "    .dataframe tbody tr th {\n",
       "        vertical-align: top;\n",
       "    }\n",
       "\n",
       "    .dataframe thead th {\n",
       "        text-align: right;\n",
       "    }\n",
       "</style>\n",
       "<table border=\"1\" class=\"dataframe\">\n",
       "  <thead>\n",
       "    <tr style=\"text-align: right;\">\n",
       "      <th></th>\n",
       "      <th>order_id</th>\n",
       "      <th>customer_id</th>\n",
       "      <th>order_status</th>\n",
       "      <th>order_purchase_timestamp</th>\n",
       "      <th>order_approved_at</th>\n",
       "      <th>order_delivered_carrier_date</th>\n",
       "      <th>order_delivered_customer_date</th>\n",
       "      <th>order_estimated_delivery_date</th>\n",
       "      <th>customer_unique_id</th>\n",
       "    </tr>\n",
       "  </thead>\n",
       "  <tbody>\n",
       "    <tr>\n",
       "      <th>0</th>\n",
       "      <td>e481f51cbdc54678b7cc49136f2d6af7</td>\n",
       "      <td>9ef432eb6251297304e76186b10a928d</td>\n",
       "      <td>delivered</td>\n",
       "      <td>2017-10-02 10:56:33</td>\n",
       "      <td>2017-10-02 11:07:15</td>\n",
       "      <td>2017-10-04 19:55:00</td>\n",
       "      <td>2017-10-10 21:25:13</td>\n",
       "      <td>2017-10-18 00:00:00</td>\n",
       "      <td>7c396fd4830fd04220f754e42b4e5bff</td>\n",
       "    </tr>\n",
       "    <tr>\n",
       "      <th>1</th>\n",
       "      <td>53cdb2fc8bc7dce0b6741e2150273451</td>\n",
       "      <td>b0830fb4747a6c6d20dea0b8c802d7ef</td>\n",
       "      <td>delivered</td>\n",
       "      <td>2018-07-24 20:41:37</td>\n",
       "      <td>2018-07-26 03:24:27</td>\n",
       "      <td>2018-07-26 14:31:00</td>\n",
       "      <td>2018-08-07 15:27:45</td>\n",
       "      <td>2018-08-13 00:00:00</td>\n",
       "      <td>af07308b275d755c9edb36a90c618231</td>\n",
       "    </tr>\n",
       "    <tr>\n",
       "      <th>2</th>\n",
       "      <td>47770eb9100c2d0c44946d9cf07ec65d</td>\n",
       "      <td>41ce2a54c0b03bf3443c3d931a367089</td>\n",
       "      <td>delivered</td>\n",
       "      <td>2018-08-08 08:38:49</td>\n",
       "      <td>2018-08-08 08:55:23</td>\n",
       "      <td>2018-08-08 13:50:00</td>\n",
       "      <td>2018-08-17 18:06:29</td>\n",
       "      <td>2018-09-04 00:00:00</td>\n",
       "      <td>3a653a41f6f9fc3d2a113cf8398680e8</td>\n",
       "    </tr>\n",
       "    <tr>\n",
       "      <th>3</th>\n",
       "      <td>949d5b44dbf5de918fe9c16f97b45f8a</td>\n",
       "      <td>f88197465ea7920adcdbec7375364d82</td>\n",
       "      <td>delivered</td>\n",
       "      <td>2017-11-18 19:28:06</td>\n",
       "      <td>2017-11-18 19:45:59</td>\n",
       "      <td>2017-11-22 13:39:59</td>\n",
       "      <td>2017-12-02 00:28:42</td>\n",
       "      <td>2017-12-15 00:00:00</td>\n",
       "      <td>7c142cf63193a1473d2e66489a9ae977</td>\n",
       "    </tr>\n",
       "    <tr>\n",
       "      <th>4</th>\n",
       "      <td>ad21c59c0840e6cb83a9ceb5573f8159</td>\n",
       "      <td>8ab97904e6daea8866dbdbc4fb7aad2c</td>\n",
       "      <td>delivered</td>\n",
       "      <td>2018-02-13 21:18:39</td>\n",
       "      <td>2018-02-13 22:20:29</td>\n",
       "      <td>2018-02-14 19:46:34</td>\n",
       "      <td>2018-02-16 18:17:02</td>\n",
       "      <td>2018-02-26 00:00:00</td>\n",
       "      <td>72632f0f9dd73dfee390c9b22eb56dd6</td>\n",
       "    </tr>\n",
       "  </tbody>\n",
       "</table>\n",
       "</div>"
      ]
     },
     "execution_count": 6,
     "metadata": {},
     "output_type": "execute_result"
    }
   ],
   "execution_count": 6
  },
  {
   "metadata": {
    "ExecuteTime": {
     "end_time": "2025-06-04T02:10:54.863478Z",
     "start_time": "2025-06-04T02:10:54.845285Z"
    }
   },
   "cell_type": "code",
   "source": "order_payments_df.head()",
   "id": "6b5d5622073844c2",
   "outputs": [
    {
     "data": {
      "text/plain": [
       "                           order_id  payment_sequential payment_type  \\\n",
       "0  b81ef226f3fe1789b1e8b2acac839d17                   1  credit_card   \n",
       "1  a9810da82917af2d9aefd1278f1dcfa0                   1  credit_card   \n",
       "2  25e8ea4e93396b6fa0d3dd708e76c1bd                   1  credit_card   \n",
       "3  ba78997921bbcdc1373bb41e913ab953                   1  credit_card   \n",
       "4  42fdf880ba16b47b59251dd489d4441a                   1  credit_card   \n",
       "\n",
       "   payment_installments  payment_value  \n",
       "0                     8          99.33  \n",
       "1                     1          24.39  \n",
       "2                     1          65.71  \n",
       "3                     8         107.78  \n",
       "4                     2         128.45  "
      ],
      "text/html": [
       "<div>\n",
       "<style scoped>\n",
       "    .dataframe tbody tr th:only-of-type {\n",
       "        vertical-align: middle;\n",
       "    }\n",
       "\n",
       "    .dataframe tbody tr th {\n",
       "        vertical-align: top;\n",
       "    }\n",
       "\n",
       "    .dataframe thead th {\n",
       "        text-align: right;\n",
       "    }\n",
       "</style>\n",
       "<table border=\"1\" class=\"dataframe\">\n",
       "  <thead>\n",
       "    <tr style=\"text-align: right;\">\n",
       "      <th></th>\n",
       "      <th>order_id</th>\n",
       "      <th>payment_sequential</th>\n",
       "      <th>payment_type</th>\n",
       "      <th>payment_installments</th>\n",
       "      <th>payment_value</th>\n",
       "    </tr>\n",
       "  </thead>\n",
       "  <tbody>\n",
       "    <tr>\n",
       "      <th>0</th>\n",
       "      <td>b81ef226f3fe1789b1e8b2acac839d17</td>\n",
       "      <td>1</td>\n",
       "      <td>credit_card</td>\n",
       "      <td>8</td>\n",
       "      <td>99.33</td>\n",
       "    </tr>\n",
       "    <tr>\n",
       "      <th>1</th>\n",
       "      <td>a9810da82917af2d9aefd1278f1dcfa0</td>\n",
       "      <td>1</td>\n",
       "      <td>credit_card</td>\n",
       "      <td>1</td>\n",
       "      <td>24.39</td>\n",
       "    </tr>\n",
       "    <tr>\n",
       "      <th>2</th>\n",
       "      <td>25e8ea4e93396b6fa0d3dd708e76c1bd</td>\n",
       "      <td>1</td>\n",
       "      <td>credit_card</td>\n",
       "      <td>1</td>\n",
       "      <td>65.71</td>\n",
       "    </tr>\n",
       "    <tr>\n",
       "      <th>3</th>\n",
       "      <td>ba78997921bbcdc1373bb41e913ab953</td>\n",
       "      <td>1</td>\n",
       "      <td>credit_card</td>\n",
       "      <td>8</td>\n",
       "      <td>107.78</td>\n",
       "    </tr>\n",
       "    <tr>\n",
       "      <th>4</th>\n",
       "      <td>42fdf880ba16b47b59251dd489d4441a</td>\n",
       "      <td>1</td>\n",
       "      <td>credit_card</td>\n",
       "      <td>2</td>\n",
       "      <td>128.45</td>\n",
       "    </tr>\n",
       "  </tbody>\n",
       "</table>\n",
       "</div>"
      ]
     },
     "execution_count": 7,
     "metadata": {},
     "output_type": "execute_result"
    }
   ],
   "execution_count": 7
  },
  {
   "metadata": {
    "ExecuteTime": {
     "end_time": "2025-06-04T02:11:25.712452Z",
     "start_time": "2025-06-04T02:11:25.473862Z"
    }
   },
   "cell_type": "code",
   "source": [
    "# payment_value 병합\n",
    "payments_orders_customers_merged = pd.merge(\n",
    "    order_payments_df,\n",
    "    orders_customers_merged[['order_id', 'customer_unique_id', 'order_purchase_timestamp']],\n",
    "    on='order_id',\n",
    "    how='left'\n",
    ")\n",
    "\n",
    "payments_orders_customers_merged.info()"
   ],
   "id": "b5b0a45c4ac9c9d2",
   "outputs": [
    {
     "name": "stdout",
     "output_type": "stream",
     "text": [
      "<class 'pandas.core.frame.DataFrame'>\n",
      "RangeIndex: 103886 entries, 0 to 103885\n",
      "Data columns (total 7 columns):\n",
      " #   Column                    Non-Null Count   Dtype  \n",
      "---  ------                    --------------   -----  \n",
      " 0   order_id                  103886 non-null  object \n",
      " 1   payment_sequential        103886 non-null  int64  \n",
      " 2   payment_type              103886 non-null  object \n",
      " 3   payment_installments      103886 non-null  int64  \n",
      " 4   payment_value             103886 non-null  float64\n",
      " 5   customer_unique_id        103886 non-null  object \n",
      " 6   order_purchase_timestamp  103886 non-null  object \n",
      "dtypes: float64(1), int64(2), object(4)\n",
      "memory usage: 5.5+ MB\n"
     ]
    }
   ],
   "execution_count": 8
  },
  {
   "metadata": {
    "ExecuteTime": {
     "end_time": "2025-06-04T02:12:17.303129Z",
     "start_time": "2025-06-04T02:12:00.335430Z"
    }
   },
   "cell_type": "code",
   "source": [
    "rfm_df = payments_orders_customers_merged.groupby('customer_unique_id').agg({\n",
    "    'order_purchase_timestamp': 'max',\n",
    "    'order_id': pd.Series.nunique,\n",
    "    'payment_value': 'sum'\n",
    "})\n",
    "rfm_df = rfm_df.rename(columns={\n",
    "    'order_purchase_timestamp': 'Recency', # 최근 구매 경과일\n",
    "    'order_id': 'Frequency', # 구매 빈도\n",
    "    'payment_value': 'Monetary' # 총 구매금액\n",
    "})\n",
    "\n",
    "rfm_df.info()"
   ],
   "id": "91a4d412c26a049c",
   "outputs": [
    {
     "name": "stdout",
     "output_type": "stream",
     "text": [
      "<class 'pandas.core.frame.DataFrame'>\n",
      "Index: 96095 entries, 0000366f3b9a7992bf8c76cfdf3221e2 to ffffd2657e2aad2907e67c3e9daecbeb\n",
      "Data columns (total 3 columns):\n",
      " #   Column     Non-Null Count  Dtype  \n",
      "---  ------     --------------  -----  \n",
      " 0   Recency    96095 non-null  object \n",
      " 1   Frequency  96095 non-null  int64  \n",
      " 2   Monetary   96095 non-null  float64\n",
      "dtypes: float64(1), int64(1), object(1)\n",
      "memory usage: 2.9+ MB\n"
     ]
    }
   ],
   "execution_count": 9
  },
  {
   "metadata": {
    "ExecuteTime": {
     "end_time": "2025-06-04T02:18:42.410130Z",
     "start_time": "2025-06-04T02:18:42.289224Z"
    }
   },
   "cell_type": "code",
   "source": [
    "# 1. 날짜형으로 변환\n",
    "rfm_df['Recency'] = pd.to_datetime(rfm_df['Recency'])\n",
    "\n",
    "# 2. max_date도 자동으로 datetime으로 저장됨\n",
    "max_date = rfm_df['Recency'].max()\n",
    "\n",
    "# 3. 날짜 차이 계산 (timedelta)\n",
    "rfm_df['Recency'] = max_date - rfm_df['Recency']\n",
    "\n",
    "rfm_df.head()"
   ],
   "id": "68c8e75342a7318a",
   "outputs": [
    {
     "data": {
      "text/plain": [
       "                                           Recency  Frequency  Monetary\n",
       "customer_unique_id                                                     \n",
       "0000366f3b9a7992bf8c76cfdf3221e2 160 days 06:33:51          1    141.90\n",
       "0000b849f77a49e4a4ce2b2a4ca5be3f 163 days 06:18:51          1     27.19\n",
       "0000f46a3911fa3c0805444483337064 585 days 20:25:15          1     86.22\n",
       "0000f6ccb0745a6a4b88665a16c9f078 369 days 21:00:37          1     43.62\n",
       "0004aac84e0df4da2b147fca70cf8255 336 days 21:44:36          1    196.89"
      ],
      "text/html": [
       "<div>\n",
       "<style scoped>\n",
       "    .dataframe tbody tr th:only-of-type {\n",
       "        vertical-align: middle;\n",
       "    }\n",
       "\n",
       "    .dataframe tbody tr th {\n",
       "        vertical-align: top;\n",
       "    }\n",
       "\n",
       "    .dataframe thead th {\n",
       "        text-align: right;\n",
       "    }\n",
       "</style>\n",
       "<table border=\"1\" class=\"dataframe\">\n",
       "  <thead>\n",
       "    <tr style=\"text-align: right;\">\n",
       "      <th></th>\n",
       "      <th>Recency</th>\n",
       "      <th>Frequency</th>\n",
       "      <th>Monetary</th>\n",
       "    </tr>\n",
       "    <tr>\n",
       "      <th>customer_unique_id</th>\n",
       "      <th></th>\n",
       "      <th></th>\n",
       "      <th></th>\n",
       "    </tr>\n",
       "  </thead>\n",
       "  <tbody>\n",
       "    <tr>\n",
       "      <th>0000366f3b9a7992bf8c76cfdf3221e2</th>\n",
       "      <td>160 days 06:33:51</td>\n",
       "      <td>1</td>\n",
       "      <td>141.90</td>\n",
       "    </tr>\n",
       "    <tr>\n",
       "      <th>0000b849f77a49e4a4ce2b2a4ca5be3f</th>\n",
       "      <td>163 days 06:18:51</td>\n",
       "      <td>1</td>\n",
       "      <td>27.19</td>\n",
       "    </tr>\n",
       "    <tr>\n",
       "      <th>0000f46a3911fa3c0805444483337064</th>\n",
       "      <td>585 days 20:25:15</td>\n",
       "      <td>1</td>\n",
       "      <td>86.22</td>\n",
       "    </tr>\n",
       "    <tr>\n",
       "      <th>0000f6ccb0745a6a4b88665a16c9f078</th>\n",
       "      <td>369 days 21:00:37</td>\n",
       "      <td>1</td>\n",
       "      <td>43.62</td>\n",
       "    </tr>\n",
       "    <tr>\n",
       "      <th>0004aac84e0df4da2b147fca70cf8255</th>\n",
       "      <td>336 days 21:44:36</td>\n",
       "      <td>1</td>\n",
       "      <td>196.89</td>\n",
       "    </tr>\n",
       "  </tbody>\n",
       "</table>\n",
       "</div>"
      ]
     },
     "execution_count": 10,
     "metadata": {},
     "output_type": "execute_result"
    }
   ],
   "execution_count": 10
  },
  {
   "metadata": {
    "ExecuteTime": {
     "end_time": "2025-06-04T02:18:46.676496Z",
     "start_time": "2025-06-04T02:18:46.293238Z"
    }
   },
   "cell_type": "code",
   "source": [
    "rfm_df['Recency'] = rfm_df['Recency'].apply(lambda x: x.days + 1)\n",
    "rfm_df.head()"
   ],
   "id": "3b99dd7831de9b6d",
   "outputs": [
    {
     "data": {
      "text/plain": [
       "                                  Recency  Frequency  Monetary\n",
       "customer_unique_id                                            \n",
       "0000366f3b9a7992bf8c76cfdf3221e2      161          1    141.90\n",
       "0000b849f77a49e4a4ce2b2a4ca5be3f      164          1     27.19\n",
       "0000f46a3911fa3c0805444483337064      586          1     86.22\n",
       "0000f6ccb0745a6a4b88665a16c9f078      370          1     43.62\n",
       "0004aac84e0df4da2b147fca70cf8255      337          1    196.89"
      ],
      "text/html": [
       "<div>\n",
       "<style scoped>\n",
       "    .dataframe tbody tr th:only-of-type {\n",
       "        vertical-align: middle;\n",
       "    }\n",
       "\n",
       "    .dataframe tbody tr th {\n",
       "        vertical-align: top;\n",
       "    }\n",
       "\n",
       "    .dataframe thead th {\n",
       "        text-align: right;\n",
       "    }\n",
       "</style>\n",
       "<table border=\"1\" class=\"dataframe\">\n",
       "  <thead>\n",
       "    <tr style=\"text-align: right;\">\n",
       "      <th></th>\n",
       "      <th>Recency</th>\n",
       "      <th>Frequency</th>\n",
       "      <th>Monetary</th>\n",
       "    </tr>\n",
       "    <tr>\n",
       "      <th>customer_unique_id</th>\n",
       "      <th></th>\n",
       "      <th></th>\n",
       "      <th></th>\n",
       "    </tr>\n",
       "  </thead>\n",
       "  <tbody>\n",
       "    <tr>\n",
       "      <th>0000366f3b9a7992bf8c76cfdf3221e2</th>\n",
       "      <td>161</td>\n",
       "      <td>1</td>\n",
       "      <td>141.90</td>\n",
       "    </tr>\n",
       "    <tr>\n",
       "      <th>0000b849f77a49e4a4ce2b2a4ca5be3f</th>\n",
       "      <td>164</td>\n",
       "      <td>1</td>\n",
       "      <td>27.19</td>\n",
       "    </tr>\n",
       "    <tr>\n",
       "      <th>0000f46a3911fa3c0805444483337064</th>\n",
       "      <td>586</td>\n",
       "      <td>1</td>\n",
       "      <td>86.22</td>\n",
       "    </tr>\n",
       "    <tr>\n",
       "      <th>0000f6ccb0745a6a4b88665a16c9f078</th>\n",
       "      <td>370</td>\n",
       "      <td>1</td>\n",
       "      <td>43.62</td>\n",
       "    </tr>\n",
       "    <tr>\n",
       "      <th>0004aac84e0df4da2b147fca70cf8255</th>\n",
       "      <td>337</td>\n",
       "      <td>1</td>\n",
       "      <td>196.89</td>\n",
       "    </tr>\n",
       "  </tbody>\n",
       "</table>\n",
       "</div>"
      ]
     },
     "execution_count": 11,
     "metadata": {},
     "output_type": "execute_result"
    }
   ],
   "execution_count": 11
  },
  {
   "metadata": {
    "ExecuteTime": {
     "end_time": "2025-06-02T15:32:11.465121Z",
     "start_time": "2025-06-02T15:32:11.459198Z"
    }
   },
   "cell_type": "code",
   "source": [
    "# 구간 설정 및 범주 이름 지정\n",
    "bins = [0, 2, 5, float('inf')]  # 0~2: low, 3~5: mid, 6~: high\n",
    "labels = ['low', 'mid', 'high']\n",
    "\n",
    "# 구간화\n",
    "rfm_df['Frequency_level'] = pd.cut(rfm_df['Frequency'], bins=bins, labels=labels)\n",
    "\n",
    "rfm_df.head()"
   ],
   "id": "55e677428f522032",
   "outputs": [
    {
     "data": {
      "text/plain": [
       "                                  Recency  Frequency  Monetary Frequency_level\n",
       "customer_unique_id                                                            \n",
       "0000366f3b9a7992bf8c76cfdf3221e2      161          1    141.90             low\n",
       "0000b849f77a49e4a4ce2b2a4ca5be3f      164          1     27.19             low\n",
       "0000f46a3911fa3c0805444483337064      586          1     86.22             low\n",
       "0000f6ccb0745a6a4b88665a16c9f078      370          1     43.62             low\n",
       "0004aac84e0df4da2b147fca70cf8255      337          1    196.89             low"
      ],
      "text/html": [
       "<div>\n",
       "<style scoped>\n",
       "    .dataframe tbody tr th:only-of-type {\n",
       "        vertical-align: middle;\n",
       "    }\n",
       "\n",
       "    .dataframe tbody tr th {\n",
       "        vertical-align: top;\n",
       "    }\n",
       "\n",
       "    .dataframe thead th {\n",
       "        text-align: right;\n",
       "    }\n",
       "</style>\n",
       "<table border=\"1\" class=\"dataframe\">\n",
       "  <thead>\n",
       "    <tr style=\"text-align: right;\">\n",
       "      <th></th>\n",
       "      <th>Recency</th>\n",
       "      <th>Frequency</th>\n",
       "      <th>Monetary</th>\n",
       "      <th>Frequency_level</th>\n",
       "    </tr>\n",
       "    <tr>\n",
       "      <th>customer_unique_id</th>\n",
       "      <th></th>\n",
       "      <th></th>\n",
       "      <th></th>\n",
       "      <th></th>\n",
       "    </tr>\n",
       "  </thead>\n",
       "  <tbody>\n",
       "    <tr>\n",
       "      <th>0000366f3b9a7992bf8c76cfdf3221e2</th>\n",
       "      <td>161</td>\n",
       "      <td>1</td>\n",
       "      <td>141.90</td>\n",
       "      <td>low</td>\n",
       "    </tr>\n",
       "    <tr>\n",
       "      <th>0000b849f77a49e4a4ce2b2a4ca5be3f</th>\n",
       "      <td>164</td>\n",
       "      <td>1</td>\n",
       "      <td>27.19</td>\n",
       "      <td>low</td>\n",
       "    </tr>\n",
       "    <tr>\n",
       "      <th>0000f46a3911fa3c0805444483337064</th>\n",
       "      <td>586</td>\n",
       "      <td>1</td>\n",
       "      <td>86.22</td>\n",
       "      <td>low</td>\n",
       "    </tr>\n",
       "    <tr>\n",
       "      <th>0000f6ccb0745a6a4b88665a16c9f078</th>\n",
       "      <td>370</td>\n",
       "      <td>1</td>\n",
       "      <td>43.62</td>\n",
       "      <td>low</td>\n",
       "    </tr>\n",
       "    <tr>\n",
       "      <th>0004aac84e0df4da2b147fca70cf8255</th>\n",
       "      <td>337</td>\n",
       "      <td>1</td>\n",
       "      <td>196.89</td>\n",
       "      <td>low</td>\n",
       "    </tr>\n",
       "  </tbody>\n",
       "</table>\n",
       "</div>"
      ]
     },
     "execution_count": 78,
     "metadata": {},
     "output_type": "execute_result"
    }
   ],
   "execution_count": 78
  },
  {
   "metadata": {
    "ExecuteTime": {
     "end_time": "2025-06-02T15:32:11.517102Z",
     "start_time": "2025-06-02T15:32:11.506708Z"
    }
   },
   "cell_type": "code",
   "source": [
    "# 매핑 딕셔너리 정의\n",
    "f_score_map = {\n",
    "    'low': 1,\n",
    "    'mid': 3,\n",
    "    'high': 5\n",
    "}\n",
    "\n",
    "# Categorical 컬럼을 문자열로 변환 후 매핑\n",
    "rfm_df['F_score'] = rfm_df['Frequency_level'].astype(str).map(f_score_map).fillna(2).astype(int)"
   ],
   "id": "cbdf56bdc56b23f3",
   "outputs": [],
   "execution_count": 79
  },
  {
   "metadata": {
    "ExecuteTime": {
     "end_time": "2025-06-02T15:32:11.600952Z",
     "start_time": "2025-06-02T15:32:11.540725Z"
    }
   },
   "cell_type": "code",
   "source": [
    "# 분위수 구간 계산 (NaN 발생 대비 + 분위수 구간 부족 대비)\n",
    "for col in ['Recency', 'Monetary']:\n",
    "    try:\n",
    "        rfm_df[col[0] + '_quantile'] = pd.qcut(\n",
    "            rfm_df[col],\n",
    "            5,\n",
    "            labels=False,\n",
    "            duplicates='drop'\n",
    "        )\n",
    "    except ValueError:\n",
    "        # 전부 동일하거나 분위수 계산 불가한 경우 → 값 전체를 중간값으로 처리\n",
    "        rfm_df[col[0] + '_quantile'] = 2\n",
    "\n",
    "# NaN이 생긴 경우 기본값 2로 대체\n",
    "rfm_df[['R_quantile', 'M_quantile']] = rfm_df[['R_quantile', 'M_quantile']].fillna(2)\n",
    "\n",
    "# RFM 점수 계산\n",
    "rfm_df['R_score'] = (5 - rfm_df['R_quantile']).astype(int)  # Recency는 낮을수록 높게\n",
    "rfm_df['M_score'] = (1 + rfm_df['M_quantile']).astype(int)\n",
    "\n",
    "# 최종 RFM Score 조합\n",
    "rfm_df['RFM_score'] = (\n",
    "    rfm_df['R_score'].astype(str) +\n",
    "    rfm_df['F_score'].astype(str) +\n",
    "    rfm_df['M_score'].astype(str)\n",
    ")\n",
    "\n",
    "# 결과 출력\n",
    "print(rfm_df[['Recency', 'Frequency', 'Monetary', 'R_score', 'F_score', 'M_score', 'RFM_score']])"
   ],
   "id": "1aa35af19c6f356b",
   "outputs": [
    {
     "name": "stdout",
     "output_type": "stream",
     "text": [
      "                                  Recency  Frequency  Monetary  R_score  \\\n",
      "customer_unique_id                                                        \n",
      "0000366f3b9a7992bf8c76cfdf3221e2      161          1    141.90        4   \n",
      "0000b849f77a49e4a4ce2b2a4ca5be3f      164          1     27.19        4   \n",
      "0000f46a3911fa3c0805444483337064      586          1     86.22        1   \n",
      "0000f6ccb0745a6a4b88665a16c9f078      370          1     43.62        2   \n",
      "0004aac84e0df4da2b147fca70cf8255      337          1    196.89        2   \n",
      "...                                   ...        ...       ...      ...   \n",
      "fffcf5a5ff07b0908bd4e2dbc735a684      496          1   2067.42        1   \n",
      "fffea47cd6d3cc0a88bd621562a9d061      311          1     84.58        3   \n",
      "ffff371b4d645b6ecea244b27531430a      618          1    112.46        1   \n",
      "ffff5962728ec6157033ef9805bacc48      169          1    133.69        4   \n",
      "ffffd2657e2aad2907e67c3e9daecbeb      533          1     71.56        1   \n",
      "\n",
      "                                  F_score  M_score RFM_score  \n",
      "customer_unique_id                                            \n",
      "0000366f3b9a7992bf8c76cfdf3221e2        1        4       414  \n",
      "0000b849f77a49e4a4ce2b2a4ca5be3f        1        1       411  \n",
      "0000f46a3911fa3c0805444483337064        1        2       112  \n",
      "0000f6ccb0745a6a4b88665a16c9f078        1        1       211  \n",
      "0004aac84e0df4da2b147fca70cf8255        1        4       214  \n",
      "...                                   ...      ...       ...  \n",
      "fffcf5a5ff07b0908bd4e2dbc735a684        1        5       115  \n",
      "fffea47cd6d3cc0a88bd621562a9d061        1        2       312  \n",
      "ffff371b4d645b6ecea244b27531430a        1        3       113  \n",
      "ffff5962728ec6157033ef9805bacc48        1        4       414  \n",
      "ffffd2657e2aad2907e67c3e9daecbeb        1        2       112  \n",
      "\n",
      "[96095 rows x 7 columns]\n"
     ]
    }
   ],
   "execution_count": 80
  },
  {
   "metadata": {
    "ExecuteTime": {
     "end_time": "2025-06-02T15:32:11.616261Z",
     "start_time": "2025-06-02T15:32:11.612107Z"
    }
   },
   "cell_type": "code",
   "source": [
    "print(rfm_df['R_score'].value_counts(), '\\n')\n",
    "print(rfm_df['F_score'].value_counts(), '\\n')\n",
    "print(rfm_df['M_score'].value_counts(), '\\n')"
   ],
   "id": "7b4b3f505e0a49c3",
   "outputs": [
    {
     "name": "stdout",
     "output_type": "stream",
     "text": [
      "R_score\n",
      "5    19324\n",
      "2    19300\n",
      "4    19299\n",
      "1    19129\n",
      "3    19043\n",
      "Name: count, dtype: int64 \n",
      "\n",
      "F_score\n",
      "1    95843\n",
      "3      241\n",
      "5       11\n",
      "Name: count, dtype: int64 \n",
      "\n",
      "M_score\n",
      "3    19222\n",
      "1    19221\n",
      "2    19219\n",
      "5    19219\n",
      "4    19214\n",
      "Name: count, dtype: int64 \n",
      "\n"
     ]
    }
   ],
   "execution_count": 81
  },
  {
   "metadata": {
    "ExecuteTime": {
     "end_time": "2025-06-02T15:32:12.020691Z",
     "start_time": "2025-06-02T15:32:11.629214Z"
    }
   },
   "cell_type": "code",
   "source": [
    "def classify_churn(row):\n",
    "    if row['R_score'] <= 2 and row['F_score'] <= 2:\n",
    "        return 1\n",
    "    else:\n",
    "        return 0\n",
    "\n",
    "# 이탈 여부 태깅\n",
    "rfm_df['churn'] = rfm_df.apply(classify_churn, axis=1)"
   ],
   "id": "6c760cdc83b0d1e9",
   "outputs": [],
   "execution_count": 82
  },
  {
   "metadata": {
    "ExecuteTime": {
     "end_time": "2025-06-02T15:32:12.061727Z",
     "start_time": "2025-06-02T15:32:12.044312Z"
    }
   },
   "cell_type": "code",
   "source": [
    "rfm_df = rfm_df.reset_index()\n",
    "rfm_df.head()"
   ],
   "id": "94cc740505990af9",
   "outputs": [
    {
     "data": {
      "text/plain": [
       "                 customer_unique_id  Recency  Frequency  Monetary  \\\n",
       "0  0000366f3b9a7992bf8c76cfdf3221e2      161          1    141.90   \n",
       "1  0000b849f77a49e4a4ce2b2a4ca5be3f      164          1     27.19   \n",
       "2  0000f46a3911fa3c0805444483337064      586          1     86.22   \n",
       "3  0000f6ccb0745a6a4b88665a16c9f078      370          1     43.62   \n",
       "4  0004aac84e0df4da2b147fca70cf8255      337          1    196.89   \n",
       "\n",
       "  Frequency_level  F_score  R_quantile  M_quantile  R_score  M_score  \\\n",
       "0             low        1           1           3        4        4   \n",
       "1             low        1           1           0        4        1   \n",
       "2             low        1           4           1        1        2   \n",
       "3             low        1           3           0        2        1   \n",
       "4             low        1           3           3        2        4   \n",
       "\n",
       "  RFM_score  churn  \n",
       "0       414      0  \n",
       "1       411      0  \n",
       "2       112      1  \n",
       "3       211      1  \n",
       "4       214      1  "
      ],
      "text/html": [
       "<div>\n",
       "<style scoped>\n",
       "    .dataframe tbody tr th:only-of-type {\n",
       "        vertical-align: middle;\n",
       "    }\n",
       "\n",
       "    .dataframe tbody tr th {\n",
       "        vertical-align: top;\n",
       "    }\n",
       "\n",
       "    .dataframe thead th {\n",
       "        text-align: right;\n",
       "    }\n",
       "</style>\n",
       "<table border=\"1\" class=\"dataframe\">\n",
       "  <thead>\n",
       "    <tr style=\"text-align: right;\">\n",
       "      <th></th>\n",
       "      <th>customer_unique_id</th>\n",
       "      <th>Recency</th>\n",
       "      <th>Frequency</th>\n",
       "      <th>Monetary</th>\n",
       "      <th>Frequency_level</th>\n",
       "      <th>F_score</th>\n",
       "      <th>R_quantile</th>\n",
       "      <th>M_quantile</th>\n",
       "      <th>R_score</th>\n",
       "      <th>M_score</th>\n",
       "      <th>RFM_score</th>\n",
       "      <th>churn</th>\n",
       "    </tr>\n",
       "  </thead>\n",
       "  <tbody>\n",
       "    <tr>\n",
       "      <th>0</th>\n",
       "      <td>0000366f3b9a7992bf8c76cfdf3221e2</td>\n",
       "      <td>161</td>\n",
       "      <td>1</td>\n",
       "      <td>141.90</td>\n",
       "      <td>low</td>\n",
       "      <td>1</td>\n",
       "      <td>1</td>\n",
       "      <td>3</td>\n",
       "      <td>4</td>\n",
       "      <td>4</td>\n",
       "      <td>414</td>\n",
       "      <td>0</td>\n",
       "    </tr>\n",
       "    <tr>\n",
       "      <th>1</th>\n",
       "      <td>0000b849f77a49e4a4ce2b2a4ca5be3f</td>\n",
       "      <td>164</td>\n",
       "      <td>1</td>\n",
       "      <td>27.19</td>\n",
       "      <td>low</td>\n",
       "      <td>1</td>\n",
       "      <td>1</td>\n",
       "      <td>0</td>\n",
       "      <td>4</td>\n",
       "      <td>1</td>\n",
       "      <td>411</td>\n",
       "      <td>0</td>\n",
       "    </tr>\n",
       "    <tr>\n",
       "      <th>2</th>\n",
       "      <td>0000f46a3911fa3c0805444483337064</td>\n",
       "      <td>586</td>\n",
       "      <td>1</td>\n",
       "      <td>86.22</td>\n",
       "      <td>low</td>\n",
       "      <td>1</td>\n",
       "      <td>4</td>\n",
       "      <td>1</td>\n",
       "      <td>1</td>\n",
       "      <td>2</td>\n",
       "      <td>112</td>\n",
       "      <td>1</td>\n",
       "    </tr>\n",
       "    <tr>\n",
       "      <th>3</th>\n",
       "      <td>0000f6ccb0745a6a4b88665a16c9f078</td>\n",
       "      <td>370</td>\n",
       "      <td>1</td>\n",
       "      <td>43.62</td>\n",
       "      <td>low</td>\n",
       "      <td>1</td>\n",
       "      <td>3</td>\n",
       "      <td>0</td>\n",
       "      <td>2</td>\n",
       "      <td>1</td>\n",
       "      <td>211</td>\n",
       "      <td>1</td>\n",
       "    </tr>\n",
       "    <tr>\n",
       "      <th>4</th>\n",
       "      <td>0004aac84e0df4da2b147fca70cf8255</td>\n",
       "      <td>337</td>\n",
       "      <td>1</td>\n",
       "      <td>196.89</td>\n",
       "      <td>low</td>\n",
       "      <td>1</td>\n",
       "      <td>3</td>\n",
       "      <td>3</td>\n",
       "      <td>2</td>\n",
       "      <td>4</td>\n",
       "      <td>214</td>\n",
       "      <td>1</td>\n",
       "    </tr>\n",
       "  </tbody>\n",
       "</table>\n",
       "</div>"
      ]
     },
     "execution_count": 83,
     "metadata": {},
     "output_type": "execute_result"
    }
   ],
   "execution_count": 83
  },
  {
   "metadata": {
    "ExecuteTime": {
     "end_time": "2025-06-02T15:32:12.202819Z",
     "start_time": "2025-06-02T15:32:12.097776Z"
    }
   },
   "cell_type": "code",
   "source": [
    "churn_counts = rfm_df['churn'].value_counts().sort_index()\n",
    "total = churn_counts.sum()\n",
    "\n",
    "plt.figure(figsize=(6,4))\n",
    "ax = sns.barplot(x=churn_counts.index, y=churn_counts.values, color='skyblue')\n",
    "\n",
    "plt.xticks([0,1], ['Active (0)', 'Churned (1)'])\n",
    "plt.xlabel('Churn')\n",
    "plt.ylabel('Number of Customers')\n",
    "plt.title('Distribution of Churn Status')\n",
    "\n",
    "# 막대 위에 비율 표시\n",
    "for i, count in enumerate(churn_counts.values):\n",
    "    percentage = count / total * 100\n",
    "    ax.text(i, count + total*0.01, f'{percentage:.1f}%', ha='center')\n",
    "\n",
    "plt.show()"
   ],
   "id": "7edcbabef4f96101",
   "outputs": [
    {
     "data": {
      "text/plain": [
       "<Figure size 600x400 with 1 Axes>"
      ],
      "image/png": "[encoded data removed]"
     },
     "metadata": {},
     "output_type": "display_data"
    }
   ],
   "execution_count": 84
  }
 ],
 "metadata": {
  "kernelspec": {
   "display_name": "Python 3",
   "language": "python",
   "name": "python3"
  },
  "language_info": {
   "codemirror_mode": {
    "name": "ipython",
    "version": 2
   },
   "file_extension": ".py",
   "mimetype": "text/x-python",
   "name": "python",
   "nbconvert_exporter": "python",
   "pygments_lexer": "ipython2",
   "version": "2.7.6"
  }
 },
 "nbformat": 4,
 "nbformat_minor": 5
}
