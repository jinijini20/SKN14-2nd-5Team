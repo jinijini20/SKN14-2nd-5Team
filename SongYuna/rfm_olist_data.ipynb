{
 "cells": [
  {
   "cell_type": "code",
   "id": "initial_id",
   "metadata": {
    "collapsed": true,
    "ExecuteTime": {
     "end_time": "2025-06-04T02:01:12.633726Z",
     "start_time": "2025-06-04T02:01:12.629483Z"
    }
   },
   "source": [
    "import numpy as np\n",
    "import pandas as pd\n",
    "import matplotlib.pyplot as plt\n",
    "import seaborn as sns\n",
    "from sklearn.model_selection import train_test_split"
   ],
   "outputs": [],
   "execution_count": 72
  },
  {
   "metadata": {
    "ExecuteTime": {
     "end_time": "2025-06-04T02:01:12.694869Z",
     "start_time": "2025-06-04T02:01:12.689995Z"
    }
   },
   "cell_type": "code",
   "source": [
    "import matplotlib\n",
    "import matplotlib.font_manager as fm\n",
    "\n",
    "font_path = 'C:\\\\Windows\\\\Fonts\\\\gulim.ttc'\n",
    "font_prop = fm.FontProperties(fname=font_path)\n",
    "font_name = font_prop.get_name() # 폰트명\n",
    "matplotlib.rc('font', family=font_name)"
   ],
   "id": "9dc35d2793f69844",
   "outputs": [],
   "execution_count": 73
  },
  {
   "metadata": {},
   "cell_type": "markdown",
   "source": "# 이탈 기준 설정하기",
   "id": "8550ed2828c86abd"
  },
  {
   "metadata": {},
   "cell_type": "markdown",
   "source": [
    "## RFM\n",
    "R: Recency 최근 주문일\n",
    "F: Frequency 주문수\n",
    "M: Monetary 총 구매 금액"
   ],
   "id": "10284a54069f6165"
  },
  {
   "metadata": {
    "ExecuteTime": {
     "end_time": "2025-06-04T02:01:13.350922Z",
     "start_time": "2025-06-04T02:01:12.714711Z"
    }
   },
   "cell_type": "code",
   "source": [
    "customers_df = pd.read_csv('data/olist_customers_dataset.csv')\n",
    "orders_df = pd.read_csv('data/olist_orders_dataset.csv')\n",
    "order_payments_df = pd.read_csv('data/olist_order_payments_dataset.csv')\n",
    "\n",
    "print(customers_df.shape, orders_df.shape, order_payments_df.shape)"
   ],
   "id": "c6d48deb2b838d62",
   "outputs": [
    {
     "name": "stdout",
     "output_type": "stream",
     "text": [
      "(99441, 5) (99441, 8) (103886, 5)\n"
     ]
    }
   ],
   "execution_count": 74
  },
  {
   "metadata": {
    "ExecuteTime": {
     "end_time": "2025-06-04T02:01:13.460358Z",
     "start_time": "2025-06-04T02:01:13.449965Z"
    }
   },
   "cell_type": "code",
   "source": [
    "# 병합할 테이블과 중복 컬럼 확인하기: customer_id\n",
    "orders_df.head()"
   ],
   "id": "1fa1aa2da0bb964c",
   "outputs": [
    {
     "data": {
      "text/plain": [
       "                           order_id                       customer_id  \\\n",
       "0  e481f51cbdc54678b7cc49136f2d6af7  9ef432eb6251297304e76186b10a928d   \n",
       "1  53cdb2fc8bc7dce0b6741e2150273451  b0830fb4747a6c6d20dea0b8c802d7ef   \n",
       "2  47770eb9100c2d0c44946d9cf07ec65d  41ce2a54c0b03bf3443c3d931a367089   \n",
       "3  949d5b44dbf5de918fe9c16f97b45f8a  f88197465ea7920adcdbec7375364d82   \n",
       "4  ad21c59c0840e6cb83a9ceb5573f8159  8ab97904e6daea8866dbdbc4fb7aad2c   \n",
       "\n",
       "  order_status order_purchase_timestamp    order_approved_at  \\\n",
       "0    delivered      2017-10-02 10:56:33  2017-10-02 11:07:15   \n",
       "1    delivered      2018-07-24 20:41:37  2018-07-26 03:24:27   \n",
       "2    delivered      2018-08-08 08:38:49  2018-08-08 08:55:23   \n",
       "3    delivered      2017-11-18 19:28:06  2017-11-18 19:45:59   \n",
       "4    delivered      2018-02-13 21:18:39  2018-02-13 22:20:29   \n",
       "\n",
       "  order_delivered_carrier_date order_delivered_customer_date  \\\n",
       "0          2017-10-04 19:55:00           2017-10-10 21:25:13   \n",
       "1          2018-07-26 14:31:00           2018-08-07 15:27:45   \n",
       "2          2018-08-08 13:50:00           2018-08-17 18:06:29   \n",
       "3          2017-11-22 13:39:59           2017-12-02 00:28:42   \n",
       "4          2018-02-14 19:46:34           2018-02-16 18:17:02   \n",
       "\n",
       "  order_estimated_delivery_date  \n",
       "0           2017-10-18 00:00:00  \n",
       "1           2018-08-13 00:00:00  \n",
       "2           2018-09-04 00:00:00  \n",
       "3           2017-12-15 00:00:00  \n",
       "4           2018-02-26 00:00:00  "
      ],
      "text/html": [
       "<div>\n",
       "<style scoped>\n",
       "    .dataframe tbody tr th:only-of-type {\n",
       "        vertical-align: middle;\n",
       "    }\n",
       "\n",
       "    .dataframe tbody tr th {\n",
       "        vertical-align: top;\n",
       "    }\n",
       "\n",
       "    .dataframe thead th {\n",
       "        text-align: right;\n",
       "    }\n",
       "</style>\n",
       "<table border=\"1\" class=\"dataframe\">\n",
       "  <thead>\n",
       "    <tr style=\"text-align: right;\">\n",
       "      <th></th>\n",
       "      <th>order_id</th>\n",
       "      <th>customer_id</th>\n",
       "      <th>order_status</th>\n",
       "      <th>order_purchase_timestamp</th>\n",
       "      <th>order_approved_at</th>\n",
       "      <th>order_delivered_carrier_date</th>\n",
       "      <th>order_delivered_customer_date</th>\n",
       "      <th>order_estimated_delivery_date</th>\n",
       "    </tr>\n",
       "  </thead>\n",
       "  <tbody>\n",
       "    <tr>\n",
       "      <th>0</th>\n",
       "      <td>e481f51cbdc54678b7cc49136f2d6af7</td>\n",
       "      <td>9ef432eb6251297304e76186b10a928d</td>\n",
       "      <td>delivered</td>\n",
       "      <td>2017-10-02 10:56:33</td>\n",
       "      <td>2017-10-02 11:07:15</td>\n",
       "      <td>2017-10-04 19:55:00</td>\n",
       "      <td>2017-10-10 21:25:13</td>\n",
       "      <td>2017-10-18 00:00:00</td>\n",
       "    </tr>\n",
       "    <tr>\n",
       "      <th>1</th>\n",
       "      <td>53cdb2fc8bc7dce0b6741e2150273451</td>\n",
       "      <td>b0830fb4747a6c6d20dea0b8c802d7ef</td>\n",
       "      <td>delivered</td>\n",
       "      <td>2018-07-24 20:41:37</td>\n",
       "      <td>2018-07-26 03:24:27</td>\n",
       "      <td>2018-07-26 14:31:00</td>\n",
       "      <td>2018-08-07 15:27:45</td>\n",
       "      <td>2018-08-13 00:00:00</td>\n",
       "    </tr>\n",
       "    <tr>\n",
       "      <th>2</th>\n",
       "      <td>47770eb9100c2d0c44946d9cf07ec65d</td>\n",
       "      <td>41ce2a54c0b03bf3443c3d931a367089</td>\n",
       "      <td>delivered</td>\n",
       "      <td>2018-08-08 08:38:49</td>\n",
       "      <td>2018-08-08 08:55:23</td>\n",
       "      <td>2018-08-08 13:50:00</td>\n",
       "      <td>2018-08-17 18:06:29</td>\n",
       "      <td>2018-09-04 00:00:00</td>\n",
       "    </tr>\n",
       "    <tr>\n",
       "      <th>3</th>\n",
       "      <td>949d5b44dbf5de918fe9c16f97b45f8a</td>\n",
       "      <td>f88197465ea7920adcdbec7375364d82</td>\n",
       "      <td>delivered</td>\n",
       "      <td>2017-11-18 19:28:06</td>\n",
       "      <td>2017-11-18 19:45:59</td>\n",
       "      <td>2017-11-22 13:39:59</td>\n",
       "      <td>2017-12-02 00:28:42</td>\n",
       "      <td>2017-12-15 00:00:00</td>\n",
       "    </tr>\n",
       "    <tr>\n",
       "      <th>4</th>\n",
       "      <td>ad21c59c0840e6cb83a9ceb5573f8159</td>\n",
       "      <td>8ab97904e6daea8866dbdbc4fb7aad2c</td>\n",
       "      <td>delivered</td>\n",
       "      <td>2018-02-13 21:18:39</td>\n",
       "      <td>2018-02-13 22:20:29</td>\n",
       "      <td>2018-02-14 19:46:34</td>\n",
       "      <td>2018-02-16 18:17:02</td>\n",
       "      <td>2018-02-26 00:00:00</td>\n",
       "    </tr>\n",
       "  </tbody>\n",
       "</table>\n",
       "</div>"
      ]
     },
     "execution_count": 75,
     "metadata": {},
     "output_type": "execute_result"
    }
   ],
   "execution_count": 75
  },
  {
   "metadata": {
    "ExecuteTime": {
     "end_time": "2025-06-04T02:01:13.658299Z",
     "start_time": "2025-06-04T02:01:13.518057Z"
    }
   },
   "cell_type": "code",
   "source": [
    "# orders_df + customers_df 병합\n",
    "orders_customers_merged = pd.merge(\n",
    "    orders_df,\n",
    "    customers_df[['customer_id', 'customer_unique_id']],\n",
    "    on='customer_id',\n",
    "    how='left'\n",
    ")\n",
    "orders_customers_merged.head()"
   ],
   "id": "b1685c5ce62f0b11",
   "outputs": [
    {
     "data": {
      "text/plain": [
       "                           order_id                       customer_id  \\\n",
       "0  e481f51cbdc54678b7cc49136f2d6af7  9ef432eb6251297304e76186b10a928d   \n",
       "1  53cdb2fc8bc7dce0b6741e2150273451  b0830fb4747a6c6d20dea0b8c802d7ef   \n",
       "2  47770eb9100c2d0c44946d9cf07ec65d  41ce2a54c0b03bf3443c3d931a367089   \n",
       "3  949d5b44dbf5de918fe9c16f97b45f8a  f88197465ea7920adcdbec7375364d82   \n",
       "4  ad21c59c0840e6cb83a9ceb5573f8159  8ab97904e6daea8866dbdbc4fb7aad2c   \n",
       "\n",
       "  order_status order_purchase_timestamp    order_approved_at  \\\n",
       "0    delivered      2017-10-02 10:56:33  2017-10-02 11:07:15   \n",
       "1    delivered      2018-07-24 20:41:37  2018-07-26 03:24:27   \n",
       "2    delivered      2018-08-08 08:38:49  2018-08-08 08:55:23   \n",
       "3    delivered      2017-11-18 19:28:06  2017-11-18 19:45:59   \n",
       "4    delivered      2018-02-13 21:18:39  2018-02-13 22:20:29   \n",
       "\n",
       "  order_delivered_carrier_date order_delivered_customer_date  \\\n",
       "0          2017-10-04 19:55:00           2017-10-10 21:25:13   \n",
       "1          2018-07-26 14:31:00           2018-08-07 15:27:45   \n",
       "2          2018-08-08 13:50:00           2018-08-17 18:06:29   \n",
       "3          2017-11-22 13:39:59           2017-12-02 00:28:42   \n",
       "4          2018-02-14 19:46:34           2018-02-16 18:17:02   \n",
       "\n",
       "  order_estimated_delivery_date                customer_unique_id  \n",
       "0           2017-10-18 00:00:00  7c396fd4830fd04220f754e42b4e5bff  \n",
       "1           2018-08-13 00:00:00  af07308b275d755c9edb36a90c618231  \n",
       "2           2018-09-04 00:00:00  3a653a41f6f9fc3d2a113cf8398680e8  \n",
       "3           2017-12-15 00:00:00  7c142cf63193a1473d2e66489a9ae977  \n",
       "4           2018-02-26 00:00:00  72632f0f9dd73dfee390c9b22eb56dd6  "
      ],
      "text/html": [
       "<div>\n",
       "<style scoped>\n",
       "    .dataframe tbody tr th:only-of-type {\n",
       "        vertical-align: middle;\n",
       "    }\n",
       "\n",
       "    .dataframe tbody tr th {\n",
       "        vertical-align: top;\n",
       "    }\n",
       "\n",
       "    .dataframe thead th {\n",
       "        text-align: right;\n",
       "    }\n",
       "</style>\n",
       "<table border=\"1\" class=\"dataframe\">\n",
       "  <thead>\n",
       "    <tr style=\"text-align: right;\">\n",
       "      <th></th>\n",
       "      <th>order_id</th>\n",
       "      <th>customer_id</th>\n",
       "      <th>order_status</th>\n",
       "      <th>order_purchase_timestamp</th>\n",
       "      <th>order_approved_at</th>\n",
       "      <th>order_delivered_carrier_date</th>\n",
       "      <th>order_delivered_customer_date</th>\n",
       "      <th>order_estimated_delivery_date</th>\n",
       "      <th>customer_unique_id</th>\n",
       "    </tr>\n",
       "  </thead>\n",
       "  <tbody>\n",
       "    <tr>\n",
       "      <th>0</th>\n",
       "      <td>e481f51cbdc54678b7cc49136f2d6af7</td>\n",
       "      <td>9ef432eb6251297304e76186b10a928d</td>\n",
       "      <td>delivered</td>\n",
       "      <td>2017-10-02 10:56:33</td>\n",
       "      <td>2017-10-02 11:07:15</td>\n",
       "      <td>2017-10-04 19:55:00</td>\n",
       "      <td>2017-10-10 21:25:13</td>\n",
       "      <td>2017-10-18 00:00:00</td>\n",
       "      <td>7c396fd4830fd04220f754e42b4e5bff</td>\n",
       "    </tr>\n",
       "    <tr>\n",
       "      <th>1</th>\n",
       "      <td>53cdb2fc8bc7dce0b6741e2150273451</td>\n",
       "      <td>b0830fb4747a6c6d20dea0b8c802d7ef</td>\n",
       "      <td>delivered</td>\n",
       "      <td>2018-07-24 20:41:37</td>\n",
       "      <td>2018-07-26 03:24:27</td>\n",
       "      <td>2018-07-26 14:31:00</td>\n",
       "      <td>2018-08-07 15:27:45</td>\n",
       "      <td>2018-08-13 00:00:00</td>\n",
       "      <td>af07308b275d755c9edb36a90c618231</td>\n",
       "    </tr>\n",
       "    <tr>\n",
       "      <th>2</th>\n",
       "      <td>47770eb9100c2d0c44946d9cf07ec65d</td>\n",
       "      <td>41ce2a54c0b03bf3443c3d931a367089</td>\n",
       "      <td>delivered</td>\n",
       "      <td>2018-08-08 08:38:49</td>\n",
       "      <td>2018-08-08 08:55:23</td>\n",
       "      <td>2018-08-08 13:50:00</td>\n",
       "      <td>2018-08-17 18:06:29</td>\n",
       "      <td>2018-09-04 00:00:00</td>\n",
       "      <td>3a653a41f6f9fc3d2a113cf8398680e8</td>\n",
       "    </tr>\n",
       "    <tr>\n",
       "      <th>3</th>\n",
       "      <td>949d5b44dbf5de918fe9c16f97b45f8a</td>\n",
       "      <td>f88197465ea7920adcdbec7375364d82</td>\n",
       "      <td>delivered</td>\n",
       "      <td>2017-11-18 19:28:06</td>\n",
       "      <td>2017-11-18 19:45:59</td>\n",
       "      <td>2017-11-22 13:39:59</td>\n",
       "      <td>2017-12-02 00:28:42</td>\n",
       "      <td>2017-12-15 00:00:00</td>\n",
       "      <td>7c142cf63193a1473d2e66489a9ae977</td>\n",
       "    </tr>\n",
       "    <tr>\n",
       "      <th>4</th>\n",
       "      <td>ad21c59c0840e6cb83a9ceb5573f8159</td>\n",
       "      <td>8ab97904e6daea8866dbdbc4fb7aad2c</td>\n",
       "      <td>delivered</td>\n",
       "      <td>2018-02-13 21:18:39</td>\n",
       "      <td>2018-02-13 22:20:29</td>\n",
       "      <td>2018-02-14 19:46:34</td>\n",
       "      <td>2018-02-16 18:17:02</td>\n",
       "      <td>2018-02-26 00:00:00</td>\n",
       "      <td>72632f0f9dd73dfee390c9b22eb56dd6</td>\n",
       "    </tr>\n",
       "  </tbody>\n",
       "</table>\n",
       "</div>"
      ]
     },
     "execution_count": 76,
     "metadata": {},
     "output_type": "execute_result"
    }
   ],
   "execution_count": 76
  },
  {
   "metadata": {
    "ExecuteTime": {
     "end_time": "2025-06-04T02:01:13.860128Z",
     "start_time": "2025-06-04T02:01:13.848429Z"
    }
   },
   "cell_type": "code",
   "source": [
    "# 병합할 테이블과 중복 컬럼 확인하기: order_id\n",
    "order_payments_df.head()"
   ],
   "id": "73c3c747cb1f9c1",
   "outputs": [
    {
     "data": {
      "text/plain": [
       "                           order_id  payment_sequential payment_type  \\\n",
       "0  b81ef226f3fe1789b1e8b2acac839d17                   1  credit_card   \n",
       "1  a9810da82917af2d9aefd1278f1dcfa0                   1  credit_card   \n",
       "2  25e8ea4e93396b6fa0d3dd708e76c1bd                   1  credit_card   \n",
       "3  ba78997921bbcdc1373bb41e913ab953                   1  credit_card   \n",
       "4  42fdf880ba16b47b59251dd489d4441a                   1  credit_card   \n",
       "\n",
       "   payment_installments  payment_value  \n",
       "0                     8          99.33  \n",
       "1                     1          24.39  \n",
       "2                     1          65.71  \n",
       "3                     8         107.78  \n",
       "4                     2         128.45  "
      ],
      "text/html": [
       "<div>\n",
       "<style scoped>\n",
       "    .dataframe tbody tr th:only-of-type {\n",
       "        vertical-align: middle;\n",
       "    }\n",
       "\n",
       "    .dataframe tbody tr th {\n",
       "        vertical-align: top;\n",
       "    }\n",
       "\n",
       "    .dataframe thead th {\n",
       "        text-align: right;\n",
       "    }\n",
       "</style>\n",
       "<table border=\"1\" class=\"dataframe\">\n",
       "  <thead>\n",
       "    <tr style=\"text-align: right;\">\n",
       "      <th></th>\n",
       "      <th>order_id</th>\n",
       "      <th>payment_sequential</th>\n",
       "      <th>payment_type</th>\n",
       "      <th>payment_installments</th>\n",
       "      <th>payment_value</th>\n",
       "    </tr>\n",
       "  </thead>\n",
       "  <tbody>\n",
       "    <tr>\n",
       "      <th>0</th>\n",
       "      <td>b81ef226f3fe1789b1e8b2acac839d17</td>\n",
       "      <td>1</td>\n",
       "      <td>credit_card</td>\n",
       "      <td>8</td>\n",
       "      <td>99.33</td>\n",
       "    </tr>\n",
       "    <tr>\n",
       "      <th>1</th>\n",
       "      <td>a9810da82917af2d9aefd1278f1dcfa0</td>\n",
       "      <td>1</td>\n",
       "      <td>credit_card</td>\n",
       "      <td>1</td>\n",
       "      <td>24.39</td>\n",
       "    </tr>\n",
       "    <tr>\n",
       "      <th>2</th>\n",
       "      <td>25e8ea4e93396b6fa0d3dd708e76c1bd</td>\n",
       "      <td>1</td>\n",
       "      <td>credit_card</td>\n",
       "      <td>1</td>\n",
       "      <td>65.71</td>\n",
       "    </tr>\n",
       "    <tr>\n",
       "      <th>3</th>\n",
       "      <td>ba78997921bbcdc1373bb41e913ab953</td>\n",
       "      <td>1</td>\n",
       "      <td>credit_card</td>\n",
       "      <td>8</td>\n",
       "      <td>107.78</td>\n",
       "    </tr>\n",
       "    <tr>\n",
       "      <th>4</th>\n",
       "      <td>42fdf880ba16b47b59251dd489d4441a</td>\n",
       "      <td>1</td>\n",
       "      <td>credit_card</td>\n",
       "      <td>2</td>\n",
       "      <td>128.45</td>\n",
       "    </tr>\n",
       "  </tbody>\n",
       "</table>\n",
       "</div>"
      ]
     },
     "execution_count": 77,
     "metadata": {},
     "output_type": "execute_result"
    }
   ],
   "execution_count": 77
  },
  {
   "metadata": {
    "ExecuteTime": {
     "end_time": "2025-06-04T02:01:14.620247Z",
     "start_time": "2025-06-04T02:01:14.330644Z"
    }
   },
   "cell_type": "code",
   "source": [
    "# order_payments_df + orders_customers_merged\n",
    "payments_orders_customers_merged = pd.merge(\n",
    "    order_payments_df,\n",
    "    orders_customers_merged[['order_id', 'customer_unique_id', 'order_purchase_timestamp']],\n",
    "    on='order_id',\n",
    "    how='left'\n",
    ")\n",
    "payments_orders_customers_merged.info()"
   ],
   "id": "52ad36153af25a19",
   "outputs": [
    {
     "name": "stdout",
     "output_type": "stream",
     "text": [
      "<class 'pandas.core.frame.DataFrame'>\n",
      "RangeIndex: 103886 entries, 0 to 103885\n",
      "Data columns (total 7 columns):\n",
      " #   Column                    Non-Null Count   Dtype  \n",
      "---  ------                    --------------   -----  \n",
      " 0   order_id                  103886 non-null  object \n",
      " 1   payment_sequential        103886 non-null  int64  \n",
      " 2   payment_type              103886 non-null  object \n",
      " 3   payment_installments      103886 non-null  int64  \n",
      " 4   payment_value             103886 non-null  float64\n",
      " 5   customer_unique_id        103886 non-null  object \n",
      " 6   order_purchase_timestamp  103886 non-null  object \n",
      "dtypes: float64(1), int64(2), object(4)\n",
      "memory usage: 5.5+ MB\n"
     ]
    }
   ],
   "execution_count": 78
  },
  {
   "metadata": {
    "ExecuteTime": {
     "end_time": "2025-06-04T02:01:24.554668Z",
     "start_time": "2025-06-04T02:01:14.919454Z"
    }
   },
   "cell_type": "code",
   "source": [
    "# RFM\n",
    "# - R: order_purchase_timestamp 최근 구매 경과일\n",
    "# - F: order_id 구매 빈도수\n",
    "# - M: payment_value 총 구매금액\n",
    "rfm_df = payments_orders_customers_merged.groupby('customer_unique_id').agg({\n",
    "    'order_purchase_timestamp': 'max',\n",
    "    'order_id': pd.Series.nunique,\n",
    "    'payment_value': 'sum'\n",
    "})\n",
    "rfm_df.columns = ['Recency', 'Frequency', 'Monetary']\n",
    "rfm_df.info()"
   ],
   "id": "8c02e7735be70f2a",
   "outputs": [
    {
     "name": "stdout",
     "output_type": "stream",
     "text": [
      "<class 'pandas.core.frame.DataFrame'>\n",
      "Index: 96095 entries, 0000366f3b9a7992bf8c76cfdf3221e2 to ffffd2657e2aad2907e67c3e9daecbeb\n",
      "Data columns (total 3 columns):\n",
      " #   Column     Non-Null Count  Dtype  \n",
      "---  ------     --------------  -----  \n",
      " 0   Recency    96095 non-null  object \n",
      " 1   Frequency  96095 non-null  int64  \n",
      " 2   Monetary   96095 non-null  float64\n",
      "dtypes: float64(1), int64(1), object(1)\n",
      "memory usage: 2.9+ MB\n"
     ]
    }
   ],
   "execution_count": 79
  },
  {
   "metadata": {
    "ExecuteTime": {
     "end_time": "2025-06-04T02:01:24.662790Z",
     "start_time": "2025-06-04T02:01:24.573427Z"
    }
   },
   "cell_type": "code",
   "source": [
    "# 날짜형 변경 후 경과일 계산\n",
    "rfm_df['Recency'] = pd.to_datetime(rfm_df['Recency'])\n",
    "max_date = rfm_df['Recency'].max()\n",
    "rfm_df['Recency'] = max_date - rfm_df['Recency']\n",
    "\n",
    "rfm_df['Recency'] = rfm_df['Recency'].dt.days +1\n",
    "rfm_df.head()"
   ],
   "id": "45608f95f18fad47",
   "outputs": [
    {
     "data": {
      "text/plain": [
       "                                  Recency  Frequency  Monetary\n",
       "customer_unique_id                                            \n",
       "0000366f3b9a7992bf8c76cfdf3221e2      161          1    141.90\n",
       "0000b849f77a49e4a4ce2b2a4ca5be3f      164          1     27.19\n",
       "0000f46a3911fa3c0805444483337064      586          1     86.22\n",
       "0000f6ccb0745a6a4b88665a16c9f078      370          1     43.62\n",
       "0004aac84e0df4da2b147fca70cf8255      337          1    196.89"
      ],
      "text/html": [
       "<div>\n",
       "<style scoped>\n",
       "    .dataframe tbody tr th:only-of-type {\n",
       "        vertical-align: middle;\n",
       "    }\n",
       "\n",
       "    .dataframe tbody tr th {\n",
       "        vertical-align: top;\n",
       "    }\n",
       "\n",
       "    .dataframe thead th {\n",
       "        text-align: right;\n",
       "    }\n",
       "</style>\n",
       "<table border=\"1\" class=\"dataframe\">\n",
       "  <thead>\n",
       "    <tr style=\"text-align: right;\">\n",
       "      <th></th>\n",
       "      <th>Recency</th>\n",
       "      <th>Frequency</th>\n",
       "      <th>Monetary</th>\n",
       "    </tr>\n",
       "    <tr>\n",
       "      <th>customer_unique_id</th>\n",
       "      <th></th>\n",
       "      <th></th>\n",
       "      <th></th>\n",
       "    </tr>\n",
       "  </thead>\n",
       "  <tbody>\n",
       "    <tr>\n",
       "      <th>0000366f3b9a7992bf8c76cfdf3221e2</th>\n",
       "      <td>161</td>\n",
       "      <td>1</td>\n",
       "      <td>141.90</td>\n",
       "    </tr>\n",
       "    <tr>\n",
       "      <th>0000b849f77a49e4a4ce2b2a4ca5be3f</th>\n",
       "      <td>164</td>\n",
       "      <td>1</td>\n",
       "      <td>27.19</td>\n",
       "    </tr>\n",
       "    <tr>\n",
       "      <th>0000f46a3911fa3c0805444483337064</th>\n",
       "      <td>586</td>\n",
       "      <td>1</td>\n",
       "      <td>86.22</td>\n",
       "    </tr>\n",
       "    <tr>\n",
       "      <th>0000f6ccb0745a6a4b88665a16c9f078</th>\n",
       "      <td>370</td>\n",
       "      <td>1</td>\n",
       "      <td>43.62</td>\n",
       "    </tr>\n",
       "    <tr>\n",
       "      <th>0004aac84e0df4da2b147fca70cf8255</th>\n",
       "      <td>337</td>\n",
       "      <td>1</td>\n",
       "      <td>196.89</td>\n",
       "    </tr>\n",
       "  </tbody>\n",
       "</table>\n",
       "</div>"
      ]
     },
     "execution_count": 80,
     "metadata": {},
     "output_type": "execute_result"
    }
   ],
   "execution_count": 80
  },
  {
   "metadata": {},
   "cell_type": "markdown",
   "source": "### F_score",
   "id": "25c20252b05443fa"
  },
  {
   "metadata": {
    "ExecuteTime": {
     "end_time": "2025-06-04T02:01:24.854088Z",
     "start_time": "2025-06-04T02:01:24.829592Z"
    }
   },
   "cell_type": "code",
   "source": [
    "# 빈도수 구간 설정 및 범주 이름 지정\n",
    "bins = [0, 2, 5, float('inf')] # 0~2: lowl / 3~5: mid / 6~: high\n",
    "labels = ['low', 'mid', 'high']\n",
    "\n",
    "# 구간화\n",
    "rfm_df['Frequency_level'] = pd.cut(rfm_df['Frequency'], bins=bins, labels=labels)\n",
    "rfm_df.head()"
   ],
   "id": "2f656808a2326b2d",
   "outputs": [
    {
     "data": {
      "text/plain": [
       "                                  Recency  Frequency  Monetary Frequency_level\n",
       "customer_unique_id                                                            \n",
       "0000366f3b9a7992bf8c76cfdf3221e2      161          1    141.90             low\n",
       "0000b849f77a49e4a4ce2b2a4ca5be3f      164          1     27.19             low\n",
       "0000f46a3911fa3c0805444483337064      586          1     86.22             low\n",
       "0000f6ccb0745a6a4b88665a16c9f078      370          1     43.62             low\n",
       "0004aac84e0df4da2b147fca70cf8255      337          1    196.89             low"
      ],
      "text/html": [
       "<div>\n",
       "<style scoped>\n",
       "    .dataframe tbody tr th:only-of-type {\n",
       "        vertical-align: middle;\n",
       "    }\n",
       "\n",
       "    .dataframe tbody tr th {\n",
       "        vertical-align: top;\n",
       "    }\n",
       "\n",
       "    .dataframe thead th {\n",
       "        text-align: right;\n",
       "    }\n",
       "</style>\n",
       "<table border=\"1\" class=\"dataframe\">\n",
       "  <thead>\n",
       "    <tr style=\"text-align: right;\">\n",
       "      <th></th>\n",
       "      <th>Recency</th>\n",
       "      <th>Frequency</th>\n",
       "      <th>Monetary</th>\n",
       "      <th>Frequency_level</th>\n",
       "    </tr>\n",
       "    <tr>\n",
       "      <th>customer_unique_id</th>\n",
       "      <th></th>\n",
       "      <th></th>\n",
       "      <th></th>\n",
       "      <th></th>\n",
       "    </tr>\n",
       "  </thead>\n",
       "  <tbody>\n",
       "    <tr>\n",
       "      <th>0000366f3b9a7992bf8c76cfdf3221e2</th>\n",
       "      <td>161</td>\n",
       "      <td>1</td>\n",
       "      <td>141.90</td>\n",
       "      <td>low</td>\n",
       "    </tr>\n",
       "    <tr>\n",
       "      <th>0000b849f77a49e4a4ce2b2a4ca5be3f</th>\n",
       "      <td>164</td>\n",
       "      <td>1</td>\n",
       "      <td>27.19</td>\n",
       "      <td>low</td>\n",
       "    </tr>\n",
       "    <tr>\n",
       "      <th>0000f46a3911fa3c0805444483337064</th>\n",
       "      <td>586</td>\n",
       "      <td>1</td>\n",
       "      <td>86.22</td>\n",
       "      <td>low</td>\n",
       "    </tr>\n",
       "    <tr>\n",
       "      <th>0000f6ccb0745a6a4b88665a16c9f078</th>\n",
       "      <td>370</td>\n",
       "      <td>1</td>\n",
       "      <td>43.62</td>\n",
       "      <td>low</td>\n",
       "    </tr>\n",
       "    <tr>\n",
       "      <th>0004aac84e0df4da2b147fca70cf8255</th>\n",
       "      <td>337</td>\n",
       "      <td>1</td>\n",
       "      <td>196.89</td>\n",
       "      <td>low</td>\n",
       "    </tr>\n",
       "  </tbody>\n",
       "</table>\n",
       "</div>"
      ]
     },
     "execution_count": 81,
     "metadata": {},
     "output_type": "execute_result"
    }
   ],
   "execution_count": 81
  },
  {
   "metadata": {
    "ExecuteTime": {
     "end_time": "2025-06-04T02:01:25.119896Z",
     "start_time": "2025-06-04T02:01:25.073037Z"
    }
   },
   "cell_type": "code",
   "source": [
    "# Frequency_level 재정의\n",
    "f_score_map = {\n",
    "    'low': 1,\n",
    "    'mid': 3,\n",
    "    'high': 5\n",
    "}\n",
    "# 카테고리 컬럼을 문자열로 변환 후 매핑\n",
    "rfm_df.info()\n",
    "rfm_df['F_score'] = rfm_df['Frequency_level'].astype(str).map(f_score_map).fillna(2).astype(int)"
   ],
   "id": "6f1e9c4a7fc13065",
   "outputs": [
    {
     "name": "stdout",
     "output_type": "stream",
     "text": [
      "<class 'pandas.core.frame.DataFrame'>\n",
      "Index: 96095 entries, 0000366f3b9a7992bf8c76cfdf3221e2 to ffffd2657e2aad2907e67c3e9daecbeb\n",
      "Data columns (total 4 columns):\n",
      " #   Column           Non-Null Count  Dtype   \n",
      "---  ------           --------------  -----   \n",
      " 0   Recency          96095 non-null  int64   \n",
      " 1   Frequency        96095 non-null  int64   \n",
      " 2   Monetary         96095 non-null  float64 \n",
      " 3   Frequency_level  96095 non-null  category\n",
      "dtypes: category(1), float64(1), int64(2)\n",
      "memory usage: 3.0+ MB\n"
     ]
    }
   ],
   "execution_count": 82
  },
  {
   "metadata": {},
   "cell_type": "markdown",
   "source": "### R_score, M_score",
   "id": "45cfe155c0e854c4"
  },
  {
   "metadata": {
    "ExecuteTime": {
     "end_time": "2025-06-04T02:01:25.507849Z",
     "start_time": "2025-06-04T02:01:25.376671Z"
    }
   },
   "cell_type": "code",
   "source": [
    "# 분위수 구간 계산 (NaN 발생 대비 + 분위수 구간 부족 대비)\n",
    "for col in ['Recency', 'Monetary']:\n",
    "    try:\n",
    "        rfm_df[col[0] + '_quantile'] = pd.qcut(\n",
    "            rfm_df[col],\n",
    "            5,\n",
    "            labels=False,\n",
    "            duplicates='drop'\n",
    "        )\n",
    "    except ValueError:\n",
    "        # 전부 동일하거나 분위수 계산 불가한 경우 → 값 전체를 중간값으로 처리\n",
    "        rfm_df[col[0] + '_quantile'] = 2\n",
    "\n",
    "# NaN이 생긴 경우 기본값 2로 대체\n",
    "rfm_df[['R_quantile', 'M_quantile']] = rfm_df[['R_quantile', 'M_quantile']].fillna(2)\n",
    "\n",
    "# RFM 점수 계산\n",
    "rfm_df['R_score'] = (5 - rfm_df['R_quantile']).astype(int)  # Recency는 낮을수록 높게\n",
    "rfm_df['M_score'] = (1 + rfm_df['M_quantile']).astype(int)\n",
    "\n",
    "# 최종 RFM Score 조합\n",
    "rfm_df['RFM_score'] = (\n",
    "    rfm_df['R_score'].astype(str) +\n",
    "    rfm_df['F_score'].astype(str) +\n",
    "    rfm_df['M_score'].astype(str)\n",
    ")\n",
    "\n",
    "# 결과 출력\n",
    "print(rfm_df[['Recency', 'Frequency', 'Monetary', 'R_score', 'F_score', 'M_score', 'RFM_score']])"
   ],
   "id": "4ccd326c44b690fb",
   "outputs": [
    {
     "name": "stdout",
     "output_type": "stream",
     "text": [
      "                                  Recency  Frequency  Monetary  R_score  \\\n",
      "customer_unique_id                                                        \n",
      "0000366f3b9a7992bf8c76cfdf3221e2      161          1    141.90        4   \n",
      "0000b849f77a49e4a4ce2b2a4ca5be3f      164          1     27.19        4   \n",
      "0000f46a3911fa3c0805444483337064      586          1     86.22        1   \n",
      "0000f6ccb0745a6a4b88665a16c9f078      370          1     43.62        2   \n",
      "0004aac84e0df4da2b147fca70cf8255      337          1    196.89        2   \n",
      "...                                   ...        ...       ...      ...   \n",
      "fffcf5a5ff07b0908bd4e2dbc735a684      496          1   2067.42        1   \n",
      "fffea47cd6d3cc0a88bd621562a9d061      311          1     84.58        3   \n",
      "ffff371b4d645b6ecea244b27531430a      618          1    112.46        1   \n",
      "ffff5962728ec6157033ef9805bacc48      169          1    133.69        4   \n",
      "ffffd2657e2aad2907e67c3e9daecbeb      533          1     71.56        1   \n",
      "\n",
      "                                  F_score  M_score RFM_score  \n",
      "customer_unique_id                                            \n",
      "0000366f3b9a7992bf8c76cfdf3221e2        1        4       414  \n",
      "0000b849f77a49e4a4ce2b2a4ca5be3f        1        1       411  \n",
      "0000f46a3911fa3c0805444483337064        1        2       112  \n",
      "0000f6ccb0745a6a4b88665a16c9f078        1        1       211  \n",
      "0004aac84e0df4da2b147fca70cf8255        1        4       214  \n",
      "...                                   ...      ...       ...  \n",
      "fffcf5a5ff07b0908bd4e2dbc735a684        1        5       115  \n",
      "fffea47cd6d3cc0a88bd621562a9d061        1        2       312  \n",
      "ffff371b4d645b6ecea244b27531430a        1        3       113  \n",
      "ffff5962728ec6157033ef9805bacc48        1        4       414  \n",
      "ffffd2657e2aad2907e67c3e9daecbeb        1        2       112  \n",
      "\n",
      "[96095 rows x 7 columns]\n"
     ]
    }
   ],
   "execution_count": 83
  },
  {
   "metadata": {
    "ExecuteTime": {
     "end_time": "2025-06-04T02:01:25.671471Z",
     "start_time": "2025-06-04T02:01:25.659301Z"
    }
   },
   "cell_type": "code",
   "source": [
    "print(rfm_df['R_score'].value_counts(), '\\n')\n",
    "print(rfm_df['F_score'].value_counts(), '\\n')\n",
    "print(rfm_df['M_score'].value_counts(), '\\n')"
   ],
   "id": "8f279f9918569b96",
   "outputs": [
    {
     "name": "stdout",
     "output_type": "stream",
     "text": [
      "R_score\n",
      "5    19324\n",
      "2    19300\n",
      "4    19299\n",
      "1    19129\n",
      "3    19043\n",
      "Name: count, dtype: int64 \n",
      "\n",
      "F_score\n",
      "1    95843\n",
      "3      241\n",
      "5       11\n",
      "Name: count, dtype: int64 \n",
      "\n",
      "M_score\n",
      "3    19222\n",
      "1    19221\n",
      "2    19219\n",
      "5    19219\n",
      "4    19214\n",
      "Name: count, dtype: int64 \n",
      "\n"
     ]
    }
   ],
   "execution_count": 84
  },
  {
   "metadata": {},
   "cell_type": "markdown",
   "source": "### 이탈 기준",
   "id": "1972c38a2fe2419a"
  },
  {
   "metadata": {
    "ExecuteTime": {
     "end_time": "2025-06-04T02:01:26.623997Z",
     "start_time": "2025-06-04T02:01:25.761943Z"
    }
   },
   "cell_type": "code",
   "source": [
    "# R <= 2 and F <= 2 인 경우, 이탈\n",
    "rfm_df['churn'] = rfm_df.apply(\n",
    "    lambda x: 1 if (x['R_score'] <= 2 and x['F_score'] <= 2) else 0,\n",
    "    axis=1\n",
    ")\n",
    "rfm_df = rfm_df.reset_index()\n",
    "rfm_df.head()"
   ],
   "id": "f99b31eb49b4d257",
   "outputs": [
    {
     "data": {
      "text/plain": [
       "                 customer_unique_id  Recency  Frequency  Monetary  \\\n",
       "0  0000366f3b9a7992bf8c76cfdf3221e2      161          1    141.90   \n",
       "1  0000b849f77a49e4a4ce2b2a4ca5be3f      164          1     27.19   \n",
       "2  0000f46a3911fa3c0805444483337064      586          1     86.22   \n",
       "3  0000f6ccb0745a6a4b88665a16c9f078      370          1     43.62   \n",
       "4  0004aac84e0df4da2b147fca70cf8255      337          1    196.89   \n",
       "\n",
       "  Frequency_level  F_score  R_quantile  M_quantile  R_score  M_score  \\\n",
       "0             low        1           1           3        4        4   \n",
       "1             low        1           1           0        4        1   \n",
       "2             low        1           4           1        1        2   \n",
       "3             low        1           3           0        2        1   \n",
       "4             low        1           3           3        2        4   \n",
       "\n",
       "  RFM_score  churn  \n",
       "0       414      0  \n",
       "1       411      0  \n",
       "2       112      1  \n",
       "3       211      1  \n",
       "4       214      1  "
      ],
      "text/html": [
       "<div>\n",
       "<style scoped>\n",
       "    .dataframe tbody tr th:only-of-type {\n",
       "        vertical-align: middle;\n",
       "    }\n",
       "\n",
       "    .dataframe tbody tr th {\n",
       "        vertical-align: top;\n",
       "    }\n",
       "\n",
       "    .dataframe thead th {\n",
       "        text-align: right;\n",
       "    }\n",
       "</style>\n",
       "<table border=\"1\" class=\"dataframe\">\n",
       "  <thead>\n",
       "    <tr style=\"text-align: right;\">\n",
       "      <th></th>\n",
       "      <th>customer_unique_id</th>\n",
       "      <th>Recency</th>\n",
       "      <th>Frequency</th>\n",
       "      <th>Monetary</th>\n",
       "      <th>Frequency_level</th>\n",
       "      <th>F_score</th>\n",
       "      <th>R_quantile</th>\n",
       "      <th>M_quantile</th>\n",
       "      <th>R_score</th>\n",
       "      <th>M_score</th>\n",
       "      <th>RFM_score</th>\n",
       "      <th>churn</th>\n",
       "    </tr>\n",
       "  </thead>\n",
       "  <tbody>\n",
       "    <tr>\n",
       "      <th>0</th>\n",
       "      <td>0000366f3b9a7992bf8c76cfdf3221e2</td>\n",
       "      <td>161</td>\n",
       "      <td>1</td>\n",
       "      <td>141.90</td>\n",
       "      <td>low</td>\n",
       "      <td>1</td>\n",
       "      <td>1</td>\n",
       "      <td>3</td>\n",
       "      <td>4</td>\n",
       "      <td>4</td>\n",
       "      <td>414</td>\n",
       "      <td>0</td>\n",
       "    </tr>\n",
       "    <tr>\n",
       "      <th>1</th>\n",
       "      <td>0000b849f77a49e4a4ce2b2a4ca5be3f</td>\n",
       "      <td>164</td>\n",
       "      <td>1</td>\n",
       "      <td>27.19</td>\n",
       "      <td>low</td>\n",
       "      <td>1</td>\n",
       "      <td>1</td>\n",
       "      <td>0</td>\n",
       "      <td>4</td>\n",
       "      <td>1</td>\n",
       "      <td>411</td>\n",
       "      <td>0</td>\n",
       "    </tr>\n",
       "    <tr>\n",
       "      <th>2</th>\n",
       "      <td>0000f46a3911fa3c0805444483337064</td>\n",
       "      <td>586</td>\n",
       "      <td>1</td>\n",
       "      <td>86.22</td>\n",
       "      <td>low</td>\n",
       "      <td>1</td>\n",
       "      <td>4</td>\n",
       "      <td>1</td>\n",
       "      <td>1</td>\n",
       "      <td>2</td>\n",
       "      <td>112</td>\n",
       "      <td>1</td>\n",
       "    </tr>\n",
       "    <tr>\n",
       "      <th>3</th>\n",
       "      <td>0000f6ccb0745a6a4b88665a16c9f078</td>\n",
       "      <td>370</td>\n",
       "      <td>1</td>\n",
       "      <td>43.62</td>\n",
       "      <td>low</td>\n",
       "      <td>1</td>\n",
       "      <td>3</td>\n",
       "      <td>0</td>\n",
       "      <td>2</td>\n",
       "      <td>1</td>\n",
       "      <td>211</td>\n",
       "      <td>1</td>\n",
       "    </tr>\n",
       "    <tr>\n",
       "      <th>4</th>\n",
       "      <td>0004aac84e0df4da2b147fca70cf8255</td>\n",
       "      <td>337</td>\n",
       "      <td>1</td>\n",
       "      <td>196.89</td>\n",
       "      <td>low</td>\n",
       "      <td>1</td>\n",
       "      <td>3</td>\n",
       "      <td>3</td>\n",
       "      <td>2</td>\n",
       "      <td>4</td>\n",
       "      <td>214</td>\n",
       "      <td>1</td>\n",
       "    </tr>\n",
       "  </tbody>\n",
       "</table>\n",
       "</div>"
      ]
     },
     "execution_count": 85,
     "metadata": {},
     "output_type": "execute_result"
    }
   ],
   "execution_count": 85
  },
  {
   "metadata": {
    "ExecuteTime": {
     "end_time": "2025-06-04T02:01:26.791819Z",
     "start_time": "2025-06-04T02:01:26.753025Z"
    }
   },
   "cell_type": "code",
   "source": "rfm_df.info()",
   "id": "5b95f4c75d9ed1fe",
   "outputs": [
    {
     "name": "stdout",
     "output_type": "stream",
     "text": [
      "<class 'pandas.core.frame.DataFrame'>\n",
      "RangeIndex: 96095 entries, 0 to 96094\n",
      "Data columns (total 12 columns):\n",
      " #   Column              Non-Null Count  Dtype   \n",
      "---  ------              --------------  -----   \n",
      " 0   customer_unique_id  96095 non-null  object  \n",
      " 1   Recency             96095 non-null  int64   \n",
      " 2   Frequency           96095 non-null  int64   \n",
      " 3   Monetary            96095 non-null  float64 \n",
      " 4   Frequency_level     96095 non-null  category\n",
      " 5   F_score             96095 non-null  int64   \n",
      " 6   R_quantile          96095 non-null  int64   \n",
      " 7   M_quantile          96095 non-null  int64   \n",
      " 8   R_score             96095 non-null  int64   \n",
      " 9   M_score             96095 non-null  int64   \n",
      " 10  RFM_score           96095 non-null  object  \n",
      " 11  churn               96095 non-null  int64   \n",
      "dtypes: category(1), float64(1), int64(8), object(2)\n",
      "memory usage: 8.2+ MB\n"
     ]
    }
   ],
   "execution_count": 86
  },
  {
   "metadata": {
    "ExecuteTime": {
     "end_time": "2025-06-04T02:01:27.096036Z",
     "start_time": "2025-06-04T02:01:26.923869Z"
    }
   },
   "cell_type": "code",
   "source": [
    "# 시각화\n",
    "churn_counts = rfm_df['churn'].value_counts().sort_index()\n",
    "total = churn_counts.sum()\n",
    "\n",
    "plt.figure(figsize=(8, 6))\n",
    "sns.barplot(x=churn_counts.index, y=churn_counts.values, color='red')\n",
    "plt.xticks([0,1], ['Active (0)', 'Churned (1)'])\n",
    "plt.xlabel('Churn')\n",
    "plt.ylabel('Number of Customers')\n",
    "plt.title('고객 이탈률')\n",
    "\n",
    "# 막대 위에 비율 표시\n",
    "for i, count in enumerate(churn_counts.values):\n",
    "    percent = count / total * 100\n",
    "    plt.text(i, count+500, f'{percent:.1f}%', ha='center')\n",
    "\n",
    "plt.show()"
   ],
   "id": "ace458e20266462e",
   "outputs": [
    {
     "data": {
      "text/plain": [
       "<Figure size 800x600 with 1 Axes>"
      ],
      "image/png": "[encoded data removed]"
     },
     "metadata": {},
     "output_type": "display_data"
    }
   ],
   "execution_count": 87
  },
  {
   "metadata": {},
   "cell_type": "markdown",
   "source": "## 배송 변수 병합 및 준비 (* 피처 생성)",
   "id": "941b40689a7f4231"
  },
  {
   "metadata": {
    "ExecuteTime": {
     "end_time": "2025-06-04T02:01:27.844123Z",
     "start_time": "2025-06-04T02:01:27.123743Z"
    }
   },
   "cell_type": "code",
   "source": [
    "# 데이터 불러오기 및 기본 정보 확인\n",
    "# 전체 데이터 수 99441\n",
    "orders_df = pd.read_csv('data/olist_orders_dataset.csv',\n",
    "                        parse_dates=['order_purchase_timestamp',\n",
    "                                     'order_approved_at',\n",
    "                                     'order_delivered_carrier_date',\n",
    "                                     'order_delivered_customer_date',\n",
    "                                     'order_estimated_delivery_date'\n",
    "                                     ])\n",
    "orders_df.info()\n",
    "print(orders_df.describe())\n",
    "orders_df.head()"
   ],
   "id": "cff958eff02c9820",
   "outputs": [
    {
     "name": "stdout",
     "output_type": "stream",
     "text": [
      "<class 'pandas.core.frame.DataFrame'>\n",
      "RangeIndex: 99441 entries, 0 to 99440\n",
      "Data columns (total 8 columns):\n",
      " #   Column                         Non-Null Count  Dtype         \n",
      "---  ------                         --------------  -----         \n",
      " 0   order_id                       99441 non-null  object        \n",
      " 1   customer_id                    99441 non-null  object        \n",
      " 2   order_status                   99441 non-null  object        \n",
      " 3   order_purchase_timestamp       99441 non-null  datetime64[ns]\n",
      " 4   order_approved_at              99281 non-null  datetime64[ns]\n",
      " 5   order_delivered_carrier_date   97658 non-null  datetime64[ns]\n",
      " 6   order_delivered_customer_date  96476 non-null  datetime64[ns]\n",
      " 7   order_estimated_delivery_date  99441 non-null  datetime64[ns]\n",
      "dtypes: datetime64[ns](5), object(3)\n",
      "memory usage: 6.1+ MB\n",
      "            order_purchase_timestamp              order_approved_at  \\\n",
      "count                          99441                          99281   \n",
      "mean   2017-12-31 08:43:12.776581120  2017-12-31 18:35:24.098800128   \n",
      "min              2016-09-04 21:15:19            2016-09-15 12:16:38   \n",
      "25%              2017-09-12 14:46:19            2017-09-12 23:24:16   \n",
      "50%              2018-01-18 23:04:36            2018-01-19 11:36:13   \n",
      "75%              2018-05-04 15:42:16            2018-05-04 20:35:10   \n",
      "max              2018-10-17 17:30:18            2018-09-03 17:40:06   \n",
      "\n",
      "        order_delivered_carrier_date  order_delivered_customer_date  \\\n",
      "count                          97658                          96476   \n",
      "mean   2018-01-04 21:49:48.138278656  2018-01-14 12:09:19.035542272   \n",
      "min              2016-10-08 10:34:01            2016-10-11 13:46:32   \n",
      "25%    2017-09-15 22:28:50.249999872  2017-09-25 22:07:22.249999872   \n",
      "50%              2018-01-24 16:10:58     2018-02-02 19:28:10.500000   \n",
      "75%              2018-05-08 13:37:45  2018-05-15 22:48:52.249999872   \n",
      "max              2018-09-11 19:48:28            2018-10-17 13:22:46   \n",
      "\n",
      "       order_estimated_delivery_date  \n",
      "count                          99441  \n",
      "mean   2018-01-24 03:08:37.730111232  \n",
      "min              2016-09-30 00:00:00  \n",
      "25%              2017-10-03 00:00:00  \n",
      "50%              2018-02-15 00:00:00  \n",
      "75%              2018-05-25 00:00:00  \n",
      "max              2018-11-12 00:00:00  \n"
     ]
    },
    {
     "data": {
      "text/plain": [
       "                           order_id                       customer_id  \\\n",
       "0  e481f51cbdc54678b7cc49136f2d6af7  9ef432eb6251297304e76186b10a928d   \n",
       "1  53cdb2fc8bc7dce0b6741e2150273451  b0830fb4747a6c6d20dea0b8c802d7ef   \n",
       "2  47770eb9100c2d0c44946d9cf07ec65d  41ce2a54c0b03bf3443c3d931a367089   \n",
       "3  949d5b44dbf5de918fe9c16f97b45f8a  f88197465ea7920adcdbec7375364d82   \n",
       "4  ad21c59c0840e6cb83a9ceb5573f8159  8ab97904e6daea8866dbdbc4fb7aad2c   \n",
       "\n",
       "  order_status order_purchase_timestamp   order_approved_at  \\\n",
       "0    delivered      2017-10-02 10:56:33 2017-10-02 11:07:15   \n",
       "1    delivered      2018-07-24 20:41:37 2018-07-26 03:24:27   \n",
       "2    delivered      2018-08-08 08:38:49 2018-08-08 08:55:23   \n",
       "3    delivered      2017-11-18 19:28:06 2017-11-18 19:45:59   \n",
       "4    delivered      2018-02-13 21:18:39 2018-02-13 22:20:29   \n",
       "\n",
       "  order_delivered_carrier_date order_delivered_customer_date  \\\n",
       "0          2017-10-04 19:55:00           2017-10-10 21:25:13   \n",
       "1          2018-07-26 14:31:00           2018-08-07 15:27:45   \n",
       "2          2018-08-08 13:50:00           2018-08-17 18:06:29   \n",
       "3          2017-11-22 13:39:59           2017-12-02 00:28:42   \n",
       "4          2018-02-14 19:46:34           2018-02-16 18:17:02   \n",
       "\n",
       "  order_estimated_delivery_date  \n",
       "0                    2017-10-18  \n",
       "1                    2018-08-13  \n",
       "2                    2018-09-04  \n",
       "3                    2017-12-15  \n",
       "4                    2018-02-26  "
      ],
      "text/html": [
       "<div>\n",
       "<style scoped>\n",
       "    .dataframe tbody tr th:only-of-type {\n",
       "        vertical-align: middle;\n",
       "    }\n",
       "\n",
       "    .dataframe tbody tr th {\n",
       "        vertical-align: top;\n",
       "    }\n",
       "\n",
       "    .dataframe thead th {\n",
       "        text-align: right;\n",
       "    }\n",
       "</style>\n",
       "<table border=\"1\" class=\"dataframe\">\n",
       "  <thead>\n",
       "    <tr style=\"text-align: right;\">\n",
       "      <th></th>\n",
       "      <th>order_id</th>\n",
       "      <th>customer_id</th>\n",
       "      <th>order_status</th>\n",
       "      <th>order_purchase_timestamp</th>\n",
       "      <th>order_approved_at</th>\n",
       "      <th>order_delivered_carrier_date</th>\n",
       "      <th>order_delivered_customer_date</th>\n",
       "      <th>order_estimated_delivery_date</th>\n",
       "    </tr>\n",
       "  </thead>\n",
       "  <tbody>\n",
       "    <tr>\n",
       "      <th>0</th>\n",
       "      <td>e481f51cbdc54678b7cc49136f2d6af7</td>\n",
       "      <td>9ef432eb6251297304e76186b10a928d</td>\n",
       "      <td>delivered</td>\n",
       "      <td>2017-10-02 10:56:33</td>\n",
       "      <td>2017-10-02 11:07:15</td>\n",
       "      <td>2017-10-04 19:55:00</td>\n",
       "      <td>2017-10-10 21:25:13</td>\n",
       "      <td>2017-10-18</td>\n",
       "    </tr>\n",
       "    <tr>\n",
       "      <th>1</th>\n",
       "      <td>53cdb2fc8bc7dce0b6741e2150273451</td>\n",
       "      <td>b0830fb4747a6c6d20dea0b8c802d7ef</td>\n",
       "      <td>delivered</td>\n",
       "      <td>2018-07-24 20:41:37</td>\n",
       "      <td>2018-07-26 03:24:27</td>\n",
       "      <td>2018-07-26 14:31:00</td>\n",
       "      <td>2018-08-07 15:27:45</td>\n",
       "      <td>2018-08-13</td>\n",
       "    </tr>\n",
       "    <tr>\n",
       "      <th>2</th>\n",
       "      <td>47770eb9100c2d0c44946d9cf07ec65d</td>\n",
       "      <td>41ce2a54c0b03bf3443c3d931a367089</td>\n",
       "      <td>delivered</td>\n",
       "      <td>2018-08-08 08:38:49</td>\n",
       "      <td>2018-08-08 08:55:23</td>\n",
       "      <td>2018-08-08 13:50:00</td>\n",
       "      <td>2018-08-17 18:06:29</td>\n",
       "      <td>2018-09-04</td>\n",
       "    </tr>\n",
       "    <tr>\n",
       "      <th>3</th>\n",
       "      <td>949d5b44dbf5de918fe9c16f97b45f8a</td>\n",
       "      <td>f88197465ea7920adcdbec7375364d82</td>\n",
       "      <td>delivered</td>\n",
       "      <td>2017-11-18 19:28:06</td>\n",
       "      <td>2017-11-18 19:45:59</td>\n",
       "      <td>2017-11-22 13:39:59</td>\n",
       "      <td>2017-12-02 00:28:42</td>\n",
       "      <td>2017-12-15</td>\n",
       "    </tr>\n",
       "    <tr>\n",
       "      <th>4</th>\n",
       "      <td>ad21c59c0840e6cb83a9ceb5573f8159</td>\n",
       "      <td>8ab97904e6daea8866dbdbc4fb7aad2c</td>\n",
       "      <td>delivered</td>\n",
       "      <td>2018-02-13 21:18:39</td>\n",
       "      <td>2018-02-13 22:20:29</td>\n",
       "      <td>2018-02-14 19:46:34</td>\n",
       "      <td>2018-02-16 18:17:02</td>\n",
       "      <td>2018-02-26</td>\n",
       "    </tr>\n",
       "  </tbody>\n",
       "</table>\n",
       "</div>"
      ]
     },
     "execution_count": 88,
     "metadata": {},
     "output_type": "execute_result"
    }
   ],
   "execution_count": 88
  },
  {
   "metadata": {
    "ExecuteTime": {
     "end_time": "2025-06-04T02:01:27.979676Z",
     "start_time": "2025-06-04T02:01:27.959179Z"
    }
   },
   "cell_type": "code",
   "source": [
    "# 데이터 확인하기\n",
    "# 결측치가 없으면 최근 날짜로 확인\n",
    "# 주문 상태\n",
    "print('주문 상태: ', orders_df['order_status'].value_counts())\n",
    "# 주문 완료 날짜\n",
    "print('주문 완료일: ', orders_df['order_purchase_timestamp'].max(), orders_df['order_purchase_timestamp'].isnull().sum())\n",
    "# 결제 승인 날짜\n",
    "print('결제 승인일: ', orders_df['order_approved_at'].max(), orders_df['order_approved_at'].isnull().sum())\n",
    "# 상품 발송 날짜\n",
    "print('상품 발송일: ', orders_df['order_delivered_carrier_date'].max(),orders_df['order_delivered_carrier_date'].isnull().sum())\n",
    "# 예상 배송 날짜\n",
    "print('배송 예정일: ', orders_df['order_estimated_delivery_date'].max(), orders_df['order_estimated_delivery_date'].isnull().sum())\n",
    "# 배송 완료 날짜\n",
    "print('배송 완료일: ', orders_df['order_delivered_customer_date'].max(), orders_df['order_delivered_customer_date'].isnull().sum())"
   ],
   "id": "e690dd7cda588d08",
   "outputs": [
    {
     "name": "stdout",
     "output_type": "stream",
     "text": [
      "주문 상태:  order_status\n",
      "delivered      96478\n",
      "shipped         1107\n",
      "canceled         625\n",
      "unavailable      609\n",
      "invoiced         314\n",
      "processing       301\n",
      "created            5\n",
      "approved           2\n",
      "Name: count, dtype: int64\n",
      "주문 완료일:  2018-10-17 17:30:18 0\n",
      "결제 승인일:  2018-09-03 17:40:06 160\n",
      "상품 발송일:  2018-09-11 19:48:28 1783\n",
      "배송 예정일:  2018-11-12 00:00:00 0\n",
      "배송 완료일:  2018-10-17 13:22:46 2965\n"
     ]
    }
   ],
   "execution_count": 89
  },
  {
   "metadata": {
    "ExecuteTime": {
     "end_time": "2025-06-04T02:01:28.174506Z",
     "start_time": "2025-06-04T02:01:28.166960Z"
    }
   },
   "cell_type": "code",
   "source": [
    "# 배송 완료가 결측치인 주문들의 상태 확인\n",
    "orders_df[orders_df['order_delivered_customer_date'].isna()]['order_status'].value_counts()"
   ],
   "id": "92b603c4943d1a65",
   "outputs": [
    {
     "data": {
      "text/plain": [
       "order_status\n",
       "shipped        1107\n",
       "canceled        619\n",
       "unavailable     609\n",
       "invoiced        314\n",
       "processing      301\n",
       "delivered         8\n",
       "created           5\n",
       "approved          2\n",
       "Name: count, dtype: int64"
      ]
     },
     "execution_count": 90,
     "metadata": {},
     "output_type": "execute_result"
    }
   ],
   "execution_count": 90
  },
  {
   "metadata": {},
   "cell_type": "markdown",
   "source": "### 배송 파생 변수 및 필터링",
   "id": "4edae39f9849043d"
  },
  {
   "metadata": {},
   "cell_type": "markdown",
   "source": "#### order_status - shipped",
   "id": "e652e81875941ec6"
  },
  {
   "metadata": {
    "ExecuteTime": {
     "end_time": "2025-06-04T02:01:28.338684Z",
     "start_time": "2025-06-04T02:01:28.318976Z"
    }
   },
   "cell_type": "code",
   "source": [
    "mark = orders_df[['order_purchase_timestamp', 'order_estimated_delivery_date',\n",
    "                    'order_delivered_customer_date']].max().max()\n",
    "\n",
    "# 배송중 - 배송 예정일이 마지막 날짜 데이터보다 전이면 배송 지연\n",
    "late_shipped = orders_df[\n",
    "    (orders_df['order_status'] == 'shipped') &\n",
    "    (orders_df['order_estimated_delivery_date'] < mark)\n",
    "    ]\n",
    "\n",
    "print(f'배송 중인데 예정일 지난 주문 수: {len(late_shipped)}')\n",
    "print(f\"전체 shipped 주문 중 비율: {len(late_shipped) / (orders_df['order_status'] == 'shipped').sum() * 100:}\")"
   ],
   "id": "1d8f6f8ae6701288",
   "outputs": [
    {
     "name": "stdout",
     "output_type": "stream",
     "text": [
      "배송 중인데 예정일 지난 주문 수: 1107\n",
      "전체 shipped 주문 중 비율: 100.0\n"
     ]
    }
   ],
   "execution_count": 91
  },
  {
   "metadata": {
    "ExecuteTime": {
     "end_time": "2025-06-04T02:01:28.806679Z",
     "start_time": "2025-06-04T02:01:28.549925Z"
    }
   },
   "cell_type": "code",
   "source": [
    "# 주문 상태\n",
    "plt.figure(figsize=(8, 6))\n",
    "sns.countplot(data=orders_df, y='order_status', order=orders_df['order_status'].value_counts().index)\n",
    "plt.title('주문 상태 분포')\n",
    "plt.xticks(rotation=None)\n",
    "plt.show()"
   ],
   "id": "2a9302f89e898140",
   "outputs": [
    {
     "data": {
      "text/plain": [
       "<Figure size 800x600 with 1 Axes>"
      ],
      "image/png": "[encoded data removed]"
     },
     "metadata": {},
     "output_type": "display_data"
    }
   ],
   "execution_count": 92
  },
  {
   "metadata": {},
   "cell_type": "markdown",
   "source": "#### delivered 의 8개, canceled 의 6개",
   "id": "14123aaaea76927f"
  },
  {
   "metadata": {
    "ExecuteTime": {
     "end_time": "2025-06-04T02:01:28.885289Z",
     "start_time": "2025-06-04T02:01:28.868443Z"
    }
   },
   "cell_type": "code",
   "source": [
    "# delivered 의 8개, canceled 의 6개의 행방.. -> 제거 엔딩(필요가 없음)\n",
    "issue_delivered = orders_df[\n",
    "    (orders_df['order_status'] == 'delivered') &\n",
    "    (orders_df['order_delivered_customer_date'].isna())\n",
    "]\n",
    "print(f'\"delivere 배송완료\"지만 배송일 없는 주문수 {len(issue_delivered)} ')\n",
    "issue_canceled = orders_df[\n",
    "    (orders_df['order_status'] == 'canceled') &\n",
    "    (orders_df['order_delivered_customer_date'].notna())\n",
    "]\n",
    "print(f'\"canceled 주문취소\"지만 배송일 있는 주문수 {len(issue_canceled)} ')"
   ],
   "id": "5e5a1c190d16525",
   "outputs": [
    {
     "name": "stdout",
     "output_type": "stream",
     "text": [
      "\"delivere 배송완료\"지만 배송일 없는 주문수 8 \n",
      "\"canceled 주문취소\"지만 배송일 있는 주문수 6 \n"
     ]
    }
   ],
   "execution_count": 93
  },
  {
   "metadata": {
    "ExecuteTime": {
     "end_time": "2025-06-04T02:01:28.964344Z",
     "start_time": "2025-06-04T02:01:28.949443Z"
    }
   },
   "cell_type": "code",
   "source": [
    "# 배송 중(shipped) 주문만 따로 보관\n",
    "shipped_orders = orders_df[\n",
    "    (orders_df['order_status'] == 'shipped') &\n",
    "    (orders_df['order_delivered_customer_date'].isna())\n",
    "]\n",
    "shipped_orders.head()"
   ],
   "id": "2bf2a07bfe49ae59",
   "outputs": [
    {
     "data": {
      "text/plain": [
       "                             order_id                       customer_id  \\\n",
       "44   ee64d42b8cf066f35eac1cf57de1aa85  caded193e8e47b8362864762a83db3c5   \n",
       "154  6942b8da583c2f9957e990d028607019  52006a9383bf149a4fb24226b173106f   \n",
       "162  36530871a5e80138db53bcfd8a104d90  4dafe3c841d2d6cc8a8b6d25b35704b9   \n",
       "231  4d630f57194f5aba1a3d12ce23e71cd9  6d491c9fe2f04f6e2af6ec033cd8907c   \n",
       "299  3b4ad687e7e5190db827e1ae5a8989dd  1a87b8517b7d31373b50396eb15cb445   \n",
       "\n",
       "    order_status order_purchase_timestamp   order_approved_at  \\\n",
       "44       shipped      2018-06-04 16:44:48 2018-06-05 04:31:18   \n",
       "154      shipped      2018-01-10 11:33:07 2018-01-11 02:32:30   \n",
       "162      shipped      2017-05-09 11:48:37 2017-05-11 11:45:14   \n",
       "231      shipped      2017-11-17 19:53:21 2017-11-18 19:50:31   \n",
       "299      shipped      2018-06-28 12:52:15 2018-06-28 13:11:09   \n",
       "\n",
       "    order_delivered_carrier_date order_delivered_customer_date  \\\n",
       "44           2018-06-05 14:32:00                           NaT   \n",
       "154          2018-01-11 19:39:23                           NaT   \n",
       "162          2017-05-11 13:21:47                           NaT   \n",
       "231          2017-11-22 17:28:34                           NaT   \n",
       "299          2018-07-04 15:20:00                           NaT   \n",
       "\n",
       "    order_estimated_delivery_date  \n",
       "44                     2018-06-28  \n",
       "154                    2018-02-07  \n",
       "162                    2017-06-08  \n",
       "231                    2017-12-13  \n",
       "299                    2018-08-03  "
      ],
      "text/html": [
       "<div>\n",
       "<style scoped>\n",
       "    .dataframe tbody tr th:only-of-type {\n",
       "        vertical-align: middle;\n",
       "    }\n",
       "\n",
       "    .dataframe tbody tr th {\n",
       "        vertical-align: top;\n",
       "    }\n",
       "\n",
       "    .dataframe thead th {\n",
       "        text-align: right;\n",
       "    }\n",
       "</style>\n",
       "<table border=\"1\" class=\"dataframe\">\n",
       "  <thead>\n",
       "    <tr style=\"text-align: right;\">\n",
       "      <th></th>\n",
       "      <th>order_id</th>\n",
       "      <th>customer_id</th>\n",
       "      <th>order_status</th>\n",
       "      <th>order_purchase_timestamp</th>\n",
       "      <th>order_approved_at</th>\n",
       "      <th>order_delivered_carrier_date</th>\n",
       "      <th>order_delivered_customer_date</th>\n",
       "      <th>order_estimated_delivery_date</th>\n",
       "    </tr>\n",
       "  </thead>\n",
       "  <tbody>\n",
       "    <tr>\n",
       "      <th>44</th>\n",
       "      <td>ee64d42b8cf066f35eac1cf57de1aa85</td>\n",
       "      <td>caded193e8e47b8362864762a83db3c5</td>\n",
       "      <td>shipped</td>\n",
       "      <td>2018-06-04 16:44:48</td>\n",
       "      <td>2018-06-05 04:31:18</td>\n",
       "      <td>2018-06-05 14:32:00</td>\n",
       "      <td>NaT</td>\n",
       "      <td>2018-06-28</td>\n",
       "    </tr>\n",
       "    <tr>\n",
       "      <th>154</th>\n",
       "      <td>6942b8da583c2f9957e990d028607019</td>\n",
       "      <td>52006a9383bf149a4fb24226b173106f</td>\n",
       "      <td>shipped</td>\n",
       "      <td>2018-01-10 11:33:07</td>\n",
       "      <td>2018-01-11 02:32:30</td>\n",
       "      <td>2018-01-11 19:39:23</td>\n",
       "      <td>NaT</td>\n",
       "      <td>2018-02-07</td>\n",
       "    </tr>\n",
       "    <tr>\n",
       "      <th>162</th>\n",
       "      <td>36530871a5e80138db53bcfd8a104d90</td>\n",
       "      <td>4dafe3c841d2d6cc8a8b6d25b35704b9</td>\n",
       "      <td>shipped</td>\n",
       "      <td>2017-05-09 11:48:37</td>\n",
       "      <td>2017-05-11 11:45:14</td>\n",
       "      <td>2017-05-11 13:21:47</td>\n",
       "      <td>NaT</td>\n",
       "      <td>2017-06-08</td>\n",
       "    </tr>\n",
       "    <tr>\n",
       "      <th>231</th>\n",
       "      <td>4d630f57194f5aba1a3d12ce23e71cd9</td>\n",
       "      <td>6d491c9fe2f04f6e2af6ec033cd8907c</td>\n",
       "      <td>shipped</td>\n",
       "      <td>2017-11-17 19:53:21</td>\n",
       "      <td>2017-11-18 19:50:31</td>\n",
       "      <td>2017-11-22 17:28:34</td>\n",
       "      <td>NaT</td>\n",
       "      <td>2017-12-13</td>\n",
       "    </tr>\n",
       "    <tr>\n",
       "      <th>299</th>\n",
       "      <td>3b4ad687e7e5190db827e1ae5a8989dd</td>\n",
       "      <td>1a87b8517b7d31373b50396eb15cb445</td>\n",
       "      <td>shipped</td>\n",
       "      <td>2018-06-28 12:52:15</td>\n",
       "      <td>2018-06-28 13:11:09</td>\n",
       "      <td>2018-07-04 15:20:00</td>\n",
       "      <td>NaT</td>\n",
       "      <td>2018-08-03</td>\n",
       "    </tr>\n",
       "  </tbody>\n",
       "</table>\n",
       "</div>"
      ]
     },
     "execution_count": 94,
     "metadata": {},
     "output_type": "execute_result"
    }
   ],
   "execution_count": 94
  },
  {
   "metadata": {
    "ExecuteTime": {
     "end_time": "2025-06-04T02:01:29.085714Z",
     "start_time": "2025-06-04T02:01:29.064010Z"
    }
   },
   "cell_type": "code",
   "source": [
    "# 분석 불가능한 row 제거 (빼고 남기기) 96456\n",
    "# 1. delivered인데 - 나머지 다 제거\n",
    "# 2. 배송 완료일이 null이 아니고 - 배송 완료일이 null인 경우(8)\n",
    "# 3. 배송 승인일이 null이 아니고\n",
    "# 4. 고객 주문일도 null이 아니고\n",
    "delivery_df = orders_df[\n",
    "    (orders_df['order_status'] == 'delivered') &\n",
    "    (orders_df['order_delivered_customer_date'].notna()) &\n",
    "    (orders_df['order_approved_at'].notna()) &\n",
    "    (orders_df['order_purchase_timestamp'].notna())\n",
    "]"
   ],
   "id": "4f230db4bb8b8418",
   "outputs": [],
   "execution_count": 95
  },
  {
   "metadata": {
    "ExecuteTime": {
     "end_time": "2025-06-04T02:01:29.318198Z",
     "start_time": "2025-06-04T02:01:29.299831Z"
    }
   },
   "cell_type": "code",
   "source": [
    "# 전체 데이터 수 96470\n",
    "delivery_df.info()"
   ],
   "id": "ba6d5120e6f9f8d9",
   "outputs": [
    {
     "name": "stdout",
     "output_type": "stream",
     "text": [
      "<class 'pandas.core.frame.DataFrame'>\n",
      "Index: 96456 entries, 0 to 99440\n",
      "Data columns (total 8 columns):\n",
      " #   Column                         Non-Null Count  Dtype         \n",
      "---  ------                         --------------  -----         \n",
      " 0   order_id                       96456 non-null  object        \n",
      " 1   customer_id                    96456 non-null  object        \n",
      " 2   order_status                   96456 non-null  object        \n",
      " 3   order_purchase_timestamp       96456 non-null  datetime64[ns]\n",
      " 4   order_approved_at              96456 non-null  datetime64[ns]\n",
      " 5   order_delivered_carrier_date   96455 non-null  datetime64[ns]\n",
      " 6   order_delivered_customer_date  96456 non-null  datetime64[ns]\n",
      " 7   order_estimated_delivery_date  96456 non-null  datetime64[ns]\n",
      "dtypes: datetime64[ns](5), object(3)\n",
      "memory usage: 6.6+ MB\n"
     ]
    }
   ],
   "execution_count": 96
  },
  {
   "metadata": {},
   "cell_type": "markdown",
   "source": "#### 데이터 병합",
   "id": "ec5b81d220b99682"
  },
  {
   "metadata": {
    "ExecuteTime": {
     "end_time": "2025-06-04T02:01:30.221205Z",
     "start_time": "2025-06-04T02:01:29.441632Z"
    }
   },
   "cell_type": "code",
   "source": [
    "# customer_unique_id 99441\n",
    "customers_df.groupby('customer_unique_id')['customer_id'].nunique().value_counts()\n",
    "customers_df.groupby('customer_unique_id')['customer_id'].count().sort_values(ascending=False).head(3)\n",
    "print('customer_id: ', customers_df.value_counts().count())\n",
    "print('customer_unique_id: ', customers_df['customer_unique_id'].value_counts().count())\n",
    "print('delivery_data: ', delivery_df.value_counts().count())"
   ],
   "id": "ddc755791018badd",
   "outputs": [
    {
     "name": "stdout",
     "output_type": "stream",
     "text": [
      "customer_id:  99441\n",
      "customer_unique_id:  96096\n",
      "delivery_data:  96455\n"
     ]
    }
   ],
   "execution_count": 97
  },
  {
   "metadata": {
    "ExecuteTime": {
     "end_time": "2025-06-04T02:01:30.333703Z",
     "start_time": "2025-06-04T02:01:30.268437Z"
    }
   },
   "cell_type": "code",
   "source": [
    "# deliver_df 와 unique_id 병합\n",
    "delivery_df = delivery_df.merge(\n",
    "    customers_df[['customer_id', 'customer_unique_id']],\n",
    "    on='customer_id',\n",
    "    how='left'\n",
    ")"
   ],
   "id": "b111749944b6d712",
   "outputs": [],
   "execution_count": 98
  },
  {
   "metadata": {
    "ExecuteTime": {
     "end_time": "2025-06-04T02:01:30.407643Z",
     "start_time": "2025-06-04T02:01:30.383012Z"
    }
   },
   "cell_type": "code",
   "source": "delivery_df.info()",
   "id": "bc00ae3055080d50",
   "outputs": [
    {
     "name": "stdout",
     "output_type": "stream",
     "text": [
      "<class 'pandas.core.frame.DataFrame'>\n",
      "RangeIndex: 96456 entries, 0 to 96455\n",
      "Data columns (total 9 columns):\n",
      " #   Column                         Non-Null Count  Dtype         \n",
      "---  ------                         --------------  -----         \n",
      " 0   order_id                       96456 non-null  object        \n",
      " 1   customer_id                    96456 non-null  object        \n",
      " 2   order_status                   96456 non-null  object        \n",
      " 3   order_purchase_timestamp       96456 non-null  datetime64[ns]\n",
      " 4   order_approved_at              96456 non-null  datetime64[ns]\n",
      " 5   order_delivered_carrier_date   96455 non-null  datetime64[ns]\n",
      " 6   order_delivered_customer_date  96456 non-null  datetime64[ns]\n",
      " 7   order_estimated_delivery_date  96456 non-null  datetime64[ns]\n",
      " 8   customer_unique_id             96456 non-null  object        \n",
      "dtypes: datetime64[ns](5), object(4)\n",
      "memory usage: 6.6+ MB\n"
     ]
    }
   ],
   "execution_count": 99
  },
  {
   "metadata": {},
   "cell_type": "markdown",
   "source": "#### 파생 변수 생성",
   "id": "2cfbd246bff43eec"
  },
  {
   "metadata": {
    "ExecuteTime": {
     "end_time": "2025-06-04T02:01:30.471081Z",
     "start_time": "2025-06-04T02:01:30.458714Z"
    }
   },
   "cell_type": "code",
   "source": [
    "# 날짜 타입 확인\n",
    "date_cols = [\n",
    "    'order_purchase_timestamp',\n",
    "    'order_approved_at',\n",
    "    'order_delivered_customer_date',\n",
    "    'order_estimated_delivery_date'\n",
    "]\n",
    "delivery_df[date_cols].head()"
   ],
   "id": "a21d599163147d8c",
   "outputs": [
    {
     "data": {
      "text/plain": [
       "  order_purchase_timestamp   order_approved_at order_delivered_customer_date  \\\n",
       "0      2017-10-02 10:56:33 2017-10-02 11:07:15           2017-10-10 21:25:13   \n",
       "1      2018-07-24 20:41:37 2018-07-26 03:24:27           2018-08-07 15:27:45   \n",
       "2      2018-08-08 08:38:49 2018-08-08 08:55:23           2018-08-17 18:06:29   \n",
       "3      2017-11-18 19:28:06 2017-11-18 19:45:59           2017-12-02 00:28:42   \n",
       "4      2018-02-13 21:18:39 2018-02-13 22:20:29           2018-02-16 18:17:02   \n",
       "\n",
       "  order_estimated_delivery_date  \n",
       "0                    2017-10-18  \n",
       "1                    2018-08-13  \n",
       "2                    2018-09-04  \n",
       "3                    2017-12-15  \n",
       "4                    2018-02-26  "
      ],
      "text/html": [
       "<div>\n",
       "<style scoped>\n",
       "    .dataframe tbody tr th:only-of-type {\n",
       "        vertical-align: middle;\n",
       "    }\n",
       "\n",
       "    .dataframe tbody tr th {\n",
       "        vertical-align: top;\n",
       "    }\n",
       "\n",
       "    .dataframe thead th {\n",
       "        text-align: right;\n",
       "    }\n",
       "</style>\n",
       "<table border=\"1\" class=\"dataframe\">\n",
       "  <thead>\n",
       "    <tr style=\"text-align: right;\">\n",
       "      <th></th>\n",
       "      <th>order_purchase_timestamp</th>\n",
       "      <th>order_approved_at</th>\n",
       "      <th>order_delivered_customer_date</th>\n",
       "      <th>order_estimated_delivery_date</th>\n",
       "    </tr>\n",
       "  </thead>\n",
       "  <tbody>\n",
       "    <tr>\n",
       "      <th>0</th>\n",
       "      <td>2017-10-02 10:56:33</td>\n",
       "      <td>2017-10-02 11:07:15</td>\n",
       "      <td>2017-10-10 21:25:13</td>\n",
       "      <td>2017-10-18</td>\n",
       "    </tr>\n",
       "    <tr>\n",
       "      <th>1</th>\n",
       "      <td>2018-07-24 20:41:37</td>\n",
       "      <td>2018-07-26 03:24:27</td>\n",
       "      <td>2018-08-07 15:27:45</td>\n",
       "      <td>2018-08-13</td>\n",
       "    </tr>\n",
       "    <tr>\n",
       "      <th>2</th>\n",
       "      <td>2018-08-08 08:38:49</td>\n",
       "      <td>2018-08-08 08:55:23</td>\n",
       "      <td>2018-08-17 18:06:29</td>\n",
       "      <td>2018-09-04</td>\n",
       "    </tr>\n",
       "    <tr>\n",
       "      <th>3</th>\n",
       "      <td>2017-11-18 19:28:06</td>\n",
       "      <td>2017-11-18 19:45:59</td>\n",
       "      <td>2017-12-02 00:28:42</td>\n",
       "      <td>2017-12-15</td>\n",
       "    </tr>\n",
       "    <tr>\n",
       "      <th>4</th>\n",
       "      <td>2018-02-13 21:18:39</td>\n",
       "      <td>2018-02-13 22:20:29</td>\n",
       "      <td>2018-02-16 18:17:02</td>\n",
       "      <td>2018-02-26</td>\n",
       "    </tr>\n",
       "  </tbody>\n",
       "</table>\n",
       "</div>"
      ]
     },
     "execution_count": 100,
     "metadata": {},
     "output_type": "execute_result"
    }
   ],
   "execution_count": 100
  },
  {
   "metadata": {
    "ExecuteTime": {
     "end_time": "2025-06-04T02:01:30.590671Z",
     "start_time": "2025-06-04T02:01:30.568962Z"
    }
   },
   "cell_type": "code",
   "source": [
    "# 결제 승인 까지 걸린 시간\n",
    "delivery_df['approval_days'] = (\n",
    "    delivery_df['order_approved_at'] - delivery_df['order_purchase_timestamp']\n",
    ").dt.days + 1\n",
    "\n",
    "# 총 소요시간(구매~배송완료까지)\n",
    "delivery_df['total_days'] = (\n",
    "    delivery_df['order_delivered_customer_date'] - delivery_df['order_purchase_timestamp']\n",
    ").dt.days + 1\n",
    "\n",
    "# 배송 지연\n",
    "# delay_days > 0 : 지연배송 이탈 가능성 높음\n",
    "# delay_days < 0 : 조기배송 이탈 가능성 낮음\n",
    "delivery_df['delay_days'] = (\n",
    "    delivery_df['order_estimated_delivery_date'] - delivery_df['order_delivered_customer_date']\n",
    ").dt.days"
   ],
   "id": "faa2a20feaf8c189",
   "outputs": [],
   "execution_count": 101
  },
  {
   "metadata": {},
   "cell_type": "markdown",
   "source": "#### 변수 병합",
   "id": "9d7f6892969f1e9"
  },
  {
   "metadata": {
    "ExecuteTime": {
     "end_time": "2025-06-04T02:01:30.745560Z",
     "start_time": "2025-06-04T02:01:30.727125Z"
    }
   },
   "cell_type": "code",
   "source": [
    "# cols_to_drop = ['delay_days', 'total_days', 'approval_days']\n",
    "# rfm_df.drop(columns=cols_to_drop, inplace=True)\n",
    "rfm_df.info()"
   ],
   "id": "d1f718de6ebd8602",
   "outputs": [
    {
     "name": "stdout",
     "output_type": "stream",
     "text": [
      "<class 'pandas.core.frame.DataFrame'>\n",
      "RangeIndex: 96095 entries, 0 to 96094\n",
      "Data columns (total 12 columns):\n",
      " #   Column              Non-Null Count  Dtype   \n",
      "---  ------              --------------  -----   \n",
      " 0   customer_unique_id  96095 non-null  object  \n",
      " 1   Recency             96095 non-null  int64   \n",
      " 2   Frequency           96095 non-null  int64   \n",
      " 3   Monetary            96095 non-null  float64 \n",
      " 4   Frequency_level     96095 non-null  category\n",
      " 5   F_score             96095 non-null  int64   \n",
      " 6   R_quantile          96095 non-null  int64   \n",
      " 7   M_quantile          96095 non-null  int64   \n",
      " 8   R_score             96095 non-null  int64   \n",
      " 9   M_score             96095 non-null  int64   \n",
      " 10  RFM_score           96095 non-null  object  \n",
      " 11  churn               96095 non-null  int64   \n",
      "dtypes: category(1), float64(1), int64(8), object(2)\n",
      "memory usage: 8.2+ MB\n"
     ]
    }
   ],
   "execution_count": 102
  },
  {
   "metadata": {
    "ExecuteTime": {
     "end_time": "2025-06-04T02:01:31.110505Z",
     "start_time": "2025-06-04T02:01:30.842456Z"
    }
   },
   "cell_type": "code",
   "source": [
    "# unique_id 에 맞춰 평균으로 처리\n",
    "delivery_df = delivery_df.groupby('customer_unique_id').agg({\n",
    "    'delay_days': 'mean',\n",
    "    'total_days': 'mean',\n",
    "    'approval_days': 'mean',\n",
    "}).reset_index()\n",
    "delivery_df.head()\n",
    "print(f'deliver_df 평균처리 후 개수: {len(delivery_df)}')\n",
    "\n",
    "# rfm 테이블 병합\n",
    "# 배송정보 있는 고객만 체크\n",
    "model_df = rfm_df.merge(\n",
    "    delivery_df,\n",
    "    on='customer_unique_id',\n",
    "    how='inner'\n",
    ")\n",
    "model_df.head()\n",
    "print(f'model_df 병합 후 개수: {len(model_df)}')"
   ],
   "id": "eab7a45307466167",
   "outputs": [
    {
     "name": "stdout",
     "output_type": "stream",
     "text": [
      "deliver_df 평균처리 후 개수: 93337\n",
      "model_df 병합 후 개수: 93336\n"
     ]
    }
   ],
   "execution_count": 103
  },
  {
   "metadata": {
    "ExecuteTime": {
     "end_time": "2025-06-04T02:01:31.216825Z",
     "start_time": "2025-06-04T02:01:31.191324Z"
    }
   },
   "cell_type": "code",
   "source": "model_df.info()",
   "id": "7b9fd5464d155a6d",
   "outputs": [
    {
     "name": "stdout",
     "output_type": "stream",
     "text": [
      "<class 'pandas.core.frame.DataFrame'>\n",
      "RangeIndex: 93336 entries, 0 to 93335\n",
      "Data columns (total 15 columns):\n",
      " #   Column              Non-Null Count  Dtype   \n",
      "---  ------              --------------  -----   \n",
      " 0   customer_unique_id  93336 non-null  object  \n",
      " 1   Recency             93336 non-null  int64   \n",
      " 2   Frequency           93336 non-null  int64   \n",
      " 3   Monetary            93336 non-null  float64 \n",
      " 4   Frequency_level     93336 non-null  category\n",
      " 5   F_score             93336 non-null  int64   \n",
      " 6   R_quantile          93336 non-null  int64   \n",
      " 7   M_quantile          93336 non-null  int64   \n",
      " 8   R_score             93336 non-null  int64   \n",
      " 9   M_score             93336 non-null  int64   \n",
      " 10  RFM_score           93336 non-null  object  \n",
      " 11  churn               93336 non-null  int64   \n",
      " 12  delay_days          93336 non-null  float64 \n",
      " 13  total_days          93336 non-null  float64 \n",
      " 14  approval_days       93336 non-null  float64 \n",
      "dtypes: category(1), float64(4), int64(8), object(2)\n",
      "memory usage: 10.1+ MB\n"
     ]
    }
   ],
   "execution_count": 104
  },
  {
   "metadata": {},
   "cell_type": "markdown",
   "source": "## 모델링",
   "id": "d40df79072732310"
  },
  {
   "metadata": {},
   "cell_type": "markdown",
   "source": "### 데이터 준비",
   "id": "c1df861abb8df1de"
  },
  {
   "metadata": {
    "ExecuteTime": {
     "end_time": "2025-06-04T02:01:31.327138Z",
     "start_time": "2025-06-04T02:01:31.270289Z"
    }
   },
   "cell_type": "code",
   "source": [
    "model_df.head()\n",
    "model_df.describe()"
   ],
   "id": "5e6986c301895892",
   "outputs": [
    {
     "data": {
      "text/plain": [
       "            Recency     Frequency      Monetary       F_score    R_quantile  \\\n",
       "count  93336.000000  93336.000000  93336.000000  93336.000000  93336.000000   \n",
       "mean     287.001254      1.035624    165.626488      1.005593      1.982268   \n",
       "std      152.539398      0.216889    229.080342      0.109987      1.413485   \n",
       "min        1.000000      1.000000      9.590000      1.000000      0.000000   \n",
       "25%      163.000000      1.000000     63.100000      1.000000      1.000000   \n",
       "50%      268.000000      1.000000    107.900000      1.000000      2.000000   \n",
       "75%      395.000000      1.000000    182.910000      1.000000      3.000000   \n",
       "max      745.000000     17.000000  13664.080000      5.000000      4.000000   \n",
       "\n",
       "         M_quantile       R_score       M_score         churn    delay_days  \\\n",
       "count  93336.000000  93336.000000  93336.000000  93336.000000  93336.000000   \n",
       "mean       1.996722      3.017732      2.996722      0.394874     10.847270   \n",
       "std        1.413126      1.413485      1.413126      0.488826     10.137426   \n",
       "min        0.000000      1.000000      1.000000      0.000000   -189.000000   \n",
       "25%        1.000000      2.000000      2.000000      0.000000      6.000000   \n",
       "50%        2.000000      3.000000      3.000000      0.000000     11.000000   \n",
       "75%        3.000000      4.000000      4.000000      1.000000     16.000000   \n",
       "max        4.000000      5.000000      5.000000      1.000000    146.000000   \n",
       "\n",
       "         total_days  approval_days  \n",
       "count  93336.000000   93336.000000  \n",
       "mean      13.102296       1.264601  \n",
       "std        9.551110       0.726947  \n",
       "min        1.000000       1.000000  \n",
       "25%        7.000000       1.000000  \n",
       "50%       11.000000       1.000000  \n",
       "75%       16.000000       1.000000  \n",
       "max      210.000000      31.000000  "
      ],
      "text/html": [
       "<div>\n",
       "<style scoped>\n",
       "    .dataframe tbody tr th:only-of-type {\n",
       "        vertical-align: middle;\n",
       "    }\n",
       "\n",
       "    .dataframe tbody tr th {\n",
       "        vertical-align: top;\n",
       "    }\n",
       "\n",
       "    .dataframe thead th {\n",
       "        text-align: right;\n",
       "    }\n",
       "</style>\n",
       "<table border=\"1\" class=\"dataframe\">\n",
       "  <thead>\n",
       "    <tr style=\"text-align: right;\">\n",
       "      <th></th>\n",
       "      <th>Recency</th>\n",
       "      <th>Frequency</th>\n",
       "      <th>Monetary</th>\n",
       "      <th>F_score</th>\n",
       "      <th>R_quantile</th>\n",
       "      <th>M_quantile</th>\n",
       "      <th>R_score</th>\n",
       "      <th>M_score</th>\n",
       "      <th>churn</th>\n",
       "      <th>delay_days</th>\n",
       "      <th>total_days</th>\n",
       "      <th>approval_days</th>\n",
       "    </tr>\n",
       "  </thead>\n",
       "  <tbody>\n",
       "    <tr>\n",
       "      <th>count</th>\n",
       "      <td>93336.000000</td>\n",
       "      <td>93336.000000</td>\n",
       "      <td>93336.000000</td>\n",
       "      <td>93336.000000</td>\n",
       "      <td>93336.000000</td>\n",
       "      <td>93336.000000</td>\n",
       "      <td>93336.000000</td>\n",
       "      <td>93336.000000</td>\n",
       "      <td>93336.000000</td>\n",
       "      <td>93336.000000</td>\n",
       "      <td>93336.000000</td>\n",
       "      <td>93336.000000</td>\n",
       "    </tr>\n",
       "    <tr>\n",
       "      <th>mean</th>\n",
       "      <td>287.001254</td>\n",
       "      <td>1.035624</td>\n",
       "      <td>165.626488</td>\n",
       "      <td>1.005593</td>\n",
       "      <td>1.982268</td>\n",
       "      <td>1.996722</td>\n",
       "      <td>3.017732</td>\n",
       "      <td>2.996722</td>\n",
       "      <td>0.394874</td>\n",
       "      <td>10.847270</td>\n",
       "      <td>13.102296</td>\n",
       "      <td>1.264601</td>\n",
       "    </tr>\n",
       "    <tr>\n",
       "      <th>std</th>\n",
       "      <td>152.539398</td>\n",
       "      <td>0.216889</td>\n",
       "      <td>229.080342</td>\n",
       "      <td>0.109987</td>\n",
       "      <td>1.413485</td>\n",
       "      <td>1.413126</td>\n",
       "      <td>1.413485</td>\n",
       "      <td>1.413126</td>\n",
       "      <td>0.488826</td>\n",
       "      <td>10.137426</td>\n",
       "      <td>9.551110</td>\n",
       "      <td>0.726947</td>\n",
       "    </tr>\n",
       "    <tr>\n",
       "      <th>min</th>\n",
       "      <td>1.000000</td>\n",
       "      <td>1.000000</td>\n",
       "      <td>9.590000</td>\n",
       "      <td>1.000000</td>\n",
       "      <td>0.000000</td>\n",
       "      <td>0.000000</td>\n",
       "      <td>1.000000</td>\n",
       "      <td>1.000000</td>\n",
       "      <td>0.000000</td>\n",
       "      <td>-189.000000</td>\n",
       "      <td>1.000000</td>\n",
       "      <td>1.000000</td>\n",
       "    </tr>\n",
       "    <tr>\n",
       "      <th>25%</th>\n",
       "      <td>163.000000</td>\n",
       "      <td>1.000000</td>\n",
       "      <td>63.100000</td>\n",
       "      <td>1.000000</td>\n",
       "      <td>1.000000</td>\n",
       "      <td>1.000000</td>\n",
       "      <td>2.000000</td>\n",
       "      <td>2.000000</td>\n",
       "      <td>0.000000</td>\n",
       "      <td>6.000000</td>\n",
       "      <td>7.000000</td>\n",
       "      <td>1.000000</td>\n",
       "    </tr>\n",
       "    <tr>\n",
       "      <th>50%</th>\n",
       "      <td>268.000000</td>\n",
       "      <td>1.000000</td>\n",
       "      <td>107.900000</td>\n",
       "      <td>1.000000</td>\n",
       "      <td>2.000000</td>\n",
       "      <td>2.000000</td>\n",
       "      <td>3.000000</td>\n",
       "      <td>3.000000</td>\n",
       "      <td>0.000000</td>\n",
       "      <td>11.000000</td>\n",
       "      <td>11.000000</td>\n",
       "      <td>1.000000</td>\n",
       "    </tr>\n",
       "    <tr>\n",
       "      <th>75%</th>\n",
       "      <td>395.000000</td>\n",
       "      <td>1.000000</td>\n",
       "      <td>182.910000</td>\n",
       "      <td>1.000000</td>\n",
       "      <td>3.000000</td>\n",
       "      <td>3.000000</td>\n",
       "      <td>4.000000</td>\n",
       "      <td>4.000000</td>\n",
       "      <td>1.000000</td>\n",
       "      <td>16.000000</td>\n",
       "      <td>16.000000</td>\n",
       "      <td>1.000000</td>\n",
       "    </tr>\n",
       "    <tr>\n",
       "      <th>max</th>\n",
       "      <td>745.000000</td>\n",
       "      <td>17.000000</td>\n",
       "      <td>13664.080000</td>\n",
       "      <td>5.000000</td>\n",
       "      <td>4.000000</td>\n",
       "      <td>4.000000</td>\n",
       "      <td>5.000000</td>\n",
       "      <td>5.000000</td>\n",
       "      <td>1.000000</td>\n",
       "      <td>146.000000</td>\n",
       "      <td>210.000000</td>\n",
       "      <td>31.000000</td>\n",
       "    </tr>\n",
       "  </tbody>\n",
       "</table>\n",
       "</div>"
      ]
     },
     "execution_count": 105,
     "metadata": {},
     "output_type": "execute_result"
    }
   ],
   "execution_count": 105
  },
  {
   "metadata": {
    "ExecuteTime": {
     "end_time": "2025-06-04T02:01:31.475589Z",
     "start_time": "2025-06-04T02:01:31.410839Z"
    }
   },
   "cell_type": "code",
   "source": [
    "# 사용 변수 (RFM + 배송관련 변수)\n",
    "features = ['Recency', 'Frequency', 'Monetary',\n",
    "            'delay_days', 'total_days', 'approval_days']\n",
    "\n",
    "# 타겟 변수\n",
    "target = 'churn'\n",
    "\n",
    "X = model_df[features]\n",
    "y = model_df[target]\n",
    "\n",
    "# 데이터 분할\n",
    "from sklearn.model_selection import train_test_split\n",
    "from sklearn.preprocessing import StandardScaler\n",
    "\n",
    "X_train, X_test, y_train, y_test = train_test_split(X, y, test_size=0.2, random_state=42, stratify=y)\n",
    "print(X_train.shape, y_train.shape)\n",
    "print(X_test.shape, y_test.shape)\n",
    "\n",
    "# 데이터 스케일링\n",
    "scaler = StandardScaler()\n",
    "X_train_scaled = scaler.fit_transform(X_train)\n",
    "X_test_scaled = scaler.transform(X_test)\n",
    "pd.DataFrame(X_train_scaled, columns=features).head()"
   ],
   "id": "3c82225e4bae2cb3",
   "outputs": [
    {
     "name": "stdout",
     "output_type": "stream",
     "text": [
      "(74668, 6) (74668,)\n",
      "(18668, 6) (18668,)\n"
     ]
    },
    {
     "data": {
      "text/plain": [
       "    Recency  Frequency  Monetary  delay_days  total_days  approval_days\n",
       "0 -0.209177  -0.162541 -0.595212    0.506406   -0.220164      -0.359802\n",
       "1 -0.687270  -0.162541  0.294469    0.800332    0.091429      -0.359802\n",
       "2 -1.093322  -0.162541 -0.491922    1.192232   -0.739485      -0.359802\n",
       "3  1.166160  -0.162541 -0.338781    0.016530   -0.220164      -0.359802\n",
       "4  0.753559  -0.162541 -0.427115   -0.179420   -0.116300      -0.359802"
      ],
      "text/html": [
       "<div>\n",
       "<style scoped>\n",
       "    .dataframe tbody tr th:only-of-type {\n",
       "        vertical-align: middle;\n",
       "    }\n",
       "\n",
       "    .dataframe tbody tr th {\n",
       "        vertical-align: top;\n",
       "    }\n",
       "\n",
       "    .dataframe thead th {\n",
       "        text-align: right;\n",
       "    }\n",
       "</style>\n",
       "<table border=\"1\" class=\"dataframe\">\n",
       "  <thead>\n",
       "    <tr style=\"text-align: right;\">\n",
       "      <th></th>\n",
       "      <th>Recency</th>\n",
       "      <th>Frequency</th>\n",
       "      <th>Monetary</th>\n",
       "      <th>delay_days</th>\n",
       "      <th>total_days</th>\n",
       "      <th>approval_days</th>\n",
       "    </tr>\n",
       "  </thead>\n",
       "  <tbody>\n",
       "    <tr>\n",
       "      <th>0</th>\n",
       "      <td>-0.209177</td>\n",
       "      <td>-0.162541</td>\n",
       "      <td>-0.595212</td>\n",
       "      <td>0.506406</td>\n",
       "      <td>-0.220164</td>\n",
       "      <td>-0.359802</td>\n",
       "    </tr>\n",
       "    <tr>\n",
       "      <th>1</th>\n",
       "      <td>-0.687270</td>\n",
       "      <td>-0.162541</td>\n",
       "      <td>0.294469</td>\n",
       "      <td>0.800332</td>\n",
       "      <td>0.091429</td>\n",
       "      <td>-0.359802</td>\n",
       "    </tr>\n",
       "    <tr>\n",
       "      <th>2</th>\n",
       "      <td>-1.093322</td>\n",
       "      <td>-0.162541</td>\n",
       "      <td>-0.491922</td>\n",
       "      <td>1.192232</td>\n",
       "      <td>-0.739485</td>\n",
       "      <td>-0.359802</td>\n",
       "    </tr>\n",
       "    <tr>\n",
       "      <th>3</th>\n",
       "      <td>1.166160</td>\n",
       "      <td>-0.162541</td>\n",
       "      <td>-0.338781</td>\n",
       "      <td>0.016530</td>\n",
       "      <td>-0.220164</td>\n",
       "      <td>-0.359802</td>\n",
       "    </tr>\n",
       "    <tr>\n",
       "      <th>4</th>\n",
       "      <td>0.753559</td>\n",
       "      <td>-0.162541</td>\n",
       "      <td>-0.427115</td>\n",
       "      <td>-0.179420</td>\n",
       "      <td>-0.116300</td>\n",
       "      <td>-0.359802</td>\n",
       "    </tr>\n",
       "  </tbody>\n",
       "</table>\n",
       "</div>"
      ]
     },
     "execution_count": 106,
     "metadata": {},
     "output_type": "execute_result"
    }
   ],
   "execution_count": 106
  },
  {
   "metadata": {},
   "cell_type": "markdown",
   "source": "### 모델 학습 및 예측",
   "id": "e7811bfc9f560d5a"
  },
  {
   "metadata": {
    "ExecuteTime": {
     "end_time": "2025-06-04T02:01:44.938795Z",
     "start_time": "2025-06-04T02:01:31.650301Z"
    }
   },
   "cell_type": "code",
   "source": [
    "from sklearn.model_selection import GridSearchCV\n",
    "from sklearn.linear_model import LogisticRegression\n",
    "\n",
    "param_grid = {\n",
    "    'class_weight':['balanced', None],\n",
    "    'C': [0.01, 0.1, 1, 10],\n",
    "    'solver': ['liblinear'],\n",
    "    'penalty': ['l1', 'l2']\n",
    "}\n",
    "grid = GridSearchCV(LogisticRegression(max_iter=500), param_grid=param_grid, cv=5, scoring='accuracy' )\n",
    "grid.fit(X_train_scaled, y_train)\n",
    "\n",
    "best_model = grid.best_estimator_\n",
    "print('Best params:', grid.best_params_)\n",
    "print('Best accuracy:', grid.best_score_)\n",
    "print('Best model:', grid.best_estimator_)"
   ],
   "id": "2d3951c114e553fd",
   "outputs": [
    {
     "name": "stdout",
     "output_type": "stream",
     "text": [
      "Best params: {'C': 10, 'class_weight': None, 'penalty': 'l1', 'solver': 'liblinear'}\n",
      "Best accuracy: 0.9926206848785071\n",
      "Best model: LogisticRegression(C=10, max_iter=500, penalty='l1', solver='liblinear')\n"
     ]
    }
   ],
   "execution_count": 107
  },
  {
   "metadata": {
    "ExecuteTime": {
     "end_time": "2025-06-04T02:01:45.420574Z",
     "start_time": "2025-06-04T02:01:44.967321Z"
    }
   },
   "cell_type": "code",
   "source": [
    "# 모델 학습\n",
    "model = LogisticRegression(\n",
    "    max_iter=500,\n",
    "    class_weight='balanced',\n",
    "    C= 10,\n",
    "    penalty='l1',\n",
    "    solver='liblinear'\n",
    ")\n",
    "model.fit(X_train_scaled, y_train)\n",
    "\n",
    "# 모델 예측\n",
    "y_pred = model.predict(X_test_scaled)\n",
    "y_pred_best = best_model.predict(X_test_scaled)"
   ],
   "id": "23429590ab1f6f8b",
   "outputs": [],
   "execution_count": 108
  },
  {
   "metadata": {},
   "cell_type": "markdown",
   "source": "### 모델 평가",
   "id": "7eb2c7db28cba222"
  },
  {
   "metadata": {
    "ExecuteTime": {
     "end_time": "2025-06-04T02:01:45.445728Z",
     "start_time": "2025-06-04T02:01:45.429067Z"
    }
   },
   "cell_type": "code",
   "source": [
    "from sklearn.metrics import accuracy_score, confusion_matrix, classification_report\n",
    "\n",
    "print('Accuracy: ', accuracy_score(y_test, y_pred))\n",
    "print('Confusion Matrix: \\n', confusion_matrix(y_test, y_pred))\n",
    "print('Classification Report: \\n', classification_report(y_test, y_pred))"
   ],
   "id": "58df3deba542bd39",
   "outputs": [
    {
     "name": "stdout",
     "output_type": "stream",
     "text": [
      "Accuracy:  0.992446968073709\n",
      "Confusion Matrix: \n",
      " [[11183   113]\n",
      " [   28  7344]]\n",
      "Classification Report: \n",
      "               precision    recall  f1-score   support\n",
      "\n",
      "           0       1.00      0.99      0.99     11296\n",
      "           1       0.98      1.00      0.99      7372\n",
      "\n",
      "    accuracy                           0.99     18668\n",
      "   macro avg       0.99      0.99      0.99     18668\n",
      "weighted avg       0.99      0.99      0.99     18668\n",
      "\n"
     ]
    }
   ],
   "execution_count": 109
  },
  {
   "metadata": {
    "ExecuteTime": {
     "end_time": "2025-06-04T02:01:45.504634Z",
     "start_time": "2025-06-04T02:01:45.498317Z"
    }
   },
   "cell_type": "code",
   "source": [
    "# coef_\n",
    "model.coef_.shape # (1, 1, 6)\n",
    "print(model.coef_)"
   ],
   "id": "d4ffb20b557cd352",
   "outputs": [
    {
     "name": "stdout",
     "output_type": "stream",
     "text": [
      "[[35.59618476 -0.62820243  0.07745475 -0.61942288 -0.39480705  0.03974968]]\n"
     ]
    }
   ],
   "execution_count": 110
  },
  {
   "metadata": {
    "ExecuteTime": {
     "end_time": "2025-06-04T02:01:45.744494Z",
     "start_time": "2025-06-04T02:01:45.573756Z"
    }
   },
   "cell_type": "code",
   "source": [
    "# 계수 해석 (feature 영향)\n",
    "importance_df = pd.DataFrame({\n",
    "    'feature': features,\n",
    "    'coefficient': model.coef_[0]\n",
    "}).sort_values(by='coefficient', key=abs, ascending=False)\n",
    "\n",
    "print(importance_df)\n",
    "\n",
    "# 시각화\n",
    "plt.figure(figsize=(8, 5))\n",
    "sns.barplot(data=importance_df, x='coefficient', y='feature', palette='coolwarm')\n",
    "\n",
    "plt.title('계수 해석 (Logistic Regression Coefficients)')\n",
    "plt.axvline(0, color='gray', linestyle='--')\n",
    "plt.tight_layout()\n",
    "plt.show()"
   ],
   "id": "e3c7885a7ca2d862",
   "outputs": [
    {
     "name": "stdout",
     "output_type": "stream",
     "text": [
      "         feature  coefficient\n",
      "0        Recency    35.596185\n",
      "1      Frequency    -0.628202\n",
      "3     delay_days    -0.619423\n",
      "4     total_days    -0.394807\n",
      "2       Monetary     0.077455\n",
      "5  approval_days     0.039750\n"
     ]
    },
    {
     "name": "stderr",
     "output_type": "stream",
     "text": [
      "C:\\Users\\Playdata2\\AppData\\Local\\Temp\\ipykernel_2548\\604632286.py:11: FutureWarning: \n",
      "\n",
      "Passing `palette` without assigning `hue` is deprecated and will be removed in v0.14.0. Assign the `y` variable to `hue` and set `legend=False` for the same effect.\n",
      "\n",
      "  sns.barplot(data=importance_df, x='coefficient', y='feature', palette='coolwarm')\n"
     ]
    },
    {
     "data": {
      "text/plain": [
       "<Figure size 800x500 with 1 Axes>"
      ],
      "image/png": "[encoded data removed]"
     },
     "metadata": {},
     "output_type": "display_data"
    }
   ],
   "execution_count": 111
  },
  {
   "metadata": {},
   "cell_type": "markdown",
   "source": "### 주문상태별 이탈 경향 분석",
   "id": "da80e1a05732aa76"
  },
  {
   "metadata": {
    "ExecuteTime": {
     "end_time": "2025-06-04T02:01:45.831399Z",
     "start_time": "2025-06-04T02:01:45.793111Z"
    }
   },
   "cell_type": "code",
   "source": "orders_customers_merged.info()",
   "id": "45b7bcebc4196574",
   "outputs": [
    {
     "name": "stdout",
     "output_type": "stream",
     "text": [
      "<class 'pandas.core.frame.DataFrame'>\n",
      "RangeIndex: 99441 entries, 0 to 99440\n",
      "Data columns (total 9 columns):\n",
      " #   Column                         Non-Null Count  Dtype \n",
      "---  ------                         --------------  ----- \n",
      " 0   order_id                       99441 non-null  object\n",
      " 1   customer_id                    99441 non-null  object\n",
      " 2   order_status                   99441 non-null  object\n",
      " 3   order_purchase_timestamp       99441 non-null  object\n",
      " 4   order_approved_at              99281 non-null  object\n",
      " 5   order_delivered_carrier_date   97658 non-null  object\n",
      " 6   order_delivered_customer_date  96476 non-null  object\n",
      " 7   order_estimated_delivery_date  99441 non-null  object\n",
      " 8   customer_unique_id             99441 non-null  object\n",
      "dtypes: object(9)\n",
      "memory usage: 6.8+ MB\n"
     ]
    }
   ],
   "execution_count": 112
  },
  {
   "metadata": {
    "ExecuteTime": {
     "end_time": "2025-06-04T02:17:55.435230Z",
     "start_time": "2025-06-04T02:17:55.266648Z"
    }
   },
   "cell_type": "code",
   "source": [
    "rfm_df.info()\n",
    "orders_customers_merged.info()\n",
    "\n",
    "order_churn = orders_customers_merged.merge(\n",
    "    rfm_df[['customer_unique_id', 'churn']],\n",
    "    on='customer_unique_id',\n",
    "    how='left'\n",
    ")\n",
    "# 이탈결측치 1개\n",
    "display(order_churn[order_churn['churn'].isna()])\n",
    "\n",
    "# payment에서 누락된 데이터가 있음 💦💦💦💦💦\n",
    "filtered = order_churn[order_churn['order_status'] != 'delivered']\n",
    "payments_orders_customers_merged[payments_orders_customers_merged['customer_unique_id'] == '830d5b7aaa3b6f1e9ad63703bec97d23']\n",
    "\n",
    "# 이\n",
    "\n",
    "# 이탈 int로 변경\n",
    "order_churn['churn'] = order_churn['churn'].astype(int)"
   ],
   "id": "c6b2d422b5356386",
   "outputs": [
    {
     "name": "stdout",
     "output_type": "stream",
     "text": [
      "<class 'pandas.core.frame.DataFrame'>\n",
      "RangeIndex: 96095 entries, 0 to 96094\n",
      "Data columns (total 12 columns):\n",
      " #   Column              Non-Null Count  Dtype   \n",
      "---  ------              --------------  -----   \n",
      " 0   customer_unique_id  96095 non-null  object  \n",
      " 1   Recency             96095 non-null  int64   \n",
      " 2   Frequency           96095 non-null  int64   \n",
      " 3   Monetary            96095 non-null  float64 \n",
      " 4   Frequency_level     96095 non-null  category\n",
      " 5   F_score             96095 non-null  int64   \n",
      " 6   R_quantile          96095 non-null  int64   \n",
      " 7   M_quantile          96095 non-null  int64   \n",
      " 8   R_score             96095 non-null  int64   \n",
      " 9   M_score             96095 non-null  int64   \n",
      " 10  RFM_score           96095 non-null  object  \n",
      " 11  churn               96095 non-null  int64   \n",
      "dtypes: category(1), float64(1), int64(8), object(2)\n",
      "memory usage: 8.2+ MB\n",
      "<class 'pandas.core.frame.DataFrame'>\n",
      "RangeIndex: 99441 entries, 0 to 99440\n",
      "Data columns (total 9 columns):\n",
      " #   Column                         Non-Null Count  Dtype \n",
      "---  ------                         --------------  ----- \n",
      " 0   order_id                       99441 non-null  object\n",
      " 1   customer_id                    99441 non-null  object\n",
      " 2   order_status                   99441 non-null  object\n",
      " 3   order_purchase_timestamp       99441 non-null  object\n",
      " 4   order_approved_at              99281 non-null  object\n",
      " 5   order_delivered_carrier_date   97658 non-null  object\n",
      " 6   order_delivered_customer_date  96476 non-null  object\n",
      " 7   order_estimated_delivery_date  99441 non-null  object\n",
      " 8   customer_unique_id             99441 non-null  object\n",
      "dtypes: object(9)\n",
      "memory usage: 6.8+ MB\n"
     ]
    },
    {
     "data": {
      "text/plain": [
       "                               order_id                       customer_id  \\\n",
       "30710  bfbd0f9bdef84302105ad712db648a6c  86dc2ffce2dfff336de2f386a786e574   \n",
       "\n",
       "      order_status order_purchase_timestamp    order_approved_at  \\\n",
       "30710    delivered      2016-09-15 12:16:38  2016-09-15 12:16:38   \n",
       "\n",
       "      order_delivered_carrier_date order_delivered_customer_date  \\\n",
       "30710          2016-11-07 17:11:53           2016-11-09 07:47:38   \n",
       "\n",
       "      order_estimated_delivery_date                customer_unique_id  churn  \n",
       "30710           2016-10-04 00:00:00  830d5b7aaa3b6f1e9ad63703bec97d23    NaN  "
      ],
      "text/html": [
       "<div>\n",
       "<style scoped>\n",
       "    .dataframe tbody tr th:only-of-type {\n",
       "        vertical-align: middle;\n",
       "    }\n",
       "\n",
       "    .dataframe tbody tr th {\n",
       "        vertical-align: top;\n",
       "    }\n",
       "\n",
       "    .dataframe thead th {\n",
       "        text-align: right;\n",
       "    }\n",
       "</style>\n",
       "<table border=\"1\" class=\"dataframe\">\n",
       "  <thead>\n",
       "    <tr style=\"text-align: right;\">\n",
       "      <th></th>\n",
       "      <th>order_id</th>\n",
       "      <th>customer_id</th>\n",
       "      <th>order_status</th>\n",
       "      <th>order_purchase_timestamp</th>\n",
       "      <th>order_approved_at</th>\n",
       "      <th>order_delivered_carrier_date</th>\n",
       "      <th>order_delivered_customer_date</th>\n",
       "      <th>order_estimated_delivery_date</th>\n",
       "      <th>customer_unique_id</th>\n",
       "      <th>churn</th>\n",
       "    </tr>\n",
       "  </thead>\n",
       "  <tbody>\n",
       "    <tr>\n",
       "      <th>30710</th>\n",
       "      <td>bfbd0f9bdef84302105ad712db648a6c</td>\n",
       "      <td>86dc2ffce2dfff336de2f386a786e574</td>\n",
       "      <td>delivered</td>\n",
       "      <td>2016-09-15 12:16:38</td>\n",
       "      <td>2016-09-15 12:16:38</td>\n",
       "      <td>2016-11-07 17:11:53</td>\n",
       "      <td>2016-11-09 07:47:38</td>\n",
       "      <td>2016-10-04 00:00:00</td>\n",
       "      <td>830d5b7aaa3b6f1e9ad63703bec97d23</td>\n",
       "      <td>NaN</td>\n",
       "    </tr>\n",
       "  </tbody>\n",
       "</table>\n",
       "</div>"
      ]
     },
     "metadata": {},
     "output_type": "display_data"
    },
    {
     "data": {
      "text/plain": [
       "Empty DataFrame\n",
       "Columns: [order_id, payment_sequential, payment_type, payment_installments, payment_value, customer_unique_id, order_purchase_timestamp]\n",
       "Index: []"
      ],
      "text/html": [
       "<div>\n",
       "<style scoped>\n",
       "    .dataframe tbody tr th:only-of-type {\n",
       "        vertical-align: middle;\n",
       "    }\n",
       "\n",
       "    .dataframe tbody tr th {\n",
       "        vertical-align: top;\n",
       "    }\n",
       "\n",
       "    .dataframe thead th {\n",
       "        text-align: right;\n",
       "    }\n",
       "</style>\n",
       "<table border=\"1\" class=\"dataframe\">\n",
       "  <thead>\n",
       "    <tr style=\"text-align: right;\">\n",
       "      <th></th>\n",
       "      <th>order_id</th>\n",
       "      <th>payment_sequential</th>\n",
       "      <th>payment_type</th>\n",
       "      <th>payment_installments</th>\n",
       "      <th>payment_value</th>\n",
       "      <th>customer_unique_id</th>\n",
       "      <th>order_purchase_timestamp</th>\n",
       "    </tr>\n",
       "  </thead>\n",
       "  <tbody>\n",
       "  </tbody>\n",
       "</table>\n",
       "</div>"
      ]
     },
     "execution_count": 134,
     "metadata": {},
     "output_type": "execute_result"
    }
   ],
   "execution_count": 134
  },
  {
   "metadata": {
    "ExecuteTime": {
     "end_time": "2025-06-04T02:25:23.945802Z",
     "start_time": "2025-06-04T02:25:23.760545Z"
    }
   },
   "cell_type": "code",
   "source": [
    "# 주문 상태별 이탈별 시각화\n",
    "plt.figure(figsize=(8, 6))\n",
    "sns.countplot(data=filtered, x='order_status', hue='churn',\n",
    "              order=filtered['order_status'].value_counts().index)\n",
    "plt.title('주문 상태 분포(delivered 제외)')\n",
    "plt.xticks(rotation=None)\n",
    "plt.show()"
   ],
   "id": "8a0adf88d614ad78",
   "outputs": [
    {
     "data": {
      "text/plain": [
       "<Figure size 800x600 with 1 Axes>"
      ],
      "image/png": "[encoded data removed]"
     },
     "metadata": {},
     "output_type": "display_data"
    }
   ],
   "execution_count": 135
  },
  {
   "metadata": {
    "ExecuteTime": {
     "end_time": "2025-06-04T02:07:04.826703Z",
     "start_time": "2025-06-04T02:07:04.785319Z"
    }
   },
   "cell_type": "code",
   "source": [
    "print(filtered['order_status'].value_counts())\n",
    "print(order_churn.info())"
   ],
   "id": "15afb1f681749bcf",
   "outputs": [
    {
     "name": "stdout",
     "output_type": "stream",
     "text": [
      "order_status\n",
      "shipped        1107\n",
      "canceled        625\n",
      "unavailable     609\n",
      "invoiced        314\n",
      "processing      301\n",
      "created           5\n",
      "approved          2\n",
      "Name: count, dtype: int64\n",
      "<class 'pandas.core.frame.DataFrame'>\n",
      "RangeIndex: 99441 entries, 0 to 99440\n",
      "Data columns (total 10 columns):\n",
      " #   Column                         Non-Null Count  Dtype  \n",
      "---  ------                         --------------  -----  \n",
      " 0   order_id                       99441 non-null  object \n",
      " 1   customer_id                    99441 non-null  object \n",
      " 2   order_status                   99441 non-null  object \n",
      " 3   order_purchase_timestamp       99441 non-null  object \n",
      " 4   order_approved_at              99281 non-null  object \n",
      " 5   order_delivered_carrier_date   97658 non-null  object \n",
      " 6   order_delivered_customer_date  96476 non-null  object \n",
      " 7   order_estimated_delivery_date  99441 non-null  object \n",
      " 8   customer_unique_id             99441 non-null  object \n",
      " 9   churn                          99440 non-null  float64\n",
      "dtypes: float64(1), object(9)\n",
      "memory usage: 7.6+ MB\n",
      "None\n"
     ]
    }
   ],
   "execution_count": 122
  },
  {
   "metadata": {
    "ExecuteTime": {
     "end_time": "2025-06-04T00:03:30.551705Z",
     "start_time": "2025-06-04T00:03:25.852597Z"
    }
   },
   "cell_type": "code",
   "source": "# !pip install geopandas -q",
   "id": "ac60458d52f5b540",
   "outputs": [],
   "execution_count": 240
  },
  {
   "metadata": {
    "ExecuteTime": {
     "end_time": "2025-06-04T00:03:42.554863Z",
     "start_time": "2025-06-04T00:03:37.620760Z"
    }
   },
   "cell_type": "code",
   "source": [
    "import geopandas as gpd\n",
    "\n"
   ],
   "id": "57b5e751cd2161cb",
   "outputs": [],
   "execution_count": 241
  }
 ],
 "metadata": {
  "kernelspec": {
   "display_name": "Python 3",
   "language": "python",
   "name": "python3"
  },
  "language_info": {
   "codemirror_mode": {
    "name": "ipython",
    "version": 2
   },
   "file_extension": ".py",
   "mimetype": "text/x-python",
   "name": "python",
   "nbconvert_exporter": "python",
   "pygments_lexer": "ipython2",
   "version": "2.7.6"
  }
 },
 "nbformat": 4,
 "nbformat_minor": 5
}
