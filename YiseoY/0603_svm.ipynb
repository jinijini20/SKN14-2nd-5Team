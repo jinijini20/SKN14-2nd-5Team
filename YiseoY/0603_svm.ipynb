{
 "cells": [
  {
   "metadata": {
    "ExecuteTime": {
     "end_time": "2025-06-03T05:06:29.289455Z",
     "start_time": "2025-06-03T05:06:29.287983Z"
    }
   },
   "cell_type": "code",
   "source": [
    "import pandas as pd\n",
    "import numpy as np\n",
    "import matplotlib.pyplot as plt\n",
    "import seaborn as sns\n",
    "from numpy.ma.extras import average"
   ],
   "id": "6ccf8fcc2e4b2dab",
   "outputs": [],
   "execution_count": 1
  },
  {
   "metadata": {
    "collapsed": true,
    "ExecuteTime": {
     "end_time": "2025-06-03T06:43:11.751222Z",
     "start_time": "2025-06-03T06:43:11.744825Z"
    }
   },
   "cell_type": "code",
   "source": [
    "# 한글 폰트 설정\n",
    "plt.rcParams['font.family'] = 'AppleGothic'\n",
    "# 마이너스 기호 깨짐 방지\n",
    "plt.rcParams['axes.unicode_minus'] = False"
   ],
   "id": "initial_id",
   "outputs": [],
   "execution_count": 65
  },
  {
   "metadata": {
    "ExecuteTime": {
     "end_time": "2025-06-03T05:06:29.426598Z",
     "start_time": "2025-06-03T05:06:29.424214Z"
    }
   },
   "cell_type": "code",
   "source": [
    "import os\n",
    "print(os.getcwd())"
   ],
   "id": "92fe6d44a9e0bafe",
   "outputs": [
    {
     "name": "stdout",
     "output_type": "stream",
     "text": [
      "/Users/yun-iseo/Workspaces/SKN14-2nd-5Team/YiseoY\n"
     ]
    }
   ],
   "execution_count": 3
  },
  {
   "metadata": {},
   "cell_type": "markdown",
   "source": "# 데이터셋 준비",
   "id": "502887c46f39c7b2"
  },
  {
   "metadata": {
    "ExecuteTime": {
     "end_time": "2025-06-03T05:22:12.909923Z",
     "start_time": "2025-06-03T05:22:12.371206Z"
    }
   },
   "cell_type": "code",
   "source": [
    "customers_df = pd.read_csv('data/olist_customers_dataset.csv')\n",
    "orders_df = pd.read_csv('data/olist_orders_dataset.csv')\n",
    "order_payments_df = pd.read_csv('data/olist_order_payments_dataset.csv')\n",
    "order_reviews_df = pd.read_csv('data/olist_order_reviews_dataset.csv')\n",
    "\n",
    "print(customers_df.shape, orders_df.shape, order_payments_df.shape, order_reviews_df.shape)"
   ],
   "id": "5a29867d0c19c49",
   "outputs": [
    {
     "name": "stdout",
     "output_type": "stream",
     "text": [
      "(99441, 5) (99441, 8) (103886, 5) (99224, 7)\n"
     ]
    }
   ],
   "execution_count": 29
  },
  {
   "metadata": {},
   "cell_type": "markdown",
   "source": [
    "## RFM-score 기반 라벨 생성\n",
    "- 이탈: 1\n",
    "- 활성: 0"
   ],
   "id": "7002c8a67e382d96"
  },
  {
   "metadata": {
    "ExecuteTime": {
     "end_time": "2025-06-03T05:07:47.150717Z",
     "start_time": "2025-06-03T05:07:47.128902Z"
    }
   },
   "cell_type": "code",
   "source": "orders_df.head()",
   "id": "c5af9bf33a7cff64",
   "outputs": [
    {
     "data": {
      "text/plain": [
       "                           order_id                       customer_id  \\\n",
       "0  e481f51cbdc54678b7cc49136f2d6af7  9ef432eb6251297304e76186b10a928d   \n",
       "1  53cdb2fc8bc7dce0b6741e2150273451  b0830fb4747a6c6d20dea0b8c802d7ef   \n",
       "2  47770eb9100c2d0c44946d9cf07ec65d  41ce2a54c0b03bf3443c3d931a367089   \n",
       "3  949d5b44dbf5de918fe9c16f97b45f8a  f88197465ea7920adcdbec7375364d82   \n",
       "4  ad21c59c0840e6cb83a9ceb5573f8159  8ab97904e6daea8866dbdbc4fb7aad2c   \n",
       "\n",
       "  order_status order_purchase_timestamp    order_approved_at  \\\n",
       "0    delivered      2017-10-02 10:56:33  2017-10-02 11:07:15   \n",
       "1    delivered      2018-07-24 20:41:37  2018-07-26 03:24:27   \n",
       "2    delivered      2018-08-08 08:38:49  2018-08-08 08:55:23   \n",
       "3    delivered      2017-11-18 19:28:06  2017-11-18 19:45:59   \n",
       "4    delivered      2018-02-13 21:18:39  2018-02-13 22:20:29   \n",
       "\n",
       "  order_delivered_carrier_date order_delivered_customer_date  \\\n",
       "0          2017-10-04 19:55:00           2017-10-10 21:25:13   \n",
       "1          2018-07-26 14:31:00           2018-08-07 15:27:45   \n",
       "2          2018-08-08 13:50:00           2018-08-17 18:06:29   \n",
       "3          2017-11-22 13:39:59           2017-12-02 00:28:42   \n",
       "4          2018-02-14 19:46:34           2018-02-16 18:17:02   \n",
       "\n",
       "  order_estimated_delivery_date  \n",
       "0           2017-10-18 00:00:00  \n",
       "1           2018-08-13 00:00:00  \n",
       "2           2018-09-04 00:00:00  \n",
       "3           2017-12-15 00:00:00  \n",
       "4           2018-02-26 00:00:00  "
      ],
      "text/html": [
       "<div>\n",
       "<style scoped>\n",
       "    .dataframe tbody tr th:only-of-type {\n",
       "        vertical-align: middle;\n",
       "    }\n",
       "\n",
       "    .dataframe tbody tr th {\n",
       "        vertical-align: top;\n",
       "    }\n",
       "\n",
       "    .dataframe thead th {\n",
       "        text-align: right;\n",
       "    }\n",
       "</style>\n",
       "<table border=\"1\" class=\"dataframe\">\n",
       "  <thead>\n",
       "    <tr style=\"text-align: right;\">\n",
       "      <th></th>\n",
       "      <th>order_id</th>\n",
       "      <th>customer_id</th>\n",
       "      <th>order_status</th>\n",
       "      <th>order_purchase_timestamp</th>\n",
       "      <th>order_approved_at</th>\n",
       "      <th>order_delivered_carrier_date</th>\n",
       "      <th>order_delivered_customer_date</th>\n",
       "      <th>order_estimated_delivery_date</th>\n",
       "    </tr>\n",
       "  </thead>\n",
       "  <tbody>\n",
       "    <tr>\n",
       "      <th>0</th>\n",
       "      <td>e481f51cbdc54678b7cc49136f2d6af7</td>\n",
       "      <td>9ef432eb6251297304e76186b10a928d</td>\n",
       "      <td>delivered</td>\n",
       "      <td>2017-10-02 10:56:33</td>\n",
       "      <td>2017-10-02 11:07:15</td>\n",
       "      <td>2017-10-04 19:55:00</td>\n",
       "      <td>2017-10-10 21:25:13</td>\n",
       "      <td>2017-10-18 00:00:00</td>\n",
       "    </tr>\n",
       "    <tr>\n",
       "      <th>1</th>\n",
       "      <td>53cdb2fc8bc7dce0b6741e2150273451</td>\n",
       "      <td>b0830fb4747a6c6d20dea0b8c802d7ef</td>\n",
       "      <td>delivered</td>\n",
       "      <td>2018-07-24 20:41:37</td>\n",
       "      <td>2018-07-26 03:24:27</td>\n",
       "      <td>2018-07-26 14:31:00</td>\n",
       "      <td>2018-08-07 15:27:45</td>\n",
       "      <td>2018-08-13 00:00:00</td>\n",
       "    </tr>\n",
       "    <tr>\n",
       "      <th>2</th>\n",
       "      <td>47770eb9100c2d0c44946d9cf07ec65d</td>\n",
       "      <td>41ce2a54c0b03bf3443c3d931a367089</td>\n",
       "      <td>delivered</td>\n",
       "      <td>2018-08-08 08:38:49</td>\n",
       "      <td>2018-08-08 08:55:23</td>\n",
       "      <td>2018-08-08 13:50:00</td>\n",
       "      <td>2018-08-17 18:06:29</td>\n",
       "      <td>2018-09-04 00:00:00</td>\n",
       "    </tr>\n",
       "    <tr>\n",
       "      <th>3</th>\n",
       "      <td>949d5b44dbf5de918fe9c16f97b45f8a</td>\n",
       "      <td>f88197465ea7920adcdbec7375364d82</td>\n",
       "      <td>delivered</td>\n",
       "      <td>2017-11-18 19:28:06</td>\n",
       "      <td>2017-11-18 19:45:59</td>\n",
       "      <td>2017-11-22 13:39:59</td>\n",
       "      <td>2017-12-02 00:28:42</td>\n",
       "      <td>2017-12-15 00:00:00</td>\n",
       "    </tr>\n",
       "    <tr>\n",
       "      <th>4</th>\n",
       "      <td>ad21c59c0840e6cb83a9ceb5573f8159</td>\n",
       "      <td>8ab97904e6daea8866dbdbc4fb7aad2c</td>\n",
       "      <td>delivered</td>\n",
       "      <td>2018-02-13 21:18:39</td>\n",
       "      <td>2018-02-13 22:20:29</td>\n",
       "      <td>2018-02-14 19:46:34</td>\n",
       "      <td>2018-02-16 18:17:02</td>\n",
       "      <td>2018-02-26 00:00:00</td>\n",
       "    </tr>\n",
       "  </tbody>\n",
       "</table>\n",
       "</div>"
      ]
     },
     "execution_count": 6,
     "metadata": {},
     "output_type": "execute_result"
    }
   ],
   "execution_count": 6
  },
  {
   "metadata": {
    "ExecuteTime": {
     "end_time": "2025-06-03T05:48:16.464130Z",
     "start_time": "2025-06-03T05:48:16.262441Z"
    }
   },
   "cell_type": "code",
   "source": [
    "# customer_unique_id 병합\n",
    "orders_customers_merged = pd.merge(\n",
    "    orders_df,\n",
    "    customers_df[['customer_id', 'customer_unique_id']],\n",
    "    on='customer_id',\n",
    "    how='left'\n",
    ")\n",
    "\n",
    "# orders_customers_merged.head()\n",
    "orders_customers_merged['customer_unique_id'].nunique()"
   ],
   "id": "ee4baa67da56ebca",
   "outputs": [
    {
     "data": {
      "text/plain": [
       "96096"
      ]
     },
     "execution_count": 47,
     "metadata": {},
     "output_type": "execute_result"
    }
   ],
   "execution_count": 47
  },
  {
   "metadata": {
    "ExecuteTime": {
     "end_time": "2025-06-03T05:07:47.303660Z",
     "start_time": "2025-06-03T05:07:47.297164Z"
    }
   },
   "cell_type": "code",
   "source": "order_payments_df.head()",
   "id": "6b5d5622073844c2",
   "outputs": [
    {
     "data": {
      "text/plain": [
       "                           order_id  payment_sequential payment_type  \\\n",
       "0  b81ef226f3fe1789b1e8b2acac839d17                   1  credit_card   \n",
       "1  a9810da82917af2d9aefd1278f1dcfa0                   1  credit_card   \n",
       "2  25e8ea4e93396b6fa0d3dd708e76c1bd                   1  credit_card   \n",
       "3  ba78997921bbcdc1373bb41e913ab953                   1  credit_card   \n",
       "4  42fdf880ba16b47b59251dd489d4441a                   1  credit_card   \n",
       "\n",
       "   payment_installments  payment_value  \n",
       "0                     8          99.33  \n",
       "1                     1          24.39  \n",
       "2                     1          65.71  \n",
       "3                     8         107.78  \n",
       "4                     2         128.45  "
      ],
      "text/html": [
       "<div>\n",
       "<style scoped>\n",
       "    .dataframe tbody tr th:only-of-type {\n",
       "        vertical-align: middle;\n",
       "    }\n",
       "\n",
       "    .dataframe tbody tr th {\n",
       "        vertical-align: top;\n",
       "    }\n",
       "\n",
       "    .dataframe thead th {\n",
       "        text-align: right;\n",
       "    }\n",
       "</style>\n",
       "<table border=\"1\" class=\"dataframe\">\n",
       "  <thead>\n",
       "    <tr style=\"text-align: right;\">\n",
       "      <th></th>\n",
       "      <th>order_id</th>\n",
       "      <th>payment_sequential</th>\n",
       "      <th>payment_type</th>\n",
       "      <th>payment_installments</th>\n",
       "      <th>payment_value</th>\n",
       "    </tr>\n",
       "  </thead>\n",
       "  <tbody>\n",
       "    <tr>\n",
       "      <th>0</th>\n",
       "      <td>b81ef226f3fe1789b1e8b2acac839d17</td>\n",
       "      <td>1</td>\n",
       "      <td>credit_card</td>\n",
       "      <td>8</td>\n",
       "      <td>99.33</td>\n",
       "    </tr>\n",
       "    <tr>\n",
       "      <th>1</th>\n",
       "      <td>a9810da82917af2d9aefd1278f1dcfa0</td>\n",
       "      <td>1</td>\n",
       "      <td>credit_card</td>\n",
       "      <td>1</td>\n",
       "      <td>24.39</td>\n",
       "    </tr>\n",
       "    <tr>\n",
       "      <th>2</th>\n",
       "      <td>25e8ea4e93396b6fa0d3dd708e76c1bd</td>\n",
       "      <td>1</td>\n",
       "      <td>credit_card</td>\n",
       "      <td>1</td>\n",
       "      <td>65.71</td>\n",
       "    </tr>\n",
       "    <tr>\n",
       "      <th>3</th>\n",
       "      <td>ba78997921bbcdc1373bb41e913ab953</td>\n",
       "      <td>1</td>\n",
       "      <td>credit_card</td>\n",
       "      <td>8</td>\n",
       "      <td>107.78</td>\n",
       "    </tr>\n",
       "    <tr>\n",
       "      <th>4</th>\n",
       "      <td>42fdf880ba16b47b59251dd489d4441a</td>\n",
       "      <td>1</td>\n",
       "      <td>credit_card</td>\n",
       "      <td>2</td>\n",
       "      <td>128.45</td>\n",
       "    </tr>\n",
       "  </tbody>\n",
       "</table>\n",
       "</div>"
      ]
     },
     "execution_count": 8,
     "metadata": {},
     "output_type": "execute_result"
    }
   ],
   "execution_count": 8
  },
  {
   "metadata": {
    "ExecuteTime": {
     "end_time": "2025-06-03T05:48:10.993800Z",
     "start_time": "2025-06-03T05:48:10.891312Z"
    }
   },
   "cell_type": "code",
   "source": [
    "# payment_value 병합\n",
    "payments_orders_customers_merged = pd.merge(\n",
    "    order_payments_df,\n",
    "    orders_customers_merged[['order_id', 'customer_unique_id', 'order_purchase_timestamp']],\n",
    "    on='order_id',\n",
    "    how='left'\n",
    ")\n",
    "\n",
    "# payments_orders_customers_merged.info()\n",
    "payments_orders_customers_merged['customer_unique_id'].nunique()"
   ],
   "id": "b5b0a45c4ac9c9d2",
   "outputs": [
    {
     "data": {
      "text/plain": [
       "96095"
      ]
     },
     "execution_count": 46,
     "metadata": {},
     "output_type": "execute_result"
    }
   ],
   "execution_count": 46
  },
  {
   "metadata": {
    "ExecuteTime": {
     "end_time": "2025-06-03T05:48:25.885698Z",
     "start_time": "2025-06-03T05:48:25.832681Z"
    }
   },
   "cell_type": "code",
   "source": [
    "# 두 컬럼의 고유 ID 집합 생성\n",
    "ids_1 = set(orders_customers_merged['customer_unique_id'].unique())\n",
    "ids_2 = set(payments_orders_customers_merged['customer_unique_id'].unique())\n",
    "\n",
    "# 차집합을 통해 누락된 ID 찾기\n",
    "missing_in_payments = ids_1 - ids_2  # orders_customers_merged에는 있지만 payments에는 없는 경우\n",
    "missing_in_orders = ids_2 - ids_1    # 반대 경우도 확인 가능\n",
    "\n",
    "# 출력\n",
    "print(\"payments_orders_customers_merged에 없는 ID:\", missing_in_payments)\n",
    "print(\"orders_customers_merged에 없는 ID:\", missing_in_orders)"
   ],
   "id": "3d78e0b9ef439dff",
   "outputs": [
    {
     "name": "stdout",
     "output_type": "stream",
     "text": [
      "payments_orders_customers_merged에 없는 ID: {'830d5b7aaa3b6f1e9ad63703bec97d23'}\n",
      "orders_customers_merged에 없는 ID: set()\n"
     ]
    }
   ],
   "execution_count": 48
  },
  {
   "metadata": {
    "ExecuteTime": {
     "end_time": "2025-06-03T05:49:28.093963Z",
     "start_time": "2025-06-03T05:49:28.065381Z"
    }
   },
   "cell_type": "code",
   "source": "orders_customers_merged[orders_customers_merged['customer_unique_id'] == '830d5b7aaa3b6f1e9ad63703bec97d23']",
   "id": "6b7657e6b43b489c",
   "outputs": [
    {
     "data": {
      "text/plain": [
       "                               order_id                       customer_id  \\\n",
       "30710  bfbd0f9bdef84302105ad712db648a6c  86dc2ffce2dfff336de2f386a786e574   \n",
       "\n",
       "      order_status order_purchase_timestamp    order_approved_at  \\\n",
       "30710    delivered      2016-09-15 12:16:38  2016-09-15 12:16:38   \n",
       "\n",
       "      order_delivered_carrier_date order_delivered_customer_date  \\\n",
       "30710          2016-11-07 17:11:53           2016-11-09 07:47:38   \n",
       "\n",
       "      order_estimated_delivery_date                customer_unique_id  \n",
       "30710           2016-10-04 00:00:00  830d5b7aaa3b6f1e9ad63703bec97d23  "
      ],
      "text/html": [
       "<div>\n",
       "<style scoped>\n",
       "    .dataframe tbody tr th:only-of-type {\n",
       "        vertical-align: middle;\n",
       "    }\n",
       "\n",
       "    .dataframe tbody tr th {\n",
       "        vertical-align: top;\n",
       "    }\n",
       "\n",
       "    .dataframe thead th {\n",
       "        text-align: right;\n",
       "    }\n",
       "</style>\n",
       "<table border=\"1\" class=\"dataframe\">\n",
       "  <thead>\n",
       "    <tr style=\"text-align: right;\">\n",
       "      <th></th>\n",
       "      <th>order_id</th>\n",
       "      <th>customer_id</th>\n",
       "      <th>order_status</th>\n",
       "      <th>order_purchase_timestamp</th>\n",
       "      <th>order_approved_at</th>\n",
       "      <th>order_delivered_carrier_date</th>\n",
       "      <th>order_delivered_customer_date</th>\n",
       "      <th>order_estimated_delivery_date</th>\n",
       "      <th>customer_unique_id</th>\n",
       "    </tr>\n",
       "  </thead>\n",
       "  <tbody>\n",
       "    <tr>\n",
       "      <th>30710</th>\n",
       "      <td>bfbd0f9bdef84302105ad712db648a6c</td>\n",
       "      <td>86dc2ffce2dfff336de2f386a786e574</td>\n",
       "      <td>delivered</td>\n",
       "      <td>2016-09-15 12:16:38</td>\n",
       "      <td>2016-09-15 12:16:38</td>\n",
       "      <td>2016-11-07 17:11:53</td>\n",
       "      <td>2016-11-09 07:47:38</td>\n",
       "      <td>2016-10-04 00:00:00</td>\n",
       "      <td>830d5b7aaa3b6f1e9ad63703bec97d23</td>\n",
       "    </tr>\n",
       "  </tbody>\n",
       "</table>\n",
       "</div>"
      ]
     },
     "execution_count": 49,
     "metadata": {},
     "output_type": "execute_result"
    }
   ],
   "execution_count": 49
  },
  {
   "metadata": {
    "ExecuteTime": {
     "end_time": "2025-06-03T05:53:57.205589Z",
     "start_time": "2025-06-03T05:53:57.170346Z"
    }
   },
   "cell_type": "code",
   "source": "order_payments_df[order_payments_df['order_id'] == 'bfbd0f9bdef84302105ad712db648a6c']",
   "id": "46376f230cbc495e",
   "outputs": [
    {
     "data": {
      "text/plain": [
       "Empty DataFrame\n",
       "Columns: [order_id, payment_sequential, payment_type, payment_installments, payment_value]\n",
       "Index: []"
      ],
      "text/html": [
       "<div>\n",
       "<style scoped>\n",
       "    .dataframe tbody tr th:only-of-type {\n",
       "        vertical-align: middle;\n",
       "    }\n",
       "\n",
       "    .dataframe tbody tr th {\n",
       "        vertical-align: top;\n",
       "    }\n",
       "\n",
       "    .dataframe thead th {\n",
       "        text-align: right;\n",
       "    }\n",
       "</style>\n",
       "<table border=\"1\" class=\"dataframe\">\n",
       "  <thead>\n",
       "    <tr style=\"text-align: right;\">\n",
       "      <th></th>\n",
       "      <th>order_id</th>\n",
       "      <th>payment_sequential</th>\n",
       "      <th>payment_type</th>\n",
       "      <th>payment_installments</th>\n",
       "      <th>payment_value</th>\n",
       "    </tr>\n",
       "  </thead>\n",
       "  <tbody>\n",
       "  </tbody>\n",
       "</table>\n",
       "</div>"
      ]
     },
     "execution_count": 55,
     "metadata": {},
     "output_type": "execute_result"
    }
   ],
   "execution_count": 55
  },
  {
   "metadata": {
    "ExecuteTime": {
     "end_time": "2025-06-03T05:07:50.532149Z",
     "start_time": "2025-06-03T05:07:47.607312Z"
    }
   },
   "cell_type": "code",
   "source": [
    "rfm_df = payments_orders_customers_merged.groupby('customer_unique_id').agg({\n",
    "    'order_purchase_timestamp': 'max',\n",
    "    'order_id': pd.Series.nunique,\n",
    "    'payment_value': 'sum'\n",
    "})\n",
    "rfm_df = rfm_df.rename(columns={\n",
    "    'order_purchase_timestamp': 'Recency', # 최근 구매 경과일\n",
    "    'order_id': 'Frequency', # 구매 빈도\n",
    "    'payment_value': 'Monetary' # 총 구매금액\n",
    "})\n",
    "\n",
    "rfm_df.info()"
   ],
   "id": "91a4d412c26a049c",
   "outputs": [
    {
     "name": "stdout",
     "output_type": "stream",
     "text": [
      "<class 'pandas.core.frame.DataFrame'>\n",
      "Index: 96095 entries, 0000366f3b9a7992bf8c76cfdf3221e2 to ffffd2657e2aad2907e67c3e9daecbeb\n",
      "Data columns (total 3 columns):\n",
      " #   Column     Non-Null Count  Dtype  \n",
      "---  ------     --------------  -----  \n",
      " 0   Recency    96095 non-null  object \n",
      " 1   Frequency  96095 non-null  int64  \n",
      " 2   Monetary   96095 non-null  float64\n",
      "dtypes: float64(1), int64(1), object(1)\n",
      "memory usage: 2.9+ MB\n"
     ]
    }
   ],
   "execution_count": 10
  },
  {
   "metadata": {
    "ExecuteTime": {
     "end_time": "2025-06-03T05:07:50.574796Z",
     "start_time": "2025-06-03T05:07:50.546090Z"
    }
   },
   "cell_type": "code",
   "source": [
    "# 1. 날짜형으로 변환\n",
    "rfm_df['Recency'] = pd.to_datetime(rfm_df['Recency'])\n",
    "\n",
    "# 2. max_date도 자동으로 datetime으로 저장됨\n",
    "max_date = rfm_df['Recency'].max()\n",
    "\n",
    "# 3. 날짜 차이 계산 (timedelta)\n",
    "rfm_df['Recency'] = max_date - rfm_df['Recency']\n",
    "\n",
    "rfm_df.head()"
   ],
   "id": "68c8e75342a7318a",
   "outputs": [
    {
     "data": {
      "text/plain": [
       "                                           Recency  Frequency  Monetary\n",
       "customer_unique_id                                                     \n",
       "0000366f3b9a7992bf8c76cfdf3221e2 160 days 06:33:51          1    141.90\n",
       "0000b849f77a49e4a4ce2b2a4ca5be3f 163 days 06:18:51          1     27.19\n",
       "0000f46a3911fa3c0805444483337064 585 days 20:25:15          1     86.22\n",
       "0000f6ccb0745a6a4b88665a16c9f078 369 days 21:00:37          1     43.62\n",
       "0004aac84e0df4da2b147fca70cf8255 336 days 21:44:36          1    196.89"
      ],
      "text/html": [
       "<div>\n",
       "<style scoped>\n",
       "    .dataframe tbody tr th:only-of-type {\n",
       "        vertical-align: middle;\n",
       "    }\n",
       "\n",
       "    .dataframe tbody tr th {\n",
       "        vertical-align: top;\n",
       "    }\n",
       "\n",
       "    .dataframe thead th {\n",
       "        text-align: right;\n",
       "    }\n",
       "</style>\n",
       "<table border=\"1\" class=\"dataframe\">\n",
       "  <thead>\n",
       "    <tr style=\"text-align: right;\">\n",
       "      <th></th>\n",
       "      <th>Recency</th>\n",
       "      <th>Frequency</th>\n",
       "      <th>Monetary</th>\n",
       "    </tr>\n",
       "    <tr>\n",
       "      <th>customer_unique_id</th>\n",
       "      <th></th>\n",
       "      <th></th>\n",
       "      <th></th>\n",
       "    </tr>\n",
       "  </thead>\n",
       "  <tbody>\n",
       "    <tr>\n",
       "      <th>0000366f3b9a7992bf8c76cfdf3221e2</th>\n",
       "      <td>160 days 06:33:51</td>\n",
       "      <td>1</td>\n",
       "      <td>141.90</td>\n",
       "    </tr>\n",
       "    <tr>\n",
       "      <th>0000b849f77a49e4a4ce2b2a4ca5be3f</th>\n",
       "      <td>163 days 06:18:51</td>\n",
       "      <td>1</td>\n",
       "      <td>27.19</td>\n",
       "    </tr>\n",
       "    <tr>\n",
       "      <th>0000f46a3911fa3c0805444483337064</th>\n",
       "      <td>585 days 20:25:15</td>\n",
       "      <td>1</td>\n",
       "      <td>86.22</td>\n",
       "    </tr>\n",
       "    <tr>\n",
       "      <th>0000f6ccb0745a6a4b88665a16c9f078</th>\n",
       "      <td>369 days 21:00:37</td>\n",
       "      <td>1</td>\n",
       "      <td>43.62</td>\n",
       "    </tr>\n",
       "    <tr>\n",
       "      <th>0004aac84e0df4da2b147fca70cf8255</th>\n",
       "      <td>336 days 21:44:36</td>\n",
       "      <td>1</td>\n",
       "      <td>196.89</td>\n",
       "    </tr>\n",
       "  </tbody>\n",
       "</table>\n",
       "</div>"
      ]
     },
     "execution_count": 11,
     "metadata": {},
     "output_type": "execute_result"
    }
   ],
   "execution_count": 11
  },
  {
   "metadata": {
    "ExecuteTime": {
     "end_time": "2025-06-03T05:07:50.783898Z",
     "start_time": "2025-06-03T05:07:50.604251Z"
    }
   },
   "cell_type": "code",
   "source": [
    "rfm_df['Recency'] = rfm_df['Recency'].apply(lambda x: x.days + 1)\n",
    "rfm_df.head()"
   ],
   "id": "3b99dd7831de9b6d",
   "outputs": [
    {
     "data": {
      "text/plain": [
       "                                  Recency  Frequency  Monetary\n",
       "customer_unique_id                                            \n",
       "0000366f3b9a7992bf8c76cfdf3221e2      161          1    141.90\n",
       "0000b849f77a49e4a4ce2b2a4ca5be3f      164          1     27.19\n",
       "0000f46a3911fa3c0805444483337064      586          1     86.22\n",
       "0000f6ccb0745a6a4b88665a16c9f078      370          1     43.62\n",
       "0004aac84e0df4da2b147fca70cf8255      337          1    196.89"
      ],
      "text/html": [
       "<div>\n",
       "<style scoped>\n",
       "    .dataframe tbody tr th:only-of-type {\n",
       "        vertical-align: middle;\n",
       "    }\n",
       "\n",
       "    .dataframe tbody tr th {\n",
       "        vertical-align: top;\n",
       "    }\n",
       "\n",
       "    .dataframe thead th {\n",
       "        text-align: right;\n",
       "    }\n",
       "</style>\n",
       "<table border=\"1\" class=\"dataframe\">\n",
       "  <thead>\n",
       "    <tr style=\"text-align: right;\">\n",
       "      <th></th>\n",
       "      <th>Recency</th>\n",
       "      <th>Frequency</th>\n",
       "      <th>Monetary</th>\n",
       "    </tr>\n",
       "    <tr>\n",
       "      <th>customer_unique_id</th>\n",
       "      <th></th>\n",
       "      <th></th>\n",
       "      <th></th>\n",
       "    </tr>\n",
       "  </thead>\n",
       "  <tbody>\n",
       "    <tr>\n",
       "      <th>0000366f3b9a7992bf8c76cfdf3221e2</th>\n",
       "      <td>161</td>\n",
       "      <td>1</td>\n",
       "      <td>141.90</td>\n",
       "    </tr>\n",
       "    <tr>\n",
       "      <th>0000b849f77a49e4a4ce2b2a4ca5be3f</th>\n",
       "      <td>164</td>\n",
       "      <td>1</td>\n",
       "      <td>27.19</td>\n",
       "    </tr>\n",
       "    <tr>\n",
       "      <th>0000f46a3911fa3c0805444483337064</th>\n",
       "      <td>586</td>\n",
       "      <td>1</td>\n",
       "      <td>86.22</td>\n",
       "    </tr>\n",
       "    <tr>\n",
       "      <th>0000f6ccb0745a6a4b88665a16c9f078</th>\n",
       "      <td>370</td>\n",
       "      <td>1</td>\n",
       "      <td>43.62</td>\n",
       "    </tr>\n",
       "    <tr>\n",
       "      <th>0004aac84e0df4da2b147fca70cf8255</th>\n",
       "      <td>337</td>\n",
       "      <td>1</td>\n",
       "      <td>196.89</td>\n",
       "    </tr>\n",
       "  </tbody>\n",
       "</table>\n",
       "</div>"
      ]
     },
     "execution_count": 12,
     "metadata": {},
     "output_type": "execute_result"
    }
   ],
   "execution_count": 12
  },
  {
   "metadata": {
    "ExecuteTime": {
     "end_time": "2025-06-03T05:07:50.808968Z",
     "start_time": "2025-06-03T05:07:50.801324Z"
    }
   },
   "cell_type": "code",
   "source": [
    "# 구간 설정 및 범주 이름 지정\n",
    "bins = [0, 2, 5, float('inf')]  # 0~2: low, 3~5: mid, 6~: high\n",
    "labels = ['low', 'mid', 'high']\n",
    "\n",
    "# 구간화\n",
    "rfm_df['Frequency_level'] = pd.cut(rfm_df['Frequency'], bins=bins, labels=labels)\n",
    "\n",
    "rfm_df.head()"
   ],
   "id": "55e677428f522032",
   "outputs": [
    {
     "data": {
      "text/plain": [
       "                                  Recency  Frequency  Monetary Frequency_level\n",
       "customer_unique_id                                                            \n",
       "0000366f3b9a7992bf8c76cfdf3221e2      161          1    141.90             low\n",
       "0000b849f77a49e4a4ce2b2a4ca5be3f      164          1     27.19             low\n",
       "0000f46a3911fa3c0805444483337064      586          1     86.22             low\n",
       "0000f6ccb0745a6a4b88665a16c9f078      370          1     43.62             low\n",
       "0004aac84e0df4da2b147fca70cf8255      337          1    196.89             low"
      ],
      "text/html": [
       "<div>\n",
       "<style scoped>\n",
       "    .dataframe tbody tr th:only-of-type {\n",
       "        vertical-align: middle;\n",
       "    }\n",
       "\n",
       "    .dataframe tbody tr th {\n",
       "        vertical-align: top;\n",
       "    }\n",
       "\n",
       "    .dataframe thead th {\n",
       "        text-align: right;\n",
       "    }\n",
       "</style>\n",
       "<table border=\"1\" class=\"dataframe\">\n",
       "  <thead>\n",
       "    <tr style=\"text-align: right;\">\n",
       "      <th></th>\n",
       "      <th>Recency</th>\n",
       "      <th>Frequency</th>\n",
       "      <th>Monetary</th>\n",
       "      <th>Frequency_level</th>\n",
       "    </tr>\n",
       "    <tr>\n",
       "      <th>customer_unique_id</th>\n",
       "      <th></th>\n",
       "      <th></th>\n",
       "      <th></th>\n",
       "      <th></th>\n",
       "    </tr>\n",
       "  </thead>\n",
       "  <tbody>\n",
       "    <tr>\n",
       "      <th>0000366f3b9a7992bf8c76cfdf3221e2</th>\n",
       "      <td>161</td>\n",
       "      <td>1</td>\n",
       "      <td>141.90</td>\n",
       "      <td>low</td>\n",
       "    </tr>\n",
       "    <tr>\n",
       "      <th>0000b849f77a49e4a4ce2b2a4ca5be3f</th>\n",
       "      <td>164</td>\n",
       "      <td>1</td>\n",
       "      <td>27.19</td>\n",
       "      <td>low</td>\n",
       "    </tr>\n",
       "    <tr>\n",
       "      <th>0000f46a3911fa3c0805444483337064</th>\n",
       "      <td>586</td>\n",
       "      <td>1</td>\n",
       "      <td>86.22</td>\n",
       "      <td>low</td>\n",
       "    </tr>\n",
       "    <tr>\n",
       "      <th>0000f6ccb0745a6a4b88665a16c9f078</th>\n",
       "      <td>370</td>\n",
       "      <td>1</td>\n",
       "      <td>43.62</td>\n",
       "      <td>low</td>\n",
       "    </tr>\n",
       "    <tr>\n",
       "      <th>0004aac84e0df4da2b147fca70cf8255</th>\n",
       "      <td>337</td>\n",
       "      <td>1</td>\n",
       "      <td>196.89</td>\n",
       "      <td>low</td>\n",
       "    </tr>\n",
       "  </tbody>\n",
       "</table>\n",
       "</div>"
      ]
     },
     "execution_count": 13,
     "metadata": {},
     "output_type": "execute_result"
    }
   ],
   "execution_count": 13
  },
  {
   "metadata": {
    "ExecuteTime": {
     "end_time": "2025-06-03T05:07:50.943137Z",
     "start_time": "2025-06-03T05:07:50.933867Z"
    }
   },
   "cell_type": "code",
   "source": [
    "# 매핑 딕셔너리 정의\n",
    "f_score_map = {\n",
    "    'low': 1,\n",
    "    'mid': 3,\n",
    "    'high': 5\n",
    "}\n",
    "\n",
    "# Categorical 컬럼을 문자열로 변환 후 매핑\n",
    "rfm_df['F_score'] = rfm_df['Frequency_level'].astype(str).map(f_score_map).fillna(2).astype(int)"
   ],
   "id": "cbdf56bdc56b23f3",
   "outputs": [],
   "execution_count": 14
  },
  {
   "metadata": {
    "ExecuteTime": {
     "end_time": "2025-06-03T05:07:51.036155Z",
     "start_time": "2025-06-03T05:07:50.980994Z"
    }
   },
   "cell_type": "code",
   "source": [
    "# 분위수 구간 계산 (NaN 발생 대비 + 분위수 구간 부족 대비)\n",
    "for col in ['Recency', 'Monetary']:\n",
    "    try:\n",
    "        rfm_df[col[0] + '_quantile'] = pd.qcut(\n",
    "            rfm_df[col],\n",
    "            5,\n",
    "            labels=False,\n",
    "            duplicates='drop'\n",
    "        )\n",
    "    except ValueError:\n",
    "        # 전부 동일하거나 분위수 계산 불가한 경우 → 값 전체를 중간값으로 처리\n",
    "        rfm_df[col[0] + '_quantile'] = 2\n",
    "\n",
    "# NaN이 생긴 경우 기본값 2로 대체\n",
    "rfm_df[['R_quantile', 'M_quantile']] = rfm_df[['R_quantile', 'M_quantile']].fillna(2)\n",
    "\n",
    "# RFM 점수 계산\n",
    "rfm_df['R_score'] = (5 - rfm_df['R_quantile']).astype(int)  # Recency는 낮을수록 높게\n",
    "rfm_df['M_score'] = (1 + rfm_df['M_quantile']).astype(int)\n",
    "\n",
    "# 최종 RFM Score 조합\n",
    "rfm_df['RFM_score'] = (\n",
    "    rfm_df['R_score'].astype(str) +\n",
    "    rfm_df['F_score'].astype(str) +\n",
    "    rfm_df['M_score'].astype(str)\n",
    ")\n",
    "\n",
    "# 결과 출력\n",
    "print(rfm_df[['Recency', 'Frequency', 'Monetary', 'R_score', 'F_score', 'M_score', 'RFM_score']])"
   ],
   "id": "1aa35af19c6f356b",
   "outputs": [
    {
     "name": "stdout",
     "output_type": "stream",
     "text": [
      "                                  Recency  Frequency  Monetary  R_score  \\\n",
      "customer_unique_id                                                        \n",
      "0000366f3b9a7992bf8c76cfdf3221e2      161          1    141.90        4   \n",
      "0000b849f77a49e4a4ce2b2a4ca5be3f      164          1     27.19        4   \n",
      "0000f46a3911fa3c0805444483337064      586          1     86.22        1   \n",
      "0000f6ccb0745a6a4b88665a16c9f078      370          1     43.62        2   \n",
      "0004aac84e0df4da2b147fca70cf8255      337          1    196.89        2   \n",
      "...                                   ...        ...       ...      ...   \n",
      "fffcf5a5ff07b0908bd4e2dbc735a684      496          1   2067.42        1   \n",
      "fffea47cd6d3cc0a88bd621562a9d061      311          1     84.58        3   \n",
      "ffff371b4d645b6ecea244b27531430a      618          1    112.46        1   \n",
      "ffff5962728ec6157033ef9805bacc48      169          1    133.69        4   \n",
      "ffffd2657e2aad2907e67c3e9daecbeb      533          1     71.56        1   \n",
      "\n",
      "                                  F_score  M_score RFM_score  \n",
      "customer_unique_id                                            \n",
      "0000366f3b9a7992bf8c76cfdf3221e2        1        4       414  \n",
      "0000b849f77a49e4a4ce2b2a4ca5be3f        1        1       411  \n",
      "0000f46a3911fa3c0805444483337064        1        2       112  \n",
      "0000f6ccb0745a6a4b88665a16c9f078        1        1       211  \n",
      "0004aac84e0df4da2b147fca70cf8255        1        4       214  \n",
      "...                                   ...      ...       ...  \n",
      "fffcf5a5ff07b0908bd4e2dbc735a684        1        5       115  \n",
      "fffea47cd6d3cc0a88bd621562a9d061        1        2       312  \n",
      "ffff371b4d645b6ecea244b27531430a        1        3       113  \n",
      "ffff5962728ec6157033ef9805bacc48        1        4       414  \n",
      "ffffd2657e2aad2907e67c3e9daecbeb        1        2       112  \n",
      "\n",
      "[96095 rows x 7 columns]\n"
     ]
    }
   ],
   "execution_count": 15
  },
  {
   "metadata": {
    "ExecuteTime": {
     "end_time": "2025-06-03T05:07:51.050945Z",
     "start_time": "2025-06-03T05:07:51.046442Z"
    }
   },
   "cell_type": "code",
   "source": [
    "print(rfm_df['R_score'].value_counts(), '\\n')\n",
    "print(rfm_df['F_score'].value_counts(), '\\n')\n",
    "print(rfm_df['M_score'].value_counts(), '\\n')"
   ],
   "id": "7b4b3f505e0a49c3",
   "outputs": [
    {
     "name": "stdout",
     "output_type": "stream",
     "text": [
      "R_score\n",
      "5    19324\n",
      "2    19300\n",
      "4    19299\n",
      "1    19129\n",
      "3    19043\n",
      "Name: count, dtype: int64 \n",
      "\n",
      "F_score\n",
      "1    95843\n",
      "3      241\n",
      "5       11\n",
      "Name: count, dtype: int64 \n",
      "\n",
      "M_score\n",
      "3    19222\n",
      "1    19221\n",
      "2    19219\n",
      "5    19219\n",
      "4    19214\n",
      "Name: count, dtype: int64 \n",
      "\n"
     ]
    }
   ],
   "execution_count": 16
  },
  {
   "metadata": {
    "ExecuteTime": {
     "end_time": "2025-06-03T05:07:51.310460Z",
     "start_time": "2025-06-03T05:07:51.059782Z"
    }
   },
   "cell_type": "code",
   "source": [
    "def classify_churn(row):\n",
    "    if row['R_score'] <= 2 and row['F_score'] <= 2:\n",
    "        return 1\n",
    "    else:\n",
    "        return 0\n",
    "\n",
    "# 이탈 여부 태깅\n",
    "rfm_df['churn'] = rfm_df.apply(classify_churn, axis=1)"
   ],
   "id": "6c760cdc83b0d1e9",
   "outputs": [],
   "execution_count": 17
  },
  {
   "metadata": {
    "ExecuteTime": {
     "end_time": "2025-06-03T05:07:51.334009Z",
     "start_time": "2025-06-03T05:07:51.319352Z"
    }
   },
   "cell_type": "code",
   "source": [
    "rfm_df = rfm_df.reset_index()\n",
    "rfm_df.info()"
   ],
   "id": "94cc740505990af9",
   "outputs": [
    {
     "name": "stdout",
     "output_type": "stream",
     "text": [
      "<class 'pandas.core.frame.DataFrame'>\n",
      "RangeIndex: 96095 entries, 0 to 96094\n",
      "Data columns (total 12 columns):\n",
      " #   Column              Non-Null Count  Dtype   \n",
      "---  ------              --------------  -----   \n",
      " 0   customer_unique_id  96095 non-null  object  \n",
      " 1   Recency             96095 non-null  int64   \n",
      " 2   Frequency           96095 non-null  int64   \n",
      " 3   Monetary            96095 non-null  float64 \n",
      " 4   Frequency_level     96095 non-null  category\n",
      " 5   F_score             96095 non-null  int64   \n",
      " 6   R_quantile          96095 non-null  int64   \n",
      " 7   M_quantile          96095 non-null  int64   \n",
      " 8   R_score             96095 non-null  int64   \n",
      " 9   M_score             96095 non-null  int64   \n",
      " 10  RFM_score           96095 non-null  object  \n",
      " 11  churn               96095 non-null  int64   \n",
      "dtypes: category(1), float64(1), int64(8), object(2)\n",
      "memory usage: 8.2+ MB\n"
     ]
    }
   ],
   "execution_count": 18
  },
  {
   "metadata": {},
   "cell_type": "code",
   "outputs": [],
   "execution_count": null,
   "source": [
    "churn_counts = rfm_df['churn'].value_counts().sort_index()\n",
    "total = churn_counts.sum()\n",
    "\n",
    "plt.figure(figsize=(6,4))\n",
    "ax = sns.barplot(x=churn_counts.index, y=churn_counts.values, color='skyblue')\n",
    "\n",
    "plt.xticks([0,1], ['Active (0)', 'Churned (1)'])\n",
    "plt.xlabel('Churn')\n",
    "plt.ylabel('Number of Customers')\n",
    "plt.title('Distribution of Churn Status')\n",
    "\n",
    "# 막대 위에 비율 표시\n",
    "for i, count in enumerate(churn_counts.values):\n",
    "    percentage = count / total * 100\n",
    "    ax.text(i, count + total*0.01, f'{percentage:.1f}%', ha='center')\n",
    "\n",
    "plt.show()"
   ],
   "id": "8ddc8fbe3d82ad15"
  },
  {
   "metadata": {},
   "cell_type": "markdown",
   "source": "## 배송처리",
   "id": "7f1dee9982a9dc4f"
  },
  {
   "metadata": {
    "ExecuteTime": {
     "end_time": "2025-06-03T05:12:09.964247Z",
     "start_time": "2025-06-03T05:12:09.893656Z"
    }
   },
   "cell_type": "code",
   "source": "orders_customers_merged.info()",
   "id": "f48f057663588f1e",
   "outputs": [
    {
     "name": "stdout",
     "output_type": "stream",
     "text": [
      "<class 'pandas.core.frame.DataFrame'>\n",
      "RangeIndex: 99441 entries, 0 to 99440\n",
      "Data columns (total 9 columns):\n",
      " #   Column                         Non-Null Count  Dtype \n",
      "---  ------                         --------------  ----- \n",
      " 0   order_id                       99441 non-null  object\n",
      " 1   customer_id                    99441 non-null  object\n",
      " 2   order_status                   99441 non-null  object\n",
      " 3   order_purchase_timestamp       99441 non-null  object\n",
      " 4   order_approved_at              99281 non-null  object\n",
      " 5   order_delivered_carrier_date   97658 non-null  object\n",
      " 6   order_delivered_customer_date  96476 non-null  object\n",
      " 7   order_estimated_delivery_date  99441 non-null  object\n",
      " 8   customer_unique_id             99441 non-null  object\n",
      "dtypes: object(9)\n",
      "memory usage: 6.8+ MB\n"
     ]
    }
   ],
   "execution_count": 23
  },
  {
   "metadata": {
    "ExecuteTime": {
     "end_time": "2025-06-03T05:16:33.983089Z",
     "start_time": "2025-06-03T05:16:33.892866Z"
    }
   },
   "cell_type": "code",
   "source": [
    "# 데이터타입 변환\n",
    "orders_customers_merged['order_delivered_customer_date'] = pd.to_datetime(orders_customers_merged['order_delivered_customer_date'])\n",
    "orders_customers_merged['order_purchase_timestamp'] = pd.to_datetime(orders_customers_merged['order_purchase_timestamp'])\n",
    "\n",
    "orders_customers_merged.info()"
   ],
   "id": "d153e26e4cfed4d6",
   "outputs": [
    {
     "name": "stdout",
     "output_type": "stream",
     "text": [
      "<class 'pandas.core.frame.DataFrame'>\n",
      "RangeIndex: 99441 entries, 0 to 99440\n",
      "Data columns (total 9 columns):\n",
      " #   Column                         Non-Null Count  Dtype         \n",
      "---  ------                         --------------  -----         \n",
      " 0   order_id                       99441 non-null  object        \n",
      " 1   customer_id                    99441 non-null  object        \n",
      " 2   order_status                   99441 non-null  object        \n",
      " 3   order_purchase_timestamp       99441 non-null  datetime64[ns]\n",
      " 4   order_approved_at              99281 non-null  object        \n",
      " 5   order_delivered_carrier_date   97658 non-null  object        \n",
      " 6   order_delivered_customer_date  96476 non-null  datetime64[ns]\n",
      " 7   order_estimated_delivery_date  99441 non-null  object        \n",
      " 8   customer_unique_id             99441 non-null  object        \n",
      "dtypes: datetime64[ns](2), object(7)\n",
      "memory usage: 6.8+ MB\n"
     ]
    }
   ],
   "execution_count": 25
  },
  {
   "metadata": {
    "ExecuteTime": {
     "end_time": "2025-06-03T05:20:10.642528Z",
     "start_time": "2025-06-03T05:20:10.559179Z"
    }
   },
   "cell_type": "code",
   "source": [
    "# 배송 소요일수 계산\n",
    "orders_customers_merged['processing_days'] = (\n",
    "    orders_customers_merged['order_delivered_customer_date'] - orders_customers_merged['order_purchase_timestamp']\n",
    ").dt.days\n",
    "\n",
    "# 고객별 평균 배송일 계산\n",
    "processing_days_df = orders_customers_merged.groupby('customer_unique_id')['processing_days'].mean().reset_index()\n",
    "\n",
    "processing_days_df.shape"
   ],
   "id": "ef8291cb188d880d",
   "outputs": [
    {
     "data": {
      "text/plain": [
       "(96096, 2)"
      ]
     },
     "execution_count": 27,
     "metadata": {},
     "output_type": "execute_result"
    }
   ],
   "execution_count": 27
  },
  {
   "metadata": {},
   "cell_type": "markdown",
   "source": "",
   "id": "4cf945d6769908c8"
  },
  {
   "metadata": {},
   "cell_type": "markdown",
   "source": "## 설문응답소요일",
   "id": "e0ff1f567cfcfc1"
  },
  {
   "metadata": {
    "ExecuteTime": {
     "end_time": "2025-06-03T05:29:58.366179Z",
     "start_time": "2025-06-03T05:29:58.309753Z"
    }
   },
   "cell_type": "code",
   "source": "order_reviews_df.info()",
   "id": "5fc580e47ee169b6",
   "outputs": [
    {
     "name": "stdout",
     "output_type": "stream",
     "text": [
      "<class 'pandas.core.frame.DataFrame'>\n",
      "RangeIndex: 99224 entries, 0 to 99223\n",
      "Data columns (total 7 columns):\n",
      " #   Column                   Non-Null Count  Dtype \n",
      "---  ------                   --------------  ----- \n",
      " 0   review_id                99224 non-null  object\n",
      " 1   order_id                 99224 non-null  object\n",
      " 2   review_score             99224 non-null  int64 \n",
      " 3   review_comment_title     11568 non-null  object\n",
      " 4   review_comment_message   40977 non-null  object\n",
      " 5   review_creation_date     99224 non-null  object\n",
      " 6   review_answer_timestamp  99224 non-null  object\n",
      "dtypes: int64(1), object(6)\n",
      "memory usage: 5.3+ MB\n"
     ]
    }
   ],
   "execution_count": 32
  },
  {
   "metadata": {
    "ExecuteTime": {
     "end_time": "2025-06-03T05:36:56.417241Z",
     "start_time": "2025-06-03T05:36:56.270771Z"
    }
   },
   "cell_type": "code",
   "source": [
    "# customer_unique_id 병합\n",
    "reviews_customers_merged = pd.merge(\n",
    "    order_reviews_df,\n",
    "    orders_customers_merged[['order_id', 'customer_unique_id']],\n",
    "    on='order_id',\n",
    "    how='left'\n",
    ")\n",
    "\n",
    "reviews_customers_merged.head()"
   ],
   "id": "f2628cc6407be8ac",
   "outputs": [
    {
     "data": {
      "text/plain": [
       "                          review_id                          order_id  \\\n",
       "0  7bc2406110b926393aa56f80a40eba40  73fc7af87114b39712e6da79b0a377eb   \n",
       "1  80e641a11e56f04c1ad469d5645fdfde  a548910a1c6147796b98fdf73dbeba33   \n",
       "2  228ce5500dc1d8e020d8d1322874b6f0  f9e4b658b201a9f2ecdecbb34bed034b   \n",
       "3  e64fb393e7b32834bb789ff8bb30750e  658677c97b385a9be170737859d3511b   \n",
       "4  f7c4243c7fe1938f181bec41a392bdeb  8e6bfb81e283fa7e4f11123a3fb894f1   \n",
       "\n",
       "   review_score review_comment_title  \\\n",
       "0             4                  NaN   \n",
       "1             5                  NaN   \n",
       "2             5                  NaN   \n",
       "3             5                  NaN   \n",
       "4             5                  NaN   \n",
       "\n",
       "                              review_comment_message review_creation_date  \\\n",
       "0                                                NaN           2018-01-18   \n",
       "1                                                NaN           2018-03-10   \n",
       "2                                                NaN           2018-02-17   \n",
       "3              Recebi bem antes do prazo estipulado.           2017-04-21   \n",
       "4  Parabéns lojas lannister adorei comprar pela I...           2018-03-01   \n",
       "\n",
       "  review_answer_timestamp                customer_unique_id  \n",
       "0     2018-01-18 21:46:59  68a5590b9926689be4e10f4ae2db21a8  \n",
       "1     2018-03-11 03:05:13  64190b91b656ab8f37eb89b93dc84584  \n",
       "2     2018-02-18 14:36:24  1d47144362c14e94ccdd213e8ec277d5  \n",
       "3     2017-04-21 22:02:06  c8cf6cb6b838dc7a33ed199b825e8616  \n",
       "4     2018-03-02 10:26:53  d16000272660a1fef81482ad75ba572a  "
      ],
      "text/html": [
       "<div>\n",
       "<style scoped>\n",
       "    .dataframe tbody tr th:only-of-type {\n",
       "        vertical-align: middle;\n",
       "    }\n",
       "\n",
       "    .dataframe tbody tr th {\n",
       "        vertical-align: top;\n",
       "    }\n",
       "\n",
       "    .dataframe thead th {\n",
       "        text-align: right;\n",
       "    }\n",
       "</style>\n",
       "<table border=\"1\" class=\"dataframe\">\n",
       "  <thead>\n",
       "    <tr style=\"text-align: right;\">\n",
       "      <th></th>\n",
       "      <th>review_id</th>\n",
       "      <th>order_id</th>\n",
       "      <th>review_score</th>\n",
       "      <th>review_comment_title</th>\n",
       "      <th>review_comment_message</th>\n",
       "      <th>review_creation_date</th>\n",
       "      <th>review_answer_timestamp</th>\n",
       "      <th>customer_unique_id</th>\n",
       "    </tr>\n",
       "  </thead>\n",
       "  <tbody>\n",
       "    <tr>\n",
       "      <th>0</th>\n",
       "      <td>7bc2406110b926393aa56f80a40eba40</td>\n",
       "      <td>73fc7af87114b39712e6da79b0a377eb</td>\n",
       "      <td>4</td>\n",
       "      <td>NaN</td>\n",
       "      <td>NaN</td>\n",
       "      <td>2018-01-18</td>\n",
       "      <td>2018-01-18 21:46:59</td>\n",
       "      <td>68a5590b9926689be4e10f4ae2db21a8</td>\n",
       "    </tr>\n",
       "    <tr>\n",
       "      <th>1</th>\n",
       "      <td>80e641a11e56f04c1ad469d5645fdfde</td>\n",
       "      <td>a548910a1c6147796b98fdf73dbeba33</td>\n",
       "      <td>5</td>\n",
       "      <td>NaN</td>\n",
       "      <td>NaN</td>\n",
       "      <td>2018-03-10</td>\n",
       "      <td>2018-03-11 03:05:13</td>\n",
       "      <td>64190b91b656ab8f37eb89b93dc84584</td>\n",
       "    </tr>\n",
       "    <tr>\n",
       "      <th>2</th>\n",
       "      <td>228ce5500dc1d8e020d8d1322874b6f0</td>\n",
       "      <td>f9e4b658b201a9f2ecdecbb34bed034b</td>\n",
       "      <td>5</td>\n",
       "      <td>NaN</td>\n",
       "      <td>NaN</td>\n",
       "      <td>2018-02-17</td>\n",
       "      <td>2018-02-18 14:36:24</td>\n",
       "      <td>1d47144362c14e94ccdd213e8ec277d5</td>\n",
       "    </tr>\n",
       "    <tr>\n",
       "      <th>3</th>\n",
       "      <td>e64fb393e7b32834bb789ff8bb30750e</td>\n",
       "      <td>658677c97b385a9be170737859d3511b</td>\n",
       "      <td>5</td>\n",
       "      <td>NaN</td>\n",
       "      <td>Recebi bem antes do prazo estipulado.</td>\n",
       "      <td>2017-04-21</td>\n",
       "      <td>2017-04-21 22:02:06</td>\n",
       "      <td>c8cf6cb6b838dc7a33ed199b825e8616</td>\n",
       "    </tr>\n",
       "    <tr>\n",
       "      <th>4</th>\n",
       "      <td>f7c4243c7fe1938f181bec41a392bdeb</td>\n",
       "      <td>8e6bfb81e283fa7e4f11123a3fb894f1</td>\n",
       "      <td>5</td>\n",
       "      <td>NaN</td>\n",
       "      <td>Parabéns lojas lannister adorei comprar pela I...</td>\n",
       "      <td>2018-03-01</td>\n",
       "      <td>2018-03-02 10:26:53</td>\n",
       "      <td>d16000272660a1fef81482ad75ba572a</td>\n",
       "    </tr>\n",
       "  </tbody>\n",
       "</table>\n",
       "</div>"
      ]
     },
     "execution_count": 35,
     "metadata": {},
     "output_type": "execute_result"
    }
   ],
   "execution_count": 35
  },
  {
   "metadata": {
    "ExecuteTime": {
     "end_time": "2025-06-03T05:37:38.151273Z",
     "start_time": "2025-06-03T05:37:38.087516Z"
    }
   },
   "cell_type": "code",
   "source": [
    "# 데이터타입 변환\n",
    "reviews_customers_merged['review_answer_timestamp'] = pd.to_datetime(reviews_customers_merged['review_answer_timestamp'])\n",
    "reviews_customers_merged['review_creation_date'] = pd.to_datetime(reviews_customers_merged['review_creation_date'])\n",
    "\n",
    "reviews_customers_merged.info()"
   ],
   "id": "2ccc56f445c840d8",
   "outputs": [
    {
     "name": "stdout",
     "output_type": "stream",
     "text": [
      "<class 'pandas.core.frame.DataFrame'>\n",
      "RangeIndex: 99224 entries, 0 to 99223\n",
      "Data columns (total 8 columns):\n",
      " #   Column                   Non-Null Count  Dtype         \n",
      "---  ------                   --------------  -----         \n",
      " 0   review_id                99224 non-null  object        \n",
      " 1   order_id                 99224 non-null  object        \n",
      " 2   review_score             99224 non-null  int64         \n",
      " 3   review_comment_title     11568 non-null  object        \n",
      " 4   review_comment_message   40977 non-null  object        \n",
      " 5   review_creation_date     99224 non-null  datetime64[ns]\n",
      " 6   review_answer_timestamp  99224 non-null  datetime64[ns]\n",
      " 7   customer_unique_id       99224 non-null  object        \n",
      "dtypes: datetime64[ns](2), int64(1), object(5)\n",
      "memory usage: 6.1+ MB\n"
     ]
    }
   ],
   "execution_count": 36
  },
  {
   "metadata": {
    "ExecuteTime": {
     "end_time": "2025-06-03T05:38:29.982827Z",
     "start_time": "2025-06-03T05:38:29.888458Z"
    }
   },
   "cell_type": "code",
   "source": [
    "# 설문응답 소요일수 계산\n",
    "reviews_customers_merged['response_days'] = (\n",
    "        reviews_customers_merged['review_answer_timestamp'] - reviews_customers_merged['review_creation_date']\n",
    ").dt.days\n",
    "\n",
    "# 고객별 평균 설문응답 소요일 계산\n",
    "response_days_df = reviews_customers_merged.groupby('customer_unique_id')['response_days'].mean().reset_index()\n",
    "\n",
    "response_days_df.shape"
   ],
   "id": "133fa2d09f0ab26e",
   "outputs": [
    {
     "data": {
      "text/plain": [
       "(95380, 2)"
      ]
     },
     "execution_count": 37,
     "metadata": {},
     "output_type": "execute_result"
    }
   ],
   "execution_count": 37
  },
  {
   "metadata": {},
   "cell_type": "markdown",
   "source": [
    "## 특성 컬럼 병합\n",
    "- Recency\n",
    "- Frequency\n",
    "- Monetary\n",
    "- processing_days\n",
    "- response_days"
   ],
   "id": "acdc1af91ccb6bc7"
  },
  {
   "metadata": {
    "ExecuteTime": {
     "end_time": "2025-06-03T05:41:20.631466Z",
     "start_time": "2025-06-03T05:41:20.583979Z"
    }
   },
   "cell_type": "code",
   "source": "rfm_df.info()",
   "id": "e00ed55718dd7ed0",
   "outputs": [
    {
     "name": "stdout",
     "output_type": "stream",
     "text": [
      "<class 'pandas.core.frame.DataFrame'>\n",
      "RangeIndex: 96095 entries, 0 to 96094\n",
      "Data columns (total 12 columns):\n",
      " #   Column              Non-Null Count  Dtype   \n",
      "---  ------              --------------  -----   \n",
      " 0   customer_unique_id  96095 non-null  object  \n",
      " 1   Recency             96095 non-null  int64   \n",
      " 2   Frequency           96095 non-null  int64   \n",
      " 3   Monetary            96095 non-null  float64 \n",
      " 4   Frequency_level     96095 non-null  category\n",
      " 5   F_score             96095 non-null  int64   \n",
      " 6   R_quantile          96095 non-null  int64   \n",
      " 7   M_quantile          96095 non-null  int64   \n",
      " 8   R_score             96095 non-null  int64   \n",
      " 9   M_score             96095 non-null  int64   \n",
      " 10  RFM_score           96095 non-null  object  \n",
      " 11  churn               96095 non-null  int64   \n",
      "dtypes: category(1), float64(1), int64(8), object(2)\n",
      "memory usage: 8.2+ MB\n"
     ]
    }
   ],
   "execution_count": 38
  },
  {
   "metadata": {
    "ExecuteTime": {
     "end_time": "2025-06-03T05:55:53.668945Z",
     "start_time": "2025-06-03T05:55:53.614531Z"
    }
   },
   "cell_type": "code",
   "source": "processing_days_df.info()",
   "id": "cd27a9e9a061e80d",
   "outputs": [
    {
     "name": "stdout",
     "output_type": "stream",
     "text": [
      "<class 'pandas.core.frame.DataFrame'>\n",
      "RangeIndex: 96096 entries, 0 to 96095\n",
      "Data columns (total 2 columns):\n",
      " #   Column              Non-Null Count  Dtype  \n",
      "---  ------              --------------  -----  \n",
      " 0   customer_unique_id  96096 non-null  object \n",
      " 1   processing_days     93356 non-null  float64\n",
      "dtypes: float64(1), object(1)\n",
      "memory usage: 1.5+ MB\n"
     ]
    }
   ],
   "execution_count": 56
  },
  {
   "metadata": {
    "ExecuteTime": {
     "end_time": "2025-06-03T06:26:55.589463Z",
     "start_time": "2025-06-03T06:26:55.511300Z"
    }
   },
   "cell_type": "code",
   "source": "processing_days_df.info()",
   "id": "b9d460235a834443",
   "outputs": [
    {
     "name": "stdout",
     "output_type": "stream",
     "text": [
      "<class 'pandas.core.frame.DataFrame'>\n",
      "RangeIndex: 96096 entries, 0 to 96095\n",
      "Data columns (total 2 columns):\n",
      " #   Column              Non-Null Count  Dtype  \n",
      "---  ------              --------------  -----  \n",
      " 0   customer_unique_id  96096 non-null  object \n",
      " 1   processing_days     93356 non-null  float64\n",
      "dtypes: float64(1), object(1)\n",
      "memory usage: 1.5+ MB\n"
     ]
    }
   ],
   "execution_count": 59
  },
  {
   "metadata": {
    "ExecuteTime": {
     "end_time": "2025-06-03T05:55:55.138027Z",
     "start_time": "2025-06-03T05:55:55.125890Z"
    }
   },
   "cell_type": "code",
   "source": "response_days_df.info()",
   "id": "c4f603ed7da59411",
   "outputs": [
    {
     "name": "stdout",
     "output_type": "stream",
     "text": [
      "<class 'pandas.core.frame.DataFrame'>\n",
      "RangeIndex: 95380 entries, 0 to 95379\n",
      "Data columns (total 2 columns):\n",
      " #   Column              Non-Null Count  Dtype  \n",
      "---  ------              --------------  -----  \n",
      " 0   customer_unique_id  95380 non-null  object \n",
      " 1   response_days       95380 non-null  float64\n",
      "dtypes: float64(1), object(1)\n",
      "memory usage: 1.5+ MB\n"
     ]
    }
   ],
   "execution_count": 57
  },
  {
   "metadata": {
    "ExecuteTime": {
     "end_time": "2025-06-03T06:27:55.558236Z",
     "start_time": "2025-06-03T06:27:55.446228Z"
    }
   },
   "cell_type": "code",
   "source": [
    "model_df = pd.merge(\n",
    "    rfm_df,\n",
    "    processing_days_df[['customer_unique_id', 'processing_days']],\n",
    "    on='customer_unique_id',\n",
    "    how='left'\n",
    ")\n",
    "\n",
    "model_df = pd.merge(\n",
    "    model_df,\n",
    "    response_days_df[['customer_unique_id', 'response_days']],\n",
    "    on='customer_unique_id',\n",
    "    how='left'\n",
    ")\n",
    "\n",
    "model_df.isnull().sum()"
   ],
   "id": "257c65b3bab25c03",
   "outputs": [
    {
     "data": {
      "text/plain": [
       "customer_unique_id       0\n",
       "Recency                  0\n",
       "Frequency                0\n",
       "Monetary                 0\n",
       "Frequency_level          0\n",
       "F_score                  0\n",
       "R_quantile               0\n",
       "M_quantile               0\n",
       "R_score                  0\n",
       "M_score                  0\n",
       "RFM_score                0\n",
       "churn                    0\n",
       "processing_days       2740\n",
       "response_days          716\n",
       "dtype: int64"
      ]
     },
     "execution_count": 60,
     "metadata": {},
     "output_type": "execute_result"
    }
   ],
   "execution_count": 60
  },
  {
   "metadata": {},
   "cell_type": "markdown",
   "source": "### 결측치 처리",
   "id": "6018e441d6e456ac"
  },
  {
   "metadata": {
    "ExecuteTime": {
     "end_time": "2025-06-03T06:39:28.644760Z",
     "start_time": "2025-06-03T06:39:28.573723Z"
    }
   },
   "cell_type": "code",
   "source": [
    "processing_null_rows = model_df[model_df['processing_days'].isnull()]\n",
    "print(processing_null_rows)"
   ],
   "id": "d111debe42c0d876",
   "outputs": [
    {
     "name": "stdout",
     "output_type": "stream",
     "text": [
      "                     customer_unique_id  Recency  Frequency  Monetary  \\\n",
      "44     001ae44fa04911a9e9577356dce6c63c      345          1    116.23   \n",
      "58     0029bd580d3012618731f5abb174a07f      350          1     52.38   \n",
      "123    004ad212c650c96c8a48f30855a7bcb8      389          1     25.90   \n",
      "177    0071f46a072a9ae25bbe4438b15efe9c      624          1    174.54   \n",
      "236    009a0802534f904b40b9d512b49794e1      336          1     91.29   \n",
      "...                                 ...      ...        ...       ...   \n",
      "96015  ffc4233210eac4ec1711a8b847196d4e      121          1     94.77   \n",
      "96022  ffca77d46c6d7d815549a5e4482dba2f      210          1    155.34   \n",
      "96040  ffdde6e4dcb6ec3a882cfc6cddef7996      312          1    796.94   \n",
      "96055  ffe6305176b9431a3eda3cf8904d7eb7      130          1     57.37   \n",
      "96089  fffcc512b7dfecaffd80f13614af1d16      190          1    710.70   \n",
      "\n",
      "      Frequency_level  F_score  R_quantile  M_quantile  R_score  M_score  \\\n",
      "44                low        1           3           2        2        3   \n",
      "58                low        1           3           0        2        1   \n",
      "123               low        1           3           0        2        1   \n",
      "177               low        1           4           3        1        4   \n",
      "236               low        1           3           2        2        3   \n",
      "...               ...      ...         ...         ...      ...      ...   \n",
      "96015             low        1           0           2        5        3   \n",
      "96022             low        1           1           3        4        4   \n",
      "96040             low        1           2           4        3        5   \n",
      "96055             low        1           0           1        5        2   \n",
      "96089             low        1           1           4        4        5   \n",
      "\n",
      "      RFM_score  churn  processing_days  response_days  \n",
      "44          213      1              NaN            NaN  \n",
      "58          211      1              NaN            2.0  \n",
      "123         211      1              NaN           10.0  \n",
      "177         114      1              NaN            2.0  \n",
      "236         213      1              NaN            0.0  \n",
      "...         ...    ...              ...            ...  \n",
      "96015       513      0              NaN          106.0  \n",
      "96022       414      0              NaN            NaN  \n",
      "96040       315      0              NaN            0.0  \n",
      "96055       512      0              NaN            NaN  \n",
      "96089       415      0              NaN           13.0  \n",
      "\n",
      "[2740 rows x 14 columns]\n"
     ]
    }
   ],
   "execution_count": 61
  },
  {
   "metadata": {
    "ExecuteTime": {
     "end_time": "2025-06-03T06:44:37.531521Z",
     "start_time": "2025-06-03T06:44:37.349768Z"
    }
   },
   "cell_type": "code",
   "source": [
    "# 결측치 비율 시각화\n",
    "plt.figure(figsize=(15, 4))\n",
    "score_columns = ['R_score', 'F_score', 'M_score']\n",
    "\n",
    "for i, col in enumerate(score_columns, 1):\n",
    "    plt.subplot(1, 3, i)\n",
    "    value_counts = processing_null_rows[col].value_counts(normalize=True).sort_index()  # 비율 계산\n",
    "    sns.barplot(x=value_counts.index, y=value_counts.values, hue=value_counts.index, palette='Set2', legend=False)\n",
    "    plt.title(f'{col} 비율 (결측행 기준)')\n",
    "    plt.xlabel(col)\n",
    "    plt.ylabel('비율')\n",
    "\n",
    "plt.tight_layout()\n",
    "plt.show()"
   ],
   "id": "a4e893014f31dc7f",
   "outputs": [
    {
     "data": {
      "text/plain": [
       "<Figure size 1500x400 with 3 Axes>"
      ],
      "image/png": "[encoded data removed]"
     },
     "metadata": {},
     "output_type": "display_data"
    }
   ],
   "execution_count": 69
  },
  {
   "metadata": {
    "ExecuteTime": {
     "end_time": "2025-06-03T06:40:35.862440Z",
     "start_time": "2025-06-03T06:40:35.821948Z"
    }
   },
   "cell_type": "code",
   "source": [
    "response_null_rows = model_df[model_df['response_days'].isnull()]\n",
    "print(response_null_rows)"
   ],
   "id": "23c70cc1c566d15d",
   "outputs": [
    {
     "name": "stdout",
     "output_type": "stream",
     "text": [
      "                     customer_unique_id  Recency  Frequency  Monetary  \\\n",
      "44     001ae44fa04911a9e9577356dce6c63c      345          1    116.23   \n",
      "290    00bee19e1199bc5cede1c674177b9e22      334          1    673.69   \n",
      "380    00fb9cc86736fe3782dbc828a2eea4a6      301          1     92.57   \n",
      "881    025cf7c2f32536f0be1ab412bb6602d2       62          1   1898.61   \n",
      "977    02a2a0a9627a062602de754d75038ce4       70          1    532.49   \n",
      "...                                 ...      ...        ...       ...   \n",
      "95928  ff905cb313cb121a840dafe5a7a9170f      316          1    194.50   \n",
      "95985  ffb3cbd5e1e507679e2db84c515410a5       63          1    110.63   \n",
      "96022  ffca77d46c6d7d815549a5e4482dba2f      210          1    155.34   \n",
      "96047  ffe0c10afc687bcf34a0451f2b87dd9b      251          1    215.76   \n",
      "96055  ffe6305176b9431a3eda3cf8904d7eb7      130          1     57.37   \n",
      "\n",
      "      Frequency_level  F_score  R_quantile  M_quantile  R_score  M_score  \\\n",
      "44                low        1           3           2        2        3   \n",
      "290               low        1           3           4        2        5   \n",
      "380               low        1           2           2        3        3   \n",
      "881               low        1           0           4        5        5   \n",
      "977               low        1           0           4        5        5   \n",
      "...               ...      ...         ...         ...      ...      ...   \n",
      "95928             low        1           2           3        3        4   \n",
      "95985             low        1           0           2        5        3   \n",
      "96022             low        1           1           3        4        4   \n",
      "96047             low        1           2           4        3        5   \n",
      "96055             low        1           0           1        5        2   \n",
      "\n",
      "      RFM_score  churn  processing_days  response_days  \n",
      "44          213      1              NaN            NaN  \n",
      "290         215      1             25.0            NaN  \n",
      "380         313      0             14.0            NaN  \n",
      "881         515      0             12.0            NaN  \n",
      "977         515      0              NaN            NaN  \n",
      "...         ...    ...              ...            ...  \n",
      "95928       314      0              8.0            NaN  \n",
      "95985       513      0             14.0            NaN  \n",
      "96022       414      0              NaN            NaN  \n",
      "96047       315      0              9.0            NaN  \n",
      "96055       512      0              NaN            NaN  \n",
      "\n",
      "[716 rows x 14 columns]\n"
     ]
    }
   ],
   "execution_count": 63
  },
  {
   "metadata": {
    "ExecuteTime": {
     "end_time": "2025-06-03T06:45:05.656832Z",
     "start_time": "2025-06-03T06:45:05.465989Z"
    }
   },
   "cell_type": "code",
   "source": [
    "# 결측치 비율 시각화\n",
    "plt.figure(figsize=(15, 4))\n",
    "score_columns = ['R_score', 'F_score', 'M_score']\n",
    "\n",
    "for i, col in enumerate(score_columns, 1):\n",
    "    plt.subplot(1, 3, i)\n",
    "    value_counts = response_null_rows[col].value_counts(normalize=True).sort_index()  # 비율 계산\n",
    "    sns.barplot(x=value_counts.index, y=value_counts.values, hue=value_counts.index, palette='Set2', legend=False)\n",
    "    plt.title(f'{col} 비율 (결측행 기준)')\n",
    "    plt.xlabel(col)\n",
    "    plt.ylabel('비율')\n",
    "\n",
    "plt.tight_layout()\n",
    "plt.show()"
   ],
   "id": "fb9c30d51cc5fb13",
   "outputs": [
    {
     "data": {
      "text/plain": [
       "<Figure size 1500x400 with 3 Axes>"
      ],
      "image/png": "[encoded data removed]"
     },
     "metadata": {},
     "output_type": "display_data"
    }
   ],
   "execution_count": 70
  },
  {
   "metadata": {
    "ExecuteTime": {
     "end_time": "2025-06-03T08:35:11.888577Z",
     "start_time": "2025-06-03T08:35:11.831175Z"
    }
   },
   "cell_type": "code",
   "source": "model_df.shape",
   "id": "21f335845d62c057",
   "outputs": [
    {
     "data": {
      "text/plain": [
       "(96095, 14)"
      ]
     },
     "execution_count": 71,
     "metadata": {},
     "output_type": "execute_result"
    }
   ],
   "execution_count": 71
  },
  {
   "metadata": {
    "ExecuteTime": {
     "end_time": "2025-06-03T08:35:23.927990Z",
     "start_time": "2025-06-03T08:35:23.784162Z"
    }
   },
   "cell_type": "code",
   "source": [
    "# 결측치 포함된 행 제거 (3,343행)\n",
    "model_df_cleaned = model_df.dropna()\n",
    "model_df_cleaned.shape"
   ],
   "id": "dcb84113d3a40820",
   "outputs": [
    {
     "data": {
      "text/plain": [
       "(92752, 14)"
      ]
     },
     "execution_count": 72,
     "metadata": {},
     "output_type": "execute_result"
    }
   ],
   "execution_count": 72
  },
  {
   "metadata": {
    "ExecuteTime": {
     "end_time": "2025-06-03T08:47:15.499392Z",
     "start_time": "2025-06-03T08:47:15.468769Z"
    }
   },
   "cell_type": "code",
   "source": "model_df_cleaned.head()",
   "id": "b18c80f8330593c3",
   "outputs": [
    {
     "data": {
      "text/plain": [
       "                 customer_unique_id  Recency  Frequency  Monetary  \\\n",
       "0  0000366f3b9a7992bf8c76cfdf3221e2      161          1    141.90   \n",
       "1  0000b849f77a49e4a4ce2b2a4ca5be3f      164          1     27.19   \n",
       "2  0000f46a3911fa3c0805444483337064      586          1     86.22   \n",
       "3  0000f6ccb0745a6a4b88665a16c9f078      370          1     43.62   \n",
       "4  0004aac84e0df4da2b147fca70cf8255      337          1    196.89   \n",
       "\n",
       "  Frequency_level  F_score  R_quantile  M_quantile  R_score  M_score  \\\n",
       "0             low        1           1           3        4        4   \n",
       "1             low        1           1           0        4        1   \n",
       "2             low        1           4           1        1        2   \n",
       "3             low        1           3           0        2        1   \n",
       "4             low        1           3           3        2        4   \n",
       "\n",
       "  RFM_score  churn  processing_days  response_days  \n",
       "0       414      0              6.0            4.0  \n",
       "1       411      0              3.0            0.0  \n",
       "2       112      1             25.0            1.0  \n",
       "3       211      1             20.0            1.0  \n",
       "4       214      1             13.0            4.0  "
      ],
      "text/html": [
       "<div>\n",
       "<style scoped>\n",
       "    .dataframe tbody tr th:only-of-type {\n",
       "        vertical-align: middle;\n",
       "    }\n",
       "\n",
       "    .dataframe tbody tr th {\n",
       "        vertical-align: top;\n",
       "    }\n",
       "\n",
       "    .dataframe thead th {\n",
       "        text-align: right;\n",
       "    }\n",
       "</style>\n",
       "<table border=\"1\" class=\"dataframe\">\n",
       "  <thead>\n",
       "    <tr style=\"text-align: right;\">\n",
       "      <th></th>\n",
       "      <th>customer_unique_id</th>\n",
       "      <th>Recency</th>\n",
       "      <th>Frequency</th>\n",
       "      <th>Monetary</th>\n",
       "      <th>Frequency_level</th>\n",
       "      <th>F_score</th>\n",
       "      <th>R_quantile</th>\n",
       "      <th>M_quantile</th>\n",
       "      <th>R_score</th>\n",
       "      <th>M_score</th>\n",
       "      <th>RFM_score</th>\n",
       "      <th>churn</th>\n",
       "      <th>processing_days</th>\n",
       "      <th>response_days</th>\n",
       "    </tr>\n",
       "  </thead>\n",
       "  <tbody>\n",
       "    <tr>\n",
       "      <th>0</th>\n",
       "      <td>0000366f3b9a7992bf8c76cfdf3221e2</td>\n",
       "      <td>161</td>\n",
       "      <td>1</td>\n",
       "      <td>141.90</td>\n",
       "      <td>low</td>\n",
       "      <td>1</td>\n",
       "      <td>1</td>\n",
       "      <td>3</td>\n",
       "      <td>4</td>\n",
       "      <td>4</td>\n",
       "      <td>414</td>\n",
       "      <td>0</td>\n",
       "      <td>6.0</td>\n",
       "      <td>4.0</td>\n",
       "    </tr>\n",
       "    <tr>\n",
       "      <th>1</th>\n",
       "      <td>0000b849f77a49e4a4ce2b2a4ca5be3f</td>\n",
       "      <td>164</td>\n",
       "      <td>1</td>\n",
       "      <td>27.19</td>\n",
       "      <td>low</td>\n",
       "      <td>1</td>\n",
       "      <td>1</td>\n",
       "      <td>0</td>\n",
       "      <td>4</td>\n",
       "      <td>1</td>\n",
       "      <td>411</td>\n",
       "      <td>0</td>\n",
       "      <td>3.0</td>\n",
       "      <td>0.0</td>\n",
       "    </tr>\n",
       "    <tr>\n",
       "      <th>2</th>\n",
       "      <td>0000f46a3911fa3c0805444483337064</td>\n",
       "      <td>586</td>\n",
       "      <td>1</td>\n",
       "      <td>86.22</td>\n",
       "      <td>low</td>\n",
       "      <td>1</td>\n",
       "      <td>4</td>\n",
       "      <td>1</td>\n",
       "      <td>1</td>\n",
       "      <td>2</td>\n",
       "      <td>112</td>\n",
       "      <td>1</td>\n",
       "      <td>25.0</td>\n",
       "      <td>1.0</td>\n",
       "    </tr>\n",
       "    <tr>\n",
       "      <th>3</th>\n",
       "      <td>0000f6ccb0745a6a4b88665a16c9f078</td>\n",
       "      <td>370</td>\n",
       "      <td>1</td>\n",
       "      <td>43.62</td>\n",
       "      <td>low</td>\n",
       "      <td>1</td>\n",
       "      <td>3</td>\n",
       "      <td>0</td>\n",
       "      <td>2</td>\n",
       "      <td>1</td>\n",
       "      <td>211</td>\n",
       "      <td>1</td>\n",
       "      <td>20.0</td>\n",
       "      <td>1.0</td>\n",
       "    </tr>\n",
       "    <tr>\n",
       "      <th>4</th>\n",
       "      <td>0004aac84e0df4da2b147fca70cf8255</td>\n",
       "      <td>337</td>\n",
       "      <td>1</td>\n",
       "      <td>196.89</td>\n",
       "      <td>low</td>\n",
       "      <td>1</td>\n",
       "      <td>3</td>\n",
       "      <td>3</td>\n",
       "      <td>2</td>\n",
       "      <td>4</td>\n",
       "      <td>214</td>\n",
       "      <td>1</td>\n",
       "      <td>13.0</td>\n",
       "      <td>4.0</td>\n",
       "    </tr>\n",
       "  </tbody>\n",
       "</table>\n",
       "</div>"
      ]
     },
     "execution_count": 73,
     "metadata": {},
     "output_type": "execute_result"
    }
   ],
   "execution_count": 73
  },
  {
   "metadata": {},
   "cell_type": "markdown",
   "source": "# SVM",
   "id": "777d854be7d9f9f5"
  },
  {
   "metadata": {
    "jupyter": {
     "is_executing": true
    },
    "ExecuteTime": {
     "end_time": "2025-06-04T00:01:49.369793Z",
     "start_time": "2025-06-03T10:55:41.603764Z"
    }
   },
   "cell_type": "code",
   "source": [
    "from sklearn.model_selection import train_test_split, StratifiedKFold, GridSearchCV\n",
    "from sklearn.pipeline import Pipeline\n",
    "from sklearn.preprocessing import StandardScaler\n",
    "from sklearn.svm import SVC\n",
    "from sklearn.metrics import classification_report, confusion_matrix, roc_auc_score, roc_curve\n",
    "import seaborn as sns\n",
    "import matplotlib.pyplot as plt\n",
    "import pandas as pd\n",
    "\n",
    "# 1. Feature 및 Target 정의\n",
    "X = model_df_cleaned[['Frequency', 'Monetary', 'processing_days', 'response_days']]\n",
    "y = model_df_cleaned['churn']\n",
    "\n",
    "# 2. 데이터 분할\n",
    "X_train, X_test, y_train, y_test = train_test_split(\n",
    "    X, y, test_size=0.2, random_state=42, stratify=y\n",
    ")\n",
    "\n",
    "# 3. 파이프라인 정의 (StandardScaler + SVC)\n",
    "pipeline = Pipeline([\n",
    "    ('scaler', StandardScaler()),\n",
    "    ('svm', SVC(kernel='rbf', probability=True, class_weight='balanced', random_state=42))\n",
    "])\n",
    "\n",
    "# 4. 하이퍼파라미터 탐색 범위\n",
    "param_grid = {\n",
    "    'svm__C': [0.01, 0.1, 1, 10, 100],\n",
    "    'svm__gamma': [0.001, 0.01, 0.1, 1, 10]\n",
    "}\n",
    "\n",
    "# 5. 교차검증 및 GridSearchCV 정의\n",
    "cv = StratifiedKFold(n_splits=5, shuffle=True, random_state=42)\n",
    "\n",
    "grid_search = GridSearchCV(\n",
    "    pipeline,\n",
    "    param_grid,\n",
    "    cv=cv,\n",
    "    scoring='roc_auc',  # or 'f1' based on your goal\n",
    "    n_jobs=-1,\n",
    "    verbose=1\n",
    ")\n",
    "\n",
    "# 6. GridSearchCV로 모델 학습\n",
    "grid_search.fit(X_train, y_train)\n",
    "\n",
    "# 7. 최적 모델 확인\n",
    "print(\"✅ Best Parameters:\", grid_search.best_params_)\n",
    "print(f\"🏅 Best Cross-Validated ROC AUC Score: {grid_search.best_score_:.4f}\")\n",
    "\n",
    "# 8. 최적 모델로 예측\n",
    "best_model = grid_search.best_estimator_\n",
    "y_pred = best_model.predict(X_test)\n",
    "y_proba = best_model.predict_proba(X_test)[:, 1]\n",
    "\n",
    "# 9. 성능 평가\n",
    "print(\"📊 [Classification Report]\")\n",
    "print(classification_report(y_test, y_pred))\n",
    "\n",
    "print(\"📉 [Confusion Matrix]\")\n",
    "sns.heatmap(confusion_matrix(y_test, y_pred), annot=True, fmt='d', cmap='Blues')\n",
    "plt.xlabel(\"Predicted\")\n",
    "plt.ylabel(\"Actual\")\n",
    "\n",
    "plt.title(\"Confusion Matrix\")\n",
    "plt.show()\n",
    "\n",
    "roc_auc = roc_auc_score(y_test, y_proba)\n",
    "print(f\"📈 ROC AUC Score (Test Set): {roc_auc:.4f}\")\n",
    "\n",
    "# 10. ROC Curve 시각화\n",
    "fpr, tpr, _ = roc_curve(y_test, y_proba)\n",
    "plt.figure(figsize=(6, 4))\n",
    "plt.plot(fpr, tpr, label=f\"AUC = {roc_auc:.2f}\")\n",
    "plt.plot([0, 1], [0, 1], linestyle='--', color='gray')\n",
    "plt.xlabel(\"False Positive Rate\")\n",
    "plt.ylabel(\"True Positive Rate\")\n",
    "plt.title(\"SVM ROC Curve (Test Set)\")\n",
    "plt.legend()\n",
    "plt.tight_layout()\n",
    "plt.show()"
   ],
   "id": "48d56de320579f71",
   "outputs": [
    {
     "name": "stdout",
     "output_type": "stream",
     "text": [
      "Fitting 5 folds for each of 25 candidates, totalling 125 fits\n"
     ]
    }
   ],
   "execution_count": null
  }
 ],
 "metadata": {
  "kernelspec": {
   "display_name": "Python 3",
   "language": "python",
   "name": "python3"
  },
  "language_info": {
   "codemirror_mode": {
    "name": "ipython",
    "version": 2
   },
   "file_extension": ".py",
   "mimetype": "text/x-python",
   "name": "python",
   "nbconvert_exporter": "python",
   "pygments_lexer": "ipython2",
   "version": "2.7.6"
  }
 },
 "nbformat": 4,
 "nbformat_minor": 5
}
