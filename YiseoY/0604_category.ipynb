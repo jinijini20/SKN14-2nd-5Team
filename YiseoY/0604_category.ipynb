{
 "cells": [
  {
   "metadata": {
    "ExecuteTime": {
     "end_time": "2025-06-04T09:05:48.152777Z",
     "start_time": "2025-06-04T09:05:48.144276Z"
    }
   },
   "cell_type": "code",
   "source": [
    "import pandas as pd\n",
    "import numpy as np\n",
    "import matplotlib.pyplot as plt\n",
    "import seaborn as sns\n",
    "from numpy.ma.extras import average"
   ],
   "id": "6ccf8fcc2e4b2dab",
   "outputs": [],
   "execution_count": 3
  },
  {
   "metadata": {
    "collapsed": true,
    "ExecuteTime": {
     "end_time": "2025-06-04T09:05:48.163256Z",
     "start_time": "2025-06-04T09:05:48.161083Z"
    }
   },
   "cell_type": "code",
   "source": [
    "# 한글 폰트 설정\n",
    "plt.rcParams['font.family'] = 'AppleGothic'\n",
    "# 마이너스 기호 깨짐 방지\n",
    "plt.rcParams['axes.unicode_minus'] = False"
   ],
   "id": "initial_id",
   "outputs": [],
   "execution_count": 4
  },
  {
   "metadata": {
    "ExecuteTime": {
     "end_time": "2025-06-04T09:05:48.183624Z",
     "start_time": "2025-06-04T09:05:48.181264Z"
    }
   },
   "cell_type": "code",
   "source": [
    "import os\n",
    "print(os.getcwd())"
   ],
   "id": "92fe6d44a9e0bafe",
   "outputs": [
    {
     "name": "stdout",
     "output_type": "stream",
     "text": [
      "/Users/yun-iseo/Workspaces/SKN14-2nd-5Team/YiseoY\n"
     ]
    }
   ],
   "execution_count": 5
  },
  {
   "metadata": {},
   "cell_type": "markdown",
   "source": "# 데이터셋 준비",
   "id": "502887c46f39c7b2"
  },
  {
   "metadata": {
    "ExecuteTime": {
     "end_time": "2025-06-04T09:05:48.900603Z",
     "start_time": "2025-06-04T09:05:48.212920Z"
    }
   },
   "cell_type": "code",
   "source": [
    "customers_df = pd.read_csv('data/olist_customers_dataset.csv')\n",
    "orders_df = pd.read_csv('data/olist_orders_dataset.csv')\n",
    "order_payments_df = pd.read_csv('data/olist_order_payments_dataset.csv')\n",
    "order_reviews_df = pd.read_csv('data/olist_order_reviews_dataset.csv')\n",
    "order_items_df = pd.read_csv('data/olist_order_items_dataset.csv')\n",
    "products_df = pd.read_csv('data/olist_products_dataset.csv')\n",
    "product_category_name_df = pd.read_csv('data/product_category_name_translation.csv')\n",
    "\n",
    "print(customers_df.shape, orders_df.shape, order_payments_df.shape, order_reviews_df.shape, order_items_df.shape, products_df.shape, product_category_name_df.shape)"
   ],
   "id": "5a29867d0c19c49",
   "outputs": [
    {
     "name": "stdout",
     "output_type": "stream",
     "text": [
      "(99441, 5) (99441, 8) (103886, 5) (99224, 7) (112650, 7) (32951, 9) (71, 2)\n"
     ]
    }
   ],
   "execution_count": 6
  },
  {
   "metadata": {},
   "cell_type": "markdown",
   "source": [
    "## RFM-score 기반 라벨 생성\n",
    "- 이탈: 1\n",
    "- 활성: 0"
   ],
   "id": "7002c8a67e382d96"
  },
  {
   "metadata": {
    "ExecuteTime": {
     "end_time": "2025-06-04T09:05:48.941740Z",
     "start_time": "2025-06-04T09:05:48.928639Z"
    }
   },
   "cell_type": "code",
   "source": "orders_df.head()",
   "id": "c5af9bf33a7cff64",
   "outputs": [
    {
     "data": {
      "text/plain": [
       "                           order_id                       customer_id  \\\n",
       "0  e481f51cbdc54678b7cc49136f2d6af7  9ef432eb6251297304e76186b10a928d   \n",
       "1  53cdb2fc8bc7dce0b6741e2150273451  b0830fb4747a6c6d20dea0b8c802d7ef   \n",
       "2  47770eb9100c2d0c44946d9cf07ec65d  41ce2a54c0b03bf3443c3d931a367089   \n",
       "3  949d5b44dbf5de918fe9c16f97b45f8a  f88197465ea7920adcdbec7375364d82   \n",
       "4  ad21c59c0840e6cb83a9ceb5573f8159  8ab97904e6daea8866dbdbc4fb7aad2c   \n",
       "\n",
       "  order_status order_purchase_timestamp    order_approved_at  \\\n",
       "0    delivered      2017-10-02 10:56:33  2017-10-02 11:07:15   \n",
       "1    delivered      2018-07-24 20:41:37  2018-07-26 03:24:27   \n",
       "2    delivered      2018-08-08 08:38:49  2018-08-08 08:55:23   \n",
       "3    delivered      2017-11-18 19:28:06  2017-11-18 19:45:59   \n",
       "4    delivered      2018-02-13 21:18:39  2018-02-13 22:20:29   \n",
       "\n",
       "  order_delivered_carrier_date order_delivered_customer_date  \\\n",
       "0          2017-10-04 19:55:00           2017-10-10 21:25:13   \n",
       "1          2018-07-26 14:31:00           2018-08-07 15:27:45   \n",
       "2          2018-08-08 13:50:00           2018-08-17 18:06:29   \n",
       "3          2017-11-22 13:39:59           2017-12-02 00:28:42   \n",
       "4          2018-02-14 19:46:34           2018-02-16 18:17:02   \n",
       "\n",
       "  order_estimated_delivery_date  \n",
       "0           2017-10-18 00:00:00  \n",
       "1           2018-08-13 00:00:00  \n",
       "2           2018-09-04 00:00:00  \n",
       "3           2017-12-15 00:00:00  \n",
       "4           2018-02-26 00:00:00  "
      ],
      "text/html": [
       "<div>\n",
       "<style scoped>\n",
       "    .dataframe tbody tr th:only-of-type {\n",
       "        vertical-align: middle;\n",
       "    }\n",
       "\n",
       "    .dataframe tbody tr th {\n",
       "        vertical-align: top;\n",
       "    }\n",
       "\n",
       "    .dataframe thead th {\n",
       "        text-align: right;\n",
       "    }\n",
       "</style>\n",
       "<table border=\"1\" class=\"dataframe\">\n",
       "  <thead>\n",
       "    <tr style=\"text-align: right;\">\n",
       "      <th></th>\n",
       "      <th>order_id</th>\n",
       "      <th>customer_id</th>\n",
       "      <th>order_status</th>\n",
       "      <th>order_purchase_timestamp</th>\n",
       "      <th>order_approved_at</th>\n",
       "      <th>order_delivered_carrier_date</th>\n",
       "      <th>order_delivered_customer_date</th>\n",
       "      <th>order_estimated_delivery_date</th>\n",
       "    </tr>\n",
       "  </thead>\n",
       "  <tbody>\n",
       "    <tr>\n",
       "      <th>0</th>\n",
       "      <td>e481f51cbdc54678b7cc49136f2d6af7</td>\n",
       "      <td>9ef432eb6251297304e76186b10a928d</td>\n",
       "      <td>delivered</td>\n",
       "      <td>2017-10-02 10:56:33</td>\n",
       "      <td>2017-10-02 11:07:15</td>\n",
       "      <td>2017-10-04 19:55:00</td>\n",
       "      <td>2017-10-10 21:25:13</td>\n",
       "      <td>2017-10-18 00:00:00</td>\n",
       "    </tr>\n",
       "    <tr>\n",
       "      <th>1</th>\n",
       "      <td>53cdb2fc8bc7dce0b6741e2150273451</td>\n",
       "      <td>b0830fb4747a6c6d20dea0b8c802d7ef</td>\n",
       "      <td>delivered</td>\n",
       "      <td>2018-07-24 20:41:37</td>\n",
       "      <td>2018-07-26 03:24:27</td>\n",
       "      <td>2018-07-26 14:31:00</td>\n",
       "      <td>2018-08-07 15:27:45</td>\n",
       "      <td>2018-08-13 00:00:00</td>\n",
       "    </tr>\n",
       "    <tr>\n",
       "      <th>2</th>\n",
       "      <td>47770eb9100c2d0c44946d9cf07ec65d</td>\n",
       "      <td>41ce2a54c0b03bf3443c3d931a367089</td>\n",
       "      <td>delivered</td>\n",
       "      <td>2018-08-08 08:38:49</td>\n",
       "      <td>2018-08-08 08:55:23</td>\n",
       "      <td>2018-08-08 13:50:00</td>\n",
       "      <td>2018-08-17 18:06:29</td>\n",
       "      <td>2018-09-04 00:00:00</td>\n",
       "    </tr>\n",
       "    <tr>\n",
       "      <th>3</th>\n",
       "      <td>949d5b44dbf5de918fe9c16f97b45f8a</td>\n",
       "      <td>f88197465ea7920adcdbec7375364d82</td>\n",
       "      <td>delivered</td>\n",
       "      <td>2017-11-18 19:28:06</td>\n",
       "      <td>2017-11-18 19:45:59</td>\n",
       "      <td>2017-11-22 13:39:59</td>\n",
       "      <td>2017-12-02 00:28:42</td>\n",
       "      <td>2017-12-15 00:00:00</td>\n",
       "    </tr>\n",
       "    <tr>\n",
       "      <th>4</th>\n",
       "      <td>ad21c59c0840e6cb83a9ceb5573f8159</td>\n",
       "      <td>8ab97904e6daea8866dbdbc4fb7aad2c</td>\n",
       "      <td>delivered</td>\n",
       "      <td>2018-02-13 21:18:39</td>\n",
       "      <td>2018-02-13 22:20:29</td>\n",
       "      <td>2018-02-14 19:46:34</td>\n",
       "      <td>2018-02-16 18:17:02</td>\n",
       "      <td>2018-02-26 00:00:00</td>\n",
       "    </tr>\n",
       "  </tbody>\n",
       "</table>\n",
       "</div>"
      ]
     },
     "execution_count": 7,
     "metadata": {},
     "output_type": "execute_result"
    }
   ],
   "execution_count": 7
  },
  {
   "metadata": {
    "ExecuteTime": {
     "end_time": "2025-06-04T09:05:49.068515Z",
     "start_time": "2025-06-04T09:05:48.983239Z"
    }
   },
   "cell_type": "code",
   "source": [
    "# customer_unique_id 병합\n",
    "orders_customers_merged = pd.merge(\n",
    "    orders_df,\n",
    "    customers_df[['customer_id', 'customer_unique_id']],\n",
    "    on='customer_id',\n",
    "    how='left'\n",
    ")\n",
    "\n",
    "# orders_customers_merged.head()\n",
    "orders_customers_merged['customer_unique_id'].nunique()"
   ],
   "id": "ee4baa67da56ebca",
   "outputs": [
    {
     "data": {
      "text/plain": [
       "96096"
      ]
     },
     "execution_count": 8,
     "metadata": {},
     "output_type": "execute_result"
    }
   ],
   "execution_count": 8
  },
  {
   "metadata": {
    "ExecuteTime": {
     "end_time": "2025-06-04T09:05:49.098635Z",
     "start_time": "2025-06-04T09:05:49.094204Z"
    }
   },
   "cell_type": "code",
   "source": "order_payments_df.head()",
   "id": "6b5d5622073844c2",
   "outputs": [
    {
     "data": {
      "text/plain": [
       "                           order_id  payment_sequential payment_type  \\\n",
       "0  b81ef226f3fe1789b1e8b2acac839d17                   1  credit_card   \n",
       "1  a9810da82917af2d9aefd1278f1dcfa0                   1  credit_card   \n",
       "2  25e8ea4e93396b6fa0d3dd708e76c1bd                   1  credit_card   \n",
       "3  ba78997921bbcdc1373bb41e913ab953                   1  credit_card   \n",
       "4  42fdf880ba16b47b59251dd489d4441a                   1  credit_card   \n",
       "\n",
       "   payment_installments  payment_value  \n",
       "0                     8          99.33  \n",
       "1                     1          24.39  \n",
       "2                     1          65.71  \n",
       "3                     8         107.78  \n",
       "4                     2         128.45  "
      ],
      "text/html": [
       "<div>\n",
       "<style scoped>\n",
       "    .dataframe tbody tr th:only-of-type {\n",
       "        vertical-align: middle;\n",
       "    }\n",
       "\n",
       "    .dataframe tbody tr th {\n",
       "        vertical-align: top;\n",
       "    }\n",
       "\n",
       "    .dataframe thead th {\n",
       "        text-align: right;\n",
       "    }\n",
       "</style>\n",
       "<table border=\"1\" class=\"dataframe\">\n",
       "  <thead>\n",
       "    <tr style=\"text-align: right;\">\n",
       "      <th></th>\n",
       "      <th>order_id</th>\n",
       "      <th>payment_sequential</th>\n",
       "      <th>payment_type</th>\n",
       "      <th>payment_installments</th>\n",
       "      <th>payment_value</th>\n",
       "    </tr>\n",
       "  </thead>\n",
       "  <tbody>\n",
       "    <tr>\n",
       "      <th>0</th>\n",
       "      <td>b81ef226f3fe1789b1e8b2acac839d17</td>\n",
       "      <td>1</td>\n",
       "      <td>credit_card</td>\n",
       "      <td>8</td>\n",
       "      <td>99.33</td>\n",
       "    </tr>\n",
       "    <tr>\n",
       "      <th>1</th>\n",
       "      <td>a9810da82917af2d9aefd1278f1dcfa0</td>\n",
       "      <td>1</td>\n",
       "      <td>credit_card</td>\n",
       "      <td>1</td>\n",
       "      <td>24.39</td>\n",
       "    </tr>\n",
       "    <tr>\n",
       "      <th>2</th>\n",
       "      <td>25e8ea4e93396b6fa0d3dd708e76c1bd</td>\n",
       "      <td>1</td>\n",
       "      <td>credit_card</td>\n",
       "      <td>1</td>\n",
       "      <td>65.71</td>\n",
       "    </tr>\n",
       "    <tr>\n",
       "      <th>3</th>\n",
       "      <td>ba78997921bbcdc1373bb41e913ab953</td>\n",
       "      <td>1</td>\n",
       "      <td>credit_card</td>\n",
       "      <td>8</td>\n",
       "      <td>107.78</td>\n",
       "    </tr>\n",
       "    <tr>\n",
       "      <th>4</th>\n",
       "      <td>42fdf880ba16b47b59251dd489d4441a</td>\n",
       "      <td>1</td>\n",
       "      <td>credit_card</td>\n",
       "      <td>2</td>\n",
       "      <td>128.45</td>\n",
       "    </tr>\n",
       "  </tbody>\n",
       "</table>\n",
       "</div>"
      ]
     },
     "execution_count": 9,
     "metadata": {},
     "output_type": "execute_result"
    }
   ],
   "execution_count": 9
  },
  {
   "metadata": {
    "ExecuteTime": {
     "end_time": "2025-06-04T09:05:49.248406Z",
     "start_time": "2025-06-04T09:05:49.156008Z"
    }
   },
   "cell_type": "code",
   "source": [
    "# payment_value 병합\n",
    "payments_orders_customers_merged = pd.merge(\n",
    "    order_payments_df,\n",
    "    orders_customers_merged[['order_id', 'customer_unique_id', 'order_purchase_timestamp']],\n",
    "    on='order_id',\n",
    "    how='left'\n",
    ")\n",
    "\n",
    "# payments_orders_customers_merged.info()\n",
    "payments_orders_customers_merged['customer_unique_id'].nunique()"
   ],
   "id": "b5b0a45c4ac9c9d2",
   "outputs": [
    {
     "data": {
      "text/plain": [
       "96095"
      ]
     },
     "execution_count": 10,
     "metadata": {},
     "output_type": "execute_result"
    }
   ],
   "execution_count": 10
  },
  {
   "metadata": {
    "ExecuteTime": {
     "end_time": "2025-06-04T09:05:49.514186Z",
     "start_time": "2025-06-04T09:05:49.460296Z"
    }
   },
   "cell_type": "code",
   "source": [
    "# 두 컬럼의 고유 ID 집합 생성\n",
    "ids_1 = set(orders_customers_merged['customer_unique_id'].unique())\n",
    "ids_2 = set(payments_orders_customers_merged['customer_unique_id'].unique())\n",
    "\n",
    "# 차집합을 통해 누락된 ID 찾기\n",
    "missing_in_payments = ids_1 - ids_2  # orders_customers_merged에는 있지만 payments에는 없는 경우\n",
    "missing_in_orders = ids_2 - ids_1    # 반대 경우도 확인 가능\n",
    "\n",
    "# 출력\n",
    "print(\"payments_orders_customers_merged에 없는 ID:\", missing_in_payments)\n",
    "print(\"orders_customers_merged에 없는 ID:\", missing_in_orders)"
   ],
   "id": "3d78e0b9ef439dff",
   "outputs": [
    {
     "name": "stdout",
     "output_type": "stream",
     "text": [
      "payments_orders_customers_merged에 없는 ID: {'830d5b7aaa3b6f1e9ad63703bec97d23'}\n",
      "orders_customers_merged에 없는 ID: set()\n"
     ]
    }
   ],
   "execution_count": 11
  },
  {
   "metadata": {
    "ExecuteTime": {
     "end_time": "2025-06-04T09:05:49.558128Z",
     "start_time": "2025-06-04T09:05:49.542652Z"
    }
   },
   "cell_type": "code",
   "source": "orders_customers_merged[orders_customers_merged['customer_unique_id'] == '830d5b7aaa3b6f1e9ad63703bec97d23']",
   "id": "6b7657e6b43b489c",
   "outputs": [
    {
     "data": {
      "text/plain": [
       "                               order_id                       customer_id  \\\n",
       "30710  bfbd0f9bdef84302105ad712db648a6c  86dc2ffce2dfff336de2f386a786e574   \n",
       "\n",
       "      order_status order_purchase_timestamp    order_approved_at  \\\n",
       "30710    delivered      2016-09-15 12:16:38  2016-09-15 12:16:38   \n",
       "\n",
       "      order_delivered_carrier_date order_delivered_customer_date  \\\n",
       "30710          2016-11-07 17:11:53           2016-11-09 07:47:38   \n",
       "\n",
       "      order_estimated_delivery_date                customer_unique_id  \n",
       "30710           2016-10-04 00:00:00  830d5b7aaa3b6f1e9ad63703bec97d23  "
      ],
      "text/html": [
       "<div>\n",
       "<style scoped>\n",
       "    .dataframe tbody tr th:only-of-type {\n",
       "        vertical-align: middle;\n",
       "    }\n",
       "\n",
       "    .dataframe tbody tr th {\n",
       "        vertical-align: top;\n",
       "    }\n",
       "\n",
       "    .dataframe thead th {\n",
       "        text-align: right;\n",
       "    }\n",
       "</style>\n",
       "<table border=\"1\" class=\"dataframe\">\n",
       "  <thead>\n",
       "    <tr style=\"text-align: right;\">\n",
       "      <th></th>\n",
       "      <th>order_id</th>\n",
       "      <th>customer_id</th>\n",
       "      <th>order_status</th>\n",
       "      <th>order_purchase_timestamp</th>\n",
       "      <th>order_approved_at</th>\n",
       "      <th>order_delivered_carrier_date</th>\n",
       "      <th>order_delivered_customer_date</th>\n",
       "      <th>order_estimated_delivery_date</th>\n",
       "      <th>customer_unique_id</th>\n",
       "    </tr>\n",
       "  </thead>\n",
       "  <tbody>\n",
       "    <tr>\n",
       "      <th>30710</th>\n",
       "      <td>bfbd0f9bdef84302105ad712db648a6c</td>\n",
       "      <td>86dc2ffce2dfff336de2f386a786e574</td>\n",
       "      <td>delivered</td>\n",
       "      <td>2016-09-15 12:16:38</td>\n",
       "      <td>2016-09-15 12:16:38</td>\n",
       "      <td>2016-11-07 17:11:53</td>\n",
       "      <td>2016-11-09 07:47:38</td>\n",
       "      <td>2016-10-04 00:00:00</td>\n",
       "      <td>830d5b7aaa3b6f1e9ad63703bec97d23</td>\n",
       "    </tr>\n",
       "  </tbody>\n",
       "</table>\n",
       "</div>"
      ]
     },
     "execution_count": 12,
     "metadata": {},
     "output_type": "execute_result"
    }
   ],
   "execution_count": 12
  },
  {
   "metadata": {
    "ExecuteTime": {
     "end_time": "2025-06-04T09:05:49.678307Z",
     "start_time": "2025-06-04T09:05:49.662425Z"
    }
   },
   "cell_type": "code",
   "source": "order_payments_df[order_payments_df['order_id'] == 'bfbd0f9bdef84302105ad712db648a6c']",
   "id": "46376f230cbc495e",
   "outputs": [
    {
     "data": {
      "text/plain": [
       "Empty DataFrame\n",
       "Columns: [order_id, payment_sequential, payment_type, payment_installments, payment_value]\n",
       "Index: []"
      ],
      "text/html": [
       "<div>\n",
       "<style scoped>\n",
       "    .dataframe tbody tr th:only-of-type {\n",
       "        vertical-align: middle;\n",
       "    }\n",
       "\n",
       "    .dataframe tbody tr th {\n",
       "        vertical-align: top;\n",
       "    }\n",
       "\n",
       "    .dataframe thead th {\n",
       "        text-align: right;\n",
       "    }\n",
       "</style>\n",
       "<table border=\"1\" class=\"dataframe\">\n",
       "  <thead>\n",
       "    <tr style=\"text-align: right;\">\n",
       "      <th></th>\n",
       "      <th>order_id</th>\n",
       "      <th>payment_sequential</th>\n",
       "      <th>payment_type</th>\n",
       "      <th>payment_installments</th>\n",
       "      <th>payment_value</th>\n",
       "    </tr>\n",
       "  </thead>\n",
       "  <tbody>\n",
       "  </tbody>\n",
       "</table>\n",
       "</div>"
      ]
     },
     "execution_count": 13,
     "metadata": {},
     "output_type": "execute_result"
    }
   ],
   "execution_count": 13
  },
  {
   "metadata": {
    "ExecuteTime": {
     "end_time": "2025-06-04T09:05:52.606900Z",
     "start_time": "2025-06-04T09:05:49.724538Z"
    }
   },
   "cell_type": "code",
   "outputs": [
    {
     "name": "stdout",
     "output_type": "stream",
     "text": [
      "<class 'pandas.core.frame.DataFrame'>\n",
      "Index: 96095 entries, 0000366f3b9a7992bf8c76cfdf3221e2 to ffffd2657e2aad2907e67c3e9daecbeb\n",
      "Data columns (total 3 columns):\n",
      " #   Column     Non-Null Count  Dtype  \n",
      "---  ------     --------------  -----  \n",
      " 0   Recency    96095 non-null  object \n",
      " 1   Frequency  96095 non-null  int64  \n",
      " 2   Monetary   96095 non-null  float64\n",
      "dtypes: float64(1), int64(1), object(1)\n",
      "memory usage: 2.9+ MB\n"
     ]
    }
   ],
   "execution_count": 14,
   "source": [
    "rfm_df = payments_orders_customers_merged.groupby('customer_unique_id').agg({\n",
    "    'order_purchase_timestamp': 'max',\n",
    "    'order_id': pd.Series.nunique,\n",
    "    'payment_value': 'sum'\n",
    "})\n",
    "rfm_df = rfm_df.rename(columns={\n",
    "    'order_purchase_timestamp': 'Recency', # 최근 구매 경과일\n",
    "    'order_id': 'Frequency', # 구매 빈도\n",
    "    'payment_value': 'Monetary' # 총 구매금액\n",
    "})\n",
    "\n",
    "rfm_df.info()"
   ],
   "id": "91a4d412c26a049c"
  },
  {
   "metadata": {
    "ExecuteTime": {
     "end_time": "2025-06-04T09:05:52.715805Z",
     "start_time": "2025-06-04T09:05:52.681411Z"
    }
   },
   "cell_type": "code",
   "outputs": [
    {
     "data": {
      "text/plain": [
       "                                           Recency  Frequency  Monetary\n",
       "customer_unique_id                                                     \n",
       "0000366f3b9a7992bf8c76cfdf3221e2 160 days 06:33:51          1    141.90\n",
       "0000b849f77a49e4a4ce2b2a4ca5be3f 163 days 06:18:51          1     27.19\n",
       "0000f46a3911fa3c0805444483337064 585 days 20:25:15          1     86.22\n",
       "0000f6ccb0745a6a4b88665a16c9f078 369 days 21:00:37          1     43.62\n",
       "0004aac84e0df4da2b147fca70cf8255 336 days 21:44:36          1    196.89"
      ],
      "text/html": [
       "<div>\n",
       "<style scoped>\n",
       "    .dataframe tbody tr th:only-of-type {\n",
       "        vertical-align: middle;\n",
       "    }\n",
       "\n",
       "    .dataframe tbody tr th {\n",
       "        vertical-align: top;\n",
       "    }\n",
       "\n",
       "    .dataframe thead th {\n",
       "        text-align: right;\n",
       "    }\n",
       "</style>\n",
       "<table border=\"1\" class=\"dataframe\">\n",
       "  <thead>\n",
       "    <tr style=\"text-align: right;\">\n",
       "      <th></th>\n",
       "      <th>Recency</th>\n",
       "      <th>Frequency</th>\n",
       "      <th>Monetary</th>\n",
       "    </tr>\n",
       "    <tr>\n",
       "      <th>customer_unique_id</th>\n",
       "      <th></th>\n",
       "      <th></th>\n",
       "      <th></th>\n",
       "    </tr>\n",
       "  </thead>\n",
       "  <tbody>\n",
       "    <tr>\n",
       "      <th>0000366f3b9a7992bf8c76cfdf3221e2</th>\n",
       "      <td>160 days 06:33:51</td>\n",
       "      <td>1</td>\n",
       "      <td>141.90</td>\n",
       "    </tr>\n",
       "    <tr>\n",
       "      <th>0000b849f77a49e4a4ce2b2a4ca5be3f</th>\n",
       "      <td>163 days 06:18:51</td>\n",
       "      <td>1</td>\n",
       "      <td>27.19</td>\n",
       "    </tr>\n",
       "    <tr>\n",
       "      <th>0000f46a3911fa3c0805444483337064</th>\n",
       "      <td>585 days 20:25:15</td>\n",
       "      <td>1</td>\n",
       "      <td>86.22</td>\n",
       "    </tr>\n",
       "    <tr>\n",
       "      <th>0000f6ccb0745a6a4b88665a16c9f078</th>\n",
       "      <td>369 days 21:00:37</td>\n",
       "      <td>1</td>\n",
       "      <td>43.62</td>\n",
       "    </tr>\n",
       "    <tr>\n",
       "      <th>0004aac84e0df4da2b147fca70cf8255</th>\n",
       "      <td>336 days 21:44:36</td>\n",
       "      <td>1</td>\n",
       "      <td>196.89</td>\n",
       "    </tr>\n",
       "  </tbody>\n",
       "</table>\n",
       "</div>"
      ]
     },
     "execution_count": 15,
     "metadata": {},
     "output_type": "execute_result"
    }
   ],
   "execution_count": 15,
   "source": [
    "# 1. 날짜형으로 변환\n",
    "rfm_df['Recency'] = pd.to_datetime(rfm_df['Recency'])\n",
    "\n",
    "# 2. max_date도 자동으로 datetime으로 저장됨\n",
    "max_date = rfm_df['Recency'].max()\n",
    "\n",
    "# 3. 날짜 차이 계산 (timedelta)\n",
    "rfm_df['Recency'] = max_date - rfm_df['Recency']\n",
    "\n",
    "rfm_df.head()"
   ],
   "id": "68c8e75342a7318a"
  },
  {
   "metadata": {
    "ExecuteTime": {
     "end_time": "2025-06-04T09:05:53.352597Z",
     "start_time": "2025-06-04T09:05:52.862584Z"
    }
   },
   "cell_type": "code",
   "outputs": [
    {
     "data": {
      "text/plain": [
       "                                  Recency  Frequency  Monetary\n",
       "customer_unique_id                                            \n",
       "0000366f3b9a7992bf8c76cfdf3221e2      161          1    141.90\n",
       "0000b849f77a49e4a4ce2b2a4ca5be3f      164          1     27.19\n",
       "0000f46a3911fa3c0805444483337064      586          1     86.22\n",
       "0000f6ccb0745a6a4b88665a16c9f078      370          1     43.62\n",
       "0004aac84e0df4da2b147fca70cf8255      337          1    196.89"
      ],
      "text/html": [
       "<div>\n",
       "<style scoped>\n",
       "    .dataframe tbody tr th:only-of-type {\n",
       "        vertical-align: middle;\n",
       "    }\n",
       "\n",
       "    .dataframe tbody tr th {\n",
       "        vertical-align: top;\n",
       "    }\n",
       "\n",
       "    .dataframe thead th {\n",
       "        text-align: right;\n",
       "    }\n",
       "</style>\n",
       "<table border=\"1\" class=\"dataframe\">\n",
       "  <thead>\n",
       "    <tr style=\"text-align: right;\">\n",
       "      <th></th>\n",
       "      <th>Recency</th>\n",
       "      <th>Frequency</th>\n",
       "      <th>Monetary</th>\n",
       "    </tr>\n",
       "    <tr>\n",
       "      <th>customer_unique_id</th>\n",
       "      <th></th>\n",
       "      <th></th>\n",
       "      <th></th>\n",
       "    </tr>\n",
       "  </thead>\n",
       "  <tbody>\n",
       "    <tr>\n",
       "      <th>0000366f3b9a7992bf8c76cfdf3221e2</th>\n",
       "      <td>161</td>\n",
       "      <td>1</td>\n",
       "      <td>141.90</td>\n",
       "    </tr>\n",
       "    <tr>\n",
       "      <th>0000b849f77a49e4a4ce2b2a4ca5be3f</th>\n",
       "      <td>164</td>\n",
       "      <td>1</td>\n",
       "      <td>27.19</td>\n",
       "    </tr>\n",
       "    <tr>\n",
       "      <th>0000f46a3911fa3c0805444483337064</th>\n",
       "      <td>586</td>\n",
       "      <td>1</td>\n",
       "      <td>86.22</td>\n",
       "    </tr>\n",
       "    <tr>\n",
       "      <th>0000f6ccb0745a6a4b88665a16c9f078</th>\n",
       "      <td>370</td>\n",
       "      <td>1</td>\n",
       "      <td>43.62</td>\n",
       "    </tr>\n",
       "    <tr>\n",
       "      <th>0004aac84e0df4da2b147fca70cf8255</th>\n",
       "      <td>337</td>\n",
       "      <td>1</td>\n",
       "      <td>196.89</td>\n",
       "    </tr>\n",
       "  </tbody>\n",
       "</table>\n",
       "</div>"
      ]
     },
     "execution_count": 16,
     "metadata": {},
     "output_type": "execute_result"
    }
   ],
   "execution_count": 16,
   "source": [
    "rfm_df['Recency'] = rfm_df['Recency'].apply(lambda x: x.days + 1)\n",
    "rfm_df.head()"
   ],
   "id": "3b99dd7831de9b6d"
  },
  {
   "metadata": {
    "ExecuteTime": {
     "end_time": "2025-06-04T09:05:53.490752Z",
     "start_time": "2025-06-04T09:05:53.475699Z"
    }
   },
   "cell_type": "code",
   "outputs": [
    {
     "data": {
      "text/plain": [
       "                                  Recency  Frequency  Monetary Frequency_level\n",
       "customer_unique_id                                                            \n",
       "0000366f3b9a7992bf8c76cfdf3221e2      161          1    141.90             low\n",
       "0000b849f77a49e4a4ce2b2a4ca5be3f      164          1     27.19             low\n",
       "0000f46a3911fa3c0805444483337064      586          1     86.22             low\n",
       "0000f6ccb0745a6a4b88665a16c9f078      370          1     43.62             low\n",
       "0004aac84e0df4da2b147fca70cf8255      337          1    196.89             low"
      ],
      "text/html": [
       "<div>\n",
       "<style scoped>\n",
       "    .dataframe tbody tr th:only-of-type {\n",
       "        vertical-align: middle;\n",
       "    }\n",
       "\n",
       "    .dataframe tbody tr th {\n",
       "        vertical-align: top;\n",
       "    }\n",
       "\n",
       "    .dataframe thead th {\n",
       "        text-align: right;\n",
       "    }\n",
       "</style>\n",
       "<table border=\"1\" class=\"dataframe\">\n",
       "  <thead>\n",
       "    <tr style=\"text-align: right;\">\n",
       "      <th></th>\n",
       "      <th>Recency</th>\n",
       "      <th>Frequency</th>\n",
       "      <th>Monetary</th>\n",
       "      <th>Frequency_level</th>\n",
       "    </tr>\n",
       "    <tr>\n",
       "      <th>customer_unique_id</th>\n",
       "      <th></th>\n",
       "      <th></th>\n",
       "      <th></th>\n",
       "      <th></th>\n",
       "    </tr>\n",
       "  </thead>\n",
       "  <tbody>\n",
       "    <tr>\n",
       "      <th>0000366f3b9a7992bf8c76cfdf3221e2</th>\n",
       "      <td>161</td>\n",
       "      <td>1</td>\n",
       "      <td>141.90</td>\n",
       "      <td>low</td>\n",
       "    </tr>\n",
       "    <tr>\n",
       "      <th>0000b849f77a49e4a4ce2b2a4ca5be3f</th>\n",
       "      <td>164</td>\n",
       "      <td>1</td>\n",
       "      <td>27.19</td>\n",
       "      <td>low</td>\n",
       "    </tr>\n",
       "    <tr>\n",
       "      <th>0000f46a3911fa3c0805444483337064</th>\n",
       "      <td>586</td>\n",
       "      <td>1</td>\n",
       "      <td>86.22</td>\n",
       "      <td>low</td>\n",
       "    </tr>\n",
       "    <tr>\n",
       "      <th>0000f6ccb0745a6a4b88665a16c9f078</th>\n",
       "      <td>370</td>\n",
       "      <td>1</td>\n",
       "      <td>43.62</td>\n",
       "      <td>low</td>\n",
       "    </tr>\n",
       "    <tr>\n",
       "      <th>0004aac84e0df4da2b147fca70cf8255</th>\n",
       "      <td>337</td>\n",
       "      <td>1</td>\n",
       "      <td>196.89</td>\n",
       "      <td>low</td>\n",
       "    </tr>\n",
       "  </tbody>\n",
       "</table>\n",
       "</div>"
      ]
     },
     "execution_count": 17,
     "metadata": {},
     "output_type": "execute_result"
    }
   ],
   "execution_count": 17,
   "source": [
    "# 구간 설정 및 범주 이름 지정\n",
    "bins = [0, 2, 5, float('inf')]  # 0~2: low, 3~5: mid, 6~: high\n",
    "labels = ['low', 'mid', 'high']\n",
    "\n",
    "# 구간화\n",
    "rfm_df['Frequency_level'] = pd.cut(rfm_df['Frequency'], bins=bins, labels=labels)\n",
    "\n",
    "rfm_df.head()"
   ],
   "id": "55e677428f522032"
  },
  {
   "metadata": {
    "ExecuteTime": {
     "end_time": "2025-06-04T09:05:53.650363Z",
     "start_time": "2025-06-04T09:05:53.635557Z"
    }
   },
   "cell_type": "code",
   "outputs": [],
   "execution_count": 18,
   "source": [
    "# 매핑 딕셔너리 정의\n",
    "f_score_map = {\n",
    "    'low': 1,\n",
    "    'mid': 3,\n",
    "    'high': 5\n",
    "}\n",
    "\n",
    "# Categorical 컬럼을 문자열로 변환 후 매핑\n",
    "rfm_df['F_score'] = rfm_df['Frequency_level'].astype(str).map(f_score_map).fillna(2).astype(int)"
   ],
   "id": "cbdf56bdc56b23f3"
  },
  {
   "metadata": {
    "ExecuteTime": {
     "end_time": "2025-06-04T09:05:53.888592Z",
     "start_time": "2025-06-04T09:05:53.789613Z"
    }
   },
   "cell_type": "code",
   "outputs": [
    {
     "name": "stdout",
     "output_type": "stream",
     "text": [
      "                                  Recency  Frequency  Monetary  R_score  \\\n",
      "customer_unique_id                                                        \n",
      "0000366f3b9a7992bf8c76cfdf3221e2      161          1    141.90        4   \n",
      "0000b849f77a49e4a4ce2b2a4ca5be3f      164          1     27.19        4   \n",
      "0000f46a3911fa3c0805444483337064      586          1     86.22        1   \n",
      "0000f6ccb0745a6a4b88665a16c9f078      370          1     43.62        2   \n",
      "0004aac84e0df4da2b147fca70cf8255      337          1    196.89        2   \n",
      "...                                   ...        ...       ...      ...   \n",
      "fffcf5a5ff07b0908bd4e2dbc735a684      496          1   2067.42        1   \n",
      "fffea47cd6d3cc0a88bd621562a9d061      311          1     84.58        3   \n",
      "ffff371b4d645b6ecea244b27531430a      618          1    112.46        1   \n",
      "ffff5962728ec6157033ef9805bacc48      169          1    133.69        4   \n",
      "ffffd2657e2aad2907e67c3e9daecbeb      533          1     71.56        1   \n",
      "\n",
      "                                  F_score  M_score RFM_score  \n",
      "customer_unique_id                                            \n",
      "0000366f3b9a7992bf8c76cfdf3221e2        1        4       414  \n",
      "0000b849f77a49e4a4ce2b2a4ca5be3f        1        1       411  \n",
      "0000f46a3911fa3c0805444483337064        1        2       112  \n",
      "0000f6ccb0745a6a4b88665a16c9f078        1        1       211  \n",
      "0004aac84e0df4da2b147fca70cf8255        1        4       214  \n",
      "...                                   ...      ...       ...  \n",
      "fffcf5a5ff07b0908bd4e2dbc735a684        1        5       115  \n",
      "fffea47cd6d3cc0a88bd621562a9d061        1        2       312  \n",
      "ffff371b4d645b6ecea244b27531430a        1        3       113  \n",
      "ffff5962728ec6157033ef9805bacc48        1        4       414  \n",
      "ffffd2657e2aad2907e67c3e9daecbeb        1        2       112  \n",
      "\n",
      "[96095 rows x 7 columns]\n"
     ]
    }
   ],
   "execution_count": 19,
   "source": [
    "# 분위수 구간 계산 (NaN 발생 대비 + 분위수 구간 부족 대비)\n",
    "for col in ['Recency', 'Monetary']:\n",
    "    try:\n",
    "        rfm_df[col[0] + '_quantile'] = pd.qcut(\n",
    "            rfm_df[col],\n",
    "            5,\n",
    "            labels=False,\n",
    "            duplicates='drop'\n",
    "        )\n",
    "    except ValueError:\n",
    "        # 전부 동일하거나 분위수 계산 불가한 경우 → 값 전체를 중간값으로 처리\n",
    "        rfm_df[col[0] + '_quantile'] = 2\n",
    "\n",
    "# NaN이 생긴 경우 기본값 2로 대체\n",
    "rfm_df[['R_quantile', 'M_quantile']] = rfm_df[['R_quantile', 'M_quantile']].fillna(2)\n",
    "\n",
    "# RFM 점수 계산\n",
    "rfm_df['R_score'] = (5 - rfm_df['R_quantile']).astype(int)  # Recency는 낮을수록 높게\n",
    "rfm_df['M_score'] = (1 + rfm_df['M_quantile']).astype(int)\n",
    "\n",
    "# 최종 RFM Score 조합\n",
    "rfm_df['RFM_score'] = (\n",
    "    rfm_df['R_score'].astype(str) +\n",
    "    rfm_df['F_score'].astype(str) +\n",
    "    rfm_df['M_score'].astype(str)\n",
    ")\n",
    "\n",
    "# 결과 출력\n",
    "print(rfm_df[['Recency', 'Frequency', 'Monetary', 'R_score', 'F_score', 'M_score', 'RFM_score']])"
   ],
   "id": "1aa35af19c6f356b"
  },
  {
   "metadata": {
    "ExecuteTime": {
     "end_time": "2025-06-04T09:05:54.130443Z",
     "start_time": "2025-06-04T09:05:54.119109Z"
    }
   },
   "cell_type": "code",
   "outputs": [
    {
     "name": "stdout",
     "output_type": "stream",
     "text": [
      "R_score\n",
      "5    19324\n",
      "2    19300\n",
      "4    19299\n",
      "1    19129\n",
      "3    19043\n",
      "Name: count, dtype: int64 \n",
      "\n",
      "F_score\n",
      "1    95843\n",
      "3      241\n",
      "5       11\n",
      "Name: count, dtype: int64 \n",
      "\n",
      "M_score\n",
      "3    19222\n",
      "1    19221\n",
      "2    19219\n",
      "5    19219\n",
      "4    19214\n",
      "Name: count, dtype: int64 \n",
      "\n"
     ]
    }
   ],
   "execution_count": 20,
   "source": [
    "print(rfm_df['R_score'].value_counts(), '\\n')\n",
    "print(rfm_df['F_score'].value_counts(), '\\n')\n",
    "print(rfm_df['M_score'].value_counts(), '\\n')"
   ],
   "id": "7b4b3f505e0a49c3"
  },
  {
   "metadata": {
    "ExecuteTime": {
     "end_time": "2025-06-04T09:05:54.721934Z",
     "start_time": "2025-06-04T09:05:54.352329Z"
    }
   },
   "cell_type": "code",
   "outputs": [],
   "execution_count": 21,
   "source": [
    "def classify_churn(row):\n",
    "    if row['R_score'] <= 2 and row['F_score'] <= 2:\n",
    "        return 1\n",
    "    else:\n",
    "        return 0\n",
    "\n",
    "# 이탈 여부 태깅\n",
    "rfm_df['churn'] = rfm_df.apply(classify_churn, axis=1)"
   ],
   "id": "6c760cdc83b0d1e9"
  },
  {
   "metadata": {
    "ExecuteTime": {
     "end_time": "2025-06-04T09:05:54.786646Z",
     "start_time": "2025-06-04T09:05:54.756834Z"
    }
   },
   "cell_type": "code",
   "outputs": [
    {
     "name": "stdout",
     "output_type": "stream",
     "text": [
      "<class 'pandas.core.frame.DataFrame'>\n",
      "RangeIndex: 96095 entries, 0 to 96094\n",
      "Data columns (total 12 columns):\n",
      " #   Column              Non-Null Count  Dtype   \n",
      "---  ------              --------------  -----   \n",
      " 0   customer_unique_id  96095 non-null  object  \n",
      " 1   Recency             96095 non-null  int64   \n",
      " 2   Frequency           96095 non-null  int64   \n",
      " 3   Monetary            96095 non-null  float64 \n",
      " 4   Frequency_level     96095 non-null  category\n",
      " 5   F_score             96095 non-null  int64   \n",
      " 6   R_quantile          96095 non-null  int64   \n",
      " 7   M_quantile          96095 non-null  int64   \n",
      " 8   R_score             96095 non-null  int64   \n",
      " 9   M_score             96095 non-null  int64   \n",
      " 10  RFM_score           96095 non-null  object  \n",
      " 11  churn               96095 non-null  int64   \n",
      "dtypes: category(1), float64(1), int64(8), object(2)\n",
      "memory usage: 8.2+ MB\n"
     ]
    }
   ],
   "execution_count": 22,
   "source": [
    "rfm_df = rfm_df.reset_index()\n",
    "rfm_df.info()"
   ],
   "id": "94cc740505990af9"
  },
  {
   "metadata": {
    "ExecuteTime": {
     "end_time": "2025-06-04T09:05:55.002449Z",
     "start_time": "2025-06-04T09:05:54.848950Z"
    }
   },
   "cell_type": "code",
   "outputs": [
    {
     "data": {
      "text/plain": [
       "<Figure size 600x400 with 1 Axes>"
      ],
      "image/png": "[encoded data removed]"
     },
     "metadata": {},
     "output_type": "display_data"
    }
   ],
   "execution_count": 23,
   "source": [
    "churn_counts = rfm_df['churn'].value_counts().sort_index()\n",
    "total = churn_counts.sum()\n",
    "\n",
    "plt.figure(figsize=(6,4))\n",
    "ax = sns.barplot(x=churn_counts.index, y=churn_counts.values, color='skyblue')\n",
    "\n",
    "plt.xticks([0,1], ['Active (0)', 'Churned (1)'])\n",
    "plt.xlabel('Churn')\n",
    "plt.ylabel('Number of Customers')\n",
    "plt.title('Distribution of Churn Status')\n",
    "\n",
    "# 막대 위에 비율 표시\n",
    "for i, count in enumerate(churn_counts.values):\n",
    "    percentage = count / total * 100\n",
    "    ax.text(i, count + total*0.01, f'{percentage:.1f}%', ha='center')\n",
    "\n",
    "plt.show()"
   ],
   "id": "8ddc8fbe3d82ad15"
  },
  {
   "metadata": {},
   "cell_type": "markdown",
   "source": "## 주문상품",
   "id": "ba83e167be411183"
  },
  {
   "metadata": {
    "ExecuteTime": {
     "end_time": "2025-06-04T09:05:55.088240Z",
     "start_time": "2025-06-04T09:05:55.066248Z"
    }
   },
   "cell_type": "code",
   "source": "order_items_df.info()",
   "id": "41baab4584a6bc55",
   "outputs": [
    {
     "name": "stdout",
     "output_type": "stream",
     "text": [
      "<class 'pandas.core.frame.DataFrame'>\n",
      "RangeIndex: 112650 entries, 0 to 112649\n",
      "Data columns (total 7 columns):\n",
      " #   Column               Non-Null Count   Dtype  \n",
      "---  ------               --------------   -----  \n",
      " 0   order_id             112650 non-null  object \n",
      " 1   order_item_id        112650 non-null  int64  \n",
      " 2   product_id           112650 non-null  object \n",
      " 3   seller_id            112650 non-null  object \n",
      " 4   shipping_limit_date  112650 non-null  object \n",
      " 5   price                112650 non-null  float64\n",
      " 6   freight_value        112650 non-null  float64\n",
      "dtypes: float64(2), int64(1), object(4)\n",
      "memory usage: 6.0+ MB\n"
     ]
    }
   ],
   "execution_count": 24
  },
  {
   "metadata": {
    "ExecuteTime": {
     "end_time": "2025-06-04T09:05:55.207132Z",
     "start_time": "2025-06-04T09:05:55.152068Z"
    }
   },
   "cell_type": "code",
   "source": [
    "items_customers_merged = pd.merge(\n",
    "    order_items_df,\n",
    "    orders_customers_merged[['order_id', 'customer_unique_id']],\n",
    "    on='order_id',\n",
    "    how='left'\n",
    ")\n",
    "\n",
    "items_customers_merged.info()"
   ],
   "id": "17bef9e0649b5392",
   "outputs": [
    {
     "name": "stdout",
     "output_type": "stream",
     "text": [
      "<class 'pandas.core.frame.DataFrame'>\n",
      "RangeIndex: 112650 entries, 0 to 112649\n",
      "Data columns (total 8 columns):\n",
      " #   Column               Non-Null Count   Dtype  \n",
      "---  ------               --------------   -----  \n",
      " 0   order_id             112650 non-null  object \n",
      " 1   order_item_id        112650 non-null  int64  \n",
      " 2   product_id           112650 non-null  object \n",
      " 3   seller_id            112650 non-null  object \n",
      " 4   shipping_limit_date  112650 non-null  object \n",
      " 5   price                112650 non-null  float64\n",
      " 6   freight_value        112650 non-null  float64\n",
      " 7   customer_unique_id   112650 non-null  object \n",
      "dtypes: float64(2), int64(1), object(5)\n",
      "memory usage: 6.9+ MB\n"
     ]
    }
   ],
   "execution_count": 25
  },
  {
   "metadata": {
    "ExecuteTime": {
     "end_time": "2025-06-04T09:05:55.472314Z",
     "start_time": "2025-06-04T09:05:55.304918Z"
    }
   },
   "cell_type": "code",
   "source": [
    "products_items_customers_merged = pd.merge(\n",
    "    items_customers_merged,\n",
    "    products_df[['product_id', 'product_category_name']],\n",
    "    on='product_id',\n",
    "    how='left'\n",
    ")\n",
    "\n",
    "category_items_customers_merged = pd.merge(\n",
    "    products_items_customers_merged,\n",
    "    product_category_name_df[['product_category_name', 'product_category_name_english']],\n",
    "    on='product_category_name',\n",
    "    how='left'\n",
    ")\n",
    "\n",
    "payments_category_customers_merged = pd.merge(\n",
    "    category_items_customers_merged,\n",
    "    order_payments_df[['order_id', 'payment_value']],\n",
    "    on='order_id',\n",
    "    how='left'\n",
    ")\n",
    "\n",
    "rfm_category_customers_merged = pd.merge(\n",
    "    payments_category_customers_merged,\n",
    "    rfm_df[['customer_unique_id', 'churn']],\n",
    "    on='customer_unique_id',\n",
    "    how='left'\n",
    ")\n",
    "\n",
    "rfm_category_customers_merged.info()"
   ],
   "id": "7671c938fdf552c",
   "outputs": [
    {
     "name": "stdout",
     "output_type": "stream",
     "text": [
      "<class 'pandas.core.frame.DataFrame'>\n",
      "RangeIndex: 117604 entries, 0 to 117603\n",
      "Data columns (total 12 columns):\n",
      " #   Column                         Non-Null Count   Dtype  \n",
      "---  ------                         --------------   -----  \n",
      " 0   order_id                       117604 non-null  object \n",
      " 1   order_item_id                  117604 non-null  int64  \n",
      " 2   product_id                     117604 non-null  object \n",
      " 3   seller_id                      117604 non-null  object \n",
      " 4   shipping_limit_date            117604 non-null  object \n",
      " 5   price                          117604 non-null  float64\n",
      " 6   freight_value                  117604 non-null  float64\n",
      " 7   customer_unique_id             117604 non-null  object \n",
      " 8   product_category_name          115906 non-null  object \n",
      " 9   product_category_name_english  115881 non-null  object \n",
      " 10  payment_value                  117601 non-null  float64\n",
      " 11  churn                          117601 non-null  float64\n",
      "dtypes: float64(4), int64(1), object(7)\n",
      "memory usage: 10.8+ MB\n"
     ]
    }
   ],
   "execution_count": 26
  },
  {
   "metadata": {},
   "cell_type": "markdown",
   "source": "### 전체 고객",
   "id": "d09ad7de4bfb23ee"
  },
  {
   "metadata": {
    "ExecuteTime": {
     "end_time": "2025-06-04T09:05:55.895544Z",
     "start_time": "2025-06-04T09:05:55.535853Z"
    }
   },
   "cell_type": "code",
   "source": [
    "plt.figure(figsize=(12, 6))\n",
    "category_counts = payments_category_customers_merged['product_category_name_english'].value_counts()\n",
    "\n",
    "sns.barplot(\n",
    "    x=category_counts.index,\n",
    "    y=category_counts.values,\n",
    "    hue=category_counts.index,  # 색상 구분 기준 지정\n",
    "    palette='Set2',\n",
    "    legend=False  # 범례 비활성화\n",
    ")\n",
    "\n",
    "plt.xticks(rotation=90)\n",
    "plt.title('Product Category Distribution')\n",
    "plt.xlabel('Product Category')\n",
    "plt.ylabel('Count')\n",
    "plt.tight_layout()\n",
    "plt.show()"
   ],
   "id": "8235513e07d67973",
   "outputs": [
    {
     "data": {
      "text/plain": [
       "<Figure size 1200x600 with 1 Axes>"
      ],
      "image/png": "[encoded data removed]"
     },
     "metadata": {},
     "output_type": "display_data"
    }
   ],
   "execution_count": 27
  },
  {
   "metadata": {
    "ExecuteTime": {
     "end_time": "2025-06-04T09:05:56.087587Z",
     "start_time": "2025-06-04T09:05:55.958807Z"
    }
   },
   "cell_type": "code",
   "source": [
    "# 주문 수 (category_counts)와 결제 총액 계산\n",
    "top_categories = category_counts.head(10)\n",
    "\n",
    "# 결제 총액 계산\n",
    "payment_sums = payments_category_customers_merged.groupby('product_category_name_english')['payment_value'].sum()\n",
    "\n",
    "# top 10 카테고리의 결제 총액 추출\n",
    "top_payment_sums = payment_sums[top_categories.index]\n",
    "\n",
    "# 시각화\n",
    "fig, ax1 = plt.subplots(figsize=(10, 6))\n",
    "\n",
    "# 첫 번째 y축 - 막대그래프 (주문 수)\n",
    "sns.barplot(x=top_categories.index, y=top_categories.values, ax=ax1, palette='Set3')\n",
    "ax1.set_xlabel('Product Category')\n",
    "ax1.set_ylabel('Order Count', color='blue')\n",
    "ax1.tick_params(axis='y', labelcolor='blue')\n",
    "ax1.set_xticklabels(top_categories.index, rotation=45)\n",
    "\n",
    "# 두 번째 y축 - 라인그래프 (결제 총액)\n",
    "ax2 = ax1.twinx()\n",
    "ax2.plot(top_categories.index, top_payment_sums.values, color='red', marker='o', linewidth=2)\n",
    "ax2.set_ylabel('Total Payment Value', color='red')\n",
    "ax2.tick_params(axis='y', labelcolor='red')\n",
    "\n",
    "plt.title('Top 10 Product Categories: Order Count & Total Payment Value')\n",
    "plt.tight_layout()\n",
    "plt.show()"
   ],
   "id": "4987a92d16e8eaf6",
   "outputs": [
    {
     "name": "stderr",
     "output_type": "stream",
     "text": [
      "/var/folders/x3/rnzg2dn97bl4ky25jynn9l0m0000gn/T/ipykernel_67430/3849987191.py:14: FutureWarning: \n",
      "\n",
      "Passing `palette` without assigning `hue` is deprecated and will be removed in v0.14.0. Assign the `x` variable to `hue` and set `legend=False` for the same effect.\n",
      "\n",
      "  sns.barplot(x=top_categories.index, y=top_categories.values, ax=ax1, palette='Set3')\n",
      "/var/folders/x3/rnzg2dn97bl4ky25jynn9l0m0000gn/T/ipykernel_67430/3849987191.py:18: UserWarning: set_ticklabels() should only be used with a fixed number of ticks, i.e. after set_ticks() or using a FixedLocator.\n",
      "  ax1.set_xticklabels(top_categories.index, rotation=45)\n"
     ]
    },
    {
     "data": {
      "text/plain": [
       "<Figure size 1000x600 with 2 Axes>"
      ],
      "image/png": "[encoded data removed]"
     },
     "metadata": {},
     "output_type": "display_data"
    }
   ],
   "execution_count": 28
  },
  {
   "metadata": {
    "ExecuteTime": {
     "end_time": "2025-06-04T09:05:56.244451Z",
     "start_time": "2025-06-04T09:05:56.146201Z"
    }
   },
   "cell_type": "code",
   "source": [
    "# 카테고리별 결제 총액 집계\n",
    "category_payment_sum = payments_category_customers_merged.groupby('product_category_name_english')['payment_value'].sum().sort_values(ascending=False)\n",
    "\n",
    "# 상위 10개만 시각화\n",
    "top10 = category_payment_sum.head(10)\n",
    "\n",
    "# 시각화\n",
    "plt.figure(figsize=(10, 6))\n",
    "sns.barplot(x=top10.index, y=top10.values, palette='viridis')\n",
    "plt.xticks(rotation=45)\n",
    "plt.title('Top 10 Product Categories by Total Payment')\n",
    "plt.xlabel('Product Category')\n",
    "plt.ylabel('Total Payment Value')\n",
    "plt.tight_layout()\n",
    "plt.show()"
   ],
   "id": "d4f920f861d3227b",
   "outputs": [
    {
     "name": "stderr",
     "output_type": "stream",
     "text": [
      "/var/folders/x3/rnzg2dn97bl4ky25jynn9l0m0000gn/T/ipykernel_67430/3844766353.py:9: FutureWarning: \n",
      "\n",
      "Passing `palette` without assigning `hue` is deprecated and will be removed in v0.14.0. Assign the `x` variable to `hue` and set `legend=False` for the same effect.\n",
      "\n",
      "  sns.barplot(x=top10.index, y=top10.values, palette='viridis')\n"
     ]
    },
    {
     "data": {
      "text/plain": [
       "<Figure size 1000x600 with 1 Axes>"
      ],
      "image/png": "[encoded data removed]"
     },
     "metadata": {},
     "output_type": "display_data"
    }
   ],
   "execution_count": 29
  },
  {
   "metadata": {
    "ExecuteTime": {
     "end_time": "2025-06-04T09:05:56.452649Z",
     "start_time": "2025-06-04T09:05:56.327893Z"
    }
   },
   "cell_type": "code",
   "source": [
    "# 카테고리별 주문 1건당 평균 결제금액\n",
    "category_grouped = payments_category_customers_merged.groupby('product_category_name_english').agg({\n",
    "    'payment_value': 'sum',\n",
    "    'order_id': pd.Series.nunique  # 고유 주문 수\n",
    "})\n",
    "\n",
    "category_grouped['payment_per_order'] = category_grouped['payment_value'] / category_grouped['order_id']\n",
    "\n",
    "# 평균 결제금액 기준 상위 10개\n",
    "top10_avg_payment = category_grouped.sort_values('payment_per_order', ascending=False).head(10)\n",
    "\n",
    "plt.figure(figsize=(10, 6))\n",
    "sns.barplot(x=top10_avg_payment.index, y=top10_avg_payment['payment_per_order'], palette='crest')\n",
    "plt.xticks(rotation=45)\n",
    "plt.title('Top 10 Product Categories by Avg. Payment per Order')\n",
    "plt.xlabel('Product Category')\n",
    "plt.ylabel('Avg. Payment per Order')\n",
    "plt.tight_layout()\n",
    "plt.show()"
   ],
   "id": "aacd16e8df34ee2a",
   "outputs": [
    {
     "name": "stderr",
     "output_type": "stream",
     "text": [
      "/var/folders/x3/rnzg2dn97bl4ky25jynn9l0m0000gn/T/ipykernel_67430/3291929752.py:13: FutureWarning: \n",
      "\n",
      "Passing `palette` without assigning `hue` is deprecated and will be removed in v0.14.0. Assign the `x` variable to `hue` and set `legend=False` for the same effect.\n",
      "\n",
      "  sns.barplot(x=top10_avg_payment.index, y=top10_avg_payment['payment_per_order'], palette='crest')\n"
     ]
    },
    {
     "data": {
      "text/plain": [
       "<Figure size 1000x600 with 1 Axes>"
      ],
      "image/png": "[encoded data removed]"
     },
     "metadata": {},
     "output_type": "display_data"
    }
   ],
   "execution_count": 30
  },
  {
   "metadata": {},
   "cell_type": "markdown",
   "source": "### 이탈 고객",
   "id": "668a888f85207a12"
  },
  {
   "metadata": {
    "ExecuteTime": {
     "end_time": "2025-06-04T09:05:56.523053Z",
     "start_time": "2025-06-04T09:05:56.512623Z"
    }
   },
   "cell_type": "code",
   "source": [
    "# 이탈 고객 필터링\n",
    "churned_df = rfm_category_customers_merged[rfm_category_customers_merged['churn'] == 1]\n",
    "\n",
    "# 이탈 고객 상위 카테고리 10개\n",
    "churned_top_categories = churned_df['product_category_name_english'].value_counts().head(10)\n",
    "print(\"🔻 이탈 고객 상위 카테고리 10개:\\n\", churned_top_categories)"
   ],
   "id": "78bb7498280619c0",
   "outputs": [
    {
     "name": "stdout",
     "output_type": "stream",
     "text": [
      "🔻 이탈 고객 상위 카테고리 10개:\n",
      " product_category_name_english\n",
      "bed_bath_table           4964\n",
      "furniture_decor          4001\n",
      "sports_leisure           3691\n",
      "health_beauty            3363\n",
      "computers_accessories    2896\n",
      "housewares               2760\n",
      "toys                     2276\n",
      "garden_tools             2248\n",
      "cool_stuff               2170\n",
      "telephony                2005\n",
      "Name: count, dtype: int64\n"
     ]
    }
   ],
   "execution_count": 31
  },
  {
   "metadata": {},
   "cell_type": "markdown",
   "source": "### 재구매 고객",
   "id": "aef776564afa43e3"
  },
  {
   "metadata": {
    "ExecuteTime": {
     "end_time": "2025-06-04T09:05:56.601215Z",
     "start_time": "2025-06-04T09:05:56.592563Z"
    }
   },
   "cell_type": "code",
   "source": [
    "# 재구매 고객 필터링\n",
    "retained_df = rfm_category_customers_merged[rfm_category_customers_merged['churn'] == 0]\n",
    "\n",
    "# 재구매 고객 상위 카테고리 10개\n",
    "retained_top_categories = retained_df['product_category_name_english'].value_counts().head(10)\n",
    "print(\"🔹 재구매 고객 상위 카테고리 10개:\\n\", retained_top_categories)"
   ],
   "id": "4e772f457b440483",
   "outputs": [
    {
     "name": "stdout",
     "output_type": "stream",
     "text": [
      "🔹 재구매 고객 상위 카테고리 10개:\n",
      " product_category_name_english\n",
      "bed_bath_table           6859\n",
      "health_beauty            6609\n",
      "sports_leisure           5254\n",
      "computers_accessories    5186\n",
      "furniture_decor          4743\n",
      "housewares               4595\n",
      "watches_gifts            4216\n",
      "auto                     2981\n",
      "telephony                2716\n",
      "garden_tools             2326\n",
      "Name: count, dtype: int64\n"
     ]
    }
   ],
   "execution_count": 32
  },
  {
   "metadata": {
    "ExecuteTime": {
     "end_time": "2025-06-04T09:05:56.854226Z",
     "start_time": "2025-06-04T09:05:56.662023Z"
    }
   },
   "cell_type": "code",
   "source": [
    "# 시각화 함수\n",
    "def plot_top_categories(data, title, color):\n",
    "    plt.figure(figsize=(10, 5))\n",
    "    sns.barplot(x=data.values, y=data.index, hue=data.index, dodge=False, palette=color, legend=False)\n",
    "    plt.title(title)\n",
    "    plt.xlabel('Order Count')\n",
    "    plt.ylabel('Product Category')\n",
    "    plt.tight_layout()\n",
    "    plt.show()\n",
    "\n",
    "plot_top_categories(churned_top_categories, 'Top 10 Categories (Churned Customers)', 'Reds')\n",
    "plot_top_categories(retained_top_categories, 'Top 10 Categories (Retained Customers)', 'Blues')"
   ],
   "id": "ad6a2f99a8a8aa00",
   "outputs": [
    {
     "data": {
      "text/plain": [
       "<Figure size 1000x500 with 1 Axes>"
      ],
      "image/png": "[encoded data removed]"
     },
     "metadata": {},
     "output_type": "display_data"
    },
    {
     "data": {
      "text/plain": [
       "<Figure size 1000x500 with 1 Axes>"
      ],
      "image/png": "[encoded data removed]"
     },
     "metadata": {},
     "output_type": "display_data"
    }
   ],
   "execution_count": 33
  },
  {
   "metadata": {},
   "cell_type": "markdown",
   "source": "### 구매수량 컬럼 생성",
   "id": "a9ad0c3e2ee0d5a7"
  },
  {
   "metadata": {
    "ExecuteTime": {
     "end_time": "2025-06-04T09:06:07.188681Z",
     "start_time": "2025-06-04T09:06:07.145429Z"
    }
   },
   "cell_type": "code",
   "source": "rfm_category_customers_merged.info()",
   "id": "fac96811a0c2fdd6",
   "outputs": [
    {
     "name": "stdout",
     "output_type": "stream",
     "text": [
      "<class 'pandas.core.frame.DataFrame'>\n",
      "RangeIndex: 117604 entries, 0 to 117603\n",
      "Data columns (total 12 columns):\n",
      " #   Column                         Non-Null Count   Dtype  \n",
      "---  ------                         --------------   -----  \n",
      " 0   order_id                       117604 non-null  object \n",
      " 1   order_item_id                  117604 non-null  int64  \n",
      " 2   product_id                     117604 non-null  object \n",
      " 3   seller_id                      117604 non-null  object \n",
      " 4   shipping_limit_date            117604 non-null  object \n",
      " 5   price                          117604 non-null  float64\n",
      " 6   freight_value                  117604 non-null  float64\n",
      " 7   customer_unique_id             117604 non-null  object \n",
      " 8   product_category_name          115906 non-null  object \n",
      " 9   product_category_name_english  115881 non-null  object \n",
      " 10  payment_value                  117601 non-null  float64\n",
      " 11  churn                          117601 non-null  float64\n",
      "dtypes: float64(4), int64(1), object(7)\n",
      "memory usage: 10.8+ MB\n"
     ]
    }
   ],
   "execution_count": 34
  },
  {
   "metadata": {
    "ExecuteTime": {
     "end_time": "2025-06-04T09:06:09.083513Z",
     "start_time": "2025-06-04T09:06:09.069012Z"
    }
   },
   "cell_type": "code",
   "source": [
    "rfm_category_customers_merged['qty'] = (rfm_category_customers_merged['payment_value'] / rfm_category_customers_merged['price'])\n",
    "\n",
    "rfm_category_customers_merged['qty'].describe()"
   ],
   "id": "d13df2f8a01b233e",
   "outputs": [
    {
     "data": {
      "text/plain": [
       "count    117601.000000\n",
       "mean          1.857359\n",
       "std           2.911962\n",
       "min           0.000000\n",
       "25%           1.131655\n",
       "50%           1.265886\n",
       "75%           1.721005\n",
       "max         163.425000\n",
       "Name: qty, dtype: float64"
      ]
     },
     "execution_count": 35,
     "metadata": {},
     "output_type": "execute_result"
    }
   ],
   "execution_count": 35
  },
  {
   "metadata": {
    "ExecuteTime": {
     "end_time": "2025-06-04T09:06:10.865592Z",
     "start_time": "2025-06-04T09:06:10.650735Z"
    }
   },
   "cell_type": "code",
   "source": [
    "plt.figure(figsize=(8, 5))\n",
    "sns.histplot(rfm_category_customers_merged['qty'], bins=30, kde=True, color='skyblue')\n",
    "plt.title('Distribution of qty')\n",
    "plt.xlabel('qty')\n",
    "plt.ylabel('Frequency')\n",
    "plt.tight_layout()\n",
    "plt.show()"
   ],
   "id": "8121b124379cf190",
   "outputs": [
    {
     "data": {
      "text/plain": [
       "<Figure size 800x500 with 1 Axes>"
      ],
      "image/png": "[encoded data removed]"
     },
     "metadata": {},
     "output_type": "display_data"
    }
   ],
   "execution_count": 36
  },
  {
   "metadata": {},
   "cell_type": "markdown",
   "source": "### 인당 카테고리별 구매수량",
   "id": "f106ddec90a769b7"
  },
  {
   "metadata": {
    "ExecuteTime": {
     "end_time": "2025-06-04T09:06:20.217472Z",
     "start_time": "2025-06-04T09:06:20.125577Z"
    }
   },
   "cell_type": "code",
   "source": [
    "category_counts = rfm_category_customers_merged.groupby('customer_unique_id')['product_category_name'].nunique().reset_index(name='category_count')\n",
    "\n",
    "category_counts.describe()"
   ],
   "id": "f219ec63820e90d7",
   "outputs": [
    {
     "data": {
      "text/plain": [
       "       category_count\n",
       "count    95420.000000\n",
       "mean         1.011004\n",
       "std          0.205165\n",
       "min          0.000000\n",
       "25%          1.000000\n",
       "50%          1.000000\n",
       "75%          1.000000\n",
       "max          5.000000"
      ],
      "text/html": [
       "<div>\n",
       "<style scoped>\n",
       "    .dataframe tbody tr th:only-of-type {\n",
       "        vertical-align: middle;\n",
       "    }\n",
       "\n",
       "    .dataframe tbody tr th {\n",
       "        vertical-align: top;\n",
       "    }\n",
       "\n",
       "    .dataframe thead th {\n",
       "        text-align: right;\n",
       "    }\n",
       "</style>\n",
       "<table border=\"1\" class=\"dataframe\">\n",
       "  <thead>\n",
       "    <tr style=\"text-align: right;\">\n",
       "      <th></th>\n",
       "      <th>category_count</th>\n",
       "    </tr>\n",
       "  </thead>\n",
       "  <tbody>\n",
       "    <tr>\n",
       "      <th>count</th>\n",
       "      <td>95420.000000</td>\n",
       "    </tr>\n",
       "    <tr>\n",
       "      <th>mean</th>\n",
       "      <td>1.011004</td>\n",
       "    </tr>\n",
       "    <tr>\n",
       "      <th>std</th>\n",
       "      <td>0.205165</td>\n",
       "    </tr>\n",
       "    <tr>\n",
       "      <th>min</th>\n",
       "      <td>0.000000</td>\n",
       "    </tr>\n",
       "    <tr>\n",
       "      <th>25%</th>\n",
       "      <td>1.000000</td>\n",
       "    </tr>\n",
       "    <tr>\n",
       "      <th>50%</th>\n",
       "      <td>1.000000</td>\n",
       "    </tr>\n",
       "    <tr>\n",
       "      <th>75%</th>\n",
       "      <td>1.000000</td>\n",
       "    </tr>\n",
       "    <tr>\n",
       "      <th>max</th>\n",
       "      <td>5.000000</td>\n",
       "    </tr>\n",
       "  </tbody>\n",
       "</table>\n",
       "</div>"
      ]
     },
     "execution_count": 37,
     "metadata": {},
     "output_type": "execute_result"
    }
   ],
   "execution_count": 37
  },
  {
   "metadata": {},
   "cell_type": "markdown",
   "source": "### 인당 건별 주문금액",
   "id": "3b3e2411097e09c"
  },
  {
   "metadata": {
    "ExecuteTime": {
     "end_time": "2025-06-04T09:06:22.859159Z",
     "start_time": "2025-06-04T09:06:22.726887Z"
    }
   },
   "cell_type": "code",
   "source": [
    "# 인당 주문 건당 평균 결제금액\n",
    "customer_payment_df = payments_category_customers_merged.groupby('customer_unique_id').agg(\n",
    "    order_count=('order_id', 'nunique'),\n",
    "    total_payment=('payment_value', 'sum')\n",
    ").assign(\n",
    "    payment_value_by_id=lambda customer_payment_df: customer_payment_df['total_payment'] / customer_payment_df['order_count']\n",
    ")\n",
    "\n",
    "customer_payment_df.info()"
   ],
   "id": "34124bf0d577c315",
   "outputs": [
    {
     "name": "stdout",
     "output_type": "stream",
     "text": [
      "<class 'pandas.core.frame.DataFrame'>\n",
      "Index: 95420 entries, 0000366f3b9a7992bf8c76cfdf3221e2 to ffffd2657e2aad2907e67c3e9daecbeb\n",
      "Data columns (total 3 columns):\n",
      " #   Column               Non-Null Count  Dtype  \n",
      "---  ------               --------------  -----  \n",
      " 0   order_count          95420 non-null  int64  \n",
      " 1   total_payment        95420 non-null  float64\n",
      " 2   payment_value_by_id  95420 non-null  float64\n",
      "dtypes: float64(2), int64(1)\n",
      "memory usage: 2.9+ MB\n"
     ]
    }
   ],
   "execution_count": 38
  },
  {
   "metadata": {
    "ExecuteTime": {
     "end_time": "2025-06-04T09:06:32.297712Z",
     "start_time": "2025-06-04T09:06:32.273086Z"
    }
   },
   "cell_type": "code",
   "source": "customer_payment_df['payment_value_by_id'].describe()",
   "id": "11d6f402343eab44",
   "outputs": [
    {
     "data": {
      "text/plain": [
       "count     95420.000000\n",
       "mean        205.459885\n",
       "std         619.344828\n",
       "min           0.000000\n",
       "25%          63.130000\n",
       "50%         110.630000\n",
       "75%         196.010000\n",
       "max      109312.640000\n",
       "Name: payment_value_by_id, dtype: float64"
      ]
     },
     "execution_count": 39,
     "metadata": {},
     "output_type": "execute_result"
    }
   ],
   "execution_count": 39
  },
  {
   "metadata": {
    "ExecuteTime": {
     "end_time": "2025-06-04T09:06:34.391447Z",
     "start_time": "2025-06-04T09:06:34.039447Z"
    }
   },
   "cell_type": "code",
   "source": [
    "plt.figure(figsize=(10, 6))\n",
    "sns.histplot(customer_payment_df['payment_value_by_id'], bins=30, kde=True, color='skyblue')\n",
    "plt.title('Distribution of Payment Value per Order')\n",
    "plt.xlabel('Payment Value per Order (payment_value_by_id)')\n",
    "plt.ylabel('Count')\n",
    "plt.tight_layout()\n",
    "plt.show()"
   ],
   "id": "4a5e4a10a95357e0",
   "outputs": [
    {
     "data": {
      "text/plain": [
       "<Figure size 1000x600 with 1 Axes>"
      ],
      "image/png": "[encoded data removed]"
     },
     "metadata": {},
     "output_type": "display_data"
    }
   ],
   "execution_count": 40
  },
  {
   "metadata": {
    "ExecuteTime": {
     "end_time": "2025-06-04T09:06:38.252989Z",
     "start_time": "2025-06-04T09:06:38.050119Z"
    }
   },
   "cell_type": "code",
   "source": [
    "plt.figure(figsize=(10, 6))\n",
    "sns.histplot(np.log1p(customer_payment_df['payment_value_by_id']), bins=30, kde=True, color='seagreen')\n",
    "plt.title('Log-Transformed Distribution of Payment Value per Order')\n",
    "plt.xlabel('log(1 + payment_value_by_id)')\n",
    "plt.tight_layout()\n",
    "plt.show()"
   ],
   "id": "368e970aea3e7592",
   "outputs": [
    {
     "data": {
      "text/plain": [
       "<Figure size 1000x600 with 1 Axes>"
      ],
      "image/png": "[encoded data removed]"
     },
     "metadata": {},
     "output_type": "display_data"
    }
   ],
   "execution_count": 41
  },
  {
   "metadata": {},
   "cell_type": "markdown",
   "source": "## 고유 고객 ID별 카테고리 병합",
   "id": "a8cd0f50ddfef9e3"
  },
  {
   "metadata": {
    "ExecuteTime": {
     "end_time": "2025-06-04T03:46:22.007991Z",
     "start_time": "2025-06-04T03:46:18.478432Z"
    }
   },
   "cell_type": "code",
   "source": [
    "category_by_customer = (\n",
    "    rfm_category_customers_merged\n",
    "    .groupby('customer_unique_id')['product_category_name_english']\n",
    "    .agg(lambda x: ','.join(sorted(set(x.dropna().astype(str)))))\n",
    "    .reset_index()\n",
    ")\n",
    "\n",
    "category_by_customer"
   ],
   "id": "c93665e3070445cc",
   "outputs": [
    {
     "data": {
      "text/plain": [
       "                     customer_unique_id product_category_name_english\n",
       "0      0000366f3b9a7992bf8c76cfdf3221e2                bed_bath_table\n",
       "1      0000b849f77a49e4a4ce2b2a4ca5be3f                 health_beauty\n",
       "2      0000f46a3911fa3c0805444483337064                    stationery\n",
       "3      0000f6ccb0745a6a4b88665a16c9f078                     telephony\n",
       "4      0004aac84e0df4da2b147fca70cf8255                     telephony\n",
       "...                                 ...                           ...\n",
       "95415  fffcf5a5ff07b0908bd4e2dbc735a684                 health_beauty\n",
       "95416  fffea47cd6d3cc0a88bd621562a9d061                          baby\n",
       "95417  ffff371b4d645b6ecea244b27531430a                          auto\n",
       "95418  ffff5962728ec6157033ef9805bacc48                 watches_gifts\n",
       "95419  ffffd2657e2aad2907e67c3e9daecbeb                     perfumery\n",
       "\n",
       "[95420 rows x 2 columns]"
      ],
      "text/html": [
       "<div>\n",
       "<style scoped>\n",
       "    .dataframe tbody tr th:only-of-type {\n",
       "        vertical-align: middle;\n",
       "    }\n",
       "\n",
       "    .dataframe tbody tr th {\n",
       "        vertical-align: top;\n",
       "    }\n",
       "\n",
       "    .dataframe thead th {\n",
       "        text-align: right;\n",
       "    }\n",
       "</style>\n",
       "<table border=\"1\" class=\"dataframe\">\n",
       "  <thead>\n",
       "    <tr style=\"text-align: right;\">\n",
       "      <th></th>\n",
       "      <th>customer_unique_id</th>\n",
       "      <th>product_category_name_english</th>\n",
       "    </tr>\n",
       "  </thead>\n",
       "  <tbody>\n",
       "    <tr>\n",
       "      <th>0</th>\n",
       "      <td>0000366f3b9a7992bf8c76cfdf3221e2</td>\n",
       "      <td>bed_bath_table</td>\n",
       "    </tr>\n",
       "    <tr>\n",
       "      <th>1</th>\n",
       "      <td>0000b849f77a49e4a4ce2b2a4ca5be3f</td>\n",
       "      <td>health_beauty</td>\n",
       "    </tr>\n",
       "    <tr>\n",
       "      <th>2</th>\n",
       "      <td>0000f46a3911fa3c0805444483337064</td>\n",
       "      <td>stationery</td>\n",
       "    </tr>\n",
       "    <tr>\n",
       "      <th>3</th>\n",
       "      <td>0000f6ccb0745a6a4b88665a16c9f078</td>\n",
       "      <td>telephony</td>\n",
       "    </tr>\n",
       "    <tr>\n",
       "      <th>4</th>\n",
       "      <td>0004aac84e0df4da2b147fca70cf8255</td>\n",
       "      <td>telephony</td>\n",
       "    </tr>\n",
       "    <tr>\n",
       "      <th>...</th>\n",
       "      <td>...</td>\n",
       "      <td>...</td>\n",
       "    </tr>\n",
       "    <tr>\n",
       "      <th>95415</th>\n",
       "      <td>fffcf5a5ff07b0908bd4e2dbc735a684</td>\n",
       "      <td>health_beauty</td>\n",
       "    </tr>\n",
       "    <tr>\n",
       "      <th>95416</th>\n",
       "      <td>fffea47cd6d3cc0a88bd621562a9d061</td>\n",
       "      <td>baby</td>\n",
       "    </tr>\n",
       "    <tr>\n",
       "      <th>95417</th>\n",
       "      <td>ffff371b4d645b6ecea244b27531430a</td>\n",
       "      <td>auto</td>\n",
       "    </tr>\n",
       "    <tr>\n",
       "      <th>95418</th>\n",
       "      <td>ffff5962728ec6157033ef9805bacc48</td>\n",
       "      <td>watches_gifts</td>\n",
       "    </tr>\n",
       "    <tr>\n",
       "      <th>95419</th>\n",
       "      <td>ffffd2657e2aad2907e67c3e9daecbeb</td>\n",
       "      <td>perfumery</td>\n",
       "    </tr>\n",
       "  </tbody>\n",
       "</table>\n",
       "<p>95420 rows × 2 columns</p>\n",
       "</div>"
      ]
     },
     "execution_count": 121,
     "metadata": {},
     "output_type": "execute_result"
    }
   ],
   "execution_count": 121
  },
  {
   "metadata": {},
   "cell_type": "markdown",
   "source": "## 배송처리",
   "id": "7f1dee9982a9dc4f"
  },
  {
   "metadata": {
    "ExecuteTime": {
     "end_time": "2025-06-04T03:46:22.066662Z",
     "start_time": "2025-06-04T03:46:22.030613Z"
    }
   },
   "cell_type": "code",
   "source": "orders_customers_merged.info()",
   "id": "f48f057663588f1e",
   "outputs": [
    {
     "name": "stdout",
     "output_type": "stream",
     "text": [
      "<class 'pandas.core.frame.DataFrame'>\n",
      "RangeIndex: 99441 entries, 0 to 99440\n",
      "Data columns (total 9 columns):\n",
      " #   Column                         Non-Null Count  Dtype \n",
      "---  ------                         --------------  ----- \n",
      " 0   order_id                       99441 non-null  object\n",
      " 1   customer_id                    99441 non-null  object\n",
      " 2   order_status                   99441 non-null  object\n",
      " 3   order_purchase_timestamp       99441 non-null  object\n",
      " 4   order_approved_at              99281 non-null  object\n",
      " 5   order_delivered_carrier_date   97658 non-null  object\n",
      " 6   order_delivered_customer_date  96476 non-null  object\n",
      " 7   order_estimated_delivery_date  99441 non-null  object\n",
      " 8   customer_unique_id             99441 non-null  object\n",
      "dtypes: object(9)\n",
      "memory usage: 6.8+ MB\n"
     ]
    }
   ],
   "execution_count": 122
  },
  {
   "metadata": {
    "ExecuteTime": {
     "end_time": "2025-06-04T03:46:22.139827Z",
     "start_time": "2025-06-04T03:46:22.091461Z"
    }
   },
   "cell_type": "code",
   "source": [
    "# 데이터타입 변환\n",
    "orders_customers_merged['order_delivered_customer_date'] = pd.to_datetime(orders_customers_merged['order_delivered_customer_date'])\n",
    "orders_customers_merged['order_purchase_timestamp'] = pd.to_datetime(orders_customers_merged['order_purchase_timestamp'])\n",
    "\n",
    "orders_customers_merged.info()"
   ],
   "id": "d153e26e4cfed4d6",
   "outputs": [
    {
     "name": "stdout",
     "output_type": "stream",
     "text": [
      "<class 'pandas.core.frame.DataFrame'>\n",
      "RangeIndex: 99441 entries, 0 to 99440\n",
      "Data columns (total 9 columns):\n",
      " #   Column                         Non-Null Count  Dtype         \n",
      "---  ------                         --------------  -----         \n",
      " 0   order_id                       99441 non-null  object        \n",
      " 1   customer_id                    99441 non-null  object        \n",
      " 2   order_status                   99441 non-null  object        \n",
      " 3   order_purchase_timestamp       99441 non-null  datetime64[ns]\n",
      " 4   order_approved_at              99281 non-null  object        \n",
      " 5   order_delivered_carrier_date   97658 non-null  object        \n",
      " 6   order_delivered_customer_date  96476 non-null  datetime64[ns]\n",
      " 7   order_estimated_delivery_date  99441 non-null  object        \n",
      " 8   customer_unique_id             99441 non-null  object        \n",
      "dtypes: datetime64[ns](2), object(7)\n",
      "memory usage: 6.8+ MB\n"
     ]
    }
   ],
   "execution_count": 123
  },
  {
   "metadata": {
    "ExecuteTime": {
     "end_time": "2025-06-04T03:46:22.212566Z",
     "start_time": "2025-06-04T03:46:22.145356Z"
    }
   },
   "cell_type": "code",
   "source": [
    "# 배송 소요일수 계산\n",
    "orders_customers_merged['processing_days'] = (\n",
    "    orders_customers_merged['order_delivered_customer_date'] - orders_customers_merged['order_purchase_timestamp']\n",
    ").dt.days\n",
    "\n",
    "# 고객별 평균 배송일 계산\n",
    "processing_days_df = orders_customers_merged.groupby('customer_unique_id')['processing_days'].mean().reset_index()\n",
    "\n",
    "processing_days_df.shape"
   ],
   "id": "ef8291cb188d880d",
   "outputs": [
    {
     "data": {
      "text/plain": [
       "(96096, 2)"
      ]
     },
     "execution_count": 124,
     "metadata": {},
     "output_type": "execute_result"
    }
   ],
   "execution_count": 124
  },
  {
   "metadata": {},
   "cell_type": "markdown",
   "source": "## 설문응답소요일",
   "id": "e0ff1f567cfcfc1"
  },
  {
   "metadata": {
    "ExecuteTime": {
     "end_time": "2025-06-04T03:46:22.246645Z",
     "start_time": "2025-06-04T03:46:22.218538Z"
    }
   },
   "cell_type": "code",
   "source": "order_reviews_df.info()",
   "id": "5fc580e47ee169b6",
   "outputs": [
    {
     "name": "stdout",
     "output_type": "stream",
     "text": [
      "<class 'pandas.core.frame.DataFrame'>\n",
      "RangeIndex: 99224 entries, 0 to 99223\n",
      "Data columns (total 7 columns):\n",
      " #   Column                   Non-Null Count  Dtype \n",
      "---  ------                   --------------  ----- \n",
      " 0   review_id                99224 non-null  object\n",
      " 1   order_id                 99224 non-null  object\n",
      " 2   review_score             99224 non-null  int64 \n",
      " 3   review_comment_title     11568 non-null  object\n",
      " 4   review_comment_message   40977 non-null  object\n",
      " 5   review_creation_date     99224 non-null  object\n",
      " 6   review_answer_timestamp  99224 non-null  object\n",
      "dtypes: int64(1), object(6)\n",
      "memory usage: 5.3+ MB\n"
     ]
    }
   ],
   "execution_count": 125
  },
  {
   "metadata": {
    "ExecuteTime": {
     "end_time": "2025-06-04T03:46:22.294014Z",
     "start_time": "2025-06-04T03:46:22.252721Z"
    }
   },
   "cell_type": "code",
   "source": [
    "# customer_unique_id 병합\n",
    "reviews_customers_merged = pd.merge(\n",
    "    order_reviews_df,\n",
    "    orders_customers_merged[['order_id', 'customer_unique_id']],\n",
    "    on='order_id',\n",
    "    how='left'\n",
    ")\n",
    "\n",
    "reviews_customers_merged.head()"
   ],
   "id": "f2628cc6407be8ac",
   "outputs": [
    {
     "data": {
      "text/plain": [
       "                          review_id                          order_id  \\\n",
       "0  7bc2406110b926393aa56f80a40eba40  73fc7af87114b39712e6da79b0a377eb   \n",
       "1  80e641a11e56f04c1ad469d5645fdfde  a548910a1c6147796b98fdf73dbeba33   \n",
       "2  228ce5500dc1d8e020d8d1322874b6f0  f9e4b658b201a9f2ecdecbb34bed034b   \n",
       "3  e64fb393e7b32834bb789ff8bb30750e  658677c97b385a9be170737859d3511b   \n",
       "4  f7c4243c7fe1938f181bec41a392bdeb  8e6bfb81e283fa7e4f11123a3fb894f1   \n",
       "\n",
       "   review_score review_comment_title  \\\n",
       "0             4                  NaN   \n",
       "1             5                  NaN   \n",
       "2             5                  NaN   \n",
       "3             5                  NaN   \n",
       "4             5                  NaN   \n",
       "\n",
       "                              review_comment_message review_creation_date  \\\n",
       "0                                                NaN  2018-01-18 00:00:00   \n",
       "1                                                NaN  2018-03-10 00:00:00   \n",
       "2                                                NaN  2018-02-17 00:00:00   \n",
       "3              Recebi bem antes do prazo estipulado.  2017-04-21 00:00:00   \n",
       "4  Parabéns lojas lannister adorei comprar pela I...  2018-03-01 00:00:00   \n",
       "\n",
       "  review_answer_timestamp                customer_unique_id  \n",
       "0     2018-01-18 21:46:59  68a5590b9926689be4e10f4ae2db21a8  \n",
       "1     2018-03-11 03:05:13  64190b91b656ab8f37eb89b93dc84584  \n",
       "2     2018-02-18 14:36:24  1d47144362c14e94ccdd213e8ec277d5  \n",
       "3     2017-04-21 22:02:06  c8cf6cb6b838dc7a33ed199b825e8616  \n",
       "4     2018-03-02 10:26:53  d16000272660a1fef81482ad75ba572a  "
      ],
      "text/html": [
       "<div>\n",
       "<style scoped>\n",
       "    .dataframe tbody tr th:only-of-type {\n",
       "        vertical-align: middle;\n",
       "    }\n",
       "\n",
       "    .dataframe tbody tr th {\n",
       "        vertical-align: top;\n",
       "    }\n",
       "\n",
       "    .dataframe thead th {\n",
       "        text-align: right;\n",
       "    }\n",
       "</style>\n",
       "<table border=\"1\" class=\"dataframe\">\n",
       "  <thead>\n",
       "    <tr style=\"text-align: right;\">\n",
       "      <th></th>\n",
       "      <th>review_id</th>\n",
       "      <th>order_id</th>\n",
       "      <th>review_score</th>\n",
       "      <th>review_comment_title</th>\n",
       "      <th>review_comment_message</th>\n",
       "      <th>review_creation_date</th>\n",
       "      <th>review_answer_timestamp</th>\n",
       "      <th>customer_unique_id</th>\n",
       "    </tr>\n",
       "  </thead>\n",
       "  <tbody>\n",
       "    <tr>\n",
       "      <th>0</th>\n",
       "      <td>7bc2406110b926393aa56f80a40eba40</td>\n",
       "      <td>73fc7af87114b39712e6da79b0a377eb</td>\n",
       "      <td>4</td>\n",
       "      <td>NaN</td>\n",
       "      <td>NaN</td>\n",
       "      <td>2018-01-18 00:00:00</td>\n",
       "      <td>2018-01-18 21:46:59</td>\n",
       "      <td>68a5590b9926689be4e10f4ae2db21a8</td>\n",
       "    </tr>\n",
       "    <tr>\n",
       "      <th>1</th>\n",
       "      <td>80e641a11e56f04c1ad469d5645fdfde</td>\n",
       "      <td>a548910a1c6147796b98fdf73dbeba33</td>\n",
       "      <td>5</td>\n",
       "      <td>NaN</td>\n",
       "      <td>NaN</td>\n",
       "      <td>2018-03-10 00:00:00</td>\n",
       "      <td>2018-03-11 03:05:13</td>\n",
       "      <td>64190b91b656ab8f37eb89b93dc84584</td>\n",
       "    </tr>\n",
       "    <tr>\n",
       "      <th>2</th>\n",
       "      <td>228ce5500dc1d8e020d8d1322874b6f0</td>\n",
       "      <td>f9e4b658b201a9f2ecdecbb34bed034b</td>\n",
       "      <td>5</td>\n",
       "      <td>NaN</td>\n",
       "      <td>NaN</td>\n",
       "      <td>2018-02-17 00:00:00</td>\n",
       "      <td>2018-02-18 14:36:24</td>\n",
       "      <td>1d47144362c14e94ccdd213e8ec277d5</td>\n",
       "    </tr>\n",
       "    <tr>\n",
       "      <th>3</th>\n",
       "      <td>e64fb393e7b32834bb789ff8bb30750e</td>\n",
       "      <td>658677c97b385a9be170737859d3511b</td>\n",
       "      <td>5</td>\n",
       "      <td>NaN</td>\n",
       "      <td>Recebi bem antes do prazo estipulado.</td>\n",
       "      <td>2017-04-21 00:00:00</td>\n",
       "      <td>2017-04-21 22:02:06</td>\n",
       "      <td>c8cf6cb6b838dc7a33ed199b825e8616</td>\n",
       "    </tr>\n",
       "    <tr>\n",
       "      <th>4</th>\n",
       "      <td>f7c4243c7fe1938f181bec41a392bdeb</td>\n",
       "      <td>8e6bfb81e283fa7e4f11123a3fb894f1</td>\n",
       "      <td>5</td>\n",
       "      <td>NaN</td>\n",
       "      <td>Parabéns lojas lannister adorei comprar pela I...</td>\n",
       "      <td>2018-03-01 00:00:00</td>\n",
       "      <td>2018-03-02 10:26:53</td>\n",
       "      <td>d16000272660a1fef81482ad75ba572a</td>\n",
       "    </tr>\n",
       "  </tbody>\n",
       "</table>\n",
       "</div>"
      ]
     },
     "execution_count": 126,
     "metadata": {},
     "output_type": "execute_result"
    }
   ],
   "execution_count": 126
  },
  {
   "metadata": {
    "ExecuteTime": {
     "end_time": "2025-06-04T03:46:22.334692Z",
     "start_time": "2025-06-04T03:46:22.299688Z"
    }
   },
   "cell_type": "code",
   "source": [
    "# 데이터타입 변환\n",
    "reviews_customers_merged['review_answer_timestamp'] = pd.to_datetime(reviews_customers_merged['review_answer_timestamp'])\n",
    "reviews_customers_merged['review_creation_date'] = pd.to_datetime(reviews_customers_merged['review_creation_date'])\n",
    "\n",
    "reviews_customers_merged.info()"
   ],
   "id": "2ccc56f445c840d8",
   "outputs": [
    {
     "name": "stdout",
     "output_type": "stream",
     "text": [
      "<class 'pandas.core.frame.DataFrame'>\n",
      "RangeIndex: 99224 entries, 0 to 99223\n",
      "Data columns (total 8 columns):\n",
      " #   Column                   Non-Null Count  Dtype         \n",
      "---  ------                   --------------  -----         \n",
      " 0   review_id                99224 non-null  object        \n",
      " 1   order_id                 99224 non-null  object        \n",
      " 2   review_score             99224 non-null  int64         \n",
      " 3   review_comment_title     11568 non-null  object        \n",
      " 4   review_comment_message   40977 non-null  object        \n",
      " 5   review_creation_date     99224 non-null  datetime64[ns]\n",
      " 6   review_answer_timestamp  99224 non-null  datetime64[ns]\n",
      " 7   customer_unique_id       99224 non-null  object        \n",
      "dtypes: datetime64[ns](2), int64(1), object(5)\n",
      "memory usage: 6.1+ MB\n"
     ]
    }
   ],
   "execution_count": 127
  },
  {
   "metadata": {
    "ExecuteTime": {
     "end_time": "2025-06-04T03:46:22.449232Z",
     "start_time": "2025-06-04T03:46:22.366406Z"
    }
   },
   "cell_type": "code",
   "source": [
    "# 설문응답 소요일수 계산\n",
    "reviews_customers_merged['response_days'] = (\n",
    "        reviews_customers_merged['review_answer_timestamp'] - reviews_customers_merged['review_creation_date']\n",
    ").dt.days\n",
    "\n",
    "# 고객별 평균 설문응답 소요일 계산\n",
    "response_days_df = reviews_customers_merged.groupby('customer_unique_id')['response_days'].mean().reset_index()\n",
    "\n",
    "response_days_df.shape"
   ],
   "id": "133fa2d09f0ab26e",
   "outputs": [
    {
     "data": {
      "text/plain": [
       "(95380, 2)"
      ]
     },
     "execution_count": 128,
     "metadata": {},
     "output_type": "execute_result"
    }
   ],
   "execution_count": 128
  },
  {
   "metadata": {},
   "cell_type": "markdown",
   "source": "# streamlit",
   "id": "79acfc0e646599ff"
  },
  {
   "metadata": {},
   "cell_type": "markdown",
   "source": " ## order",
   "id": "f4338ba142f9f03a"
  },
  {
   "metadata": {
    "ExecuteTime": {
     "end_time": "2025-06-04T09:24:38.425867Z",
     "start_time": "2025-06-04T09:24:38.277963Z"
    }
   },
   "cell_type": "code",
   "source": [
    "# 연도/월별 주문고객 수\n",
    "order_counts = pd.merge(\n",
    "    rfm_category_customers_merged,\n",
    "    orders_df[['order_id', 'order_purchase_timestamp']],\n",
    "    on='order_id',\n",
    "    how='left'\n",
    ")"
   ],
   "id": "a828c91a5ae04f4b",
   "outputs": [],
   "execution_count": 49
  },
  {
   "metadata": {
    "ExecuteTime": {
     "end_time": "2025-06-04T10:19:35.981690Z",
     "start_time": "2025-06-04T10:19:35.819007Z"
    }
   },
   "cell_type": "code",
   "source": "order_counts.info()",
   "id": "6447138643c17520",
   "outputs": [
    {
     "name": "stdout",
     "output_type": "stream",
     "text": [
      "<class 'pandas.core.frame.DataFrame'>\n",
      "RangeIndex: 117604 entries, 0 to 117603\n",
      "Data columns (total 14 columns):\n",
      " #   Column                         Non-Null Count   Dtype  \n",
      "---  ------                         --------------   -----  \n",
      " 0   order_id                       117604 non-null  object \n",
      " 1   order_item_id                  117604 non-null  int64  \n",
      " 2   product_id                     117604 non-null  object \n",
      " 3   seller_id                      117604 non-null  object \n",
      " 4   shipping_limit_date            117604 non-null  object \n",
      " 5   price                          117604 non-null  float64\n",
      " 6   freight_value                  117604 non-null  float64\n",
      " 7   customer_unique_id             117604 non-null  object \n",
      " 8   product_category_name          115906 non-null  object \n",
      " 9   product_category_name_english  115881 non-null  object \n",
      " 10  payment_value                  117601 non-null  float64\n",
      " 11  churn                          117601 non-null  float64\n",
      " 12  qty                            117601 non-null  float64\n",
      " 13  order_purchase_timestamp       117604 non-null  object \n",
      "dtypes: float64(5), int64(1), object(8)\n",
      "memory usage: 12.6+ MB\n"
     ]
    }
   ],
   "execution_count": 59
  },
  {
   "metadata": {
    "ExecuteTime": {
     "end_time": "2025-06-05T01:38:58.957397Z",
     "start_time": "2025-06-05T01:38:58.460383Z"
    }
   },
   "cell_type": "code",
   "source": [
    "# 1. datetime 형식으로 변환\n",
    "order_counts['order_purchase_timestamp'] = pd.to_datetime(order_counts['order_purchase_timestamp'])\n",
    "\n",
    "# 2. 연도와 월 컬럼 추출\n",
    "order_counts['year'] = order_counts['order_purchase_timestamp'].dt.year\n",
    "order_counts['month'] = order_counts['order_purchase_timestamp'].dt.month\n",
    "\n",
    "# 3. 연도-월별 매출 합계 및 고유 주문 수 집계\n",
    "monthly_stats = order_counts.groupby(['churn', 'year', 'month']).agg({\n",
    "    'payment_value': 'sum',\n",
    "    'customer_unique_id': pd.Series.nunique\n",
    "}).reset_index().rename(columns={\n",
    "    'payment_value': 'total_revenue',\n",
    "    'customer_unique_id': 'unique_customer_count'\n",
    "})\n",
    "\n",
    "# 4. 인당 주문 금액 계산\n",
    "monthly_stats['avg_order_value'] = monthly_stats['total_revenue'] / monthly_stats['unique_customer_count']\n",
    "\n",
    "# 5. 연도-월 문자열 컬럼 추가 (시각화용)\n",
    "monthly_stats['year_month'] = monthly_stats['year'].astype(str) + '-' + monthly_stats['month'].astype(str).str.zfill(2)\n",
    "\n",
    "# 결과 확인\n",
    "monthly_stats"
   ],
   "id": "3b121c48341a706f",
   "outputs": [
    {
     "data": {
      "text/plain": [
       "    churn  year  month  total_revenue  unique_customer_count  avg_order_value  \\\n",
       "0     0.0  2016     10         596.97                      6        99.495000   \n",
       "1     0.0  2017      1        6204.24                     26       238.624615   \n",
       "2     0.0  2017      2        3645.72                     23       158.509565   \n",
       "3     0.0  2017      3        9041.90                     45       200.931111   \n",
       "4     0.0  2017      4        7237.20                     40       180.930000   \n",
       "5     0.0  2017      5       16477.81                     83       198.527831   \n",
       "6     0.0  2017      6       17207.54                     78       220.609487   \n",
       "7     0.0  2017      7       20520.83                     91       225.503626   \n",
       "8     0.0  2017      8       24978.66                    113       221.050088   \n",
       "9     0.0  2017      9       20476.84                    108       189.600370   \n",
       "10    0.0  2017     10       32877.99                    107       307.270935   \n",
       "11    0.0  2017     11       35841.01                    158       226.841835   \n",
       "12    0.0  2017     12      926323.35                   4978       186.083437   \n",
       "13    0.0  2018      1     1408365.65                   7120       197.804164   \n",
       "14    0.0  2018      2     1306048.80                   6537       199.793300   \n",
       "15    0.0  2018      3     1475599.95                   7096       207.948133   \n",
       "16    0.0  2018      4     1496811.52                   6878       217.623076   \n",
       "17    0.0  2018      5     1506974.84                   6795       221.777018   \n",
       "18    0.0  2018      6     1297594.81                   6121       211.990657   \n",
       "19    0.0  2018      7     1351705.34                   6211       217.630871   \n",
       "20    0.0  2018      8     1229643.72                   6411       191.802171   \n",
       "21    0.0  2018      9         166.46                      1       166.460000   \n",
       "22    1.0  2016      9         347.52                      2       173.760000   \n",
       "23    1.0  2016     10       73317.61                    299       245.209398   \n",
       "24    1.0  2016     12          19.62                      1        19.620000   \n",
       "25    1.0  2017      1      181575.17                    729       249.074307   \n",
       "26    1.0  2017      2      340489.07                   1685       202.070665   \n",
       "27    1.0  2017      3      517919.76                   2556       202.629014   \n",
       "28    1.0  2017      4      498428.33                   2319       214.932441   \n",
       "29    1.0  2017      5      708026.74                   3505       202.004776   \n",
       "30    1.0  2017      6      583545.73                   3076       189.709275   \n",
       "31    1.0  2017      7      716772.25                   3803       188.475480   \n",
       "32    1.0  2017      8      845127.24                   4098       206.229195   \n",
       "33    1.0  2017      9      995372.73                   4062       245.044985   \n",
       "34    1.0  2017     10      988291.28                   4394       224.918361   \n",
       "35    1.0  2017     11     1548028.00                   7184       215.482739   \n",
       "36    1.0  2017     12      116532.51                    579       201.265130   \n",
       "\n",
       "   year_month  \n",
       "0     2016-10  \n",
       "1     2017-01  \n",
       "2     2017-02  \n",
       "3     2017-03  \n",
       "4     2017-04  \n",
       "5     2017-05  \n",
       "6     2017-06  \n",
       "7     2017-07  \n",
       "8     2017-08  \n",
       "9     2017-09  \n",
       "10    2017-10  \n",
       "11    2017-11  \n",
       "12    2017-12  \n",
       "13    2018-01  \n",
       "14    2018-02  \n",
       "15    2018-03  \n",
       "16    2018-04  \n",
       "17    2018-05  \n",
       "18    2018-06  \n",
       "19    2018-07  \n",
       "20    2018-08  \n",
       "21    2018-09  \n",
       "22    2016-09  \n",
       "23    2016-10  \n",
       "24    2016-12  \n",
       "25    2017-01  \n",
       "26    2017-02  \n",
       "27    2017-03  \n",
       "28    2017-04  \n",
       "29    2017-05  \n",
       "30    2017-06  \n",
       "31    2017-07  \n",
       "32    2017-08  \n",
       "33    2017-09  \n",
       "34    2017-10  \n",
       "35    2017-11  \n",
       "36    2017-12  "
      ],
      "text/html": [
       "<div>\n",
       "<style scoped>\n",
       "    .dataframe tbody tr th:only-of-type {\n",
       "        vertical-align: middle;\n",
       "    }\n",
       "\n",
       "    .dataframe tbody tr th {\n",
       "        vertical-align: top;\n",
       "    }\n",
       "\n",
       "    .dataframe thead th {\n",
       "        text-align: right;\n",
       "    }\n",
       "</style>\n",
       "<table border=\"1\" class=\"dataframe\">\n",
       "  <thead>\n",
       "    <tr style=\"text-align: right;\">\n",
       "      <th></th>\n",
       "      <th>churn</th>\n",
       "      <th>year</th>\n",
       "      <th>month</th>\n",
       "      <th>total_revenue</th>\n",
       "      <th>unique_customer_count</th>\n",
       "      <th>avg_order_value</th>\n",
       "      <th>year_month</th>\n",
       "    </tr>\n",
       "  </thead>\n",
       "  <tbody>\n",
       "    <tr>\n",
       "      <th>0</th>\n",
       "      <td>0.0</td>\n",
       "      <td>2016</td>\n",
       "      <td>10</td>\n",
       "      <td>596.97</td>\n",
       "      <td>6</td>\n",
       "      <td>99.495000</td>\n",
       "      <td>2016-10</td>\n",
       "    </tr>\n",
       "    <tr>\n",
       "      <th>1</th>\n",
       "      <td>0.0</td>\n",
       "      <td>2017</td>\n",
       "      <td>1</td>\n",
       "      <td>6204.24</td>\n",
       "      <td>26</td>\n",
       "      <td>238.624615</td>\n",
       "      <td>2017-01</td>\n",
       "    </tr>\n",
       "    <tr>\n",
       "      <th>2</th>\n",
       "      <td>0.0</td>\n",
       "      <td>2017</td>\n",
       "      <td>2</td>\n",
       "      <td>3645.72</td>\n",
       "      <td>23</td>\n",
       "      <td>158.509565</td>\n",
       "      <td>2017-02</td>\n",
       "    </tr>\n",
       "    <tr>\n",
       "      <th>3</th>\n",
       "      <td>0.0</td>\n",
       "      <td>2017</td>\n",
       "      <td>3</td>\n",
       "      <td>9041.90</td>\n",
       "      <td>45</td>\n",
       "      <td>200.931111</td>\n",
       "      <td>2017-03</td>\n",
       "    </tr>\n",
       "    <tr>\n",
       "      <th>4</th>\n",
       "      <td>0.0</td>\n",
       "      <td>2017</td>\n",
       "      <td>4</td>\n",
       "      <td>7237.20</td>\n",
       "      <td>40</td>\n",
       "      <td>180.930000</td>\n",
       "      <td>2017-04</td>\n",
       "    </tr>\n",
       "    <tr>\n",
       "      <th>5</th>\n",
       "      <td>0.0</td>\n",
       "      <td>2017</td>\n",
       "      <td>5</td>\n",
       "      <td>16477.81</td>\n",
       "      <td>83</td>\n",
       "      <td>198.527831</td>\n",
       "      <td>2017-05</td>\n",
       "    </tr>\n",
       "    <tr>\n",
       "      <th>6</th>\n",
       "      <td>0.0</td>\n",
       "      <td>2017</td>\n",
       "      <td>6</td>\n",
       "      <td>17207.54</td>\n",
       "      <td>78</td>\n",
       "      <td>220.609487</td>\n",
       "      <td>2017-06</td>\n",
       "    </tr>\n",
       "    <tr>\n",
       "      <th>7</th>\n",
       "      <td>0.0</td>\n",
       "      <td>2017</td>\n",
       "      <td>7</td>\n",
       "      <td>20520.83</td>\n",
       "      <td>91</td>\n",
       "      <td>225.503626</td>\n",
       "      <td>2017-07</td>\n",
       "    </tr>\n",
       "    <tr>\n",
       "      <th>8</th>\n",
       "      <td>0.0</td>\n",
       "      <td>2017</td>\n",
       "      <td>8</td>\n",
       "      <td>24978.66</td>\n",
       "      <td>113</td>\n",
       "      <td>221.050088</td>\n",
       "      <td>2017-08</td>\n",
       "    </tr>\n",
       "    <tr>\n",
       "      <th>9</th>\n",
       "      <td>0.0</td>\n",
       "      <td>2017</td>\n",
       "      <td>9</td>\n",
       "      <td>20476.84</td>\n",
       "      <td>108</td>\n",
       "      <td>189.600370</td>\n",
       "      <td>2017-09</td>\n",
       "    </tr>\n",
       "    <tr>\n",
       "      <th>10</th>\n",
       "      <td>0.0</td>\n",
       "      <td>2017</td>\n",
       "      <td>10</td>\n",
       "      <td>32877.99</td>\n",
       "      <td>107</td>\n",
       "      <td>307.270935</td>\n",
       "      <td>2017-10</td>\n",
       "    </tr>\n",
       "    <tr>\n",
       "      <th>11</th>\n",
       "      <td>0.0</td>\n",
       "      <td>2017</td>\n",
       "      <td>11</td>\n",
       "      <td>35841.01</td>\n",
       "      <td>158</td>\n",
       "      <td>226.841835</td>\n",
       "      <td>2017-11</td>\n",
       "    </tr>\n",
       "    <tr>\n",
       "      <th>12</th>\n",
       "      <td>0.0</td>\n",
       "      <td>2017</td>\n",
       "      <td>12</td>\n",
       "      <td>926323.35</td>\n",
       "      <td>4978</td>\n",
       "      <td>186.083437</td>\n",
       "      <td>2017-12</td>\n",
       "    </tr>\n",
       "    <tr>\n",
       "      <th>13</th>\n",
       "      <td>0.0</td>\n",
       "      <td>2018</td>\n",
       "      <td>1</td>\n",
       "      <td>1408365.65</td>\n",
       "      <td>7120</td>\n",
       "      <td>197.804164</td>\n",
       "      <td>2018-01</td>\n",
       "    </tr>\n",
       "    <tr>\n",
       "      <th>14</th>\n",
       "      <td>0.0</td>\n",
       "      <td>2018</td>\n",
       "      <td>2</td>\n",
       "      <td>1306048.80</td>\n",
       "      <td>6537</td>\n",
       "      <td>199.793300</td>\n",
       "      <td>2018-02</td>\n",
       "    </tr>\n",
       "    <tr>\n",
       "      <th>15</th>\n",
       "      <td>0.0</td>\n",
       "      <td>2018</td>\n",
       "      <td>3</td>\n",
       "      <td>1475599.95</td>\n",
       "      <td>7096</td>\n",
       "      <td>207.948133</td>\n",
       "      <td>2018-03</td>\n",
       "    </tr>\n",
       "    <tr>\n",
       "      <th>16</th>\n",
       "      <td>0.0</td>\n",
       "      <td>2018</td>\n",
       "      <td>4</td>\n",
       "      <td>1496811.52</td>\n",
       "      <td>6878</td>\n",
       "      <td>217.623076</td>\n",
       "      <td>2018-04</td>\n",
       "    </tr>\n",
       "    <tr>\n",
       "      <th>17</th>\n",
       "      <td>0.0</td>\n",
       "      <td>2018</td>\n",
       "      <td>5</td>\n",
       "      <td>1506974.84</td>\n",
       "      <td>6795</td>\n",
       "      <td>221.777018</td>\n",
       "      <td>2018-05</td>\n",
       "    </tr>\n",
       "    <tr>\n",
       "      <th>18</th>\n",
       "      <td>0.0</td>\n",
       "      <td>2018</td>\n",
       "      <td>6</td>\n",
       "      <td>1297594.81</td>\n",
       "      <td>6121</td>\n",
       "      <td>211.990657</td>\n",
       "      <td>2018-06</td>\n",
       "    </tr>\n",
       "    <tr>\n",
       "      <th>19</th>\n",
       "      <td>0.0</td>\n",
       "      <td>2018</td>\n",
       "      <td>7</td>\n",
       "      <td>1351705.34</td>\n",
       "      <td>6211</td>\n",
       "      <td>217.630871</td>\n",
       "      <td>2018-07</td>\n",
       "    </tr>\n",
       "    <tr>\n",
       "      <th>20</th>\n",
       "      <td>0.0</td>\n",
       "      <td>2018</td>\n",
       "      <td>8</td>\n",
       "      <td>1229643.72</td>\n",
       "      <td>6411</td>\n",
       "      <td>191.802171</td>\n",
       "      <td>2018-08</td>\n",
       "    </tr>\n",
       "    <tr>\n",
       "      <th>21</th>\n",
       "      <td>0.0</td>\n",
       "      <td>2018</td>\n",
       "      <td>9</td>\n",
       "      <td>166.46</td>\n",
       "      <td>1</td>\n",
       "      <td>166.460000</td>\n",
       "      <td>2018-09</td>\n",
       "    </tr>\n",
       "    <tr>\n",
       "      <th>22</th>\n",
       "      <td>1.0</td>\n",
       "      <td>2016</td>\n",
       "      <td>9</td>\n",
       "      <td>347.52</td>\n",
       "      <td>2</td>\n",
       "      <td>173.760000</td>\n",
       "      <td>2016-09</td>\n",
       "    </tr>\n",
       "    <tr>\n",
       "      <th>23</th>\n",
       "      <td>1.0</td>\n",
       "      <td>2016</td>\n",
       "      <td>10</td>\n",
       "      <td>73317.61</td>\n",
       "      <td>299</td>\n",
       "      <td>245.209398</td>\n",
       "      <td>2016-10</td>\n",
       "    </tr>\n",
       "    <tr>\n",
       "      <th>24</th>\n",
       "      <td>1.0</td>\n",
       "      <td>2016</td>\n",
       "      <td>12</td>\n",
       "      <td>19.62</td>\n",
       "      <td>1</td>\n",
       "      <td>19.620000</td>\n",
       "      <td>2016-12</td>\n",
       "    </tr>\n",
       "    <tr>\n",
       "      <th>25</th>\n",
       "      <td>1.0</td>\n",
       "      <td>2017</td>\n",
       "      <td>1</td>\n",
       "      <td>181575.17</td>\n",
       "      <td>729</td>\n",
       "      <td>249.074307</td>\n",
       "      <td>2017-01</td>\n",
       "    </tr>\n",
       "    <tr>\n",
       "      <th>26</th>\n",
       "      <td>1.0</td>\n",
       "      <td>2017</td>\n",
       "      <td>2</td>\n",
       "      <td>340489.07</td>\n",
       "      <td>1685</td>\n",
       "      <td>202.070665</td>\n",
       "      <td>2017-02</td>\n",
       "    </tr>\n",
       "    <tr>\n",
       "      <th>27</th>\n",
       "      <td>1.0</td>\n",
       "      <td>2017</td>\n",
       "      <td>3</td>\n",
       "      <td>517919.76</td>\n",
       "      <td>2556</td>\n",
       "      <td>202.629014</td>\n",
       "      <td>2017-03</td>\n",
       "    </tr>\n",
       "    <tr>\n",
       "      <th>28</th>\n",
       "      <td>1.0</td>\n",
       "      <td>2017</td>\n",
       "      <td>4</td>\n",
       "      <td>498428.33</td>\n",
       "      <td>2319</td>\n",
       "      <td>214.932441</td>\n",
       "      <td>2017-04</td>\n",
       "    </tr>\n",
       "    <tr>\n",
       "      <th>29</th>\n",
       "      <td>1.0</td>\n",
       "      <td>2017</td>\n",
       "      <td>5</td>\n",
       "      <td>708026.74</td>\n",
       "      <td>3505</td>\n",
       "      <td>202.004776</td>\n",
       "      <td>2017-05</td>\n",
       "    </tr>\n",
       "    <tr>\n",
       "      <th>30</th>\n",
       "      <td>1.0</td>\n",
       "      <td>2017</td>\n",
       "      <td>6</td>\n",
       "      <td>583545.73</td>\n",
       "      <td>3076</td>\n",
       "      <td>189.709275</td>\n",
       "      <td>2017-06</td>\n",
       "    </tr>\n",
       "    <tr>\n",
       "      <th>31</th>\n",
       "      <td>1.0</td>\n",
       "      <td>2017</td>\n",
       "      <td>7</td>\n",
       "      <td>716772.25</td>\n",
       "      <td>3803</td>\n",
       "      <td>188.475480</td>\n",
       "      <td>2017-07</td>\n",
       "    </tr>\n",
       "    <tr>\n",
       "      <th>32</th>\n",
       "      <td>1.0</td>\n",
       "      <td>2017</td>\n",
       "      <td>8</td>\n",
       "      <td>845127.24</td>\n",
       "      <td>4098</td>\n",
       "      <td>206.229195</td>\n",
       "      <td>2017-08</td>\n",
       "    </tr>\n",
       "    <tr>\n",
       "      <th>33</th>\n",
       "      <td>1.0</td>\n",
       "      <td>2017</td>\n",
       "      <td>9</td>\n",
       "      <td>995372.73</td>\n",
       "      <td>4062</td>\n",
       "      <td>245.044985</td>\n",
       "      <td>2017-09</td>\n",
       "    </tr>\n",
       "    <tr>\n",
       "      <th>34</th>\n",
       "      <td>1.0</td>\n",
       "      <td>2017</td>\n",
       "      <td>10</td>\n",
       "      <td>988291.28</td>\n",
       "      <td>4394</td>\n",
       "      <td>224.918361</td>\n",
       "      <td>2017-10</td>\n",
       "    </tr>\n",
       "    <tr>\n",
       "      <th>35</th>\n",
       "      <td>1.0</td>\n",
       "      <td>2017</td>\n",
       "      <td>11</td>\n",
       "      <td>1548028.00</td>\n",
       "      <td>7184</td>\n",
       "      <td>215.482739</td>\n",
       "      <td>2017-11</td>\n",
       "    </tr>\n",
       "    <tr>\n",
       "      <th>36</th>\n",
       "      <td>1.0</td>\n",
       "      <td>2017</td>\n",
       "      <td>12</td>\n",
       "      <td>116532.51</td>\n",
       "      <td>579</td>\n",
       "      <td>201.265130</td>\n",
       "      <td>2017-12</td>\n",
       "    </tr>\n",
       "  </tbody>\n",
       "</table>\n",
       "</div>"
      ]
     },
     "execution_count": 71,
     "metadata": {},
     "output_type": "execute_result"
    }
   ],
   "execution_count": 71
  },
  {
   "metadata": {
    "ExecuteTime": {
     "end_time": "2025-06-05T01:41:41.951759Z",
     "start_time": "2025-06-05T01:41:41.912692Z"
    }
   },
   "cell_type": "code",
   "source": [
    "# CSV 파일로 저장\n",
    "monthly_stats.to_csv('streamlit/assets/monthly_stats.csv', index=False)"
   ],
   "id": "1f8c220059cb52ff",
   "outputs": [],
   "execution_count": 72
  },
  {
   "metadata": {
    "ExecuteTime": {
     "end_time": "2025-06-04T10:30:07.945135Z",
     "start_time": "2025-06-04T10:30:07.822335Z"
    }
   },
   "cell_type": "code",
   "source": [
    "# 1. datetime 형식으로 변환\n",
    "order_counts['order_purchase_timestamp'] = pd.to_datetime(order_counts['order_purchase_timestamp'])\n",
    "\n",
    "# 2. 연도와 월 컬럼 추출\n",
    "order_counts['year'] = order_counts['order_purchase_timestamp'].dt.year\n",
    "order_counts['month'] = order_counts['order_purchase_timestamp'].dt.month\n",
    "\n",
    "# 3. 연도-월별 주문 수 집계 (order_id 고유 수)\n",
    "order_counts_by_month = order_counts.groupby(['churn', 'year', 'month'])['order_id'].nunique().reset_index().rename(columns={'order_id': 'order_count'})\n",
    "\n",
    "# 4. 보기 좋게 정렬\n",
    "order_counts_by_month = order_counts_by_month.sort_values(['year', 'month']).reset_index(drop=True)\n",
    "\n",
    "# 5. 연도-월 문자열 컬럼 추가 (시각화용)\n",
    "order_counts_by_month['year_month'] = order_counts_by_month['year'].astype(str) + '-' + order_counts_by_month['month'].astype(str).str.zfill(2)\n",
    "\n",
    "# 결과 확인\n",
    "order_counts_by_month"
   ],
   "id": "7c2a9dad7b4fe075",
   "outputs": [
    {
     "data": {
      "text/plain": [
       "    churn  year  month  order_count year_month\n",
       "0     1.0  2016      9            2    2016-09\n",
       "1     0.0  2016     10            6    2016-10\n",
       "2     1.0  2016     10          302    2016-10\n",
       "3     1.0  2016     12            1    2016-12\n",
       "4     0.0  2017      1           41    2017-01\n",
       "5     1.0  2017      1          748    2017-01\n",
       "6     0.0  2017      2           28    2017-02\n",
       "7     1.0  2017      2         1705    2017-02\n",
       "8     0.0  2017      3           49    2017-03\n",
       "9     1.0  2017      3         2592    2017-03\n",
       "10    0.0  2017      4           48    2017-04\n",
       "11    1.0  2017      4         2343    2017-04\n",
       "12    0.0  2017      5           94    2017-05\n",
       "13    1.0  2017      5         3566    2017-05\n",
       "14    0.0  2017      6           86    2017-06\n",
       "15    1.0  2017      6         3131    2017-06\n",
       "16    0.0  2017      7          104    2017-07\n",
       "17    1.0  2017      7         3865    2017-07\n",
       "18    0.0  2017      8          134    2017-08\n",
       "19    1.0  2017      8         4159    2017-08\n",
       "20    0.0  2017      9          118    2017-09\n",
       "21    1.0  2017      9         4125    2017-09\n",
       "22    0.0  2017     10          119    2017-10\n",
       "23    1.0  2017     10         4449    2017-10\n",
       "24    0.0  2017     11          175    2017-11\n",
       "25    1.0  2017     11         7276    2017-11\n",
       "26    0.0  2017     12         5040    2017-12\n",
       "27    1.0  2017     12          584    2017-12\n",
       "28    0.0  2018      1         7220    2018-01\n",
       "29    0.0  2018      2         6694    2018-02\n",
       "30    0.0  2018      3         7188    2018-03\n",
       "31    0.0  2018      4         6934    2018-04\n",
       "32    0.0  2018      5         6853    2018-05\n",
       "33    0.0  2018      6         6160    2018-06\n",
       "34    0.0  2018      7         6273    2018-07\n",
       "35    0.0  2018      8         6452    2018-08\n",
       "36    0.0  2018      9            1    2018-09"
      ],
      "text/html": [
       "<div>\n",
       "<style scoped>\n",
       "    .dataframe tbody tr th:only-of-type {\n",
       "        vertical-align: middle;\n",
       "    }\n",
       "\n",
       "    .dataframe tbody tr th {\n",
       "        vertical-align: top;\n",
       "    }\n",
       "\n",
       "    .dataframe thead th {\n",
       "        text-align: right;\n",
       "    }\n",
       "</style>\n",
       "<table border=\"1\" class=\"dataframe\">\n",
       "  <thead>\n",
       "    <tr style=\"text-align: right;\">\n",
       "      <th></th>\n",
       "      <th>churn</th>\n",
       "      <th>year</th>\n",
       "      <th>month</th>\n",
       "      <th>order_count</th>\n",
       "      <th>year_month</th>\n",
       "    </tr>\n",
       "  </thead>\n",
       "  <tbody>\n",
       "    <tr>\n",
       "      <th>0</th>\n",
       "      <td>1.0</td>\n",
       "      <td>2016</td>\n",
       "      <td>9</td>\n",
       "      <td>2</td>\n",
       "      <td>2016-09</td>\n",
       "    </tr>\n",
       "    <tr>\n",
       "      <th>1</th>\n",
       "      <td>0.0</td>\n",
       "      <td>2016</td>\n",
       "      <td>10</td>\n",
       "      <td>6</td>\n",
       "      <td>2016-10</td>\n",
       "    </tr>\n",
       "    <tr>\n",
       "      <th>2</th>\n",
       "      <td>1.0</td>\n",
       "      <td>2016</td>\n",
       "      <td>10</td>\n",
       "      <td>302</td>\n",
       "      <td>2016-10</td>\n",
       "    </tr>\n",
       "    <tr>\n",
       "      <th>3</th>\n",
       "      <td>1.0</td>\n",
       "      <td>2016</td>\n",
       "      <td>12</td>\n",
       "      <td>1</td>\n",
       "      <td>2016-12</td>\n",
       "    </tr>\n",
       "    <tr>\n",
       "      <th>4</th>\n",
       "      <td>0.0</td>\n",
       "      <td>2017</td>\n",
       "      <td>1</td>\n",
       "      <td>41</td>\n",
       "      <td>2017-01</td>\n",
       "    </tr>\n",
       "    <tr>\n",
       "      <th>5</th>\n",
       "      <td>1.0</td>\n",
       "      <td>2017</td>\n",
       "      <td>1</td>\n",
       "      <td>748</td>\n",
       "      <td>2017-01</td>\n",
       "    </tr>\n",
       "    <tr>\n",
       "      <th>6</th>\n",
       "      <td>0.0</td>\n",
       "      <td>2017</td>\n",
       "      <td>2</td>\n",
       "      <td>28</td>\n",
       "      <td>2017-02</td>\n",
       "    </tr>\n",
       "    <tr>\n",
       "      <th>7</th>\n",
       "      <td>1.0</td>\n",
       "      <td>2017</td>\n",
       "      <td>2</td>\n",
       "      <td>1705</td>\n",
       "      <td>2017-02</td>\n",
       "    </tr>\n",
       "    <tr>\n",
       "      <th>8</th>\n",
       "      <td>0.0</td>\n",
       "      <td>2017</td>\n",
       "      <td>3</td>\n",
       "      <td>49</td>\n",
       "      <td>2017-03</td>\n",
       "    </tr>\n",
       "    <tr>\n",
       "      <th>9</th>\n",
       "      <td>1.0</td>\n",
       "      <td>2017</td>\n",
       "      <td>3</td>\n",
       "      <td>2592</td>\n",
       "      <td>2017-03</td>\n",
       "    </tr>\n",
       "    <tr>\n",
       "      <th>10</th>\n",
       "      <td>0.0</td>\n",
       "      <td>2017</td>\n",
       "      <td>4</td>\n",
       "      <td>48</td>\n",
       "      <td>2017-04</td>\n",
       "    </tr>\n",
       "    <tr>\n",
       "      <th>11</th>\n",
       "      <td>1.0</td>\n",
       "      <td>2017</td>\n",
       "      <td>4</td>\n",
       "      <td>2343</td>\n",
       "      <td>2017-04</td>\n",
       "    </tr>\n",
       "    <tr>\n",
       "      <th>12</th>\n",
       "      <td>0.0</td>\n",
       "      <td>2017</td>\n",
       "      <td>5</td>\n",
       "      <td>94</td>\n",
       "      <td>2017-05</td>\n",
       "    </tr>\n",
       "    <tr>\n",
       "      <th>13</th>\n",
       "      <td>1.0</td>\n",
       "      <td>2017</td>\n",
       "      <td>5</td>\n",
       "      <td>3566</td>\n",
       "      <td>2017-05</td>\n",
       "    </tr>\n",
       "    <tr>\n",
       "      <th>14</th>\n",
       "      <td>0.0</td>\n",
       "      <td>2017</td>\n",
       "      <td>6</td>\n",
       "      <td>86</td>\n",
       "      <td>2017-06</td>\n",
       "    </tr>\n",
       "    <tr>\n",
       "      <th>15</th>\n",
       "      <td>1.0</td>\n",
       "      <td>2017</td>\n",
       "      <td>6</td>\n",
       "      <td>3131</td>\n",
       "      <td>2017-06</td>\n",
       "    </tr>\n",
       "    <tr>\n",
       "      <th>16</th>\n",
       "      <td>0.0</td>\n",
       "      <td>2017</td>\n",
       "      <td>7</td>\n",
       "      <td>104</td>\n",
       "      <td>2017-07</td>\n",
       "    </tr>\n",
       "    <tr>\n",
       "      <th>17</th>\n",
       "      <td>1.0</td>\n",
       "      <td>2017</td>\n",
       "      <td>7</td>\n",
       "      <td>3865</td>\n",
       "      <td>2017-07</td>\n",
       "    </tr>\n",
       "    <tr>\n",
       "      <th>18</th>\n",
       "      <td>0.0</td>\n",
       "      <td>2017</td>\n",
       "      <td>8</td>\n",
       "      <td>134</td>\n",
       "      <td>2017-08</td>\n",
       "    </tr>\n",
       "    <tr>\n",
       "      <th>19</th>\n",
       "      <td>1.0</td>\n",
       "      <td>2017</td>\n",
       "      <td>8</td>\n",
       "      <td>4159</td>\n",
       "      <td>2017-08</td>\n",
       "    </tr>\n",
       "    <tr>\n",
       "      <th>20</th>\n",
       "      <td>0.0</td>\n",
       "      <td>2017</td>\n",
       "      <td>9</td>\n",
       "      <td>118</td>\n",
       "      <td>2017-09</td>\n",
       "    </tr>\n",
       "    <tr>\n",
       "      <th>21</th>\n",
       "      <td>1.0</td>\n",
       "      <td>2017</td>\n",
       "      <td>9</td>\n",
       "      <td>4125</td>\n",
       "      <td>2017-09</td>\n",
       "    </tr>\n",
       "    <tr>\n",
       "      <th>22</th>\n",
       "      <td>0.0</td>\n",
       "      <td>2017</td>\n",
       "      <td>10</td>\n",
       "      <td>119</td>\n",
       "      <td>2017-10</td>\n",
       "    </tr>\n",
       "    <tr>\n",
       "      <th>23</th>\n",
       "      <td>1.0</td>\n",
       "      <td>2017</td>\n",
       "      <td>10</td>\n",
       "      <td>4449</td>\n",
       "      <td>2017-10</td>\n",
       "    </tr>\n",
       "    <tr>\n",
       "      <th>24</th>\n",
       "      <td>0.0</td>\n",
       "      <td>2017</td>\n",
       "      <td>11</td>\n",
       "      <td>175</td>\n",
       "      <td>2017-11</td>\n",
       "    </tr>\n",
       "    <tr>\n",
       "      <th>25</th>\n",
       "      <td>1.0</td>\n",
       "      <td>2017</td>\n",
       "      <td>11</td>\n",
       "      <td>7276</td>\n",
       "      <td>2017-11</td>\n",
       "    </tr>\n",
       "    <tr>\n",
       "      <th>26</th>\n",
       "      <td>0.0</td>\n",
       "      <td>2017</td>\n",
       "      <td>12</td>\n",
       "      <td>5040</td>\n",
       "      <td>2017-12</td>\n",
       "    </tr>\n",
       "    <tr>\n",
       "      <th>27</th>\n",
       "      <td>1.0</td>\n",
       "      <td>2017</td>\n",
       "      <td>12</td>\n",
       "      <td>584</td>\n",
       "      <td>2017-12</td>\n",
       "    </tr>\n",
       "    <tr>\n",
       "      <th>28</th>\n",
       "      <td>0.0</td>\n",
       "      <td>2018</td>\n",
       "      <td>1</td>\n",
       "      <td>7220</td>\n",
       "      <td>2018-01</td>\n",
       "    </tr>\n",
       "    <tr>\n",
       "      <th>29</th>\n",
       "      <td>0.0</td>\n",
       "      <td>2018</td>\n",
       "      <td>2</td>\n",
       "      <td>6694</td>\n",
       "      <td>2018-02</td>\n",
       "    </tr>\n",
       "    <tr>\n",
       "      <th>30</th>\n",
       "      <td>0.0</td>\n",
       "      <td>2018</td>\n",
       "      <td>3</td>\n",
       "      <td>7188</td>\n",
       "      <td>2018-03</td>\n",
       "    </tr>\n",
       "    <tr>\n",
       "      <th>31</th>\n",
       "      <td>0.0</td>\n",
       "      <td>2018</td>\n",
       "      <td>4</td>\n",
       "      <td>6934</td>\n",
       "      <td>2018-04</td>\n",
       "    </tr>\n",
       "    <tr>\n",
       "      <th>32</th>\n",
       "      <td>0.0</td>\n",
       "      <td>2018</td>\n",
       "      <td>5</td>\n",
       "      <td>6853</td>\n",
       "      <td>2018-05</td>\n",
       "    </tr>\n",
       "    <tr>\n",
       "      <th>33</th>\n",
       "      <td>0.0</td>\n",
       "      <td>2018</td>\n",
       "      <td>6</td>\n",
       "      <td>6160</td>\n",
       "      <td>2018-06</td>\n",
       "    </tr>\n",
       "    <tr>\n",
       "      <th>34</th>\n",
       "      <td>0.0</td>\n",
       "      <td>2018</td>\n",
       "      <td>7</td>\n",
       "      <td>6273</td>\n",
       "      <td>2018-07</td>\n",
       "    </tr>\n",
       "    <tr>\n",
       "      <th>35</th>\n",
       "      <td>0.0</td>\n",
       "      <td>2018</td>\n",
       "      <td>8</td>\n",
       "      <td>6452</td>\n",
       "      <td>2018-08</td>\n",
       "    </tr>\n",
       "    <tr>\n",
       "      <th>36</th>\n",
       "      <td>0.0</td>\n",
       "      <td>2018</td>\n",
       "      <td>9</td>\n",
       "      <td>1</td>\n",
       "      <td>2018-09</td>\n",
       "    </tr>\n",
       "  </tbody>\n",
       "</table>\n",
       "</div>"
      ]
     },
     "execution_count": 62,
     "metadata": {},
     "output_type": "execute_result"
    }
   ],
   "execution_count": 62
  },
  {
   "metadata": {
    "ExecuteTime": {
     "end_time": "2025-06-04T10:30:12.500076Z",
     "start_time": "2025-06-04T10:30:12.492424Z"
    }
   },
   "cell_type": "code",
   "source": "order_counts_by_month.to_csv(\"streamlit/assets/order_counts_by_month.csv\", index=False, encoding='utf-8-sig')",
   "id": "3be9c49c673350c3",
   "outputs": [],
   "execution_count": 63
  },
  {
   "metadata": {
    "ExecuteTime": {
     "end_time": "2025-06-04T11:57:05.256474Z",
     "start_time": "2025-06-04T11:57:04.953187Z"
    }
   },
   "cell_type": "code",
   "source": "rfm_category_customers_merged.info()",
   "id": "b3d4776bcdbb18b",
   "outputs": [
    {
     "name": "stdout",
     "output_type": "stream",
     "text": [
      "<class 'pandas.core.frame.DataFrame'>\n",
      "RangeIndex: 117604 entries, 0 to 117603\n",
      "Data columns (total 13 columns):\n",
      " #   Column                         Non-Null Count   Dtype  \n",
      "---  ------                         --------------   -----  \n",
      " 0   order_id                       117604 non-null  object \n",
      " 1   order_item_id                  117604 non-null  int64  \n",
      " 2   product_id                     117604 non-null  object \n",
      " 3   seller_id                      117604 non-null  object \n",
      " 4   shipping_limit_date            117604 non-null  object \n",
      " 5   price                          117604 non-null  float64\n",
      " 6   freight_value                  117604 non-null  float64\n",
      " 7   customer_unique_id             117604 non-null  object \n",
      " 8   product_category_name          115906 non-null  object \n",
      " 9   product_category_name_english  115881 non-null  object \n",
      " 10  payment_value                  117601 non-null  float64\n",
      " 11  churn                          117601 non-null  float64\n",
      " 12  qty                            117601 non-null  float64\n",
      "dtypes: float64(5), int64(1), object(7)\n",
      "memory usage: 11.7+ MB\n"
     ]
    }
   ],
   "execution_count": 70
  },
  {
   "metadata": {
    "ExecuteTime": {
     "end_time": "2025-06-04T11:01:38.987465Z",
     "start_time": "2025-06-04T11:01:38.024297Z"
    }
   },
   "cell_type": "code",
   "source": "rfm_category_customers_merged.to_csv(\"streamlit/assets/order_counts_by_category.csv\", index=False, encoding='utf-8-sig')",
   "id": "b4c451a6d9618cc3",
   "outputs": [],
   "execution_count": 65
  },
  {
   "metadata": {
    "ExecuteTime": {
     "end_time": "2025-06-04T11:04:13.024640Z",
     "start_time": "2025-06-04T11:04:12.873061Z"
    }
   },
   "cell_type": "code",
   "source": "rfm_category_customers_merged.info()",
   "id": "583e1b7984745eb2",
   "outputs": [
    {
     "name": "stdout",
     "output_type": "stream",
     "text": [
      "<class 'pandas.core.frame.DataFrame'>\n",
      "RangeIndex: 117604 entries, 0 to 117603\n",
      "Data columns (total 13 columns):\n",
      " #   Column                         Non-Null Count   Dtype  \n",
      "---  ------                         --------------   -----  \n",
      " 0   order_id                       117604 non-null  object \n",
      " 1   order_item_id                  117604 non-null  int64  \n",
      " 2   product_id                     117604 non-null  object \n",
      " 3   seller_id                      117604 non-null  object \n",
      " 4   shipping_limit_date            117604 non-null  object \n",
      " 5   price                          117604 non-null  float64\n",
      " 6   freight_value                  117604 non-null  float64\n",
      " 7   customer_unique_id             117604 non-null  object \n",
      " 8   product_category_name          115906 non-null  object \n",
      " 9   product_category_name_english  115881 non-null  object \n",
      " 10  payment_value                  117601 non-null  float64\n",
      " 11  churn                          117601 non-null  float64\n",
      " 12  qty                            117601 non-null  float64\n",
      "dtypes: float64(5), int64(1), object(7)\n",
      "memory usage: 11.7+ MB\n"
     ]
    }
   ],
   "execution_count": 68
  },
  {
   "metadata": {},
   "cell_type": "markdown",
   "source": [
    "## 특성 컬럼 병합\n",
    "- Recency\n",
    "- Frequency\n",
    "- Monetary\n",
    "- processing_days\n",
    "- response_days"
   ],
   "id": "acdc1af91ccb6bc7"
  },
  {
   "metadata": {
    "ExecuteTime": {
     "end_time": "2025-06-04T03:46:22.476474Z",
     "start_time": "2025-06-04T03:46:22.466142Z"
    }
   },
   "cell_type": "code",
   "source": "rfm_df.info()",
   "id": "e00ed55718dd7ed0",
   "outputs": [
    {
     "name": "stdout",
     "output_type": "stream",
     "text": [
      "<class 'pandas.core.frame.DataFrame'>\n",
      "RangeIndex: 96095 entries, 0 to 96094\n",
      "Data columns (total 12 columns):\n",
      " #   Column              Non-Null Count  Dtype   \n",
      "---  ------              --------------  -----   \n",
      " 0   customer_unique_id  96095 non-null  object  \n",
      " 1   Recency             96095 non-null  int64   \n",
      " 2   Frequency           96095 non-null  int64   \n",
      " 3   Monetary            96095 non-null  float64 \n",
      " 4   Frequency_level     96095 non-null  category\n",
      " 5   F_score             96095 non-null  int64   \n",
      " 6   R_quantile          96095 non-null  int64   \n",
      " 7   M_quantile          96095 non-null  int64   \n",
      " 8   R_score             96095 non-null  int64   \n",
      " 9   M_score             96095 non-null  int64   \n",
      " 10  RFM_score           96095 non-null  object  \n",
      " 11  churn               96095 non-null  int64   \n",
      "dtypes: category(1), float64(1), int64(8), object(2)\n",
      "memory usage: 8.2+ MB\n"
     ]
    }
   ],
   "execution_count": 129
  },
  {
   "metadata": {
    "ExecuteTime": {
     "end_time": "2025-06-04T03:46:22.488395Z",
     "start_time": "2025-06-04T03:46:22.481808Z"
    }
   },
   "cell_type": "code",
   "source": "processing_days_df.info()",
   "id": "cd27a9e9a061e80d",
   "outputs": [
    {
     "name": "stdout",
     "output_type": "stream",
     "text": [
      "<class 'pandas.core.frame.DataFrame'>\n",
      "RangeIndex: 96096 entries, 0 to 96095\n",
      "Data columns (total 2 columns):\n",
      " #   Column              Non-Null Count  Dtype  \n",
      "---  ------              --------------  -----  \n",
      " 0   customer_unique_id  96096 non-null  object \n",
      " 1   processing_days     93356 non-null  float64\n",
      "dtypes: float64(1), object(1)\n",
      "memory usage: 1.5+ MB\n"
     ]
    }
   ],
   "execution_count": 130
  },
  {
   "metadata": {
    "ExecuteTime": {
     "end_time": "2025-06-04T03:46:22.505701Z",
     "start_time": "2025-06-04T03:46:22.498618Z"
    }
   },
   "cell_type": "code",
   "source": "processing_days_df.info()",
   "id": "b9d460235a834443",
   "outputs": [
    {
     "name": "stdout",
     "output_type": "stream",
     "text": [
      "<class 'pandas.core.frame.DataFrame'>\n",
      "RangeIndex: 96096 entries, 0 to 96095\n",
      "Data columns (total 2 columns):\n",
      " #   Column              Non-Null Count  Dtype  \n",
      "---  ------              --------------  -----  \n",
      " 0   customer_unique_id  96096 non-null  object \n",
      " 1   processing_days     93356 non-null  float64\n",
      "dtypes: float64(1), object(1)\n",
      "memory usage: 1.5+ MB\n"
     ]
    }
   ],
   "execution_count": 131
  },
  {
   "metadata": {
    "ExecuteTime": {
     "end_time": "2025-06-04T03:46:22.578861Z",
     "start_time": "2025-06-04T03:46:22.572457Z"
    }
   },
   "cell_type": "code",
   "source": "response_days_df.info()",
   "id": "c4f603ed7da59411",
   "outputs": [
    {
     "name": "stdout",
     "output_type": "stream",
     "text": [
      "<class 'pandas.core.frame.DataFrame'>\n",
      "RangeIndex: 95380 entries, 0 to 95379\n",
      "Data columns (total 2 columns):\n",
      " #   Column              Non-Null Count  Dtype  \n",
      "---  ------              --------------  -----  \n",
      " 0   customer_unique_id  95380 non-null  object \n",
      " 1   response_days       95380 non-null  float64\n",
      "dtypes: float64(1), object(1)\n",
      "memory usage: 1.5+ MB\n"
     ]
    }
   ],
   "execution_count": 132
  },
  {
   "metadata": {
    "ExecuteTime": {
     "end_time": "2025-06-04T03:46:26.388386Z",
     "start_time": "2025-06-04T03:46:26.300528Z"
    }
   },
   "cell_type": "code",
   "source": [
    "model_df = pd.merge(\n",
    "    rfm_df,\n",
    "    processing_days_df[['customer_unique_id', 'processing_days']],\n",
    "    on='customer_unique_id',\n",
    "    how='left'\n",
    ")\n",
    "\n",
    "model_df = pd.merge(\n",
    "    model_df,\n",
    "    response_days_df[['customer_unique_id', 'response_days']],\n",
    "    on='customer_unique_id',\n",
    "    how='left'\n",
    ")\n",
    "\n",
    "model_df = pd.merge(\n",
    "    model_df,\n",
    "    category_by_customer[['customer_unique_id', 'product_category_name_english']],\n",
    "    on='customer_unique_id',\n",
    "    how='left'\n",
    ")\n",
    "\n",
    "model_df.isnull().sum()"
   ],
   "id": "257c65b3bab25c03",
   "outputs": [
    {
     "data": {
      "text/plain": [
       "customer_unique_id                  0\n",
       "Recency                             0\n",
       "Frequency                           0\n",
       "Monetary                            0\n",
       "Frequency_level                     0\n",
       "F_score                             0\n",
       "R_quantile                          0\n",
       "M_quantile                          0\n",
       "R_score                             0\n",
       "M_score                             0\n",
       "RFM_score                           0\n",
       "churn                               0\n",
       "processing_days                  2740\n",
       "response_days                     716\n",
       "product_category_name_english     676\n",
       "dtype: int64"
      ]
     },
     "execution_count": 133,
     "metadata": {},
     "output_type": "execute_result"
    }
   ],
   "execution_count": 133
  },
  {
   "metadata": {
    "ExecuteTime": {
     "end_time": "2025-06-04T03:47:02.589816Z",
     "start_time": "2025-06-04T03:47:02.551834Z"
    }
   },
   "cell_type": "code",
   "source": "model_df.isnull().sum()",
   "id": "f2c25cb4bf6d4292",
   "outputs": [
    {
     "data": {
      "text/plain": [
       "customer_unique_id                  0\n",
       "Recency                             0\n",
       "Frequency                           0\n",
       "Monetary                            0\n",
       "Frequency_level                     0\n",
       "F_score                             0\n",
       "R_quantile                          0\n",
       "M_quantile                          0\n",
       "R_score                             0\n",
       "M_score                             0\n",
       "RFM_score                           0\n",
       "churn                               0\n",
       "processing_days                  2740\n",
       "response_days                     716\n",
       "product_category_name_english     676\n",
       "dtype: int64"
      ]
     },
     "execution_count": 135,
     "metadata": {},
     "output_type": "execute_result"
    }
   ],
   "execution_count": 135
  },
  {
   "metadata": {},
   "cell_type": "markdown",
   "source": "### 결측치 처리",
   "id": "6018e441d6e456ac"
  },
  {
   "metadata": {
    "ExecuteTime": {
     "end_time": "2025-06-04T03:47:02.618824Z",
     "start_time": "2025-06-04T03:47:02.603237Z"
    }
   },
   "cell_type": "code",
   "source": [
    "processing_null_rows = model_df[model_df['processing_days'].isnull()]\n",
    "print(processing_null_rows)"
   ],
   "id": "d111debe42c0d876",
   "outputs": [
    {
     "name": "stdout",
     "output_type": "stream",
     "text": [
      "                     customer_unique_id  Recency  Frequency  Monetary  \\\n",
      "44     001ae44fa04911a9e9577356dce6c63c      345          1    116.23   \n",
      "58     0029bd580d3012618731f5abb174a07f      350          1     52.38   \n",
      "123    004ad212c650c96c8a48f30855a7bcb8      389          1     25.90   \n",
      "177    0071f46a072a9ae25bbe4438b15efe9c      624          1    174.54   \n",
      "236    009a0802534f904b40b9d512b49794e1      336          1     91.29   \n",
      "...                                 ...      ...        ...       ...   \n",
      "96015  ffc4233210eac4ec1711a8b847196d4e      121          1     94.77   \n",
      "96022  ffca77d46c6d7d815549a5e4482dba2f      210          1    155.34   \n",
      "96040  ffdde6e4dcb6ec3a882cfc6cddef7996      312          1    796.94   \n",
      "96055  ffe6305176b9431a3eda3cf8904d7eb7      130          1     57.37   \n",
      "96089  fffcc512b7dfecaffd80f13614af1d16      190          1    710.70   \n",
      "\n",
      "      Frequency_level  F_score  R_quantile  M_quantile  R_score  M_score  \\\n",
      "44                low        1           3           2        2        3   \n",
      "58                low        1           3           0        2        1   \n",
      "123               low        1           3           0        2        1   \n",
      "177               low        1           4           3        1        4   \n",
      "236               low        1           3           2        2        3   \n",
      "...               ...      ...         ...         ...      ...      ...   \n",
      "96015             low        1           0           2        5        3   \n",
      "96022             low        1           1           3        4        4   \n",
      "96040             low        1           2           4        3        5   \n",
      "96055             low        1           0           1        5        2   \n",
      "96089             low        1           1           4        4        5   \n",
      "\n",
      "      RFM_score  churn  processing_days  response_days  \\\n",
      "44          213      1              NaN            NaN   \n",
      "58          211      1              NaN            2.0   \n",
      "123         211      1              NaN           10.0   \n",
      "177         114      1              NaN            2.0   \n",
      "236         213      1              NaN            0.0   \n",
      "...         ...    ...              ...            ...   \n",
      "96015       513      0              NaN          106.0   \n",
      "96022       414      0              NaN            NaN   \n",
      "96040       315      0              NaN            0.0   \n",
      "96055       512      0              NaN            NaN   \n",
      "96089       415      0              NaN           13.0   \n",
      "\n",
      "      product_category_name_english  \n",
      "44                         pet_shop  \n",
      "58                  furniture_decor  \n",
      "123                             NaN  \n",
      "177                             NaN  \n",
      "236                  books_imported  \n",
      "...                             ...  \n",
      "96015         computers_accessories  \n",
      "96022                 health_beauty  \n",
      "96040              small_appliances  \n",
      "96055                 health_beauty  \n",
      "96089                 watches_gifts  \n",
      "\n",
      "[2740 rows x 15 columns]\n"
     ]
    }
   ],
   "execution_count": 136
  },
  {
   "metadata": {
    "ExecuteTime": {
     "end_time": "2025-06-04T03:47:02.831077Z",
     "start_time": "2025-06-04T03:47:02.621553Z"
    }
   },
   "cell_type": "code",
   "source": [
    "# 결측치 비율 시각화\n",
    "plt.figure(figsize=(15, 4))\n",
    "score_columns = ['R_score', 'F_score', 'M_score']\n",
    "\n",
    "for i, col in enumerate(score_columns, 1):\n",
    "    plt.subplot(1, 3, i)\n",
    "    value_counts = processing_null_rows[col].value_counts(normalize=True).sort_index()  # 비율 계산\n",
    "    sns.barplot(x=value_counts.index, y=value_counts.values, hue=value_counts.index, palette='Set2', legend=False)\n",
    "    plt.title(f'{col} 비율 (결측행 기준)')\n",
    "    plt.xlabel(col)\n",
    "    plt.ylabel('비율')\n",
    "\n",
    "plt.tight_layout()\n",
    "plt.show()"
   ],
   "id": "a4e893014f31dc7f",
   "outputs": [
    {
     "data": {
      "text/plain": [
       "<Figure size 1500x400 with 3 Axes>"
      ],
      "image/png": "[encoded data removed]"
     },
     "metadata": {},
     "output_type": "display_data"
    }
   ],
   "execution_count": 137
  },
  {
   "metadata": {
    "ExecuteTime": {
     "end_time": "2025-06-04T03:47:02.848144Z",
     "start_time": "2025-06-04T03:47:02.842648Z"
    }
   },
   "cell_type": "code",
   "source": [
    "response_null_rows = model_df[model_df['response_days'].isnull()]\n",
    "print(response_null_rows)"
   ],
   "id": "23c70cc1c566d15d",
   "outputs": [
    {
     "name": "stdout",
     "output_type": "stream",
     "text": [
      "                     customer_unique_id  Recency  Frequency  Monetary  \\\n",
      "44     001ae44fa04911a9e9577356dce6c63c      345          1    116.23   \n",
      "290    00bee19e1199bc5cede1c674177b9e22      334          1    673.69   \n",
      "380    00fb9cc86736fe3782dbc828a2eea4a6      301          1     92.57   \n",
      "881    025cf7c2f32536f0be1ab412bb6602d2       62          1   1898.61   \n",
      "977    02a2a0a9627a062602de754d75038ce4       70          1    532.49   \n",
      "...                                 ...      ...        ...       ...   \n",
      "95928  ff905cb313cb121a840dafe5a7a9170f      316          1    194.50   \n",
      "95985  ffb3cbd5e1e507679e2db84c515410a5       63          1    110.63   \n",
      "96022  ffca77d46c6d7d815549a5e4482dba2f      210          1    155.34   \n",
      "96047  ffe0c10afc687bcf34a0451f2b87dd9b      251          1    215.76   \n",
      "96055  ffe6305176b9431a3eda3cf8904d7eb7      130          1     57.37   \n",
      "\n",
      "      Frequency_level  F_score  R_quantile  M_quantile  R_score  M_score  \\\n",
      "44                low        1           3           2        2        3   \n",
      "290               low        1           3           4        2        5   \n",
      "380               low        1           2           2        3        3   \n",
      "881               low        1           0           4        5        5   \n",
      "977               low        1           0           4        5        5   \n",
      "...               ...      ...         ...         ...      ...      ...   \n",
      "95928             low        1           2           3        3        4   \n",
      "95985             low        1           0           2        5        3   \n",
      "96022             low        1           1           3        4        4   \n",
      "96047             low        1           2           4        3        5   \n",
      "96055             low        1           0           1        5        2   \n",
      "\n",
      "      RFM_score  churn  processing_days  response_days  \\\n",
      "44          213      1              NaN            NaN   \n",
      "290         215      1             25.0            NaN   \n",
      "380         313      0             14.0            NaN   \n",
      "881         515      0             12.0            NaN   \n",
      "977         515      0              NaN            NaN   \n",
      "...         ...    ...              ...            ...   \n",
      "95928       314      0              8.0            NaN   \n",
      "95985       513      0             14.0            NaN   \n",
      "96022       414      0              NaN            NaN   \n",
      "96047       315      0              9.0            NaN   \n",
      "96055       512      0              NaN            NaN   \n",
      "\n",
      "      product_category_name_english  \n",
      "44                         pet_shop  \n",
      "290                      cool_stuff  \n",
      "380                      stationery  \n",
      "881                            auto  \n",
      "977                small_appliances  \n",
      "...                             ...  \n",
      "95928                          auto  \n",
      "95985                          toys  \n",
      "96022                 health_beauty  \n",
      "96047               furniture_decor  \n",
      "96055                 health_beauty  \n",
      "\n",
      "[716 rows x 15 columns]\n"
     ]
    }
   ],
   "execution_count": 138
  },
  {
   "metadata": {
    "ExecuteTime": {
     "end_time": "2025-06-04T03:47:03.018079Z",
     "start_time": "2025-06-04T03:47:02.863664Z"
    }
   },
   "cell_type": "code",
   "source": [
    "# 결측치 비율 시각화\n",
    "plt.figure(figsize=(15, 4))\n",
    "score_columns = ['R_score', 'F_score', 'M_score']\n",
    "\n",
    "for i, col in enumerate(score_columns, 1):\n",
    "    plt.subplot(1, 3, i)\n",
    "    value_counts = response_null_rows[col].value_counts(normalize=True).sort_index()  # 비율 계산\n",
    "    sns.barplot(x=value_counts.index, y=value_counts.values, hue=value_counts.index, palette='Set2', legend=False)\n",
    "    plt.title(f'{col} 비율 (결측행 기준)')\n",
    "    plt.xlabel(col)\n",
    "    plt.ylabel('비율')\n",
    "\n",
    "plt.tight_layout()\n",
    "plt.show()"
   ],
   "id": "fb9c30d51cc5fb13",
   "outputs": [
    {
     "data": {
      "text/plain": [
       "<Figure size 1500x400 with 3 Axes>"
      ],
      "image/png": "[encoded data removed]"
     },
     "metadata": {},
     "output_type": "display_data"
    }
   ],
   "execution_count": 139
  },
  {
   "metadata": {
    "ExecuteTime": {
     "end_time": "2025-06-04T03:47:03.026650Z",
     "start_time": "2025-06-04T03:47:03.023796Z"
    }
   },
   "cell_type": "code",
   "source": "model_df.shape",
   "id": "21f335845d62c057",
   "outputs": [
    {
     "data": {
      "text/plain": [
       "(96095, 15)"
      ]
     },
     "execution_count": 140,
     "metadata": {},
     "output_type": "execute_result"
    }
   ],
   "execution_count": 140
  },
  {
   "metadata": {
    "ExecuteTime": {
     "end_time": "2025-06-04T03:47:03.057585Z",
     "start_time": "2025-06-04T03:47:03.041232Z"
    }
   },
   "cell_type": "code",
   "source": [
    "# 결측치 포함된 행 제거 (3,343행)\n",
    "model_df_cleaned = model_df.dropna()\n",
    "model_df_cleaned.shape"
   ],
   "id": "dcb84113d3a40820",
   "outputs": [
    {
     "data": {
      "text/plain": [
       "(92752, 15)"
      ]
     },
     "execution_count": 141,
     "metadata": {},
     "output_type": "execute_result"
    }
   ],
   "execution_count": 141
  },
  {
   "metadata": {
    "ExecuteTime": {
     "end_time": "2025-06-04T03:47:03.069388Z",
     "start_time": "2025-06-04T03:47:03.063259Z"
    }
   },
   "cell_type": "code",
   "source": "model_df_cleaned.head()",
   "id": "b18c80f8330593c3",
   "outputs": [
    {
     "data": {
      "text/plain": [
       "                 customer_unique_id  Recency  Frequency  Monetary  \\\n",
       "0  0000366f3b9a7992bf8c76cfdf3221e2      161          1    141.90   \n",
       "1  0000b849f77a49e4a4ce2b2a4ca5be3f      164          1     27.19   \n",
       "2  0000f46a3911fa3c0805444483337064      586          1     86.22   \n",
       "3  0000f6ccb0745a6a4b88665a16c9f078      370          1     43.62   \n",
       "4  0004aac84e0df4da2b147fca70cf8255      337          1    196.89   \n",
       "\n",
       "  Frequency_level  F_score  R_quantile  M_quantile  R_score  M_score  \\\n",
       "0             low        1           1           3        4        4   \n",
       "1             low        1           1           0        4        1   \n",
       "2             low        1           4           1        1        2   \n",
       "3             low        1           3           0        2        1   \n",
       "4             low        1           3           3        2        4   \n",
       "\n",
       "  RFM_score  churn  processing_days  response_days  \\\n",
       "0       414      0              6.0            4.0   \n",
       "1       411      0              3.0            0.0   \n",
       "2       112      1             25.0            1.0   \n",
       "3       211      1             20.0            1.0   \n",
       "4       214      1             13.0            4.0   \n",
       "\n",
       "  product_category_name_english  \n",
       "0                bed_bath_table  \n",
       "1                 health_beauty  \n",
       "2                    stationery  \n",
       "3                     telephony  \n",
       "4                     telephony  "
      ],
      "text/html": [
       "<div>\n",
       "<style scoped>\n",
       "    .dataframe tbody tr th:only-of-type {\n",
       "        vertical-align: middle;\n",
       "    }\n",
       "\n",
       "    .dataframe tbody tr th {\n",
       "        vertical-align: top;\n",
       "    }\n",
       "\n",
       "    .dataframe thead th {\n",
       "        text-align: right;\n",
       "    }\n",
       "</style>\n",
       "<table border=\"1\" class=\"dataframe\">\n",
       "  <thead>\n",
       "    <tr style=\"text-align: right;\">\n",
       "      <th></th>\n",
       "      <th>customer_unique_id</th>\n",
       "      <th>Recency</th>\n",
       "      <th>Frequency</th>\n",
       "      <th>Monetary</th>\n",
       "      <th>Frequency_level</th>\n",
       "      <th>F_score</th>\n",
       "      <th>R_quantile</th>\n",
       "      <th>M_quantile</th>\n",
       "      <th>R_score</th>\n",
       "      <th>M_score</th>\n",
       "      <th>RFM_score</th>\n",
       "      <th>churn</th>\n",
       "      <th>processing_days</th>\n",
       "      <th>response_days</th>\n",
       "      <th>product_category_name_english</th>\n",
       "    </tr>\n",
       "  </thead>\n",
       "  <tbody>\n",
       "    <tr>\n",
       "      <th>0</th>\n",
       "      <td>0000366f3b9a7992bf8c76cfdf3221e2</td>\n",
       "      <td>161</td>\n",
       "      <td>1</td>\n",
       "      <td>141.90</td>\n",
       "      <td>low</td>\n",
       "      <td>1</td>\n",
       "      <td>1</td>\n",
       "      <td>3</td>\n",
       "      <td>4</td>\n",
       "      <td>4</td>\n",
       "      <td>414</td>\n",
       "      <td>0</td>\n",
       "      <td>6.0</td>\n",
       "      <td>4.0</td>\n",
       "      <td>bed_bath_table</td>\n",
       "    </tr>\n",
       "    <tr>\n",
       "      <th>1</th>\n",
       "      <td>0000b849f77a49e4a4ce2b2a4ca5be3f</td>\n",
       "      <td>164</td>\n",
       "      <td>1</td>\n",
       "      <td>27.19</td>\n",
       "      <td>low</td>\n",
       "      <td>1</td>\n",
       "      <td>1</td>\n",
       "      <td>0</td>\n",
       "      <td>4</td>\n",
       "      <td>1</td>\n",
       "      <td>411</td>\n",
       "      <td>0</td>\n",
       "      <td>3.0</td>\n",
       "      <td>0.0</td>\n",
       "      <td>health_beauty</td>\n",
       "    </tr>\n",
       "    <tr>\n",
       "      <th>2</th>\n",
       "      <td>0000f46a3911fa3c0805444483337064</td>\n",
       "      <td>586</td>\n",
       "      <td>1</td>\n",
       "      <td>86.22</td>\n",
       "      <td>low</td>\n",
       "      <td>1</td>\n",
       "      <td>4</td>\n",
       "      <td>1</td>\n",
       "      <td>1</td>\n",
       "      <td>2</td>\n",
       "      <td>112</td>\n",
       "      <td>1</td>\n",
       "      <td>25.0</td>\n",
       "      <td>1.0</td>\n",
       "      <td>stationery</td>\n",
       "    </tr>\n",
       "    <tr>\n",
       "      <th>3</th>\n",
       "      <td>0000f6ccb0745a6a4b88665a16c9f078</td>\n",
       "      <td>370</td>\n",
       "      <td>1</td>\n",
       "      <td>43.62</td>\n",
       "      <td>low</td>\n",
       "      <td>1</td>\n",
       "      <td>3</td>\n",
       "      <td>0</td>\n",
       "      <td>2</td>\n",
       "      <td>1</td>\n",
       "      <td>211</td>\n",
       "      <td>1</td>\n",
       "      <td>20.0</td>\n",
       "      <td>1.0</td>\n",
       "      <td>telephony</td>\n",
       "    </tr>\n",
       "    <tr>\n",
       "      <th>4</th>\n",
       "      <td>0004aac84e0df4da2b147fca70cf8255</td>\n",
       "      <td>337</td>\n",
       "      <td>1</td>\n",
       "      <td>196.89</td>\n",
       "      <td>low</td>\n",
       "      <td>1</td>\n",
       "      <td>3</td>\n",
       "      <td>3</td>\n",
       "      <td>2</td>\n",
       "      <td>4</td>\n",
       "      <td>214</td>\n",
       "      <td>1</td>\n",
       "      <td>13.0</td>\n",
       "      <td>4.0</td>\n",
       "      <td>telephony</td>\n",
       "    </tr>\n",
       "  </tbody>\n",
       "</table>\n",
       "</div>"
      ]
     },
     "execution_count": 142,
     "metadata": {},
     "output_type": "execute_result"
    }
   ],
   "execution_count": 142
  },
  {
   "metadata": {},
   "cell_type": "code",
   "outputs": [],
   "execution_count": null,
   "source": "",
   "id": "69de265163276b26"
  },
  {
   "metadata": {},
   "cell_type": "markdown",
   "source": "# SVM",
   "id": "777d854be7d9f9f5"
  },
  {
   "metadata": {
    "ExecuteTime": {
     "end_time": "2025-06-04T03:47:10.170186Z",
     "start_time": "2025-06-04T03:47:03.140011Z"
    }
   },
   "cell_type": "code",
   "source": [
    "from sklearn.model_selection import train_test_split, StratifiedKFold, GridSearchCV\n",
    "from sklearn.pipeline import Pipeline\n",
    "from sklearn.preprocessing import StandardScaler\n",
    "from sklearn.svm import SVC\n",
    "from sklearn.metrics import classification_report, confusion_matrix, roc_auc_score, roc_curve\n",
    "import seaborn as sns\n",
    "import matplotlib.pyplot as plt\n",
    "import pandas as pd\n",
    "\n",
    "# 1. Feature 및 Target 정의\n",
    "X = model_df_cleaned[['Frequency', 'Monetary', 'processing_days', 'response_days']]\n",
    "y = model_df_cleaned['churn']\n",
    "\n",
    "# 2. 데이터 분할\n",
    "X_train, X_test, y_train, y_test = train_test_split(\n",
    "    X, y, test_size=0.2, random_state=42, stratify=y\n",
    ")\n",
    "\n",
    "# 3. 파이프라인 정의 (StandardScaler + SVC)\n",
    "pipeline = Pipeline([\n",
    "    ('scaler', StandardScaler()),\n",
    "    ('svm', SVC(kernel='rbf', probability=True, class_weight='balanced', random_state=42))\n",
    "])\n",
    "\n",
    "# 4. 하이퍼파라미터 탐색 범위\n",
    "param_grid = {\n",
    "    'svm__C': [0.01, 0.1, 1, 10, 100],\n",
    "    'svm__gamma': [0.001, 0.01, 0.1, 1, 10]\n",
    "}\n",
    "\n",
    "# 5. 교차검증 및 GridSearchCV 정의\n",
    "cv = StratifiedKFold(n_splits=5, shuffle=True, random_state=42)\n",
    "\n",
    "grid_search = GridSearchCV(\n",
    "    pipeline,\n",
    "    param_grid,\n",
    "    cv=cv,\n",
    "    scoring='roc_auc',  # or 'f1' based on your goal\n",
    "    n_jobs=-1,\n",
    "    verbose=1\n",
    ")\n",
    "\n",
    "# 6. GridSearchCV로 모델 학습\n",
    "grid_search.fit(X_train, y_train)\n",
    "\n",
    "# 7. 최적 모델 확인\n",
    "print(\"✅ Best Parameters:\", grid_search.best_params_)\n",
    "print(f\"🏅 Best Cross-Validated ROC AUC Score: {grid_search.best_score_:.4f}\")\n",
    "\n",
    "# 8. 최적 모델로 예측\n",
    "best_model = grid_search.best_estimator_\n",
    "y_pred = best_model.predict(X_test)\n",
    "y_proba = best_model.predict_proba(X_test)[:, 1]\n",
    "\n",
    "# 9. 성능 평가\n",
    "print(\"📊 [Classification Report]\")\n",
    "print(classification_report(y_test, y_pred))\n",
    "\n",
    "print(\"📉 [Confusion Matrix]\")\n",
    "sns.heatmap(confusion_matrix(y_test, y_pred), annot=True, fmt='d', cmap='Blues')\n",
    "plt.xlabel(\"Predicted\")\n",
    "plt.ylabel(\"Actual\")\n",
    "\n",
    "plt.title(\"Confusion Matrix\")\n",
    "plt.show()\n",
    "\n",
    "roc_auc = roc_auc_score(y_test, y_proba)\n",
    "print(f\"📈 ROC AUC Score (Test Set): {roc_auc:.4f}\")\n",
    "\n",
    "# 10. ROC Curve 시각화\n",
    "fpr, tpr, _ = roc_curve(y_test, y_proba)\n",
    "plt.figure(figsize=(6, 4))\n",
    "plt.plot(fpr, tpr, label=f\"AUC = {roc_auc:.2f}\")\n",
    "plt.plot([0, 1], [0, 1], linestyle='--', color='gray')\n",
    "plt.xlabel(\"False Positive Rate\")\n",
    "plt.ylabel(\"True Positive Rate\")\n",
    "plt.title(\"SVM ROC Curve (Test Set)\")\n",
    "plt.legend()\n",
    "plt.tight_layout()\n",
    "plt.show()"
   ],
   "id": "48d56de320579f71",
   "outputs": [
    {
     "name": "stdout",
     "output_type": "stream",
     "text": [
      "Fitting 5 folds for each of 25 candidates, totalling 125 fits\n"
     ]
    },
    {
     "ename": "KeyboardInterrupt",
     "evalue": "",
     "output_type": "error",
     "traceback": [
      "\u001B[31m---------------------------------------------------------------------------\u001B[39m",
      "\u001B[31mKeyboardInterrupt\u001B[39m                         Traceback (most recent call last)",
      "\u001B[36mCell\u001B[39m\u001B[36m \u001B[39m\u001B[32mIn[143]\u001B[39m\u001B[32m, line 44\u001B[39m\n\u001B[32m     34\u001B[39m grid_search = GridSearchCV(\n\u001B[32m     35\u001B[39m     pipeline,\n\u001B[32m     36\u001B[39m     param_grid,\n\u001B[32m   (...)\u001B[39m\u001B[32m     40\u001B[39m     verbose=\u001B[32m1\u001B[39m\n\u001B[32m     41\u001B[39m )\n\u001B[32m     43\u001B[39m \u001B[38;5;66;03m# 6. GridSearchCV로 모델 학습\u001B[39;00m\n\u001B[32m---> \u001B[39m\u001B[32m44\u001B[39m \u001B[43mgrid_search\u001B[49m\u001B[43m.\u001B[49m\u001B[43mfit\u001B[49m\u001B[43m(\u001B[49m\u001B[43mX_train\u001B[49m\u001B[43m,\u001B[49m\u001B[43m \u001B[49m\u001B[43my_train\u001B[49m\u001B[43m)\u001B[49m\n\u001B[32m     46\u001B[39m \u001B[38;5;66;03m# 7. 최적 모델 확인\u001B[39;00m\n\u001B[32m     47\u001B[39m \u001B[38;5;28mprint\u001B[39m(\u001B[33m\"\u001B[39m\u001B[33m✅ Best Parameters:\u001B[39m\u001B[33m\"\u001B[39m, grid_search.best_params_)\n",
      "\u001B[36mFile \u001B[39m\u001B[32m~/miniconda3/envs/ai_basic_env/lib/python3.12/site-packages/sklearn/base.py:1389\u001B[39m, in \u001B[36m_fit_context.<locals>.decorator.<locals>.wrapper\u001B[39m\u001B[34m(estimator, *args, **kwargs)\u001B[39m\n\u001B[32m   1382\u001B[39m     estimator._validate_params()\n\u001B[32m   1384\u001B[39m \u001B[38;5;28;01mwith\u001B[39;00m config_context(\n\u001B[32m   1385\u001B[39m     skip_parameter_validation=(\n\u001B[32m   1386\u001B[39m         prefer_skip_nested_validation \u001B[38;5;129;01mor\u001B[39;00m global_skip_validation\n\u001B[32m   1387\u001B[39m     )\n\u001B[32m   1388\u001B[39m ):\n\u001B[32m-> \u001B[39m\u001B[32m1389\u001B[39m     \u001B[38;5;28;01mreturn\u001B[39;00m \u001B[43mfit_method\u001B[49m\u001B[43m(\u001B[49m\u001B[43mestimator\u001B[49m\u001B[43m,\u001B[49m\u001B[43m \u001B[49m\u001B[43m*\u001B[49m\u001B[43margs\u001B[49m\u001B[43m,\u001B[49m\u001B[43m \u001B[49m\u001B[43m*\u001B[49m\u001B[43m*\u001B[49m\u001B[43mkwargs\u001B[49m\u001B[43m)\u001B[49m\n",
      "\u001B[36mFile \u001B[39m\u001B[32m~/miniconda3/envs/ai_basic_env/lib/python3.12/site-packages/sklearn/model_selection/_search.py:1024\u001B[39m, in \u001B[36mBaseSearchCV.fit\u001B[39m\u001B[34m(self, X, y, **params)\u001B[39m\n\u001B[32m   1018\u001B[39m     results = \u001B[38;5;28mself\u001B[39m._format_results(\n\u001B[32m   1019\u001B[39m         all_candidate_params, n_splits, all_out, all_more_results\n\u001B[32m   1020\u001B[39m     )\n\u001B[32m   1022\u001B[39m     \u001B[38;5;28;01mreturn\u001B[39;00m results\n\u001B[32m-> \u001B[39m\u001B[32m1024\u001B[39m \u001B[38;5;28;43mself\u001B[39;49m\u001B[43m.\u001B[49m\u001B[43m_run_search\u001B[49m\u001B[43m(\u001B[49m\u001B[43mevaluate_candidates\u001B[49m\u001B[43m)\u001B[49m\n\u001B[32m   1026\u001B[39m \u001B[38;5;66;03m# multimetric is determined here because in the case of a callable\u001B[39;00m\n\u001B[32m   1027\u001B[39m \u001B[38;5;66;03m# self.scoring the return type is only known after calling\u001B[39;00m\n\u001B[32m   1028\u001B[39m first_test_score = all_out[\u001B[32m0\u001B[39m][\u001B[33m\"\u001B[39m\u001B[33mtest_scores\u001B[39m\u001B[33m\"\u001B[39m]\n",
      "\u001B[36mFile \u001B[39m\u001B[32m~/miniconda3/envs/ai_basic_env/lib/python3.12/site-packages/sklearn/model_selection/_search.py:1571\u001B[39m, in \u001B[36mGridSearchCV._run_search\u001B[39m\u001B[34m(self, evaluate_candidates)\u001B[39m\n\u001B[32m   1569\u001B[39m \u001B[38;5;28;01mdef\u001B[39;00m\u001B[38;5;250m \u001B[39m\u001B[34m_run_search\u001B[39m(\u001B[38;5;28mself\u001B[39m, evaluate_candidates):\n\u001B[32m   1570\u001B[39m \u001B[38;5;250m    \u001B[39m\u001B[33;03m\"\"\"Search all candidates in param_grid\"\"\"\u001B[39;00m\n\u001B[32m-> \u001B[39m\u001B[32m1571\u001B[39m     \u001B[43mevaluate_candidates\u001B[49m\u001B[43m(\u001B[49m\u001B[43mParameterGrid\u001B[49m\u001B[43m(\u001B[49m\u001B[38;5;28;43mself\u001B[39;49m\u001B[43m.\u001B[49m\u001B[43mparam_grid\u001B[49m\u001B[43m)\u001B[49m\u001B[43m)\u001B[49m\n",
      "\u001B[36mFile \u001B[39m\u001B[32m~/miniconda3/envs/ai_basic_env/lib/python3.12/site-packages/sklearn/model_selection/_search.py:970\u001B[39m, in \u001B[36mBaseSearchCV.fit.<locals>.evaluate_candidates\u001B[39m\u001B[34m(candidate_params, cv, more_results)\u001B[39m\n\u001B[32m    962\u001B[39m \u001B[38;5;28;01mif\u001B[39;00m \u001B[38;5;28mself\u001B[39m.verbose > \u001B[32m0\u001B[39m:\n\u001B[32m    963\u001B[39m     \u001B[38;5;28mprint\u001B[39m(\n\u001B[32m    964\u001B[39m         \u001B[33m\"\u001B[39m\u001B[33mFitting \u001B[39m\u001B[38;5;132;01m{0}\u001B[39;00m\u001B[33m folds for each of \u001B[39m\u001B[38;5;132;01m{1}\u001B[39;00m\u001B[33m candidates,\u001B[39m\u001B[33m\"\u001B[39m\n\u001B[32m    965\u001B[39m         \u001B[33m\"\u001B[39m\u001B[33m totalling \u001B[39m\u001B[38;5;132;01m{2}\u001B[39;00m\u001B[33m fits\u001B[39m\u001B[33m\"\u001B[39m.format(\n\u001B[32m    966\u001B[39m             n_splits, n_candidates, n_candidates * n_splits\n\u001B[32m    967\u001B[39m         )\n\u001B[32m    968\u001B[39m     )\n\u001B[32m--> \u001B[39m\u001B[32m970\u001B[39m out = \u001B[43mparallel\u001B[49m\u001B[43m(\u001B[49m\n\u001B[32m    971\u001B[39m \u001B[43m    \u001B[49m\u001B[43mdelayed\u001B[49m\u001B[43m(\u001B[49m\u001B[43m_fit_and_score\u001B[49m\u001B[43m)\u001B[49m\u001B[43m(\u001B[49m\n\u001B[32m    972\u001B[39m \u001B[43m        \u001B[49m\u001B[43mclone\u001B[49m\u001B[43m(\u001B[49m\u001B[43mbase_estimator\u001B[49m\u001B[43m)\u001B[49m\u001B[43m,\u001B[49m\n\u001B[32m    973\u001B[39m \u001B[43m        \u001B[49m\u001B[43mX\u001B[49m\u001B[43m,\u001B[49m\n\u001B[32m    974\u001B[39m \u001B[43m        \u001B[49m\u001B[43my\u001B[49m\u001B[43m,\u001B[49m\n\u001B[32m    975\u001B[39m \u001B[43m        \u001B[49m\u001B[43mtrain\u001B[49m\u001B[43m=\u001B[49m\u001B[43mtrain\u001B[49m\u001B[43m,\u001B[49m\n\u001B[32m    976\u001B[39m \u001B[43m        \u001B[49m\u001B[43mtest\u001B[49m\u001B[43m=\u001B[49m\u001B[43mtest\u001B[49m\u001B[43m,\u001B[49m\n\u001B[32m    977\u001B[39m \u001B[43m        \u001B[49m\u001B[43mparameters\u001B[49m\u001B[43m=\u001B[49m\u001B[43mparameters\u001B[49m\u001B[43m,\u001B[49m\n\u001B[32m    978\u001B[39m \u001B[43m        \u001B[49m\u001B[43msplit_progress\u001B[49m\u001B[43m=\u001B[49m\u001B[43m(\u001B[49m\u001B[43msplit_idx\u001B[49m\u001B[43m,\u001B[49m\u001B[43m \u001B[49m\u001B[43mn_splits\u001B[49m\u001B[43m)\u001B[49m\u001B[43m,\u001B[49m\n\u001B[32m    979\u001B[39m \u001B[43m        \u001B[49m\u001B[43mcandidate_progress\u001B[49m\u001B[43m=\u001B[49m\u001B[43m(\u001B[49m\u001B[43mcand_idx\u001B[49m\u001B[43m,\u001B[49m\u001B[43m \u001B[49m\u001B[43mn_candidates\u001B[49m\u001B[43m)\u001B[49m\u001B[43m,\u001B[49m\n\u001B[32m    980\u001B[39m \u001B[43m        \u001B[49m\u001B[43m*\u001B[49m\u001B[43m*\u001B[49m\u001B[43mfit_and_score_kwargs\u001B[49m\u001B[43m,\u001B[49m\n\u001B[32m    981\u001B[39m \u001B[43m    \u001B[49m\u001B[43m)\u001B[49m\n\u001B[32m    982\u001B[39m \u001B[43m    \u001B[49m\u001B[38;5;28;43;01mfor\u001B[39;49;00m\u001B[43m \u001B[49m\u001B[43m(\u001B[49m\u001B[43mcand_idx\u001B[49m\u001B[43m,\u001B[49m\u001B[43m \u001B[49m\u001B[43mparameters\u001B[49m\u001B[43m)\u001B[49m\u001B[43m,\u001B[49m\u001B[43m \u001B[49m\u001B[43m(\u001B[49m\u001B[43msplit_idx\u001B[49m\u001B[43m,\u001B[49m\u001B[43m \u001B[49m\u001B[43m(\u001B[49m\u001B[43mtrain\u001B[49m\u001B[43m,\u001B[49m\u001B[43m \u001B[49m\u001B[43mtest\u001B[49m\u001B[43m)\u001B[49m\u001B[43m)\u001B[49m\u001B[43m \u001B[49m\u001B[38;5;129;43;01min\u001B[39;49;00m\u001B[43m \u001B[49m\u001B[43mproduct\u001B[49m\u001B[43m(\u001B[49m\n\u001B[32m    983\u001B[39m \u001B[43m        \u001B[49m\u001B[38;5;28;43menumerate\u001B[39;49m\u001B[43m(\u001B[49m\u001B[43mcandidate_params\u001B[49m\u001B[43m)\u001B[49m\u001B[43m,\u001B[49m\n\u001B[32m    984\u001B[39m \u001B[43m        \u001B[49m\u001B[38;5;28;43menumerate\u001B[39;49m\u001B[43m(\u001B[49m\u001B[43mcv\u001B[49m\u001B[43m.\u001B[49m\u001B[43msplit\u001B[49m\u001B[43m(\u001B[49m\u001B[43mX\u001B[49m\u001B[43m,\u001B[49m\u001B[43m \u001B[49m\u001B[43my\u001B[49m\u001B[43m,\u001B[49m\u001B[43m \u001B[49m\u001B[43m*\u001B[49m\u001B[43m*\u001B[49m\u001B[43mrouted_params\u001B[49m\u001B[43m.\u001B[49m\u001B[43msplitter\u001B[49m\u001B[43m.\u001B[49m\u001B[43msplit\u001B[49m\u001B[43m)\u001B[49m\u001B[43m)\u001B[49m\u001B[43m,\u001B[49m\n\u001B[32m    985\u001B[39m \u001B[43m    \u001B[49m\u001B[43m)\u001B[49m\n\u001B[32m    986\u001B[39m \u001B[43m\u001B[49m\u001B[43m)\u001B[49m\n\u001B[32m    988\u001B[39m \u001B[38;5;28;01mif\u001B[39;00m \u001B[38;5;28mlen\u001B[39m(out) < \u001B[32m1\u001B[39m:\n\u001B[32m    989\u001B[39m     \u001B[38;5;28;01mraise\u001B[39;00m \u001B[38;5;167;01mValueError\u001B[39;00m(\n\u001B[32m    990\u001B[39m         \u001B[33m\"\u001B[39m\u001B[33mNo fits were performed. \u001B[39m\u001B[33m\"\u001B[39m\n\u001B[32m    991\u001B[39m         \u001B[33m\"\u001B[39m\u001B[33mWas the CV iterator empty? \u001B[39m\u001B[33m\"\u001B[39m\n\u001B[32m    992\u001B[39m         \u001B[33m\"\u001B[39m\u001B[33mWere there no candidates?\u001B[39m\u001B[33m\"\u001B[39m\n\u001B[32m    993\u001B[39m     )\n",
      "\u001B[36mFile \u001B[39m\u001B[32m~/miniconda3/envs/ai_basic_env/lib/python3.12/site-packages/sklearn/utils/parallel.py:77\u001B[39m, in \u001B[36mParallel.__call__\u001B[39m\u001B[34m(self, iterable)\u001B[39m\n\u001B[32m     72\u001B[39m config = get_config()\n\u001B[32m     73\u001B[39m iterable_with_config = (\n\u001B[32m     74\u001B[39m     (_with_config(delayed_func, config), args, kwargs)\n\u001B[32m     75\u001B[39m     \u001B[38;5;28;01mfor\u001B[39;00m delayed_func, args, kwargs \u001B[38;5;129;01min\u001B[39;00m iterable\n\u001B[32m     76\u001B[39m )\n\u001B[32m---> \u001B[39m\u001B[32m77\u001B[39m \u001B[38;5;28;01mreturn\u001B[39;00m \u001B[38;5;28;43msuper\u001B[39;49m\u001B[43m(\u001B[49m\u001B[43m)\u001B[49m\u001B[43m.\u001B[49m\u001B[34;43m__call__\u001B[39;49m\u001B[43m(\u001B[49m\u001B[43miterable_with_config\u001B[49m\u001B[43m)\u001B[49m\n",
      "\u001B[36mFile \u001B[39m\u001B[32m~/miniconda3/envs/ai_basic_env/lib/python3.12/site-packages/joblib/parallel.py:2071\u001B[39m, in \u001B[36mParallel.__call__\u001B[39m\u001B[34m(self, iterable)\u001B[39m\n\u001B[32m   2065\u001B[39m \u001B[38;5;66;03m# The first item from the output is blank, but it makes the interpreter\u001B[39;00m\n\u001B[32m   2066\u001B[39m \u001B[38;5;66;03m# progress until it enters the Try/Except block of the generator and\u001B[39;00m\n\u001B[32m   2067\u001B[39m \u001B[38;5;66;03m# reaches the first `yield` statement. This starts the asynchronous\u001B[39;00m\n\u001B[32m   2068\u001B[39m \u001B[38;5;66;03m# dispatch of the tasks to the workers.\u001B[39;00m\n\u001B[32m   2069\u001B[39m \u001B[38;5;28mnext\u001B[39m(output)\n\u001B[32m-> \u001B[39m\u001B[32m2071\u001B[39m \u001B[38;5;28;01mreturn\u001B[39;00m output \u001B[38;5;28;01mif\u001B[39;00m \u001B[38;5;28mself\u001B[39m.return_generator \u001B[38;5;28;01melse\u001B[39;00m \u001B[38;5;28;43mlist\u001B[39;49m\u001B[43m(\u001B[49m\u001B[43moutput\u001B[49m\u001B[43m)\u001B[49m\n",
      "\u001B[36mFile \u001B[39m\u001B[32m~/miniconda3/envs/ai_basic_env/lib/python3.12/site-packages/joblib/parallel.py:1681\u001B[39m, in \u001B[36mParallel._get_outputs\u001B[39m\u001B[34m(self, iterator, pre_dispatch)\u001B[39m\n\u001B[32m   1678\u001B[39m     \u001B[38;5;28;01myield\u001B[39;00m\n\u001B[32m   1680\u001B[39m     \u001B[38;5;28;01mwith\u001B[39;00m \u001B[38;5;28mself\u001B[39m._backend.retrieval_context():\n\u001B[32m-> \u001B[39m\u001B[32m1681\u001B[39m         \u001B[38;5;28;01myield from\u001B[39;00m \u001B[38;5;28mself\u001B[39m._retrieve()\n\u001B[32m   1683\u001B[39m \u001B[38;5;28;01mexcept\u001B[39;00m \u001B[38;5;167;01mGeneratorExit\u001B[39;00m:\n\u001B[32m   1684\u001B[39m     \u001B[38;5;66;03m# The generator has been garbage collected before being fully\u001B[39;00m\n\u001B[32m   1685\u001B[39m     \u001B[38;5;66;03m# consumed. This aborts the remaining tasks if possible and warn\u001B[39;00m\n\u001B[32m   1686\u001B[39m     \u001B[38;5;66;03m# the user if necessary.\u001B[39;00m\n\u001B[32m   1687\u001B[39m     \u001B[38;5;28mself\u001B[39m._exception = \u001B[38;5;28;01mTrue\u001B[39;00m\n",
      "\u001B[36mFile \u001B[39m\u001B[32m~/miniconda3/envs/ai_basic_env/lib/python3.12/site-packages/joblib/parallel.py:1799\u001B[39m, in \u001B[36mParallel._retrieve\u001B[39m\u001B[34m(self)\u001B[39m\n\u001B[32m   1788\u001B[39m \u001B[38;5;28;01mif\u001B[39;00m \u001B[38;5;28mself\u001B[39m.return_ordered:\n\u001B[32m   1789\u001B[39m     \u001B[38;5;66;03m# Case ordered: wait for completion (or error) of the next job\u001B[39;00m\n\u001B[32m   1790\u001B[39m     \u001B[38;5;66;03m# that have been dispatched and not retrieved yet. If no job\u001B[39;00m\n\u001B[32m   (...)\u001B[39m\u001B[32m   1794\u001B[39m     \u001B[38;5;66;03m# control only have to be done on the amount of time the next\u001B[39;00m\n\u001B[32m   1795\u001B[39m     \u001B[38;5;66;03m# dispatched job is pending.\u001B[39;00m\n\u001B[32m   1796\u001B[39m     \u001B[38;5;28;01mif\u001B[39;00m (nb_jobs == \u001B[32m0\u001B[39m) \u001B[38;5;129;01mor\u001B[39;00m (\n\u001B[32m   1797\u001B[39m         \u001B[38;5;28mself\u001B[39m._jobs[\u001B[32m0\u001B[39m].get_status(timeout=\u001B[38;5;28mself\u001B[39m.timeout) == TASK_PENDING\n\u001B[32m   1798\u001B[39m     ):\n\u001B[32m-> \u001B[39m\u001B[32m1799\u001B[39m         \u001B[43mtime\u001B[49m\u001B[43m.\u001B[49m\u001B[43msleep\u001B[49m\u001B[43m(\u001B[49m\u001B[32;43m0.01\u001B[39;49m\u001B[43m)\u001B[49m\n\u001B[32m   1800\u001B[39m         \u001B[38;5;28;01mcontinue\u001B[39;00m\n\u001B[32m   1802\u001B[39m \u001B[38;5;28;01melif\u001B[39;00m nb_jobs == \u001B[32m0\u001B[39m:\n\u001B[32m   1803\u001B[39m     \u001B[38;5;66;03m# Case unordered: jobs are added to the list of jobs to\u001B[39;00m\n\u001B[32m   1804\u001B[39m     \u001B[38;5;66;03m# retrieve `self._jobs` only once completed or in error, which\u001B[39;00m\n\u001B[32m   (...)\u001B[39m\u001B[32m   1810\u001B[39m     \u001B[38;5;66;03m# timeouts before any other dispatched job has completed and\u001B[39;00m\n\u001B[32m   1811\u001B[39m     \u001B[38;5;66;03m# been added to `self._jobs` to be retrieved.\u001B[39;00m\n",
      "\u001B[31mKeyboardInterrupt\u001B[39m: "
     ]
    }
   ],
   "execution_count": 143
  }
 ],
 "metadata": {
  "kernelspec": {
   "display_name": "Python 3",
   "language": "python",
   "name": "python3"
  },
  "language_info": {
   "codemirror_mode": {
    "name": "ipython",
    "version": 2
   },
   "file_extension": ".py",
   "mimetype": "text/x-python",
   "name": "python",
   "nbconvert_exporter": "python",
   "pygments_lexer": "ipython2",
   "version": "2.7.6"
  }
 },
 "nbformat": 4,
 "nbformat_minor": 5
}
